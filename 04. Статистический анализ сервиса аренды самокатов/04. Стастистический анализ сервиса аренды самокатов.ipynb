{
 "cells": [
  {
   "cell_type": "markdown",
   "id": "2cf06021",
   "metadata": {},
   "source": [
    "**АНАЛИТИЧЕСКИЕ ЗАДАЧИ В СФЕРЕ АРЕНДЫ САМОКАТОВ GO FAST**"
   ]
  },
  {
   "cell_type": "markdown",
   "id": "a2ebb56b",
   "metadata": {},
   "source": [
    "**ОПИСАНИЕ ПРОЕКТА**"
   ]
  },
  {
   "cell_type": "markdown",
   "id": "557464dc",
   "metadata": {},
   "source": [
    "Мы исследуем популярный сервис аренды самокатов GoFast.\n",
    "У нас есть данные о некоторых пользователях из нескольких городов, а также об их поездках.\n",
    "Нужно проанализировать данные и проверить некоторые гипотезы, которые могут помочь бизнесу вырасти.\n",
    "\n",
    "Чтобы совершать поездки по городу, пользователи сервиса GoFast пользуются мобильным приложением.\n",
    "\n",
    "Сервисом можно пользоваться:\n",
    "- без подписки\n",
    "\n",
    "   - абонентская плата отсутствует;\n",
    "   - стоимость одной минуты поездки — 8 рублей;\n",
    "   - стоимость старта (начала поездки) — 50 рублей;\n",
    "   \n",
    "- с подпиской Ultra абонентская плата — 199 рублей в месяц;\n",
    "\n",
    "   - стоимость одной минуты поездки — 6 рублей;\n",
    "   - стоимость старта — бесплатно."
   ]
  },
  {
   "cell_type": "markdown",
   "id": "1b041320",
   "metadata": {},
   "source": [
    "**ПОСЛЕДОВАТЕЛЬНОСТЬ ВЫПОЛНЕНИЯ ПРОЕКТА**"
   ]
  },
  {
   "cell_type": "markdown",
   "id": "aa2ef897",
   "metadata": {},
   "source": [
    "1. Загрузка данных\n",
    "2. Предобработка данных\n",
    "3. Исследовательский анализ данных\n",
    "4. Объединение данных\n",
    "5. Подсчет выручки\n",
    "6. Проверка гипотез\n",
    "7. Распределения\n",
    "8. Вывод"
   ]
  },
  {
   "cell_type": "markdown",
   "id": "6d203e81",
   "metadata": {},
   "source": [
    "<a id='intro'></a>"
   ]
  },
  {
   "cell_type": "markdown",
   "id": "94279dfc",
   "metadata": {},
   "source": [
    "**Импорт библиотек**"
   ]
  },
  {
   "cell_type": "code",
   "execution_count": 1,
   "id": "ffe86f85",
   "metadata": {},
   "outputs": [],
   "source": [
    "import pandas as pd\n",
    "import matplotlib.pyplot as plt\n",
    "import numpy as np\n",
    "from math import sqrt\n",
    "from scipy import stats as st\n",
    "from scipy.stats import binom\n",
    "from IPython.display import display"
   ]
  },
  {
   "cell_type": "markdown",
   "id": "b605d6fe",
   "metadata": {},
   "source": [
    "#### Шаг 1. Загрузка данных"
   ]
  },
  {
   "cell_type": "markdown",
   "id": "84052ca5",
   "metadata": {},
   "source": [
    "**Пользователи**"
   ]
  },
  {
   "cell_type": "code",
   "execution_count": 2,
   "id": "39e2c28a",
   "metadata": {},
   "outputs": [],
   "source": [
    "try:\n",
    "    data_us = pd.read_csv('C:\\\\Users\\\\User\\\\Desktop\\\\My_Jupiter\\\\users_go.csv')\n",
    "except:    \n",
    "    data_us = pd.read_csv('https://code.s3.yandex.net/datasets/users_go.csv')\n"
   ]
  },
  {
   "cell_type": "code",
   "execution_count": 3,
   "id": "d2588a73",
   "metadata": {},
   "outputs": [
    {
     "name": "stdout",
     "output_type": "stream",
     "text": [
      "<class 'pandas.core.frame.DataFrame'>\n",
      "RangeIndex: 1565 entries, 0 to 1564\n",
      "Data columns (total 5 columns):\n",
      " #   Column             Non-Null Count  Dtype \n",
      "---  ------             --------------  ----- \n",
      " 0   user_id            1565 non-null   int64 \n",
      " 1   name               1565 non-null   object\n",
      " 2   age                1565 non-null   int64 \n",
      " 3   city               1565 non-null   object\n",
      " 4   subscription_type  1565 non-null   object\n",
      "dtypes: int64(2), object(3)\n",
      "memory usage: 61.3+ KB\n"
     ]
    }
   ],
   "source": [
    "data_us.info()"
   ]
  },
  {
   "cell_type": "code",
   "execution_count": 4,
   "id": "a94fc98d",
   "metadata": {},
   "outputs": [
    {
     "data": {
      "text/html": [
       "<div>\n",
       "<style scoped>\n",
       "    .dataframe tbody tr th:only-of-type {\n",
       "        vertical-align: middle;\n",
       "    }\n",
       "\n",
       "    .dataframe tbody tr th {\n",
       "        vertical-align: top;\n",
       "    }\n",
       "\n",
       "    .dataframe thead th {\n",
       "        text-align: right;\n",
       "    }\n",
       "</style>\n",
       "<table border=\"1\" class=\"dataframe\">\n",
       "  <thead>\n",
       "    <tr style=\"text-align: right;\">\n",
       "      <th></th>\n",
       "      <th>user_id</th>\n",
       "      <th>name</th>\n",
       "      <th>age</th>\n",
       "      <th>city</th>\n",
       "      <th>subscription_type</th>\n",
       "    </tr>\n",
       "  </thead>\n",
       "  <tbody>\n",
       "    <tr>\n",
       "      <th>0</th>\n",
       "      <td>1</td>\n",
       "      <td>Кира</td>\n",
       "      <td>22</td>\n",
       "      <td>Тюмень</td>\n",
       "      <td>ultra</td>\n",
       "    </tr>\n",
       "    <tr>\n",
       "      <th>1</th>\n",
       "      <td>2</td>\n",
       "      <td>Станислав</td>\n",
       "      <td>31</td>\n",
       "      <td>Омск</td>\n",
       "      <td>ultra</td>\n",
       "    </tr>\n",
       "    <tr>\n",
       "      <th>2</th>\n",
       "      <td>3</td>\n",
       "      <td>Алексей</td>\n",
       "      <td>20</td>\n",
       "      <td>Москва</td>\n",
       "      <td>ultra</td>\n",
       "    </tr>\n",
       "    <tr>\n",
       "      <th>3</th>\n",
       "      <td>4</td>\n",
       "      <td>Константин</td>\n",
       "      <td>26</td>\n",
       "      <td>Ростов-на-Дону</td>\n",
       "      <td>ultra</td>\n",
       "    </tr>\n",
       "    <tr>\n",
       "      <th>4</th>\n",
       "      <td>5</td>\n",
       "      <td>Адель</td>\n",
       "      <td>28</td>\n",
       "      <td>Омск</td>\n",
       "      <td>ultra</td>\n",
       "    </tr>\n",
       "  </tbody>\n",
       "</table>\n",
       "</div>"
      ],
      "text/plain": [
       "   user_id        name  age            city subscription_type\n",
       "0        1        Кира   22          Тюмень             ultra\n",
       "1        2   Станислав   31            Омск             ultra\n",
       "2        3     Алексей   20          Москва             ultra\n",
       "3        4  Константин   26  Ростов-на-Дону             ultra\n",
       "4        5       Адель   28            Омск             ultra"
      ]
     },
     "execution_count": 4,
     "metadata": {},
     "output_type": "execute_result"
    }
   ],
   "source": [
    "data_us.head(5)"
   ]
  },
  {
   "cell_type": "markdown",
   "id": "d3893ead",
   "metadata": {},
   "source": [
    "**Описание исходных данных** "
   ]
  },
  {
   "cell_type": "markdown",
   "id": "6ea218fc",
   "metadata": {},
   "source": [
    "- В исходном датасете 1565 строк, 5 колонок, 2 типа данных, все строки заполнены, столбцы названы корректно, типы данных соответсвуют"
   ]
  },
  {
   "cell_type": "markdown",
   "id": "35fc5da1",
   "metadata": {},
   "source": [
    "**Поездки**"
   ]
  },
  {
   "cell_type": "code",
   "execution_count": 5,
   "id": "6fc7411c",
   "metadata": {},
   "outputs": [],
   "source": [
    "try:\n",
    "    data_go = pd.read_csv('C:\\\\Users\\\\User\\\\Desktop\\\\My_Jupiter\\\\rides_go.csv')\n",
    "except:\n",
    "    data_go = pd.read_csv('https://code.s3.yandex.net/datasets/rides_go.csv')\n"
   ]
  },
  {
   "cell_type": "code",
   "execution_count": 6,
   "id": "c04041c5",
   "metadata": {},
   "outputs": [
    {
     "name": "stdout",
     "output_type": "stream",
     "text": [
      "<class 'pandas.core.frame.DataFrame'>\n",
      "RangeIndex: 18068 entries, 0 to 18067\n",
      "Data columns (total 4 columns):\n",
      " #   Column    Non-Null Count  Dtype  \n",
      "---  ------    --------------  -----  \n",
      " 0   user_id   18068 non-null  int64  \n",
      " 1   distance  18068 non-null  float64\n",
      " 2   duration  18068 non-null  float64\n",
      " 3   date      18068 non-null  object \n",
      "dtypes: float64(2), int64(1), object(1)\n",
      "memory usage: 564.8+ KB\n"
     ]
    }
   ],
   "source": [
    "data_go.info()"
   ]
  },
  {
   "cell_type": "code",
   "execution_count": 7,
   "id": "010f65dc",
   "metadata": {},
   "outputs": [
    {
     "data": {
      "text/html": [
       "<div>\n",
       "<style scoped>\n",
       "    .dataframe tbody tr th:only-of-type {\n",
       "        vertical-align: middle;\n",
       "    }\n",
       "\n",
       "    .dataframe tbody tr th {\n",
       "        vertical-align: top;\n",
       "    }\n",
       "\n",
       "    .dataframe thead th {\n",
       "        text-align: right;\n",
       "    }\n",
       "</style>\n",
       "<table border=\"1\" class=\"dataframe\">\n",
       "  <thead>\n",
       "    <tr style=\"text-align: right;\">\n",
       "      <th></th>\n",
       "      <th>user_id</th>\n",
       "      <th>distance</th>\n",
       "      <th>duration</th>\n",
       "      <th>date</th>\n",
       "    </tr>\n",
       "  </thead>\n",
       "  <tbody>\n",
       "    <tr>\n",
       "      <th>0</th>\n",
       "      <td>1</td>\n",
       "      <td>4409.919140</td>\n",
       "      <td>25.599769</td>\n",
       "      <td>2021-01-01</td>\n",
       "    </tr>\n",
       "    <tr>\n",
       "      <th>1</th>\n",
       "      <td>1</td>\n",
       "      <td>2617.592153</td>\n",
       "      <td>15.816871</td>\n",
       "      <td>2021-01-18</td>\n",
       "    </tr>\n",
       "    <tr>\n",
       "      <th>2</th>\n",
       "      <td>1</td>\n",
       "      <td>754.159807</td>\n",
       "      <td>6.232113</td>\n",
       "      <td>2021-04-20</td>\n",
       "    </tr>\n",
       "    <tr>\n",
       "      <th>3</th>\n",
       "      <td>1</td>\n",
       "      <td>2694.783254</td>\n",
       "      <td>18.511000</td>\n",
       "      <td>2021-08-11</td>\n",
       "    </tr>\n",
       "    <tr>\n",
       "      <th>4</th>\n",
       "      <td>1</td>\n",
       "      <td>4028.687306</td>\n",
       "      <td>26.265803</td>\n",
       "      <td>2021-08-28</td>\n",
       "    </tr>\n",
       "  </tbody>\n",
       "</table>\n",
       "</div>"
      ],
      "text/plain": [
       "   user_id     distance   duration        date\n",
       "0        1  4409.919140  25.599769  2021-01-01\n",
       "1        1  2617.592153  15.816871  2021-01-18\n",
       "2        1   754.159807   6.232113  2021-04-20\n",
       "3        1  2694.783254  18.511000  2021-08-11\n",
       "4        1  4028.687306  26.265803  2021-08-28"
      ]
     },
     "execution_count": 7,
     "metadata": {},
     "output_type": "execute_result"
    }
   ],
   "source": [
    "data_go.head(5)"
   ]
  },
  {
   "cell_type": "markdown",
   "id": "d7420573",
   "metadata": {},
   "source": [
    "**Описание исходных данных**"
   ]
  },
  {
   "cell_type": "markdown",
   "id": "16b2981d",
   "metadata": {},
   "source": [
    "- В исходном датасете 18068 строк, 4 колонки, 3 типа данных, все строки заполнены, столбцы названы корректно, типы данных соотвествуют, кроме даты поездки\n",
    "- Тип данных для даты поездки нужно изменить на тип datetime"
   ]
  },
  {
   "cell_type": "markdown",
   "id": "726bc34f",
   "metadata": {},
   "source": [
    "**Подписки**"
   ]
  },
  {
   "cell_type": "code",
   "execution_count": 8,
   "id": "180afe1a",
   "metadata": {},
   "outputs": [],
   "source": [
    "try:\n",
    "    data_sub = pd.read_csv('C:\\\\Users\\\\User\\\\Desktop\\\\My_Jupiter\\\\subscriptions_go.csv')\n",
    "except:\n",
    "    data_sub = pd.read_csv('https://code.s3.yandex.net/datasets/subscriptions_go.csv')\n"
   ]
  },
  {
   "cell_type": "code",
   "execution_count": 9,
   "id": "8696d8e4",
   "metadata": {},
   "outputs": [
    {
     "name": "stdout",
     "output_type": "stream",
     "text": [
      "<class 'pandas.core.frame.DataFrame'>\n",
      "RangeIndex: 2 entries, 0 to 1\n",
      "Data columns (total 4 columns):\n",
      " #   Column             Non-Null Count  Dtype \n",
      "---  ------             --------------  ----- \n",
      " 0   subscription_type  2 non-null      object\n",
      " 1   minute_price       2 non-null      int64 \n",
      " 2   start_ride_price   2 non-null      int64 \n",
      " 3   subscription_fee   2 non-null      int64 \n",
      "dtypes: int64(3), object(1)\n",
      "memory usage: 196.0+ bytes\n"
     ]
    }
   ],
   "source": [
    "data_sub.info()"
   ]
  },
  {
   "cell_type": "code",
   "execution_count": 10,
   "id": "c98780ff",
   "metadata": {},
   "outputs": [
    {
     "data": {
      "text/html": [
       "<div>\n",
       "<style scoped>\n",
       "    .dataframe tbody tr th:only-of-type {\n",
       "        vertical-align: middle;\n",
       "    }\n",
       "\n",
       "    .dataframe tbody tr th {\n",
       "        vertical-align: top;\n",
       "    }\n",
       "\n",
       "    .dataframe thead th {\n",
       "        text-align: right;\n",
       "    }\n",
       "</style>\n",
       "<table border=\"1\" class=\"dataframe\">\n",
       "  <thead>\n",
       "    <tr style=\"text-align: right;\">\n",
       "      <th></th>\n",
       "      <th>subscription_type</th>\n",
       "      <th>minute_price</th>\n",
       "      <th>start_ride_price</th>\n",
       "      <th>subscription_fee</th>\n",
       "    </tr>\n",
       "  </thead>\n",
       "  <tbody>\n",
       "    <tr>\n",
       "      <th>0</th>\n",
       "      <td>free</td>\n",
       "      <td>8</td>\n",
       "      <td>50</td>\n",
       "      <td>0</td>\n",
       "    </tr>\n",
       "    <tr>\n",
       "      <th>1</th>\n",
       "      <td>ultra</td>\n",
       "      <td>6</td>\n",
       "      <td>0</td>\n",
       "      <td>199</td>\n",
       "    </tr>\n",
       "  </tbody>\n",
       "</table>\n",
       "</div>"
      ],
      "text/plain": [
       "  subscription_type  minute_price  start_ride_price  subscription_fee\n",
       "0              free             8                50                 0\n",
       "1             ultra             6                 0               199"
      ]
     },
     "execution_count": 10,
     "metadata": {},
     "output_type": "execute_result"
    }
   ],
   "source": [
    "data_sub.head(5)"
   ]
  },
  {
   "cell_type": "markdown",
   "id": "f4fb0d32",
   "metadata": {},
   "source": [
    "**Описание исходных данных**"
   ]
  },
  {
   "cell_type": "markdown",
   "id": "49d32851",
   "metadata": {},
   "source": [
    "- В исходном датасете 2 строки, 4 колонки, 2 типа данных, пропущенных строк нет, столбцы названы корректно, типы данных соответствуют"
   ]
  },
  {
   "cell_type": "markdown",
   "id": "87f5112c",
   "metadata": {},
   "source": [
    "#### Шаг 2. Предобработка данных"
   ]
  },
  {
   "cell_type": "code",
   "execution_count": 11,
   "id": "fb2355e1",
   "metadata": {},
   "outputs": [
    {
     "data": {
      "text/plain": [
       "0   NaT\n",
       "1   NaT\n",
       "2   NaT\n",
       "3   NaT\n",
       "4   NaT\n",
       "Name: date, dtype: datetime64[ns]"
      ]
     },
     "execution_count": 11,
     "metadata": {},
     "output_type": "execute_result"
    }
   ],
   "source": [
    "## Заменим тип данных для data_go['date'] на datetime64\n",
    "\n",
    "data_go['date'] = pd.to_datetime(data_go['date'], format='%Y-%m-%dT%H:%M:%S',errors='coerce')\n",
    "\n",
    "data_go['date'].head(5)"
   ]
  },
  {
   "cell_type": "code",
   "execution_count": 12,
   "id": "7c108253",
   "metadata": {},
   "outputs": [],
   "source": [
    "data_go['year'] = data_go['date'].dt.year\n"
   ]
  },
  {
   "cell_type": "code",
   "execution_count": 13,
   "id": "bda7b95c",
   "metadata": {},
   "outputs": [],
   "source": [
    "data_go['month'] = data_go['date'].dt.month"
   ]
  },
  {
   "cell_type": "code",
   "execution_count": 14,
   "id": "66c3d3ff",
   "metadata": {},
   "outputs": [],
   "source": [
    "data_go['day'] = data_go['date'].dt.day"
   ]
  },
  {
   "cell_type": "code",
   "execution_count": 15,
   "id": "58ff76da",
   "metadata": {},
   "outputs": [
    {
     "data": {
      "text/plain": [
       "NaT"
      ]
     },
     "execution_count": 15,
     "metadata": {},
     "output_type": "execute_result"
    }
   ],
   "source": [
    "min_date = data_go['date'].min()\n",
    "min_date"
   ]
  },
  {
   "cell_type": "code",
   "execution_count": 16,
   "id": "85f7936f",
   "metadata": {},
   "outputs": [
    {
     "data": {
      "text/plain": [
       "NaT"
      ]
     },
     "execution_count": 16,
     "metadata": {},
     "output_type": "execute_result"
    }
   ],
   "source": [
    "max_date = data_go['date'].max()\n",
    "max_date"
   ]
  },
  {
   "cell_type": "markdown",
   "id": "5bbeff64",
   "metadata": {},
   "source": [
    "- Начало поездок 01.01.2021\n",
    "- Окончание поездок 30.12.2021\n",
    "- Таким образом у нас данные за 2021 год"
   ]
  },
  {
   "cell_type": "code",
   "execution_count": 17,
   "id": "5911e059",
   "metadata": {},
   "outputs": [
    {
     "data": {
      "text/plain": [
       "31"
      ]
     },
     "execution_count": 17,
     "metadata": {},
     "output_type": "execute_result"
    }
   ],
   "source": [
    "## Проверим дубликаты Пользователей\n",
    "\n",
    "data_us.duplicated().sum()\n"
   ]
  },
  {
   "cell_type": "code",
   "execution_count": 18,
   "id": "02d4e635",
   "metadata": {},
   "outputs": [
    {
     "data": {
      "text/plain": [
       "0"
      ]
     },
     "execution_count": 18,
     "metadata": {},
     "output_type": "execute_result"
    }
   ],
   "source": [
    "## Удалим дубликаты пользователей\n",
    "data_us = data_us.drop_duplicates()\n",
    "data_us.duplicated().sum()"
   ]
  },
  {
   "cell_type": "code",
   "execution_count": 19,
   "id": "c6d637d6",
   "metadata": {},
   "outputs": [
    {
     "data": {
      "text/plain": [
       "0"
      ]
     },
     "execution_count": 19,
     "metadata": {},
     "output_type": "execute_result"
    }
   ],
   "source": [
    "## Проверим дубликаты Поездок\n",
    "\n",
    "data_go.duplicated().sum()"
   ]
  },
  {
   "cell_type": "code",
   "execution_count": 20,
   "id": "840cc387",
   "metadata": {},
   "outputs": [
    {
     "name": "stdout",
     "output_type": "stream",
     "text": [
      "<class 'pandas.core.frame.DataFrame'>\n",
      "Index: 1534 entries, 0 to 1533\n",
      "Data columns (total 5 columns):\n",
      " #   Column             Non-Null Count  Dtype \n",
      "---  ------             --------------  ----- \n",
      " 0   user_id            1534 non-null   int64 \n",
      " 1   name               1534 non-null   object\n",
      " 2   age                1534 non-null   int64 \n",
      " 3   city               1534 non-null   object\n",
      " 4   subscription_type  1534 non-null   object\n",
      "dtypes: int64(2), object(3)\n",
      "memory usage: 71.9+ KB\n"
     ]
    }
   ],
   "source": [
    "## Выведем обновленную информацию о Пользователях\n",
    "\n",
    "data_us.info()"
   ]
  },
  {
   "cell_type": "markdown",
   "id": "9e049691",
   "metadata": {},
   "source": [
    "**РЕЗУЛЬТАТ ПРЕДОБРАБОТКИ ДАННЫХ**"
   ]
  },
  {
   "cell_type": "markdown",
   "id": "f15960b5",
   "metadata": {},
   "source": [
    "Для таблицы \"Пользователи\" \n",
    "\n",
    " - количество строк уменьшилось на 31, т. к. удалили дубликаты\n",
    "\n",
    "Для таблицы \"Поездки\"\n",
    "\n",
    "- тип данных для даты поездки изменился на datetime\n",
    "- добавили стоблцы \"year\", \"month\", \"day\"\n",
    "\n",
    "Для таблицы \"Тарифы\"\n",
    "\n",
    "- изменений нет"
   ]
  },
  {
   "cell_type": "markdown",
   "id": "17f835d0",
   "metadata": {},
   "source": [
    "#### Шаг 3. Исследовательский анализ данных"
   ]
  },
  {
   "cell_type": "markdown",
   "id": "7af68834",
   "metadata": {},
   "source": [
    "##### Частота встречаемости городов"
   ]
  },
  {
   "cell_type": "code",
   "execution_count": 21,
   "id": "af04d275",
   "metadata": {},
   "outputs": [
    {
     "data": {
      "text/plain": [
       "city\n",
       "Пятигорск         219\n",
       "Екатеринбург      204\n",
       "Ростов-на-Дону    198\n",
       "Краснодар         193\n",
       "Сочи              189\n",
       "Омск              183\n",
       "Тюмень            180\n",
       "Москва            168\n",
       "Name: count, dtype: int64"
      ]
     },
     "execution_count": 21,
     "metadata": {},
     "output_type": "execute_result"
    }
   ],
   "source": [
    "data_us['city'].value_counts()"
   ]
  },
  {
   "cell_type": "code",
   "execution_count": 22,
   "id": "b0bdac07",
   "metadata": {},
   "outputs": [
    {
     "data": {
      "image/png": "[encoded data removed]",
      "text/plain": [
       "<Figure size 1000x600 with 1 Axes>"
      ]
     },
     "metadata": {},
     "output_type": "display_data"
    }
   ],
   "source": [
    "# Отсортируем города по убыванию\n",
    "city_counts = data_us['city'].value_counts(ascending=True)\n",
    "\n",
    "# Построим барплот\n",
    "plt.figure(figsize=(10, 6))\n",
    "city_counts.plot(kind='barh', color='skyblue')\n",
    "plt.title('Частота встречаемости городов')\n",
    "plt.xlabel('Город')\n",
    "plt.ylabel('Частота')\n",
    "plt.xticks(rotation=0, ha='right')  \n",
    "plt.show()"
   ]
  },
  {
   "cell_type": "markdown",
   "id": "a93ac50f",
   "metadata": {},
   "source": [
    "**Больше всего пользователей в Пятигорске, Ростов, Сочи, Краснодар занимают среднее место, Москва на последнем месте**"
   ]
  },
  {
   "cell_type": "markdown",
   "id": "96f71c5e",
   "metadata": {},
   "source": [
    "##### Соотношение пользователей с подпиской и без подписки"
   ]
  },
  {
   "cell_type": "code",
   "execution_count": 23,
   "id": "26b2343b",
   "metadata": {},
   "outputs": [
    {
     "data": {
      "text/plain": [
       "subscription_type\n",
       "free     835\n",
       "ultra    699\n",
       "Name: count, dtype: int64"
      ]
     },
     "execution_count": 23,
     "metadata": {},
     "output_type": "execute_result"
    }
   ],
   "source": [
    "data_us['subscription_type'].value_counts()"
   ]
  },
  {
   "cell_type": "code",
   "execution_count": 24,
   "id": "300d8c74",
   "metadata": {},
   "outputs": [],
   "source": [
    "user_counts = data_us['subscription_type'].value_counts()"
   ]
  },
  {
   "cell_type": "code",
   "execution_count": 25,
   "id": "bc427367",
   "metadata": {},
   "outputs": [
    {
     "data": {
      "image/png": "[encoded data removed]",
      "text/plain": [
       "<Figure size 1000x600 with 1 Axes>"
      ]
     },
     "metadata": {},
     "output_type": "display_data"
    }
   ],
   "source": [
    "# Построим круговую диаграмму\n",
    "plt.figure(figsize=(10, 6))\n",
    "user_counts.plot(kind='pie', autopct='%1.0f%%')\n",
    "plt.title('Соотношение пользователей с подпиской и без')\n",
    "plt.show()\n"
   ]
  },
  {
   "cell_type": "markdown",
   "id": "d9017fd1",
   "metadata": {},
   "source": [
    "**Пользователей с подпиской чуть меньше, чем пользователей без подписки, в целом примерно 50/50**"
   ]
  },
  {
   "cell_type": "markdown",
   "id": "e71a1875",
   "metadata": {},
   "source": [
    "##### Возраст пользователей"
   ]
  },
  {
   "cell_type": "markdown",
   "id": "dbea1496",
   "metadata": {},
   "source": [
    "[Импорт библиотек](#intro)"
   ]
  },
  {
   "cell_type": "code",
   "execution_count": 26,
   "id": "5376f739",
   "metadata": {},
   "outputs": [
    {
     "data": {
      "image/png": "[encoded data removed]",
      "text/plain": [
       "<Figure size 640x480 with 1 Axes>"
      ]
     },
     "metadata": {},
     "output_type": "display_data"
    }
   ],
   "source": [
    "data_us['age'].hist(bins=20)\n",
    "plt.title('Гистограмма возраста пользователей')\n",
    "plt.xlabel('Возраст, лет')\n",
    "plt.show()\n",
    "\n"
   ]
  },
  {
   "cell_type": "code",
   "execution_count": 27,
   "id": "c04b8107",
   "metadata": {},
   "outputs": [
    {
     "data": {
      "text/plain": [
       "count    1534.000000\n",
       "mean       24.903520\n",
       "std         4.572367\n",
       "min        12.000000\n",
       "25%        22.000000\n",
       "50%        25.000000\n",
       "75%        28.000000\n",
       "max        43.000000\n",
       "Name: age, dtype: float64"
      ]
     },
     "execution_count": 27,
     "metadata": {},
     "output_type": "execute_result"
    }
   ],
   "source": [
    "data_us['age'].describe()"
   ]
  },
  {
   "cell_type": "markdown",
   "id": "bcd49567",
   "metadata": {},
   "source": [
    "- Количество записей в столбце - 1534\n",
    "- Средний возраст - приблизительно 24.90 лет\n",
    "- Стандартное отклонение - примерно 4.57 лет\n",
    "- Минимальный возраст - 12 лет\n",
    "- 25% пользователей младше 22 лет\n",
    "- Медианный возраст - 25 лет\n",
    "- 75% пользователей младше 28 лет\n",
    "- Максимальный возраст - 43 года\n"
   ]
  },
  {
   "cell_type": "markdown",
   "id": "27c7d35a",
   "metadata": {},
   "source": [
    "##### Расстояние, которое пользователь преодолел за одну поездку"
   ]
  },
  {
   "cell_type": "code",
   "execution_count": 28,
   "id": "0a34b251",
   "metadata": {},
   "outputs": [
    {
     "data": {
      "image/png": "[encoded data removed]",
      "text/plain": [
       "<Figure size 640x480 with 1 Axes>"
      ]
     },
     "metadata": {},
     "output_type": "display_data"
    }
   ],
   "source": [
    "data_go['distance'].hist(bins=20)\n",
    "plt.title('Гистограмма расстояния за одну поездку')\n",
    "plt.xlabel('Расстояние, м')\n",
    "plt.show()"
   ]
  },
  {
   "cell_type": "markdown",
   "id": "66685c03",
   "metadata": {},
   "source": [
    "**На гистограмме видно два пика: 500 м и 3000 м. Возможно это объясняется тем, что есть два типа поездок - короткие и длинные. Короткие менее популярны, длинные более популярны. Короткие поездки могут использоваться как пробные для новых пользователей, длинные - для постоянных пользователей**"
   ]
  },
  {
   "cell_type": "code",
   "execution_count": 29,
   "id": "9ab7646f",
   "metadata": {},
   "outputs": [
    {
     "data": {
      "text/plain": [
       "count    18068.000000\n",
       "mean      3070.659976\n",
       "std       1116.831209\n",
       "min          0.855683\n",
       "25%       2543.226360\n",
       "50%       3133.609994\n",
       "75%       3776.222735\n",
       "max       7211.007745\n",
       "Name: distance, dtype: float64"
      ]
     },
     "execution_count": 29,
     "metadata": {},
     "output_type": "execute_result"
    }
   ],
   "source": [
    "data_go['distance'].describe()"
   ]
  },
  {
   "cell_type": "markdown",
   "id": "ca435392",
   "metadata": {},
   "source": [
    "- Количество записей - 18068\n",
    "- Среднее расстояниие одной поездки - 3070 м\n",
    "- Стандартное отклонение - 1116 м\n",
    "- Минимальная длина поездки - 0.85 м\n",
    "- 25 %  поездок короче 2543 м\n",
    "- 50 % поездок - 3133 м\n",
    "- 75 % поездок короче 3776 м\n",
    "- Максимальная длина поездки- 7211 м"
   ]
  },
  {
   "cell_type": "markdown",
   "id": "dac956d0",
   "metadata": {},
   "source": [
    "**В основном пользователи совершают поездки 2,5 - 4,5 км, что вполне объяснимо: более короткие расстояния можно пройти пешком, более длинные - на машине или общественным транспортом**"
   ]
  },
  {
   "cell_type": "markdown",
   "id": "b325ae3d",
   "metadata": {},
   "source": [
    "##### Продолжительность поездок"
   ]
  },
  {
   "cell_type": "code",
   "execution_count": 30,
   "id": "f2c0f09f",
   "metadata": {},
   "outputs": [
    {
     "data": {
      "image/png": "[encoded data removed]",
      "text/plain": [
       "<Figure size 640x480 with 1 Axes>"
      ]
     },
     "metadata": {},
     "output_type": "display_data"
    }
   ],
   "source": [
    "data_go['duration'].hist(bins=20)\n",
    "plt.title('Гистограмма продолжительности одной поездки')\n",
    "plt.xlabel('Продолжительность, мин.')\n",
    "plt.show()"
   ]
  },
  {
   "cell_type": "markdown",
   "id": "45a4f51a",
   "metadata": {},
   "source": [
    "**Длительность одной поездки также распределена нормально, в среднем - 15-20 минут +/-10 минут; длительность поездки коррелирует с расстоянием одной поездки**"
   ]
  },
  {
   "cell_type": "markdown",
   "id": "a03daf1f",
   "metadata": {},
   "source": [
    "#### Шаг 4. Объединение данных"
   ]
  },
  {
   "cell_type": "code",
   "execution_count": 31,
   "id": "5148c26e",
   "metadata": {},
   "outputs": [],
   "source": [
    "data_go['rides'] = 1"
   ]
  },
  {
   "cell_type": "code",
   "execution_count": 32,
   "id": "e6b71c52",
   "metadata": {},
   "outputs": [
    {
     "data": {
      "text/html": [
       "<div>\n",
       "<style scoped>\n",
       "    .dataframe tbody tr th:only-of-type {\n",
       "        vertical-align: middle;\n",
       "    }\n",
       "\n",
       "    .dataframe tbody tr th {\n",
       "        vertical-align: top;\n",
       "    }\n",
       "\n",
       "    .dataframe thead th {\n",
       "        text-align: right;\n",
       "    }\n",
       "</style>\n",
       "<table border=\"1\" class=\"dataframe\">\n",
       "  <thead>\n",
       "    <tr style=\"text-align: right;\">\n",
       "      <th></th>\n",
       "      <th>user_id</th>\n",
       "      <th>name</th>\n",
       "      <th>age</th>\n",
       "      <th>city</th>\n",
       "      <th>subscription_type</th>\n",
       "    </tr>\n",
       "  </thead>\n",
       "  <tbody>\n",
       "    <tr>\n",
       "      <th>0</th>\n",
       "      <td>1</td>\n",
       "      <td>Кира</td>\n",
       "      <td>22</td>\n",
       "      <td>Тюмень</td>\n",
       "      <td>ultra</td>\n",
       "    </tr>\n",
       "    <tr>\n",
       "      <th>1</th>\n",
       "      <td>2</td>\n",
       "      <td>Станислав</td>\n",
       "      <td>31</td>\n",
       "      <td>Омск</td>\n",
       "      <td>ultra</td>\n",
       "    </tr>\n",
       "    <tr>\n",
       "      <th>2</th>\n",
       "      <td>3</td>\n",
       "      <td>Алексей</td>\n",
       "      <td>20</td>\n",
       "      <td>Москва</td>\n",
       "      <td>ultra</td>\n",
       "    </tr>\n",
       "    <tr>\n",
       "      <th>3</th>\n",
       "      <td>4</td>\n",
       "      <td>Константин</td>\n",
       "      <td>26</td>\n",
       "      <td>Ростов-на-Дону</td>\n",
       "      <td>ultra</td>\n",
       "    </tr>\n",
       "    <tr>\n",
       "      <th>4</th>\n",
       "      <td>5</td>\n",
       "      <td>Адель</td>\n",
       "      <td>28</td>\n",
       "      <td>Омск</td>\n",
       "      <td>ultra</td>\n",
       "    </tr>\n",
       "  </tbody>\n",
       "</table>\n",
       "</div>"
      ],
      "text/plain": [
       "   user_id        name  age            city subscription_type\n",
       "0        1        Кира   22          Тюмень             ultra\n",
       "1        2   Станислав   31            Омск             ultra\n",
       "2        3     Алексей   20          Москва             ultra\n",
       "3        4  Константин   26  Ростов-на-Дону             ultra\n",
       "4        5       Адель   28            Омск             ultra"
      ]
     },
     "metadata": {},
     "output_type": "display_data"
    },
    {
     "data": {
      "text/html": [
       "<div>\n",
       "<style scoped>\n",
       "    .dataframe tbody tr th:only-of-type {\n",
       "        vertical-align: middle;\n",
       "    }\n",
       "\n",
       "    .dataframe tbody tr th {\n",
       "        vertical-align: top;\n",
       "    }\n",
       "\n",
       "    .dataframe thead th {\n",
       "        text-align: right;\n",
       "    }\n",
       "</style>\n",
       "<table border=\"1\" class=\"dataframe\">\n",
       "  <thead>\n",
       "    <tr style=\"text-align: right;\">\n",
       "      <th></th>\n",
       "      <th>user_id</th>\n",
       "      <th>distance</th>\n",
       "      <th>duration</th>\n",
       "      <th>date</th>\n",
       "      <th>year</th>\n",
       "      <th>month</th>\n",
       "      <th>day</th>\n",
       "      <th>rides</th>\n",
       "    </tr>\n",
       "  </thead>\n",
       "  <tbody>\n",
       "    <tr>\n",
       "      <th>0</th>\n",
       "      <td>1</td>\n",
       "      <td>4409.919140</td>\n",
       "      <td>25.599769</td>\n",
       "      <td>NaT</td>\n",
       "      <td>NaN</td>\n",
       "      <td>NaN</td>\n",
       "      <td>NaN</td>\n",
       "      <td>1</td>\n",
       "    </tr>\n",
       "    <tr>\n",
       "      <th>1</th>\n",
       "      <td>1</td>\n",
       "      <td>2617.592153</td>\n",
       "      <td>15.816871</td>\n",
       "      <td>NaT</td>\n",
       "      <td>NaN</td>\n",
       "      <td>NaN</td>\n",
       "      <td>NaN</td>\n",
       "      <td>1</td>\n",
       "    </tr>\n",
       "    <tr>\n",
       "      <th>2</th>\n",
       "      <td>1</td>\n",
       "      <td>754.159807</td>\n",
       "      <td>6.232113</td>\n",
       "      <td>NaT</td>\n",
       "      <td>NaN</td>\n",
       "      <td>NaN</td>\n",
       "      <td>NaN</td>\n",
       "      <td>1</td>\n",
       "    </tr>\n",
       "    <tr>\n",
       "      <th>3</th>\n",
       "      <td>1</td>\n",
       "      <td>2694.783254</td>\n",
       "      <td>18.511000</td>\n",
       "      <td>NaT</td>\n",
       "      <td>NaN</td>\n",
       "      <td>NaN</td>\n",
       "      <td>NaN</td>\n",
       "      <td>1</td>\n",
       "    </tr>\n",
       "    <tr>\n",
       "      <th>4</th>\n",
       "      <td>1</td>\n",
       "      <td>4028.687306</td>\n",
       "      <td>26.265803</td>\n",
       "      <td>NaT</td>\n",
       "      <td>NaN</td>\n",
       "      <td>NaN</td>\n",
       "      <td>NaN</td>\n",
       "      <td>1</td>\n",
       "    </tr>\n",
       "  </tbody>\n",
       "</table>\n",
       "</div>"
      ],
      "text/plain": [
       "   user_id     distance   duration date  year  month  day  rides\n",
       "0        1  4409.919140  25.599769  NaT   NaN    NaN  NaN      1\n",
       "1        1  2617.592153  15.816871  NaT   NaN    NaN  NaN      1\n",
       "2        1   754.159807   6.232113  NaT   NaN    NaN  NaN      1\n",
       "3        1  2694.783254  18.511000  NaT   NaN    NaN  NaN      1\n",
       "4        1  4028.687306  26.265803  NaT   NaN    NaN  NaN      1"
      ]
     },
     "metadata": {},
     "output_type": "display_data"
    },
    {
     "data": {
      "text/html": [
       "<div>\n",
       "<style scoped>\n",
       "    .dataframe tbody tr th:only-of-type {\n",
       "        vertical-align: middle;\n",
       "    }\n",
       "\n",
       "    .dataframe tbody tr th {\n",
       "        vertical-align: top;\n",
       "    }\n",
       "\n",
       "    .dataframe thead th {\n",
       "        text-align: right;\n",
       "    }\n",
       "</style>\n",
       "<table border=\"1\" class=\"dataframe\">\n",
       "  <thead>\n",
       "    <tr style=\"text-align: right;\">\n",
       "      <th></th>\n",
       "      <th>subscription_type</th>\n",
       "      <th>minute_price</th>\n",
       "      <th>start_ride_price</th>\n",
       "      <th>subscription_fee</th>\n",
       "    </tr>\n",
       "  </thead>\n",
       "  <tbody>\n",
       "    <tr>\n",
       "      <th>0</th>\n",
       "      <td>free</td>\n",
       "      <td>8</td>\n",
       "      <td>50</td>\n",
       "      <td>0</td>\n",
       "    </tr>\n",
       "    <tr>\n",
       "      <th>1</th>\n",
       "      <td>ultra</td>\n",
       "      <td>6</td>\n",
       "      <td>0</td>\n",
       "      <td>199</td>\n",
       "    </tr>\n",
       "  </tbody>\n",
       "</table>\n",
       "</div>"
      ],
      "text/plain": [
       "  subscription_type  minute_price  start_ride_price  subscription_fee\n",
       "0              free             8                50                 0\n",
       "1             ultra             6                 0               199"
      ]
     },
     "metadata": {},
     "output_type": "display_data"
    }
   ],
   "source": [
    "display(data_us.head(5))\n",
    "display(data_go.head(5))\n",
    "display(data_sub.head(5))"
   ]
  },
  {
   "cell_type": "code",
   "execution_count": 33,
   "id": "c8ace90f",
   "metadata": {},
   "outputs": [
    {
     "data": {
      "text/html": [
       "<div>\n",
       "<style scoped>\n",
       "    .dataframe tbody tr th:only-of-type {\n",
       "        vertical-align: middle;\n",
       "    }\n",
       "\n",
       "    .dataframe tbody tr th {\n",
       "        vertical-align: top;\n",
       "    }\n",
       "\n",
       "    .dataframe thead th {\n",
       "        text-align: right;\n",
       "    }\n",
       "</style>\n",
       "<table border=\"1\" class=\"dataframe\">\n",
       "  <thead>\n",
       "    <tr style=\"text-align: right;\">\n",
       "      <th></th>\n",
       "      <th>user_id</th>\n",
       "      <th>name</th>\n",
       "      <th>age</th>\n",
       "      <th>city</th>\n",
       "      <th>subscription_type</th>\n",
       "      <th>distance</th>\n",
       "      <th>duration</th>\n",
       "      <th>date</th>\n",
       "      <th>year</th>\n",
       "      <th>month</th>\n",
       "      <th>day</th>\n",
       "      <th>rides</th>\n",
       "      <th>minute_price</th>\n",
       "      <th>start_ride_price</th>\n",
       "      <th>subscription_fee</th>\n",
       "    </tr>\n",
       "  </thead>\n",
       "  <tbody>\n",
       "    <tr>\n",
       "      <th>0</th>\n",
       "      <td>1</td>\n",
       "      <td>Кира</td>\n",
       "      <td>22</td>\n",
       "      <td>Тюмень</td>\n",
       "      <td>ultra</td>\n",
       "      <td>4409.919140</td>\n",
       "      <td>25.599769</td>\n",
       "      <td>NaT</td>\n",
       "      <td>NaN</td>\n",
       "      <td>NaN</td>\n",
       "      <td>NaN</td>\n",
       "      <td>1</td>\n",
       "      <td>6</td>\n",
       "      <td>0</td>\n",
       "      <td>199</td>\n",
       "    </tr>\n",
       "    <tr>\n",
       "      <th>1</th>\n",
       "      <td>1</td>\n",
       "      <td>Кира</td>\n",
       "      <td>22</td>\n",
       "      <td>Тюмень</td>\n",
       "      <td>ultra</td>\n",
       "      <td>2617.592153</td>\n",
       "      <td>15.816871</td>\n",
       "      <td>NaT</td>\n",
       "      <td>NaN</td>\n",
       "      <td>NaN</td>\n",
       "      <td>NaN</td>\n",
       "      <td>1</td>\n",
       "      <td>6</td>\n",
       "      <td>0</td>\n",
       "      <td>199</td>\n",
       "    </tr>\n",
       "    <tr>\n",
       "      <th>2</th>\n",
       "      <td>1</td>\n",
       "      <td>Кира</td>\n",
       "      <td>22</td>\n",
       "      <td>Тюмень</td>\n",
       "      <td>ultra</td>\n",
       "      <td>754.159807</td>\n",
       "      <td>6.232113</td>\n",
       "      <td>NaT</td>\n",
       "      <td>NaN</td>\n",
       "      <td>NaN</td>\n",
       "      <td>NaN</td>\n",
       "      <td>1</td>\n",
       "      <td>6</td>\n",
       "      <td>0</td>\n",
       "      <td>199</td>\n",
       "    </tr>\n",
       "    <tr>\n",
       "      <th>3</th>\n",
       "      <td>1</td>\n",
       "      <td>Кира</td>\n",
       "      <td>22</td>\n",
       "      <td>Тюмень</td>\n",
       "      <td>ultra</td>\n",
       "      <td>2694.783254</td>\n",
       "      <td>18.511000</td>\n",
       "      <td>NaT</td>\n",
       "      <td>NaN</td>\n",
       "      <td>NaN</td>\n",
       "      <td>NaN</td>\n",
       "      <td>1</td>\n",
       "      <td>6</td>\n",
       "      <td>0</td>\n",
       "      <td>199</td>\n",
       "    </tr>\n",
       "    <tr>\n",
       "      <th>4</th>\n",
       "      <td>1</td>\n",
       "      <td>Кира</td>\n",
       "      <td>22</td>\n",
       "      <td>Тюмень</td>\n",
       "      <td>ultra</td>\n",
       "      <td>4028.687306</td>\n",
       "      <td>26.265803</td>\n",
       "      <td>NaT</td>\n",
       "      <td>NaN</td>\n",
       "      <td>NaN</td>\n",
       "      <td>NaN</td>\n",
       "      <td>1</td>\n",
       "      <td>6</td>\n",
       "      <td>0</td>\n",
       "      <td>199</td>\n",
       "    </tr>\n",
       "  </tbody>\n",
       "</table>\n",
       "</div>"
      ],
      "text/plain": [
       "   user_id  name  age    city subscription_type     distance   duration date  \\\n",
       "0        1  Кира   22  Тюмень             ultra  4409.919140  25.599769  NaT   \n",
       "1        1  Кира   22  Тюмень             ultra  2617.592153  15.816871  NaT   \n",
       "2        1  Кира   22  Тюмень             ultra   754.159807   6.232113  NaT   \n",
       "3        1  Кира   22  Тюмень             ultra  2694.783254  18.511000  NaT   \n",
       "4        1  Кира   22  Тюмень             ultra  4028.687306  26.265803  NaT   \n",
       "\n",
       "   year  month  day  rides  minute_price  start_ride_price  subscription_fee  \n",
       "0   NaN    NaN  NaN      1             6                 0               199  \n",
       "1   NaN    NaN  NaN      1             6                 0               199  \n",
       "2   NaN    NaN  NaN      1             6                 0               199  \n",
       "3   NaN    NaN  NaN      1             6                 0               199  \n",
       "4   NaN    NaN  NaN      1             6                 0               199  "
      ]
     },
     "execution_count": 33,
     "metadata": {},
     "output_type": "execute_result"
    }
   ],
   "source": [
    "## Объединим данные\n",
    "data_all = data_us.merge(data_go, on='user_id').merge(data_sub, on = 'subscription_type')\n",
    "data_all.head(5)"
   ]
  },
  {
   "cell_type": "code",
   "execution_count": 34,
   "id": "310e1ee4",
   "metadata": {},
   "outputs": [
    {
     "name": "stdout",
     "output_type": "stream",
     "text": [
      "<class 'pandas.core.frame.DataFrame'>\n",
      "RangeIndex: 18068 entries, 0 to 18067\n",
      "Data columns (total 15 columns):\n",
      " #   Column             Non-Null Count  Dtype         \n",
      "---  ------             --------------  -----         \n",
      " 0   user_id            18068 non-null  int64         \n",
      " 1   name               18068 non-null  object        \n",
      " 2   age                18068 non-null  int64         \n",
      " 3   city               18068 non-null  object        \n",
      " 4   subscription_type  18068 non-null  object        \n",
      " 5   distance           18068 non-null  float64       \n",
      " 6   duration           18068 non-null  float64       \n",
      " 7   date               0 non-null      datetime64[ns]\n",
      " 8   year               0 non-null      float64       \n",
      " 9   month              0 non-null      float64       \n",
      " 10  day                0 non-null      float64       \n",
      " 11  rides              18068 non-null  int64         \n",
      " 12  minute_price       18068 non-null  int64         \n",
      " 13  start_ride_price   18068 non-null  int64         \n",
      " 14  subscription_fee   18068 non-null  int64         \n",
      "dtypes: datetime64[ns](1), float64(5), int64(6), object(3)\n",
      "memory usage: 2.1+ MB\n"
     ]
    }
   ],
   "source": [
    "data_all.info()"
   ]
  },
  {
   "cell_type": "markdown",
   "id": "c0803bdf",
   "metadata": {},
   "source": [
    "**После объединения количество строк новой таблицы data_all совпадает с количеством строк исходной таблицы data_go - 18068**"
   ]
  },
  {
   "cell_type": "markdown",
   "id": "ad9cdb20",
   "metadata": {},
   "source": [
    "<a id='alfa'></a>"
   ]
  },
  {
   "cell_type": "markdown",
   "id": "172daee3",
   "metadata": {},
   "source": [
    "**Округление длительности поездок**"
   ]
  },
  {
   "cell_type": "code",
   "execution_count": 35,
   "id": "2492334b",
   "metadata": {},
   "outputs": [
    {
     "data": {
      "text/plain": [
       "0        26.0\n",
       "1        16.0\n",
       "2         7.0\n",
       "3        19.0\n",
       "4        27.0\n",
       "         ... \n",
       "18063    20.0\n",
       "18064    22.0\n",
       "18065    19.0\n",
       "18066    17.0\n",
       "18067    16.0\n",
       "Name: duration, Length: 18068, dtype: float64"
      ]
     },
     "execution_count": 35,
     "metadata": {},
     "output_type": "execute_result"
    }
   ],
   "source": [
    "data_all['duration'] = np.ceil(data_all['duration'])\n",
    "data_all['duration']"
   ]
  },
  {
   "cell_type": "code",
   "execution_count": 59,
   "id": "62933341",
   "metadata": {},
   "outputs": [
    {
     "data": {
      "text/html": [
       "<div>\n",
       "<style scoped>\n",
       "    .dataframe tbody tr th:only-of-type {\n",
       "        vertical-align: middle;\n",
       "    }\n",
       "\n",
       "    .dataframe tbody tr th {\n",
       "        vertical-align: top;\n",
       "    }\n",
       "\n",
       "    .dataframe thead th {\n",
       "        text-align: right;\n",
       "    }\n",
       "</style>\n",
       "<table border=\"1\" class=\"dataframe\">\n",
       "  <thead>\n",
       "    <tr style=\"text-align: right;\">\n",
       "      <th></th>\n",
       "      <th>user_id</th>\n",
       "      <th>name</th>\n",
       "      <th>age</th>\n",
       "      <th>city</th>\n",
       "      <th>subscription_type</th>\n",
       "      <th>distance</th>\n",
       "      <th>duration</th>\n",
       "      <th>date</th>\n",
       "      <th>year</th>\n",
       "      <th>month</th>\n",
       "      <th>day</th>\n",
       "      <th>rides</th>\n",
       "      <th>minute_price</th>\n",
       "      <th>start_ride_price</th>\n",
       "      <th>subscription_fee</th>\n",
       "    </tr>\n",
       "  </thead>\n",
       "  <tbody>\n",
       "    <tr>\n",
       "      <th>0</th>\n",
       "      <td>1</td>\n",
       "      <td>Кира</td>\n",
       "      <td>22</td>\n",
       "      <td>Тюмень</td>\n",
       "      <td>ultra</td>\n",
       "      <td>4409.919140</td>\n",
       "      <td>26.0</td>\n",
       "      <td>NaT</td>\n",
       "      <td>NaN</td>\n",
       "      <td>NaN</td>\n",
       "      <td>NaN</td>\n",
       "      <td>1</td>\n",
       "      <td>6</td>\n",
       "      <td>0</td>\n",
       "      <td>199</td>\n",
       "    </tr>\n",
       "    <tr>\n",
       "      <th>1</th>\n",
       "      <td>1</td>\n",
       "      <td>Кира</td>\n",
       "      <td>22</td>\n",
       "      <td>Тюмень</td>\n",
       "      <td>ultra</td>\n",
       "      <td>2617.592153</td>\n",
       "      <td>16.0</td>\n",
       "      <td>NaT</td>\n",
       "      <td>NaN</td>\n",
       "      <td>NaN</td>\n",
       "      <td>NaN</td>\n",
       "      <td>1</td>\n",
       "      <td>6</td>\n",
       "      <td>0</td>\n",
       "      <td>199</td>\n",
       "    </tr>\n",
       "    <tr>\n",
       "      <th>2</th>\n",
       "      <td>1</td>\n",
       "      <td>Кира</td>\n",
       "      <td>22</td>\n",
       "      <td>Тюмень</td>\n",
       "      <td>ultra</td>\n",
       "      <td>754.159807</td>\n",
       "      <td>7.0</td>\n",
       "      <td>NaT</td>\n",
       "      <td>NaN</td>\n",
       "      <td>NaN</td>\n",
       "      <td>NaN</td>\n",
       "      <td>1</td>\n",
       "      <td>6</td>\n",
       "      <td>0</td>\n",
       "      <td>199</td>\n",
       "    </tr>\n",
       "    <tr>\n",
       "      <th>3</th>\n",
       "      <td>1</td>\n",
       "      <td>Кира</td>\n",
       "      <td>22</td>\n",
       "      <td>Тюмень</td>\n",
       "      <td>ultra</td>\n",
       "      <td>2694.783254</td>\n",
       "      <td>19.0</td>\n",
       "      <td>NaT</td>\n",
       "      <td>NaN</td>\n",
       "      <td>NaN</td>\n",
       "      <td>NaN</td>\n",
       "      <td>1</td>\n",
       "      <td>6</td>\n",
       "      <td>0</td>\n",
       "      <td>199</td>\n",
       "    </tr>\n",
       "    <tr>\n",
       "      <th>4</th>\n",
       "      <td>1</td>\n",
       "      <td>Кира</td>\n",
       "      <td>22</td>\n",
       "      <td>Тюмень</td>\n",
       "      <td>ultra</td>\n",
       "      <td>4028.687306</td>\n",
       "      <td>27.0</td>\n",
       "      <td>NaT</td>\n",
       "      <td>NaN</td>\n",
       "      <td>NaN</td>\n",
       "      <td>NaN</td>\n",
       "      <td>1</td>\n",
       "      <td>6</td>\n",
       "      <td>0</td>\n",
       "      <td>199</td>\n",
       "    </tr>\n",
       "  </tbody>\n",
       "</table>\n",
       "</div>"
      ],
      "text/plain": [
       "   user_id  name  age    city subscription_type     distance  duration date  \\\n",
       "0        1  Кира   22  Тюмень             ultra  4409.919140      26.0  NaT   \n",
       "1        1  Кира   22  Тюмень             ultra  2617.592153      16.0  NaT   \n",
       "2        1  Кира   22  Тюмень             ultra   754.159807       7.0  NaT   \n",
       "3        1  Кира   22  Тюмень             ultra  2694.783254      19.0  NaT   \n",
       "4        1  Кира   22  Тюмень             ultra  4028.687306      27.0  NaT   \n",
       "\n",
       "   year  month  day  rides  minute_price  start_ride_price  subscription_fee  \n",
       "0   NaN    NaN  NaN      1             6                 0               199  \n",
       "1   NaN    NaN  NaN      1             6                 0               199  \n",
       "2   NaN    NaN  NaN      1             6                 0               199  \n",
       "3   NaN    NaN  NaN      1             6                 0               199  \n",
       "4   NaN    NaN  NaN      1             6                 0               199  "
      ]
     },
     "execution_count": 59,
     "metadata": {},
     "output_type": "execute_result"
    }
   ],
   "source": [
    "data_ultra = data_all[data_all['subscription_type'] == 'ultra']\n",
    "data_ultra.head(5)"
   ]
  },
  {
   "cell_type": "code",
   "execution_count": 60,
   "id": "e4280d59",
   "metadata": {},
   "outputs": [
    {
     "data": {
      "text/html": [
       "<div>\n",
       "<style scoped>\n",
       "    .dataframe tbody tr th:only-of-type {\n",
       "        vertical-align: middle;\n",
       "    }\n",
       "\n",
       "    .dataframe tbody tr th {\n",
       "        vertical-align: top;\n",
       "    }\n",
       "\n",
       "    .dataframe thead th {\n",
       "        text-align: right;\n",
       "    }\n",
       "</style>\n",
       "<table border=\"1\" class=\"dataframe\">\n",
       "  <thead>\n",
       "    <tr style=\"text-align: right;\">\n",
       "      <th></th>\n",
       "      <th>user_id</th>\n",
       "      <th>name</th>\n",
       "      <th>age</th>\n",
       "      <th>city</th>\n",
       "      <th>subscription_type</th>\n",
       "      <th>distance</th>\n",
       "      <th>duration</th>\n",
       "      <th>date</th>\n",
       "      <th>year</th>\n",
       "      <th>month</th>\n",
       "      <th>day</th>\n",
       "      <th>rides</th>\n",
       "      <th>minute_price</th>\n",
       "      <th>start_ride_price</th>\n",
       "      <th>subscription_fee</th>\n",
       "    </tr>\n",
       "  </thead>\n",
       "  <tbody>\n",
       "    <tr>\n",
       "      <th>6500</th>\n",
       "      <td>700</td>\n",
       "      <td>Айдар</td>\n",
       "      <td>22</td>\n",
       "      <td>Омск</td>\n",
       "      <td>free</td>\n",
       "      <td>2515.690719</td>\n",
       "      <td>15.0</td>\n",
       "      <td>NaT</td>\n",
       "      <td>NaN</td>\n",
       "      <td>NaN</td>\n",
       "      <td>NaN</td>\n",
       "      <td>1</td>\n",
       "      <td>8</td>\n",
       "      <td>50</td>\n",
       "      <td>0</td>\n",
       "    </tr>\n",
       "    <tr>\n",
       "      <th>6501</th>\n",
       "      <td>700</td>\n",
       "      <td>Айдар</td>\n",
       "      <td>22</td>\n",
       "      <td>Омск</td>\n",
       "      <td>free</td>\n",
       "      <td>846.932642</td>\n",
       "      <td>17.0</td>\n",
       "      <td>NaT</td>\n",
       "      <td>NaN</td>\n",
       "      <td>NaN</td>\n",
       "      <td>NaN</td>\n",
       "      <td>1</td>\n",
       "      <td>8</td>\n",
       "      <td>50</td>\n",
       "      <td>0</td>\n",
       "    </tr>\n",
       "    <tr>\n",
       "      <th>6502</th>\n",
       "      <td>700</td>\n",
       "      <td>Айдар</td>\n",
       "      <td>22</td>\n",
       "      <td>Омск</td>\n",
       "      <td>free</td>\n",
       "      <td>4004.434142</td>\n",
       "      <td>21.0</td>\n",
       "      <td>NaT</td>\n",
       "      <td>NaN</td>\n",
       "      <td>NaN</td>\n",
       "      <td>NaN</td>\n",
       "      <td>1</td>\n",
       "      <td>8</td>\n",
       "      <td>50</td>\n",
       "      <td>0</td>\n",
       "    </tr>\n",
       "    <tr>\n",
       "      <th>6503</th>\n",
       "      <td>700</td>\n",
       "      <td>Айдар</td>\n",
       "      <td>22</td>\n",
       "      <td>Омск</td>\n",
       "      <td>free</td>\n",
       "      <td>1205.911290</td>\n",
       "      <td>10.0</td>\n",
       "      <td>NaT</td>\n",
       "      <td>NaN</td>\n",
       "      <td>NaN</td>\n",
       "      <td>NaN</td>\n",
       "      <td>1</td>\n",
       "      <td>8</td>\n",
       "      <td>50</td>\n",
       "      <td>0</td>\n",
       "    </tr>\n",
       "    <tr>\n",
       "      <th>6504</th>\n",
       "      <td>700</td>\n",
       "      <td>Айдар</td>\n",
       "      <td>22</td>\n",
       "      <td>Омск</td>\n",
       "      <td>free</td>\n",
       "      <td>3047.379435</td>\n",
       "      <td>18.0</td>\n",
       "      <td>NaT</td>\n",
       "      <td>NaN</td>\n",
       "      <td>NaN</td>\n",
       "      <td>NaN</td>\n",
       "      <td>1</td>\n",
       "      <td>8</td>\n",
       "      <td>50</td>\n",
       "      <td>0</td>\n",
       "    </tr>\n",
       "  </tbody>\n",
       "</table>\n",
       "</div>"
      ],
      "text/plain": [
       "      user_id   name  age  city subscription_type     distance  duration date  \\\n",
       "6500      700  Айдар   22  Омск              free  2515.690719      15.0  NaT   \n",
       "6501      700  Айдар   22  Омск              free   846.932642      17.0  NaT   \n",
       "6502      700  Айдар   22  Омск              free  4004.434142      21.0  NaT   \n",
       "6503      700  Айдар   22  Омск              free  1205.911290      10.0  NaT   \n",
       "6504      700  Айдар   22  Омск              free  3047.379435      18.0  NaT   \n",
       "\n",
       "      year  month  day  rides  minute_price  start_ride_price  \\\n",
       "6500   NaN    NaN  NaN      1             8                50   \n",
       "6501   NaN    NaN  NaN      1             8                50   \n",
       "6502   NaN    NaN  NaN      1             8                50   \n",
       "6503   NaN    NaN  NaN      1             8                50   \n",
       "6504   NaN    NaN  NaN      1             8                50   \n",
       "\n",
       "      subscription_fee  \n",
       "6500                 0  \n",
       "6501                 0  \n",
       "6502                 0  \n",
       "6503                 0  \n",
       "6504                 0  "
      ]
     },
     "execution_count": 60,
     "metadata": {},
     "output_type": "execute_result"
    }
   ],
   "source": [
    "## Создадим новые датафреймф для каждого тарифа\n",
    "data_free = data_all[data_all['subscription_type'] == 'free']\n",
    "data_free.head(5)"
   ]
  },
  {
   "cell_type": "code",
   "execution_count": 38,
   "id": "62daaa58",
   "metadata": {},
   "outputs": [
    {
     "data": {
      "image/png": "[encoded data removed]",
      "text/plain": [
       "<Figure size 640x480 with 1 Axes>"
      ]
     },
     "metadata": {},
     "output_type": "display_data"
    }
   ],
   "source": [
    "## Постороим гистограммы расстояния одной поездки для каждого тарифа\n",
    "data_ultra['distance'].hist(bins=20)\n",
    "plt.title('Гистограмма расстояния одной поездки для тарифа Ultra')\n",
    "plt.xlabel('Продолжительность, м')\n",
    "plt.show()"
   ]
  },
  {
   "cell_type": "markdown",
   "id": "414da97c",
   "metadata": {},
   "source": [
    "**Большинство пользователей с тарифом Ultra совершают поездки на расстояние 2,5-3,5 км, на втором месте поездки на 2-2,5 и 3,5-4,5 км. Коротких поездок до 2 км и длинных более 5 км немного**"
   ]
  },
  {
   "cell_type": "code",
   "execution_count": 39,
   "id": "38e8716e",
   "metadata": {},
   "outputs": [
    {
     "data": {
      "image/png": "[encoded data removed]",
      "text/plain": [
       "<Figure size 640x480 with 1 Axes>"
      ]
     },
     "metadata": {},
     "output_type": "display_data"
    }
   ],
   "source": [
    "data_free['distance'].hist(bins=20)\n",
    "plt.title('Гистограмма расстояния одной поездки для тарифа Free')\n",
    "plt.xlabel('Продолжительность, м')\n",
    "plt.show()"
   ]
  },
  {
   "cell_type": "markdown",
   "id": "3ce7b652",
   "metadata": {},
   "source": [
    "**Пользователии с тарифом Free в основном совершают поездки на расстояние 2,5-4,5 км, на втором месте короткие поездки до 2 км и поездки более 5 км**"
   ]
  },
  {
   "cell_type": "code",
   "execution_count": 40,
   "id": "acc2cad0",
   "metadata": {},
   "outputs": [
    {
     "data": {
      "image/png": "[encoded data removed]",
      "text/plain": [
       "<Figure size 640x480 with 1 Axes>"
      ]
     },
     "metadata": {},
     "output_type": "display_data"
    }
   ],
   "source": [
    "plt.hist(data_ultra['distance'], alpha=0.5, label='Ultra', bins=20, color='blue')\n",
    "plt.hist(data_free['distance'], alpha=0.5, label='Free', bins=20, color='green')\n",
    "\n",
    "plt.title('Гистограмма расстояния одной поездки для тарифов Ultra и Free')\n",
    "plt.xlabel('Расстояние, м')\n",
    "plt.legend()\n",
    "plt.show()"
   ]
  },
  {
   "cell_type": "code",
   "execution_count": 41,
   "id": "019a93bd",
   "metadata": {},
   "outputs": [
    {
     "data": {
      "image/png": "[encoded data removed]",
      "text/plain": [
       "<Figure size 640x480 with 1 Axes>"
      ]
     },
     "metadata": {},
     "output_type": "display_data"
    }
   ],
   "source": [
    "## Построим гистограмму длительности одной поездки для каждого тарифа\n",
    "data_ultra['duration'].hist(bins=20)\n",
    "plt.title('Гистограмма продолжительности одной поездки для тарифа Ultra')\n",
    "plt.xlabel('Продолжительность, мин.')\n",
    "plt.show()"
   ]
  },
  {
   "cell_type": "markdown",
   "id": "231814c6",
   "metadata": {},
   "source": [
    "**Пользователи с тарифом Ultra тратят на поездки в основном от 10 до 25 минут, есть также короткие поездки до 10 минут и длительные более 25 минут**"
   ]
  },
  {
   "cell_type": "code",
   "execution_count": 42,
   "id": "44f69c77",
   "metadata": {},
   "outputs": [
    {
     "data": {
      "image/png": "[encoded data removed]",
      "text/plain": [
       "<Figure size 640x480 with 1 Axes>"
      ]
     },
     "metadata": {},
     "output_type": "display_data"
    }
   ],
   "source": [
    "data_free['duration'].hist(bins=20)\n",
    "plt.title('Гистограмма продолжительности одной поездки для тарифа Free')\n",
    "plt.xlabel('Продолжительность, мин.')\n",
    "plt.show()\n"
   ]
  },
  {
   "cell_type": "code",
   "execution_count": 43,
   "id": "b19f0e58",
   "metadata": {},
   "outputs": [
    {
     "data": {
      "image/png": "[encoded data removed]",
      "text/plain": [
       "<Figure size 640x480 with 1 Axes>"
      ]
     },
     "metadata": {},
     "output_type": "display_data"
    }
   ],
   "source": [
    "plt.hist(data_ultra['duration'], alpha=0.5, label='Ultra', bins=20, color='blue')\n",
    "plt.hist(data_free['duration'], alpha=0.5, label='Free', bins=20, color='green')\n",
    "\n",
    "plt.title('Гистограмма длительности одной поездки для тарифов Ultra и Free')\n",
    "plt.xlabel('Длительность, мин.')\n",
    "plt.legend()\n",
    "plt.show()"
   ]
  },
  {
   "cell_type": "markdown",
   "id": "d17e0138",
   "metadata": {},
   "source": [
    "**Для тарифа Free характерно нормальное распределение длительности поездок, наиболее распространенная длительность 15-20 минут, далее идет равномерное снижение/увеличение по обе стороны**"
   ]
  },
  {
   "cell_type": "markdown",
   "id": "e107f341",
   "metadata": {},
   "source": [
    "#### Шаг 5. Подсчёт выручки"
   ]
  },
  {
   "cell_type": "markdown",
   "id": "bf72a1ab",
   "metadata": {},
   "source": [
    "##### Создадим датафрейм с агрегированными данными о поездках на основе датафрейма с объединёнными данными"
   ]
  },
  {
   "cell_type": "markdown",
   "id": "b0336068",
   "metadata": {},
   "source": [
    "###### Группируем данные по user_id и month, суммируем расстояние, количество поездок и время"
   ]
  },
  {
   "cell_type": "code",
   "execution_count": 58,
   "id": "939f3375",
   "metadata": {},
   "outputs": [
    {
     "data": {
      "text/html": [
       "<div>\n",
       "<style scoped>\n",
       "    .dataframe tbody tr th:only-of-type {\n",
       "        vertical-align: middle;\n",
       "    }\n",
       "\n",
       "    .dataframe tbody tr th {\n",
       "        vertical-align: top;\n",
       "    }\n",
       "\n",
       "    .dataframe thead th {\n",
       "        text-align: right;\n",
       "    }\n",
       "</style>\n",
       "<table border=\"1\" class=\"dataframe\">\n",
       "  <thead>\n",
       "    <tr style=\"text-align: right;\">\n",
       "      <th></th>\n",
       "      <th>user_id</th>\n",
       "      <th>month</th>\n",
       "      <th>distance</th>\n",
       "      <th>duration</th>\n",
       "      <th>rides</th>\n",
       "    </tr>\n",
       "  </thead>\n",
       "  <tbody>\n",
       "  </tbody>\n",
       "</table>\n",
       "</div>"
      ],
      "text/plain": [
       "Empty DataFrame\n",
       "Columns: [user_id, month, distance, duration, rides]\n",
       "Index: []"
      ]
     },
     "execution_count": 58,
     "metadata": {},
     "output_type": "execute_result"
    }
   ],
   "source": [
    "user_month_free = data_free.groupby(['user_id', 'month']).agg({\n",
    "    'distance': 'sum',\n",
    "    'duration': 'sum',\n",
    "    'rides': 'sum'\n",
    "}).reset_index()\n",
    "\n",
    "user_month_ultra = data_ultra.groupby(['user_id', 'month']).agg({\n",
    "    'distance': 'sum',\n",
    "    'duration': 'sum',\n",
    "    'rides': 'sum'\n",
    "}).reset_index()\n"
   ]
  },
  {
   "cell_type": "markdown",
   "id": "3e5db1b9",
   "metadata": {},
   "source": [
    "###### Переименовываем столбцы"
   ]
  },
  {
   "cell_type": "code",
   "execution_count": 45,
   "id": "d09aa199",
   "metadata": {},
   "outputs": [],
   "source": [
    "user_month_free = user_month_free.rename(columns={\n",
    "    'distance': 'total_distance',\n",
    "    'duration': 'total_duration',\n",
    "    'rides_free': 'total_rides_free'\n",
    "})\n",
    "\n",
    "user_month_ultra = user_month_ultra.rename(columns={\n",
    "    'distance': 'total_distance',\n",
    "    'duration': 'total_duration',\n",
    "    'rides_free': 'total_rides_ultra'\n",
    "})"
   ]
  },
  {
   "cell_type": "markdown",
   "id": "477d93e6",
   "metadata": {},
   "source": [
    "[Округление длительности поезок](#alfa)"
   ]
  },
  {
   "cell_type": "markdown",
   "id": "0bdd1c32",
   "metadata": {},
   "source": [
    "##### Добавим столбец с помесячной выручкой, которую принёс каждый пользователь"
   ]
  },
  {
   "cell_type": "code",
   "execution_count": 50,
   "id": "3771dab9",
   "metadata": {},
   "outputs": [
    {
     "data": {
      "text/html": [
       "<div>\n",
       "<style scoped>\n",
       "    .dataframe tbody tr th:only-of-type {\n",
       "        vertical-align: middle;\n",
       "    }\n",
       "\n",
       "    .dataframe tbody tr th {\n",
       "        vertical-align: top;\n",
       "    }\n",
       "\n",
       "    .dataframe thead th {\n",
       "        text-align: right;\n",
       "    }\n",
       "</style>\n",
       "<table border=\"1\" class=\"dataframe\">\n",
       "  <thead>\n",
       "    <tr style=\"text-align: right;\">\n",
       "      <th></th>\n",
       "      <th>user_id</th>\n",
       "      <th>name</th>\n",
       "      <th>age</th>\n",
       "      <th>city</th>\n",
       "      <th>subscription_type</th>\n",
       "      <th>distance</th>\n",
       "      <th>duration</th>\n",
       "      <th>date</th>\n",
       "      <th>year</th>\n",
       "      <th>month</th>\n",
       "      <th>day</th>\n",
       "      <th>rides</th>\n",
       "      <th>minute_price</th>\n",
       "      <th>start_ride_price</th>\n",
       "      <th>subscription_fee</th>\n",
       "    </tr>\n",
       "  </thead>\n",
       "  <tbody>\n",
       "    <tr>\n",
       "      <th>0</th>\n",
       "      <td>1</td>\n",
       "      <td>Кира</td>\n",
       "      <td>22</td>\n",
       "      <td>Тюмень</td>\n",
       "      <td>ultra</td>\n",
       "      <td>4409.919140</td>\n",
       "      <td>26.0</td>\n",
       "      <td>NaT</td>\n",
       "      <td>NaN</td>\n",
       "      <td>NaN</td>\n",
       "      <td>NaN</td>\n",
       "      <td>1</td>\n",
       "      <td>6</td>\n",
       "      <td>0</td>\n",
       "      <td>199</td>\n",
       "    </tr>\n",
       "    <tr>\n",
       "      <th>1</th>\n",
       "      <td>1</td>\n",
       "      <td>Кира</td>\n",
       "      <td>22</td>\n",
       "      <td>Тюмень</td>\n",
       "      <td>ultra</td>\n",
       "      <td>2617.592153</td>\n",
       "      <td>16.0</td>\n",
       "      <td>NaT</td>\n",
       "      <td>NaN</td>\n",
       "      <td>NaN</td>\n",
       "      <td>NaN</td>\n",
       "      <td>1</td>\n",
       "      <td>6</td>\n",
       "      <td>0</td>\n",
       "      <td>199</td>\n",
       "    </tr>\n",
       "    <tr>\n",
       "      <th>2</th>\n",
       "      <td>1</td>\n",
       "      <td>Кира</td>\n",
       "      <td>22</td>\n",
       "      <td>Тюмень</td>\n",
       "      <td>ultra</td>\n",
       "      <td>754.159807</td>\n",
       "      <td>7.0</td>\n",
       "      <td>NaT</td>\n",
       "      <td>NaN</td>\n",
       "      <td>NaN</td>\n",
       "      <td>NaN</td>\n",
       "      <td>1</td>\n",
       "      <td>6</td>\n",
       "      <td>0</td>\n",
       "      <td>199</td>\n",
       "    </tr>\n",
       "    <tr>\n",
       "      <th>3</th>\n",
       "      <td>1</td>\n",
       "      <td>Кира</td>\n",
       "      <td>22</td>\n",
       "      <td>Тюмень</td>\n",
       "      <td>ultra</td>\n",
       "      <td>2694.783254</td>\n",
       "      <td>19.0</td>\n",
       "      <td>NaT</td>\n",
       "      <td>NaN</td>\n",
       "      <td>NaN</td>\n",
       "      <td>NaN</td>\n",
       "      <td>1</td>\n",
       "      <td>6</td>\n",
       "      <td>0</td>\n",
       "      <td>199</td>\n",
       "    </tr>\n",
       "    <tr>\n",
       "      <th>4</th>\n",
       "      <td>1</td>\n",
       "      <td>Кира</td>\n",
       "      <td>22</td>\n",
       "      <td>Тюмень</td>\n",
       "      <td>ultra</td>\n",
       "      <td>4028.687306</td>\n",
       "      <td>27.0</td>\n",
       "      <td>NaT</td>\n",
       "      <td>NaN</td>\n",
       "      <td>NaN</td>\n",
       "      <td>NaN</td>\n",
       "      <td>1</td>\n",
       "      <td>6</td>\n",
       "      <td>0</td>\n",
       "      <td>199</td>\n",
       "    </tr>\n",
       "  </tbody>\n",
       "</table>\n",
       "</div>"
      ],
      "text/plain": [
       "   user_id  name  age    city subscription_type     distance  duration date  \\\n",
       "0        1  Кира   22  Тюмень             ultra  4409.919140      26.0  NaT   \n",
       "1        1  Кира   22  Тюмень             ultra  2617.592153      16.0  NaT   \n",
       "2        1  Кира   22  Тюмень             ultra   754.159807       7.0  NaT   \n",
       "3        1  Кира   22  Тюмень             ultra  2694.783254      19.0  NaT   \n",
       "4        1  Кира   22  Тюмень             ultra  4028.687306      27.0  NaT   \n",
       "\n",
       "   year  month  day  rides  minute_price  start_ride_price  subscription_fee  \n",
       "0   NaN    NaN  NaN      1             6                 0               199  \n",
       "1   NaN    NaN  NaN      1             6                 0               199  \n",
       "2   NaN    NaN  NaN      1             6                 0               199  \n",
       "3   NaN    NaN  NaN      1             6                 0               199  \n",
       "4   NaN    NaN  NaN      1             6                 0               199  "
      ]
     },
     "execution_count": 50,
     "metadata": {},
     "output_type": "execute_result"
    }
   ],
   "source": [
    "data_all.head()"
   ]
  },
  {
   "cell_type": "code",
   "execution_count": 52,
   "id": "b7bd8bdb",
   "metadata": {},
   "outputs": [
    {
     "data": {
      "text/plain": [
       "Index(['user_id', 'name', 'age', 'city', 'subscription_type', 'distance',\n",
       "       'duration', 'date', 'year', 'month', 'day', 'rides', 'minute_price',\n",
       "       'start_ride_price', 'subscription_fee'],\n",
       "      dtype='object')"
      ]
     },
     "execution_count": 52,
     "metadata": {},
     "output_type": "execute_result"
    }
   ],
   "source": [
    "data_all.columns"
   ]
  },
  {
   "cell_type": "code",
   "execution_count": 53,
   "id": "b26b82f9",
   "metadata": {},
   "outputs": [
    {
     "name": "stdout",
     "output_type": "stream",
     "text": [
      "<class 'pandas.core.frame.DataFrame'>\n",
      "RangeIndex: 18068 entries, 0 to 18067\n",
      "Data columns (total 15 columns):\n",
      " #   Column             Non-Null Count  Dtype         \n",
      "---  ------             --------------  -----         \n",
      " 0   user_id            18068 non-null  int64         \n",
      " 1   name               18068 non-null  object        \n",
      " 2   age                18068 non-null  int64         \n",
      " 3   city               18068 non-null  object        \n",
      " 4   subscription_type  18068 non-null  object        \n",
      " 5   distance           18068 non-null  float64       \n",
      " 6   duration           18068 non-null  float64       \n",
      " 7   date               0 non-null      datetime64[ns]\n",
      " 8   year               0 non-null      float64       \n",
      " 9   month              0 non-null      float64       \n",
      " 10  day                0 non-null      float64       \n",
      " 11  rides              18068 non-null  int64         \n",
      " 12  minute_price       18068 non-null  int64         \n",
      " 13  start_ride_price   18068 non-null  int64         \n",
      " 14  subscription_fee   18068 non-null  int64         \n",
      "dtypes: datetime64[ns](1), float64(5), int64(6), object(3)\n",
      "memory usage: 2.1+ MB\n"
     ]
    }
   ],
   "source": [
    "data_all.info()"
   ]
  },
  {
   "cell_type": "code",
   "execution_count": 57,
   "id": "ab4ede20",
   "metadata": {},
   "outputs": [
    {
     "name": "stdout",
     "output_type": "stream",
     "text": [
      "Empty DataFrame\n",
      "Columns: []\n",
      "Index: []\n"
     ]
    }
   ],
   "source": [
    "## Сформируем сводную таблицу\n",
    "pivoted_table = pd.pivot_table(data_all,\n",
    "                               index=['month', 'user_id'],\n",
    "                               values=['distance', 'duration', 'rides'],\n",
    "                               aggfunc={'distance': 'sum',\n",
    "                                        'duration': 'sum',                                        \n",
    "                                        'rides': 'sum'}\n",
    "                              )\n",
    "print(pivoted_table)"
   ]
  },
  {
   "cell_type": "code",
   "execution_count": 56,
   "id": "69839b9a",
   "metadata": {},
   "outputs": [
    {
     "data": {
      "text/html": [
       "<div>\n",
       "<style scoped>\n",
       "    .dataframe tbody tr th:only-of-type {\n",
       "        vertical-align: middle;\n",
       "    }\n",
       "\n",
       "    .dataframe tbody tr th {\n",
       "        vertical-align: top;\n",
       "    }\n",
       "\n",
       "    .dataframe thead th {\n",
       "        text-align: right;\n",
       "    }\n",
       "</style>\n",
       "<table border=\"1\" class=\"dataframe\">\n",
       "  <thead>\n",
       "    <tr style=\"text-align: right;\">\n",
       "      <th></th>\n",
       "      <th>user_id</th>\n",
       "      <th>name</th>\n",
       "      <th>age</th>\n",
       "      <th>city</th>\n",
       "      <th>subscription_type</th>\n",
       "    </tr>\n",
       "  </thead>\n",
       "  <tbody>\n",
       "  </tbody>\n",
       "</table>\n",
       "</div>"
      ],
      "text/plain": [
       "Empty DataFrame\n",
       "Columns: [user_id, name, age, city, subscription_type]\n",
       "Index: []"
      ]
     },
     "execution_count": 56,
     "metadata": {},
     "output_type": "execute_result"
    }
   ],
   "source": [
    "## Соединим сводную таблицу с данными о пользователях\n",
    "pivoted_table_updated = pivoted_table.merge(data_us, on = 'user_id')\n",
    "pivoted_table_updated.head(5)"
   ]
  },
  {
   "cell_type": "code",
   "execution_count": 48,
   "id": "9a94dff9",
   "metadata": {},
   "outputs": [
    {
     "data": {
      "text/html": [
       "<div>\n",
       "<style scoped>\n",
       "    .dataframe tbody tr th:only-of-type {\n",
       "        vertical-align: middle;\n",
       "    }\n",
       "\n",
       "    .dataframe tbody tr th {\n",
       "        vertical-align: top;\n",
       "    }\n",
       "\n",
       "    .dataframe thead th {\n",
       "        text-align: right;\n",
       "    }\n",
       "</style>\n",
       "<table border=\"1\" class=\"dataframe\">\n",
       "  <thead>\n",
       "    <tr style=\"text-align: right;\">\n",
       "      <th></th>\n",
       "      <th>user_id</th>\n",
       "      <th>name</th>\n",
       "      <th>age</th>\n",
       "      <th>city</th>\n",
       "      <th>subscription_type</th>\n",
       "      <th>minute_price</th>\n",
       "      <th>start_ride_price</th>\n",
       "      <th>subscription_fee</th>\n",
       "    </tr>\n",
       "  </thead>\n",
       "  <tbody>\n",
       "  </tbody>\n",
       "</table>\n",
       "</div>"
      ],
      "text/plain": [
       "Empty DataFrame\n",
       "Columns: [user_id, name, age, city, subscription_type, minute_price, start_ride_price, subscription_fee]\n",
       "Index: []"
      ]
     },
     "execution_count": 48,
     "metadata": {},
     "output_type": "execute_result"
    }
   ],
   "source": [
    "## Соединим сводную таблицу с даннымми о тарифах\n",
    "pivoted_table_final = pivoted_table_updated.merge(data_sub, on ='subscription_type')\n",
    "pivoted_table_final.head(5)"
   ]
  },
  {
   "cell_type": "code",
   "execution_count": 49,
   "id": "23ab0073",
   "metadata": {},
   "outputs": [
    {
     "ename": "KeyError",
     "evalue": "'duration'",
     "output_type": "error",
     "traceback": [
      "\u001b[1;31m---------------------------------------------------------------------------\u001b[0m",
      "\u001b[1;31mKeyError\u001b[0m                                  Traceback (most recent call last)",
      "File \u001b[1;32mC:\\ProgramData\\anaconda3\\Lib\\site-packages\\pandas\\core\\indexes\\base.py:3653\u001b[0m, in \u001b[0;36mIndex.get_loc\u001b[1;34m(self, key)\u001b[0m\n\u001b[0;32m   3652\u001b[0m \u001b[38;5;28;01mtry\u001b[39;00m:\n\u001b[1;32m-> 3653\u001b[0m     \u001b[38;5;28;01mreturn\u001b[39;00m \u001b[38;5;28mself\u001b[39m\u001b[38;5;241m.\u001b[39m_engine\u001b[38;5;241m.\u001b[39mget_loc(casted_key)\n\u001b[0;32m   3654\u001b[0m \u001b[38;5;28;01mexcept\u001b[39;00m \u001b[38;5;167;01mKeyError\u001b[39;00m \u001b[38;5;28;01mas\u001b[39;00m err:\n",
      "File \u001b[1;32mC:\\ProgramData\\anaconda3\\Lib\\site-packages\\pandas\\_libs\\index.pyx:147\u001b[0m, in \u001b[0;36mpandas._libs.index.IndexEngine.get_loc\u001b[1;34m()\u001b[0m\n",
      "File \u001b[1;32mC:\\ProgramData\\anaconda3\\Lib\\site-packages\\pandas\\_libs\\index.pyx:176\u001b[0m, in \u001b[0;36mpandas._libs.index.IndexEngine.get_loc\u001b[1;34m()\u001b[0m\n",
      "File \u001b[1;32mpandas\\_libs\\hashtable_class_helper.pxi:7080\u001b[0m, in \u001b[0;36mpandas._libs.hashtable.PyObjectHashTable.get_item\u001b[1;34m()\u001b[0m\n",
      "File \u001b[1;32mpandas\\_libs\\hashtable_class_helper.pxi:7088\u001b[0m, in \u001b[0;36mpandas._libs.hashtable.PyObjectHashTable.get_item\u001b[1;34m()\u001b[0m\n",
      "\u001b[1;31mKeyError\u001b[0m: 'duration'",
      "\nThe above exception was the direct cause of the following exception:\n",
      "\u001b[1;31mKeyError\u001b[0m                                  Traceback (most recent call last)",
      "Cell \u001b[1;32mIn[49], line 2\u001b[0m\n\u001b[0;32m      1\u001b[0m \u001b[38;5;66;03m## Добавим столбец с расчетом суммы выручки\u001b[39;00m\n\u001b[1;32m----> 2\u001b[0m pivoted_table_final[\u001b[38;5;124m'\u001b[39m\u001b[38;5;124mpay\u001b[39m\u001b[38;5;124m'\u001b[39m] \u001b[38;5;241m=\u001b[39m pivoted_table_final[\u001b[38;5;124m'\u001b[39m\u001b[38;5;124mduration\u001b[39m\u001b[38;5;124m'\u001b[39m]\u001b[38;5;241m*\u001b[39mpivoted_table_final[\u001b[38;5;124m'\u001b[39m\u001b[38;5;124mminute_price\u001b[39m\u001b[38;5;124m'\u001b[39m] \u001b[38;5;241m+\u001b[39m pivoted_table_final[\u001b[38;5;124m'\u001b[39m\u001b[38;5;124mstart_ride_price\u001b[39m\u001b[38;5;124m'\u001b[39m]\u001b[38;5;241m*\u001b[39mpivoted_table_final[\u001b[38;5;124m'\u001b[39m\u001b[38;5;124mrides\u001b[39m\u001b[38;5;124m'\u001b[39m]\u001b[38;5;241m+\u001b[39mpivoted_table_final[\u001b[38;5;124m'\u001b[39m\u001b[38;5;124msubscription_fee\u001b[39m\u001b[38;5;124m'\u001b[39m]\n\u001b[0;32m      3\u001b[0m pivoted_table_final\u001b[38;5;241m.\u001b[39mhead(\u001b[38;5;241m5\u001b[39m)\n",
      "File \u001b[1;32mC:\\ProgramData\\anaconda3\\Lib\\site-packages\\pandas\\core\\frame.py:3761\u001b[0m, in \u001b[0;36mDataFrame.__getitem__\u001b[1;34m(self, key)\u001b[0m\n\u001b[0;32m   3759\u001b[0m \u001b[38;5;28;01mif\u001b[39;00m \u001b[38;5;28mself\u001b[39m\u001b[38;5;241m.\u001b[39mcolumns\u001b[38;5;241m.\u001b[39mnlevels \u001b[38;5;241m>\u001b[39m \u001b[38;5;241m1\u001b[39m:\n\u001b[0;32m   3760\u001b[0m     \u001b[38;5;28;01mreturn\u001b[39;00m \u001b[38;5;28mself\u001b[39m\u001b[38;5;241m.\u001b[39m_getitem_multilevel(key)\n\u001b[1;32m-> 3761\u001b[0m indexer \u001b[38;5;241m=\u001b[39m \u001b[38;5;28mself\u001b[39m\u001b[38;5;241m.\u001b[39mcolumns\u001b[38;5;241m.\u001b[39mget_loc(key)\n\u001b[0;32m   3762\u001b[0m \u001b[38;5;28;01mif\u001b[39;00m is_integer(indexer):\n\u001b[0;32m   3763\u001b[0m     indexer \u001b[38;5;241m=\u001b[39m [indexer]\n",
      "File \u001b[1;32mC:\\ProgramData\\anaconda3\\Lib\\site-packages\\pandas\\core\\indexes\\base.py:3655\u001b[0m, in \u001b[0;36mIndex.get_loc\u001b[1;34m(self, key)\u001b[0m\n\u001b[0;32m   3653\u001b[0m     \u001b[38;5;28;01mreturn\u001b[39;00m \u001b[38;5;28mself\u001b[39m\u001b[38;5;241m.\u001b[39m_engine\u001b[38;5;241m.\u001b[39mget_loc(casted_key)\n\u001b[0;32m   3654\u001b[0m \u001b[38;5;28;01mexcept\u001b[39;00m \u001b[38;5;167;01mKeyError\u001b[39;00m \u001b[38;5;28;01mas\u001b[39;00m err:\n\u001b[1;32m-> 3655\u001b[0m     \u001b[38;5;28;01mraise\u001b[39;00m \u001b[38;5;167;01mKeyError\u001b[39;00m(key) \u001b[38;5;28;01mfrom\u001b[39;00m \u001b[38;5;21;01merr\u001b[39;00m\n\u001b[0;32m   3656\u001b[0m \u001b[38;5;28;01mexcept\u001b[39;00m \u001b[38;5;167;01mTypeError\u001b[39;00m:\n\u001b[0;32m   3657\u001b[0m     \u001b[38;5;66;03m# If we have a listlike key, _check_indexing_error will raise\u001b[39;00m\n\u001b[0;32m   3658\u001b[0m     \u001b[38;5;66;03m#  InvalidIndexError. Otherwise we fall through and re-raise\u001b[39;00m\n\u001b[0;32m   3659\u001b[0m     \u001b[38;5;66;03m#  the TypeError.\u001b[39;00m\n\u001b[0;32m   3660\u001b[0m     \u001b[38;5;28mself\u001b[39m\u001b[38;5;241m.\u001b[39m_check_indexing_error(key)\n",
      "\u001b[1;31mKeyError\u001b[0m: 'duration'"
     ]
    }
   ],
   "source": [
    "## Добавим столбец с расчетом суммы выручки\n",
    "pivoted_table_final['pay'] = pivoted_table_final['duration']*pivoted_table_final['minute_price'] + pivoted_table_final['start_ride_price']*pivoted_table_final['rides']+pivoted_table_final['subscription_fee']\n",
    "pivoted_table_final.head(5)"
   ]
  },
  {
   "cell_type": "code",
   "execution_count": null,
   "id": "a3354519",
   "metadata": {},
   "outputs": [],
   "source": [
    "## Округлим данные\n",
    "pivoted_table_final['duration'] = np.ceil(pivoted_table_final['duration']).astype(int)\n",
    "pivoted_table_final['distance'] = np.ceil(pivoted_table_final['distance']).astype(int)\n",
    "pivoted_table_final['pay'] = np.ceil(pivoted_table_final['pay']).astype(int)\n",
    "pivoted_table_final.head(5)"
   ]
  },
  {
   "cell_type": "markdown",
   "id": "faab8237",
   "metadata": {},
   "source": [
    "#### Шаг 6. Проверка гипотез"
   ]
  },
  {
   "cell_type": "markdown",
   "id": "a698bcf0",
   "metadata": {},
   "source": [
    "##### Проверка гипотезы:  Тратят ли пользователи с подпиской больше времени на поездки"
   ]
  },
  {
   "cell_type": "code",
   "execution_count": null,
   "id": "e9e83fdb",
   "metadata": {},
   "outputs": [],
   "source": [
    "# Разделим данные на две группы: с подпиской и без подписки\n",
    "\n",
    "ultra = data_all[data_all['subscription_type'] == 'ultra']\n",
    "free = data_all[data_all['subscription_type'] == 'free']\n"
   ]
  },
  {
   "cell_type": "markdown",
   "id": "c0e35ee8",
   "metadata": {},
   "source": [
    "**Сформулируем гипотезы:**\n",
    "- H0 : средняя продолжительность ultra['duration'] равна средняя продолжительность free['duration']\n",
    "- H1 : средняя продолжительность ultra['duration']  > средняя продолжительность free['duration']"
   ]
  },
  {
   "cell_type": "code",
   "execution_count": null,
   "id": "066998de",
   "metadata": {},
   "outputs": [],
   "source": [
    "## Проверим гипотезу\n",
    "\n",
    "alpha = 0.05 # уровень статистической значимости\n",
    "# если p-value окажется меньше него, отвергнем гипотезу\n",
    "\n",
    "results = st.ttest_ind(ultra['duration'], free['duration'], equal_var=False, alternative='greater')\n",
    "\n",
    "print('p-значение:', results.pvalue)\n",
    "\n",
    "if results.pvalue < alpha:\n",
    "    print('Отвергаем нулевую гипотезу: средняя продолжительность у тарифа Ultra больше чем у тарифа Free.')\n",
    "else:\n",
    "    print('Не получилось отвергнуть нулевую гипотезу: средние продолжительности не различаются.') "
   ]
  },
  {
   "cell_type": "code",
   "execution_count": null,
   "id": "c2eade4d",
   "metadata": {},
   "outputs": [],
   "source": [
    "display(ultra['duration'].mean().round())\n",
    "display(free['duration'].mean().round())"
   ]
  },
  {
   "cell_type": "markdown",
   "id": "75978d55",
   "metadata": {},
   "source": [
    "**ВЫВОД: пользователи с подпиской тратят больше времени на поездки, следовательно они являются более привлекательными клиентами для компании**"
   ]
  },
  {
   "cell_type": "markdown",
   "id": "9cca89e7",
   "metadata": {},
   "source": [
    "##### Проверка гипотезы: Расстояние одной поездки в 3130 метров — оптимальное с точки зрения износа самоката"
   ]
  },
  {
   "cell_type": "markdown",
   "id": "8ee4f87f",
   "metadata": {},
   "source": [
    "**Сформулируем гипотезы:**\n",
    "- H0 : средняя продолжительность ultra['duration'] = 3130\n",
    "- H1 : средняя продолжительность ultra['duration'] > 3130"
   ]
  },
  {
   "cell_type": "code",
   "execution_count": null,
   "id": "9704dd8b",
   "metadata": {},
   "outputs": [],
   "source": [
    "\n",
    "ultra_mean = ultra['distance']\n",
    "\n",
    "distance_3130 = 3130\n",
    "\n",
    "alpha = 0.05 # уровень статистической значимости\n",
    "\n",
    "results = st.ttest_1samp(\n",
    "    ultra_mean, \n",
    "    distance_3130,\n",
    "      alternative='greater')\n",
    "\n",
    "print('p-значение:', results.pvalue)\n",
    "\n",
    "if (results.pvalue < alpha):\n",
    "    print('Отвергаем нулевую гипотезу: среднее расстояние превышает', distance_3130, 'метров')\n",
    "else:\n",
    "    print('Не отвергаем нулевую гипотезу: среднее расстояние не превышает', distance_3130, 'метров') \n",
    "\n"
   ]
  },
  {
   "cell_type": "code",
   "execution_count": null,
   "id": "213cd2f9",
   "metadata": {},
   "outputs": [],
   "source": [
    "## Выведем средние расстояния поездок для разных тарифов\n",
    "\n",
    "display(ultra['distance'].mean().round())\n",
    "display(free['distance'].mean().round())"
   ]
  },
  {
   "cell_type": "markdown",
   "id": "c2f654a1",
   "metadata": {},
   "source": [
    "**ВЫВОД: среднее расстояние одной поездки, которую совершают пользователи с подпиской не превышает 3130 м**"
   ]
  },
  {
   "cell_type": "markdown",
   "id": "8ca1ec3a",
   "metadata": {},
   "source": [
    "##### Проверка гипотезы: Будет ли помесячная выручка от пользователей с подпиской по месяцам выше, чем выручка от пользователей без подписки"
   ]
  },
  {
   "cell_type": "code",
   "execution_count": null,
   "id": "0f5a89cd",
   "metadata": {},
   "outputs": [],
   "source": [
    "## Создадим выборки по подписке\n",
    "ultra_pay = pivoted_table_final[pivoted_table_final['subscription_type'] == 'ultra']['pay']\n",
    "free_pay = pivoted_table_final[pivoted_table_final['subscription_type'] == 'free']['pay']\n"
   ]
  },
  {
   "cell_type": "markdown",
   "id": "11cdea91",
   "metadata": {},
   "source": [
    "**Сформулируем гипотезы:**\n",
    "- H0 : средняя выручка ultra = средняя выручка free \n",
    "- H1 : средняя выручка ultra > средняя выручка free"
   ]
  },
  {
   "cell_type": "code",
   "execution_count": null,
   "id": "c425cec2",
   "metadata": {},
   "outputs": [],
   "source": [
    "## Проверим гипотезы\n",
    "\n",
    "alpha = 0.05\n",
    "\n",
    "# T-test для средних значений\n",
    "results = st.ttest_ind(ultra_pay, free_pay, equal_var=False, alternative='greater')\n",
    "\n",
    "print('p-значение:', results.pvalue)\n",
    "\n",
    "if results.pvalue < alpha:\n",
    "    print('Отвергаем нулевую гипотезу: выручка от пользователей с подпиской выше')\n",
    "else:\n",
    "    print('Не получилось отвергнуть нулевую гипотезу: выручки не различаются')"
   ]
  },
  {
   "cell_type": "markdown",
   "id": "611600ce",
   "metadata": {},
   "source": [
    "**ВЫВОД: Выручка от пользователей с подпиской выше, чем от пользователей без подписки**"
   ]
  },
  {
   "cell_type": "markdown",
   "id": "93025499",
   "metadata": {},
   "source": [
    "##### Проверка гипотезы: Техническая команда сервиса обновила сервера, с которыми взаимодействует мобильное приложение. Она надеется, что из-за этого количество обращений в техподдержку значимо снизилось. Некоторый файл содержит для каждого пользователя данные о количестве обращений до обновления и после него"
   ]
  },
  {
   "cell_type": "markdown",
   "id": "310e2dbd",
   "metadata": {},
   "source": [
    "Для этого нужен тест о проверке Гипотезы о равенстве средних для зависимых (парных) выборок. В качестве первой выборки будут данные о количестве обращений до обновления сервера, в качестве второй - данные о количестве обращений после обновления сервера.\n",
    "- Нулевая гипотеза (H0):\n",
    "\n",
    "Разница между средними значениями выборок равна нулю (количество обращений не изменилось).\n",
    "\n",
    "- Альтернативная гипотеза (H1):\n",
    "\n",
    "Разница между средними значениями выборок не равна нулю (количество обращений изменилось).Среднее значение после обновления меньше среднего значения до обновления\n",
    "\n",
    "Для проверки гипотез необходимо применить метод **scipy.stats.ttest_rel(alternative='greater')**"
   ]
  },
  {
   "cell_type": "markdown",
   "id": "8d6d405f",
   "metadata": {},
   "source": [
    "#### Шаг 7. Распределения"
   ]
  },
  {
   "cell_type": "markdown",
   "id": "faeaf67b",
   "metadata": {},
   "source": [
    "##### Задача: акция с раздачей промокодов на один бесплатный месяц подписки, в рамках которой как минимум 100 существующих клиентов должны продлить эту подписку. Подберите параметры распределения, постройте график распределения и сформулируйте ответ на вопрос о количестве промокодов."
   ]
  },
  {
   "cell_type": "code",
   "execution_count": null,
   "id": "30c9393a",
   "metadata": {},
   "outputs": [],
   "source": [
    "\n",
    "# Параметры задачи\n",
    "p = 0.10  # Вероятность продления подписки\n",
    "k = 100   # Минимальное количество клиентов, которые должны продлить подписку\n",
    "desired_probability = 0.05  # Вероятность не выполнить план\n"
   ]
  },
  {
   "cell_type": "code",
   "execution_count": null,
   "id": "48918b1b",
   "metadata": {},
   "outputs": [],
   "source": [
    "# Создание списков для хранения значений N и вероятностей\n",
    "N_values = []\n",
    "probabilities = []\n",
    "\n",
    "# Цикл для подбора значений N\n",
    "for n in range(100, 1501):\n",
    "    probability = binom.cdf(k - 1, n, p)\n",
    "    \n",
    "    # Проверка близости к желаемой вероятности\n",
    "    if probability <= 0.05:  \n",
    "        print(f\"Минимальное количество промокодов: {n}\")\n",
    "        break\n",
    "    \n",
    "    # Добавление значений в списки для графика\n",
    "    N_values.append(n)\n",
    "    probabilities.append(probability)\n"
   ]
  },
  {
   "cell_type": "code",
   "execution_count": null,
   "id": "3a8605fa",
   "metadata": {},
   "outputs": [],
   "source": [
    "# Построение графика\n",
    "plt.figure(figsize=(10, 6))\n",
    "plt.plot(N_values, probabilities, label='Вероятность выполнения плана')\n",
    "plt.axhline(y=desired_probability, color='red', linestyle='--', label='Желаемая вероятность')\n",
    "plt.title('Зависимость вероятности выполнения плана от общего числа промокодов')\n",
    "plt.xlabel('Общее количество промокодов (N)')\n",
    "plt.ylabel('Вероятность')\n",
    "plt.legend()\n",
    "plt.show()"
   ]
  },
  {
   "cell_type": "markdown",
   "id": "bfc58187",
   "metadata": {},
   "source": [
    "**Вывод**\n",
    "\n",
    "- Вероятность не выполнения плана (desired_probability): Установлено значение 0.05 (5%), что означает, что акция должна быть нацелена на то, чтобы примерно не более 5% клиентов не продлили подписку.\n",
    "\n",
    "- Минимальное количество промокодов (N): На графике выделена точка, представляющая минимальное количество промокодов, при котором достигается или близка к желаемой вероятности.\n",
    "\n",
    "- Красная пунктирная линия: Показывает вероятность не выполнения плана (5%).\n"
   ]
  },
  {
   "cell_type": "markdown",
   "id": "6483b31d",
   "metadata": {},
   "source": [
    "##### Задача: отдел маркетинга рассылает клиентам push-уведомления в мобильном приложении. Клиенты могут открыть его или не открывать. Известно, что уведомления открывают около 40 % получивших клиентов. Отдел планирует разослать 1 млн уведомлений. С помощью аппроксимации постройте примерный график распределения и оцените вероятность того, что уведомление откроют не более 399,5 тыс. пользователей."
   ]
  },
  {
   "cell_type": "code",
   "execution_count": null,
   "id": "1e8656db",
   "metadata": {},
   "outputs": [],
   "source": [
    "## Параметры задачи\n",
    "n = 1000000 ## количество разосланных уведомлений \n",
    "p = 0.4 ## вероятность открывания уведомлений\n",
    "x = 399500 ## \n",
    "# зададим мат.ожидание и ст.отклонение нормального распределения равными\n",
    "# мат.ожиданию и ст.отклонению биномиального распределения\n",
    "mu = n * p\n",
    "sigma = sqrt(n * p * (1 - p))\n",
    "\n",
    "# задаём нормальное распределение\n",
    "distr = st.norm(mu, sigma) \n",
    "\n",
    "# считаем вероятность хвоста слева от 399,5 тысяч уведомлений\n",
    "result = round(distr.cdf(x), 2)\n",
    "print(f\"Вероятность того, что уведомление откроют не более {x} пользователей равна {result}\")"
   ]
  },
  {
   "cell_type": "code",
   "execution_count": null,
   "id": "8f0939ba",
   "metadata": {},
   "outputs": [],
   "source": [
    "# Построение графика\n",
    "x_values = np.linspace(0.2, 0.6)\n",
    "y_values = distr.pdf(x_values * n)\n",
    "\n",
    "plt.figure(figsize=(12, 6)) \n",
    "plt.plot(x_values * 1000, y_values, label='Нормальное распределение')\n",
    "plt.fill_between(x_values * 1000, 0, y_values, where=(x_values <= x/n), color='red', alpha=0.4, label=f'Вероятность до {x} пользователей')\n",
    "\n",
    "plt.title('Нормальное распределение для открытия уведомлений')\n",
    "plt.xlabel('Количество пользователей, открывших уведомления (в тысячах)')\n",
    "plt.ylabel('Плотность вероятности')\n",
    "plt.legend()\n",
    "plt.show()"
   ]
  },
  {
   "cell_type": "code",
   "execution_count": null,
   "id": "d70bddd9",
   "metadata": {},
   "outputs": [],
   "source": [
    "    # Код ревьюера\n",
    "\n",
    "s = np.random.normal(mu, sigma, 1000) # генерируем значения для нормального распределения\n",
    "\n",
    "\n",
    "plt.hist(s, 30) # строим гистограмму\n",
    "plt.title('Название графика')\n",
    "plt.ylabel('Подпись оси y')\n",
    "plt.xlabel('Подпись оси х')\n",
    "\n",
    "plt.show()"
   ]
  },
  {
   "cell_type": "markdown",
   "id": "34bcbcb1",
   "metadata": {},
   "source": [
    "- График визуализирует, что вероятность того, что менее 399,5 тысяч пользователей откроют уведомления, сосредоточена в левой части графика.\n",
    "\n",
    "-  Использование нормального распределения является аппроксимацией для биномиального распределения с большим числом испытаний. В данном случае, это позволяет оценить вероятности для различных долей пользователей, которые могут открыть уведомления.\n"
   ]
  },
  {
   "cell_type": "markdown",
   "id": "9f19e383",
   "metadata": {},
   "source": [
    "**Общий вывод по проекту:**\n",
    "\n",
    "Анализ данных о пользователях сервиса аренды самокатов GoFast позволяет выделить несколько ключевых пунктов:\n",
    "\n",
    "- Распределение пользователей по городам:\n",
    "\n",
    "Больше всего пользователей зарегистрировано в городах Пятигорск, Ростов, Сочи и Краснодар, в то время как в Москве количество пользователей находится на низком уровне.\n",
    "\n",
    " - Подписка и без подписки:\n",
    "\n",
    "Количество пользователей с подпиской и без подписки примерно равны (50/50).\n",
    "\n",
    "- Возраст пользователей:\n",
    "\n",
    "Распределение возрастов пользователей нормальное, с наиболее частым возрастом в районе 25 лет.\n",
    "\n",
    "- Расстояния и длительность поездок:\n",
    "\n",
    "Основные поездки составляют 2-4 км, что соответствует прогулкам на самокатах, также есть небольшая доля коротких поездок до 500 м, возможно это пробные поездки новых пользователей\n",
    "\n",
    "Длительность поездок в основном варьируется в районе 20 минут.\n",
    "\n",
    "- Тарифы Ultra и Free:\n",
    "\n",
    "Пользователи с тарифом Ultra предпочитают короткие поездки в пределах 2,5-3,5 км, в то время как пользователи с тарифом Free выбирают расстояния от 2 до 4 км.\n",
    "Пользователи с тарифом Ultra тратят больше времени на поездки по сравнению с пользователями Free.\n",
    "\n",
    "- Выручка и подписки:\n",
    "\n",
    "Пользователи с подпиской приносят больше выручки, чем пользователи без подписки.\n",
    "\n",
    "**Рекомендации для бизнеса:**\n",
    "\n",
    "- Маркетинг:\n",
    "\n",
    "Уделите внимание городам с низким количеством пользователей, таким как Москва, и проведите активные маркетинговые кампании для привлечения новых пользователей.\n",
    "\n",
    "- Подписки:\n",
    "\n",
    "Продолжайте улучшать и продвигать программу подписок, так как пользователи с подпиской приносят больше выручки.\n",
    "\n",
    "- Тарифы:\n",
    "\n",
    "Рассмотрите возможность адаптации тарифов Ultra и Free с учетом предпочтений пользователей по расстояниям и длительности поездок.\n",
    "\n",
    "- Привлечение новых пользователей:\n",
    "\n",
    "Для увеличения вероятности выполнения маркетингового плана можно рассмотреть варианты увеличения общего количества промокодов, что может привести к более сбалансированным результатам.\n",
    "\n",
    "- Удержание пользователей:\n",
    "\n",
    "Исследуйте возможности увеличения удовлетворенности пользователя, что может повысить вероятность продления подписок и увеличить выручку.\n",
    "\n",
    "**Заключение:**\n",
    "\n",
    "В целом, бизнесу рекомендуется активно работать с городами, где меньше всего пользователей, строить маркетинговые кампании, улучшать программу подписок, адаптировать тарифы под предпочтения пользователей и стремиться к увеличению удовлетворенности клиентов для укрепления позиций на рынке аренды самокатов."
   ]
  }
 ],
 "metadata": {
  "ExecuteTimeLog": [
   {
    "duration": 78,
    "start_time": "2024-02-05T16:24:46.699Z"
   },
   {
    "duration": 44,
    "start_time": "2024-02-05T16:34:46.345Z"
   },
   {
    "duration": 350,
    "start_time": "2024-02-05T16:34:53.809Z"
   },
   {
    "duration": 97,
    "start_time": "2024-02-05T16:34:55.905Z"
   },
   {
    "duration": 77,
    "start_time": "2024-02-05T16:34:59.688Z"
   },
   {
    "duration": 28,
    "start_time": "2024-02-05T16:35:32.751Z"
   },
   {
    "duration": 15,
    "start_time": "2024-02-05T16:36:04.020Z"
   },
   {
    "duration": 119,
    "start_time": "2024-02-05T16:36:34.889Z"
   },
   {
    "duration": 13,
    "start_time": "2024-02-05T16:36:36.081Z"
   },
   {
    "duration": 66,
    "start_time": "2024-02-05T16:37:28.172Z"
   },
   {
    "duration": 6,
    "start_time": "2024-02-05T16:37:34.542Z"
   },
   {
    "duration": 134,
    "start_time": "2024-02-05T16:39:22.520Z"
   },
   {
    "duration": 8,
    "start_time": "2024-02-05T16:40:29.346Z"
   },
   {
    "duration": 95,
    "start_time": "2024-02-05T16:40:48.208Z"
   },
   {
    "duration": 12,
    "start_time": "2024-02-05T16:40:56.003Z"
   },
   {
    "duration": 5,
    "start_time": "2024-02-05T16:40:58.792Z"
   },
   {
    "duration": 78,
    "start_time": "2024-02-05T16:42:08.775Z"
   },
   {
    "duration": 10,
    "start_time": "2024-02-05T16:42:39.568Z"
   },
   {
    "duration": 6,
    "start_time": "2024-02-05T16:42:41.823Z"
   },
   {
    "duration": 5,
    "start_time": "2024-02-05T16:42:52.012Z"
   },
   {
    "duration": 78,
    "start_time": "2024-02-05T16:43:16.734Z"
   },
   {
    "duration": 11,
    "start_time": "2024-02-05T16:43:17.667Z"
   },
   {
    "duration": 6,
    "start_time": "2024-02-05T16:43:19.759Z"
   },
   {
    "duration": 9,
    "start_time": "2024-02-05T17:03:25.006Z"
   },
   {
    "duration": 71,
    "start_time": "2024-02-05T17:04:52.918Z"
   },
   {
    "duration": 21,
    "start_time": "2024-02-05T17:05:02.142Z"
   },
   {
    "duration": 11,
    "start_time": "2024-02-05T17:08:13.415Z"
   },
   {
    "duration": 9,
    "start_time": "2024-02-05T17:10:34.650Z"
   },
   {
    "duration": 10,
    "start_time": "2024-02-05T17:12:12.641Z"
   },
   {
    "duration": 11,
    "start_time": "2024-02-05T17:13:49.190Z"
   },
   {
    "duration": 47,
    "start_time": "2024-02-06T14:59:37.699Z"
   },
   {
    "duration": 413,
    "start_time": "2024-02-06T14:59:46.164Z"
   },
   {
    "duration": 125,
    "start_time": "2024-02-06T14:59:46.579Z"
   },
   {
    "duration": 13,
    "start_time": "2024-02-06T14:59:46.706Z"
   },
   {
    "duration": 8,
    "start_time": "2024-02-06T14:59:46.721Z"
   },
   {
    "duration": 113,
    "start_time": "2024-02-06T14:59:46.731Z"
   },
   {
    "duration": 12,
    "start_time": "2024-02-06T14:59:46.846Z"
   },
   {
    "duration": 6,
    "start_time": "2024-02-06T14:59:46.860Z"
   },
   {
    "duration": 221,
    "start_time": "2024-02-06T14:59:46.867Z"
   },
   {
    "duration": 11,
    "start_time": "2024-02-06T14:59:47.089Z"
   },
   {
    "duration": 11,
    "start_time": "2024-02-06T14:59:47.102Z"
   },
   {
    "duration": 44,
    "start_time": "2024-02-06T14:59:47.115Z"
   },
   {
    "duration": 35,
    "start_time": "2024-02-06T14:59:47.161Z"
   },
   {
    "duration": 15,
    "start_time": "2024-02-06T14:59:47.198Z"
   },
   {
    "duration": 8,
    "start_time": "2024-02-06T14:59:47.214Z"
   },
   {
    "duration": 11,
    "start_time": "2024-02-06T14:59:47.224Z"
   },
   {
    "duration": 62,
    "start_time": "2024-02-06T14:59:47.237Z"
   },
   {
    "duration": 8,
    "start_time": "2024-02-06T15:00:18.287Z"
   },
   {
    "duration": 5,
    "start_time": "2024-02-06T15:03:39.594Z"
   },
   {
    "duration": 1526,
    "start_time": "2024-02-06T15:07:16.655Z"
   },
   {
    "duration": 6,
    "start_time": "2024-02-06T15:07:49.244Z"
   },
   {
    "duration": 6,
    "start_time": "2024-02-06T15:08:50.959Z"
   },
   {
    "duration": 573,
    "start_time": "2024-02-06T15:10:14.960Z"
   },
   {
    "duration": 223,
    "start_time": "2024-02-06T15:11:44.364Z"
   },
   {
    "duration": 131,
    "start_time": "2024-02-06T15:11:55.003Z"
   },
   {
    "duration": 1616,
    "start_time": "2024-02-06T15:16:22.203Z"
   },
   {
    "duration": 125,
    "start_time": "2024-02-06T15:17:09.004Z"
   },
   {
    "duration": 184,
    "start_time": "2024-02-06T15:18:33.673Z"
   },
   {
    "duration": 15,
    "start_time": "2024-02-06T15:56:06.046Z"
   },
   {
    "duration": 23,
    "start_time": "2024-02-06T15:56:47.980Z"
   },
   {
    "duration": 9,
    "start_time": "2024-02-06T15:58:03.941Z"
   },
   {
    "duration": 41,
    "start_time": "2024-02-06T15:58:06.757Z"
   },
   {
    "duration": 460,
    "start_time": "2024-02-06T15:58:18.516Z"
   },
   {
    "duration": 418,
    "start_time": "2024-02-06T15:59:51.843Z"
   },
   {
    "duration": 148,
    "start_time": "2024-02-06T15:59:52.263Z"
   },
   {
    "duration": 11,
    "start_time": "2024-02-06T15:59:52.412Z"
   },
   {
    "duration": 23,
    "start_time": "2024-02-06T15:59:52.424Z"
   },
   {
    "duration": 172,
    "start_time": "2024-02-06T15:59:52.449Z"
   },
   {
    "duration": 10,
    "start_time": "2024-02-06T15:59:52.623Z"
   },
   {
    "duration": 30,
    "start_time": "2024-02-06T15:59:52.635Z"
   },
   {
    "duration": 120,
    "start_time": "2024-02-06T15:59:52.666Z"
   },
   {
    "duration": 9,
    "start_time": "2024-02-06T15:59:52.788Z"
   },
   {
    "duration": 18,
    "start_time": "2024-02-06T15:59:52.798Z"
   },
   {
    "duration": 16,
    "start_time": "2024-02-06T15:59:52.818Z"
   },
   {
    "duration": 17,
    "start_time": "2024-02-06T15:59:52.836Z"
   },
   {
    "duration": 7,
    "start_time": "2024-02-06T15:59:52.855Z"
   },
   {
    "duration": 37,
    "start_time": "2024-02-06T15:59:52.864Z"
   },
   {
    "duration": 27,
    "start_time": "2024-02-06T15:59:52.902Z"
   },
   {
    "duration": 8,
    "start_time": "2024-02-06T15:59:52.931Z"
   },
   {
    "duration": 9,
    "start_time": "2024-02-06T15:59:52.940Z"
   },
   {
    "duration": 31,
    "start_time": "2024-02-06T15:59:52.951Z"
   },
   {
    "duration": 390,
    "start_time": "2024-02-06T15:59:52.983Z"
   },
   {
    "duration": 129,
    "start_time": "2024-02-06T15:59:53.374Z"
   },
   {
    "duration": 123,
    "start_time": "2024-02-06T15:59:53.505Z"
   },
   {
    "duration": 31,
    "start_time": "2024-02-06T15:59:53.630Z"
   },
   {
    "duration": 89,
    "start_time": "2024-02-06T16:00:47.147Z"
   },
   {
    "duration": 69,
    "start_time": "2024-02-06T16:02:53.516Z"
   },
   {
    "duration": 1049,
    "start_time": "2024-02-06T16:03:16.500Z"
   },
   {
    "duration": 876,
    "start_time": "2024-02-06T16:03:29.459Z"
   },
   {
    "duration": 257,
    "start_time": "2024-02-06T16:03:48.027Z"
   },
   {
    "duration": 230,
    "start_time": "2024-02-06T16:04:45.851Z"
   },
   {
    "duration": 435,
    "start_time": "2024-02-06T16:04:48.788Z"
   },
   {
    "duration": 147,
    "start_time": "2024-02-06T16:07:30.659Z"
   },
   {
    "duration": 170,
    "start_time": "2024-02-06T16:08:13.763Z"
   },
   {
    "duration": 183,
    "start_time": "2024-02-06T16:08:53.532Z"
   },
   {
    "duration": 168,
    "start_time": "2024-02-06T16:09:13.915Z"
   },
   {
    "duration": 180,
    "start_time": "2024-02-06T16:12:00.945Z"
   },
   {
    "duration": 189,
    "start_time": "2024-02-06T16:12:13.603Z"
   },
   {
    "duration": 181,
    "start_time": "2024-02-06T16:12:20.027Z"
   },
   {
    "duration": 192,
    "start_time": "2024-02-06T16:13:02.228Z"
   },
   {
    "duration": 190,
    "start_time": "2024-02-06T16:14:08.129Z"
   },
   {
    "duration": 195,
    "start_time": "2024-02-06T16:14:20.258Z"
   },
   {
    "duration": 179,
    "start_time": "2024-02-06T16:14:25.860Z"
   },
   {
    "duration": 125,
    "start_time": "2024-02-06T16:15:13.972Z"
   },
   {
    "duration": 188,
    "start_time": "2024-02-06T16:15:58.723Z"
   },
   {
    "duration": 155,
    "start_time": "2024-02-06T16:16:33.652Z"
   },
   {
    "duration": 159,
    "start_time": "2024-02-06T16:17:07.443Z"
   },
   {
    "duration": 471,
    "start_time": "2024-02-06T16:18:40.915Z"
   },
   {
    "duration": 180,
    "start_time": "2024-02-06T16:19:17.186Z"
   },
   {
    "duration": 195,
    "start_time": "2024-02-06T16:19:35.466Z"
   },
   {
    "duration": 201,
    "start_time": "2024-02-06T16:19:41.331Z"
   },
   {
    "duration": 182,
    "start_time": "2024-02-06T16:20:09.319Z"
   },
   {
    "duration": 399,
    "start_time": "2024-02-06T16:22:50.903Z"
   },
   {
    "duration": 378,
    "start_time": "2024-02-06T16:23:12.617Z"
   },
   {
    "duration": 91,
    "start_time": "2024-02-06T16:27:41.625Z"
   },
   {
    "duration": 395,
    "start_time": "2024-02-07T08:50:51.728Z"
   },
   {
    "duration": 135,
    "start_time": "2024-02-07T08:50:52.124Z"
   },
   {
    "duration": 13,
    "start_time": "2024-02-07T08:50:52.260Z"
   },
   {
    "duration": 13,
    "start_time": "2024-02-07T08:50:52.275Z"
   },
   {
    "duration": 161,
    "start_time": "2024-02-07T08:50:52.289Z"
   },
   {
    "duration": 11,
    "start_time": "2024-02-07T08:50:52.451Z"
   },
   {
    "duration": 6,
    "start_time": "2024-02-07T08:50:52.463Z"
   },
   {
    "duration": 99,
    "start_time": "2024-02-07T08:50:52.471Z"
   },
   {
    "duration": 9,
    "start_time": "2024-02-07T08:50:52.572Z"
   },
   {
    "duration": 18,
    "start_time": "2024-02-07T08:50:52.583Z"
   },
   {
    "duration": 37,
    "start_time": "2024-02-07T08:50:52.603Z"
   },
   {
    "duration": 22,
    "start_time": "2024-02-07T08:50:52.642Z"
   },
   {
    "duration": 38,
    "start_time": "2024-02-07T08:50:52.666Z"
   },
   {
    "duration": 16,
    "start_time": "2024-02-07T08:50:52.706Z"
   },
   {
    "duration": 35,
    "start_time": "2024-02-07T08:50:52.724Z"
   },
   {
    "duration": 20,
    "start_time": "2024-02-07T08:50:52.761Z"
   },
   {
    "duration": 29,
    "start_time": "2024-02-07T08:50:52.782Z"
   },
   {
    "duration": 580,
    "start_time": "2024-02-07T08:50:52.812Z"
   },
   {
    "duration": 140,
    "start_time": "2024-02-07T08:50:53.394Z"
   },
   {
    "duration": 153,
    "start_time": "2024-02-07T08:50:53.536Z"
   },
   {
    "duration": 20,
    "start_time": "2024-02-07T08:50:53.690Z"
   },
   {
    "duration": 13,
    "start_time": "2024-02-07T08:50:53.712Z"
   },
   {
    "duration": 10,
    "start_time": "2024-02-07T08:50:53.726Z"
   },
   {
    "duration": 215,
    "start_time": "2024-02-07T08:50:53.737Z"
   },
   {
    "duration": 151,
    "start_time": "2024-02-07T08:50:53.953Z"
   },
   {
    "duration": 170,
    "start_time": "2024-02-07T08:50:54.106Z"
   },
   {
    "duration": 161,
    "start_time": "2024-02-07T08:50:54.277Z"
   },
   {
    "duration": 107,
    "start_time": "2024-02-07T08:53:55.763Z"
   },
   {
    "duration": 71,
    "start_time": "2024-02-07T08:54:40.287Z"
   },
   {
    "duration": 143,
    "start_time": "2024-02-07T08:55:37.962Z"
   },
   {
    "duration": 169,
    "start_time": "2024-02-07T08:56:38.753Z"
   },
   {
    "duration": 162,
    "start_time": "2024-02-07T08:56:49.400Z"
   },
   {
    "duration": 93,
    "start_time": "2024-02-07T09:07:40.251Z"
   },
   {
    "duration": 88,
    "start_time": "2024-02-07T09:09:08.923Z"
   },
   {
    "duration": 13,
    "start_time": "2024-02-07T09:10:45.560Z"
   },
   {
    "duration": 6,
    "start_time": "2024-02-07T09:11:15.895Z"
   },
   {
    "duration": 12,
    "start_time": "2024-02-07T09:15:06.701Z"
   },
   {
    "duration": 5,
    "start_time": "2024-02-07T09:23:35.940Z"
   },
   {
    "duration": 5,
    "start_time": "2024-02-07T09:23:36.791Z"
   },
   {
    "duration": 4,
    "start_time": "2024-02-07T09:23:37.286Z"
   },
   {
    "duration": 1125,
    "start_time": "2024-02-07T09:25:03.045Z"
   },
   {
    "duration": 19,
    "start_time": "2024-02-07T09:28:38.996Z"
   },
   {
    "duration": 454,
    "start_time": "2024-02-07T09:28:53.168Z"
   },
   {
    "duration": 112,
    "start_time": "2024-02-07T09:28:53.624Z"
   },
   {
    "duration": 12,
    "start_time": "2024-02-07T09:28:53.738Z"
   },
   {
    "duration": 8,
    "start_time": "2024-02-07T09:28:53.752Z"
   },
   {
    "duration": 401,
    "start_time": "2024-02-07T09:28:53.762Z"
   },
   {
    "duration": 12,
    "start_time": "2024-02-07T09:28:54.165Z"
   },
   {
    "duration": 5,
    "start_time": "2024-02-07T09:28:54.179Z"
   },
   {
    "duration": 128,
    "start_time": "2024-02-07T09:28:54.186Z"
   },
   {
    "duration": 9,
    "start_time": "2024-02-07T09:28:54.316Z"
   },
   {
    "duration": 8,
    "start_time": "2024-02-07T09:28:54.327Z"
   },
   {
    "duration": 13,
    "start_time": "2024-02-07T09:28:54.336Z"
   },
   {
    "duration": 5,
    "start_time": "2024-02-07T09:28:54.351Z"
   },
   {
    "duration": 5,
    "start_time": "2024-02-07T09:28:54.357Z"
   },
   {
    "duration": 5,
    "start_time": "2024-02-07T09:28:54.365Z"
   },
   {
    "duration": 9,
    "start_time": "2024-02-07T09:28:54.372Z"
   },
   {
    "duration": 7,
    "start_time": "2024-02-07T09:28:54.387Z"
   },
   {
    "duration": 14,
    "start_time": "2024-02-07T09:28:54.396Z"
   },
   {
    "duration": 12,
    "start_time": "2024-02-07T09:28:54.412Z"
   },
   {
    "duration": 22,
    "start_time": "2024-02-07T09:28:54.426Z"
   },
   {
    "duration": 17,
    "start_time": "2024-02-07T09:28:54.450Z"
   },
   {
    "duration": 428,
    "start_time": "2024-02-07T09:28:54.469Z"
   },
   {
    "duration": 146,
    "start_time": "2024-02-07T09:28:54.899Z"
   },
   {
    "duration": 143,
    "start_time": "2024-02-07T09:28:55.046Z"
   },
   {
    "duration": 9,
    "start_time": "2024-02-07T09:28:55.191Z"
   },
   {
    "duration": 24,
    "start_time": "2024-02-07T09:28:55.202Z"
   },
   {
    "duration": 16,
    "start_time": "2024-02-07T09:28:55.227Z"
   },
   {
    "duration": 10,
    "start_time": "2024-02-07T09:28:55.245Z"
   },
   {
    "duration": 170,
    "start_time": "2024-02-07T09:28:55.257Z"
   },
   {
    "duration": 216,
    "start_time": "2024-02-07T09:28:55.429Z"
   },
   {
    "duration": 164,
    "start_time": "2024-02-07T09:28:55.647Z"
   },
   {
    "duration": 147,
    "start_time": "2024-02-07T09:28:55.813Z"
   },
   {
    "duration": 8,
    "start_time": "2024-02-07T09:28:55.962Z"
   },
   {
    "duration": 80,
    "start_time": "2024-02-07T09:31:52.118Z"
   },
   {
    "duration": 10,
    "start_time": "2024-02-07T09:32:47.859Z"
   },
   {
    "duration": 9,
    "start_time": "2024-02-07T09:33:47.345Z"
   },
   {
    "duration": 4,
    "start_time": "2024-02-07T09:35:51.766Z"
   },
   {
    "duration": 11,
    "start_time": "2024-02-07T09:38:10.224Z"
   },
   {
    "duration": 9,
    "start_time": "2024-02-07T09:44:06.119Z"
   },
   {
    "duration": 9,
    "start_time": "2024-02-07T10:09:40.516Z"
   },
   {
    "duration": 11,
    "start_time": "2024-02-07T10:10:13.204Z"
   },
   {
    "duration": 4,
    "start_time": "2024-02-07T10:10:15.748Z"
   },
   {
    "duration": 3,
    "start_time": "2024-02-07T10:10:27.021Z"
   },
   {
    "duration": 6,
    "start_time": "2024-02-07T10:11:05.925Z"
   },
   {
    "duration": 6,
    "start_time": "2024-02-07T10:11:21.502Z"
   },
   {
    "duration": 3,
    "start_time": "2024-02-07T10:12:52.460Z"
   },
   {
    "duration": 6,
    "start_time": "2024-02-07T10:13:33.813Z"
   },
   {
    "duration": 1542,
    "start_time": "2024-02-07T10:13:57.612Z"
   },
   {
    "duration": 0,
    "start_time": "2024-02-07T10:13:59.156Z"
   },
   {
    "duration": 8,
    "start_time": "2024-02-07T10:14:59.996Z"
   },
   {
    "duration": 11,
    "start_time": "2024-02-07T10:15:25.106Z"
   },
   {
    "duration": 6,
    "start_time": "2024-02-07T10:15:29.387Z"
   },
   {
    "duration": 4,
    "start_time": "2024-02-07T10:16:22.407Z"
   },
   {
    "duration": 5,
    "start_time": "2024-02-07T10:16:36.875Z"
   },
   {
    "duration": 11,
    "start_time": "2024-02-07T10:17:38.261Z"
   },
   {
    "duration": 18,
    "start_time": "2024-02-07T10:28:41.489Z"
   },
   {
    "duration": 366,
    "start_time": "2024-02-07T10:29:08.218Z"
   },
   {
    "duration": 210,
    "start_time": "2024-02-07T10:29:08.586Z"
   },
   {
    "duration": 12,
    "start_time": "2024-02-07T10:29:08.797Z"
   },
   {
    "duration": 26,
    "start_time": "2024-02-07T10:29:08.811Z"
   },
   {
    "duration": 165,
    "start_time": "2024-02-07T10:29:08.840Z"
   },
   {
    "duration": 11,
    "start_time": "2024-02-07T10:29:09.006Z"
   },
   {
    "duration": 44,
    "start_time": "2024-02-07T10:29:09.019Z"
   },
   {
    "duration": 160,
    "start_time": "2024-02-07T10:29:09.065Z"
   },
   {
    "duration": 11,
    "start_time": "2024-02-07T10:29:09.227Z"
   },
   {
    "duration": 65,
    "start_time": "2024-02-07T10:29:09.240Z"
   },
   {
    "duration": 52,
    "start_time": "2024-02-07T10:29:09.307Z"
   },
   {
    "duration": 27,
    "start_time": "2024-02-07T10:29:09.361Z"
   },
   {
    "duration": 47,
    "start_time": "2024-02-07T10:29:09.389Z"
   },
   {
    "duration": 18,
    "start_time": "2024-02-07T10:29:09.440Z"
   },
   {
    "duration": 32,
    "start_time": "2024-02-07T10:29:09.459Z"
   },
   {
    "duration": 8,
    "start_time": "2024-02-07T10:29:09.493Z"
   },
   {
    "duration": 13,
    "start_time": "2024-02-07T10:29:09.502Z"
   },
   {
    "duration": 24,
    "start_time": "2024-02-07T10:29:09.516Z"
   },
   {
    "duration": 12,
    "start_time": "2024-02-07T10:29:09.541Z"
   },
   {
    "duration": 11,
    "start_time": "2024-02-07T10:29:09.554Z"
   },
   {
    "duration": 389,
    "start_time": "2024-02-07T10:29:09.566Z"
   },
   {
    "duration": 138,
    "start_time": "2024-02-07T10:29:09.956Z"
   },
   {
    "duration": 144,
    "start_time": "2024-02-07T10:29:10.095Z"
   },
   {
    "duration": 10,
    "start_time": "2024-02-07T10:29:10.240Z"
   },
   {
    "duration": 36,
    "start_time": "2024-02-07T10:29:10.251Z"
   },
   {
    "duration": 11,
    "start_time": "2024-02-07T10:29:10.289Z"
   },
   {
    "duration": 16,
    "start_time": "2024-02-07T10:29:10.301Z"
   },
   {
    "duration": 135,
    "start_time": "2024-02-07T10:29:10.319Z"
   },
   {
    "duration": 195,
    "start_time": "2024-02-07T10:29:10.456Z"
   },
   {
    "duration": 154,
    "start_time": "2024-02-07T10:29:10.652Z"
   },
   {
    "duration": 144,
    "start_time": "2024-02-07T10:29:10.808Z"
   },
   {
    "duration": 93,
    "start_time": "2024-02-07T10:29:10.953Z"
   },
   {
    "duration": 0,
    "start_time": "2024-02-07T10:29:11.048Z"
   },
   {
    "duration": 0,
    "start_time": "2024-02-07T10:29:11.049Z"
   },
   {
    "duration": 0,
    "start_time": "2024-02-07T10:29:11.050Z"
   },
   {
    "duration": 11,
    "start_time": "2024-02-07T10:29:29.904Z"
   },
   {
    "duration": 383,
    "start_time": "2024-02-07T10:29:45.548Z"
   },
   {
    "duration": 94,
    "start_time": "2024-02-07T10:29:45.933Z"
   },
   {
    "duration": 11,
    "start_time": "2024-02-07T10:29:46.029Z"
   },
   {
    "duration": 23,
    "start_time": "2024-02-07T10:29:46.041Z"
   },
   {
    "duration": 100,
    "start_time": "2024-02-07T10:29:46.065Z"
   },
   {
    "duration": 10,
    "start_time": "2024-02-07T10:29:46.166Z"
   },
   {
    "duration": 6,
    "start_time": "2024-02-07T10:29:46.177Z"
   },
   {
    "duration": 92,
    "start_time": "2024-02-07T10:29:46.184Z"
   },
   {
    "duration": 9,
    "start_time": "2024-02-07T10:29:46.277Z"
   },
   {
    "duration": 6,
    "start_time": "2024-02-07T10:29:46.288Z"
   },
   {
    "duration": 14,
    "start_time": "2024-02-07T10:29:46.295Z"
   },
   {
    "duration": 13,
    "start_time": "2024-02-07T10:29:46.310Z"
   },
   {
    "duration": 5,
    "start_time": "2024-02-07T10:29:46.325Z"
   },
   {
    "duration": 12,
    "start_time": "2024-02-07T10:29:46.332Z"
   },
   {
    "duration": 11,
    "start_time": "2024-02-07T10:29:46.346Z"
   },
   {
    "duration": 7,
    "start_time": "2024-02-07T10:29:46.358Z"
   },
   {
    "duration": 9,
    "start_time": "2024-02-07T10:29:46.366Z"
   },
   {
    "duration": 9,
    "start_time": "2024-02-07T10:29:46.387Z"
   },
   {
    "duration": 24,
    "start_time": "2024-02-07T10:29:46.397Z"
   },
   {
    "duration": 22,
    "start_time": "2024-02-07T10:29:46.423Z"
   },
   {
    "duration": 376,
    "start_time": "2024-02-07T10:29:46.446Z"
   },
   {
    "duration": 131,
    "start_time": "2024-02-07T10:29:46.823Z"
   },
   {
    "duration": 135,
    "start_time": "2024-02-07T10:29:46.956Z"
   },
   {
    "duration": 10,
    "start_time": "2024-02-07T10:29:47.093Z"
   },
   {
    "duration": 21,
    "start_time": "2024-02-07T10:29:47.104Z"
   },
   {
    "duration": 11,
    "start_time": "2024-02-07T10:29:47.126Z"
   },
   {
    "duration": 9,
    "start_time": "2024-02-07T10:29:47.139Z"
   },
   {
    "duration": 154,
    "start_time": "2024-02-07T10:29:47.151Z"
   },
   {
    "duration": 189,
    "start_time": "2024-02-07T10:29:47.306Z"
   },
   {
    "duration": 159,
    "start_time": "2024-02-07T10:29:47.496Z"
   },
   {
    "duration": 151,
    "start_time": "2024-02-07T10:29:47.656Z"
   },
   {
    "duration": 79,
    "start_time": "2024-02-07T10:29:47.808Z"
   },
   {
    "duration": 0,
    "start_time": "2024-02-07T10:29:47.889Z"
   },
   {
    "duration": 0,
    "start_time": "2024-02-07T10:29:47.890Z"
   },
   {
    "duration": 0,
    "start_time": "2024-02-07T10:29:47.891Z"
   },
   {
    "duration": 10,
    "start_time": "2024-02-07T10:30:21.769Z"
   },
   {
    "duration": 15,
    "start_time": "2024-02-07T10:30:29.150Z"
   },
   {
    "duration": 9,
    "start_time": "2024-02-07T10:30:47.209Z"
   },
   {
    "duration": 5,
    "start_time": "2024-02-07T10:43:07.472Z"
   },
   {
    "duration": 5,
    "start_time": "2024-02-07T10:44:01.535Z"
   },
   {
    "duration": 4,
    "start_time": "2024-02-07T10:45:08.682Z"
   },
   {
    "duration": 4,
    "start_time": "2024-02-07T10:45:11.188Z"
   },
   {
    "duration": 14,
    "start_time": "2024-02-07T10:45:25.006Z"
   },
   {
    "duration": 13,
    "start_time": "2024-02-07T10:48:46.351Z"
   },
   {
    "duration": 14,
    "start_time": "2024-02-07T10:49:28.156Z"
   },
   {
    "duration": 1578,
    "start_time": "2024-02-07T10:49:41.588Z"
   },
   {
    "duration": 18,
    "start_time": "2024-02-07T10:50:38.388Z"
   },
   {
    "duration": 23,
    "start_time": "2024-02-07T10:53:13.611Z"
   },
   {
    "duration": 15,
    "start_time": "2024-02-07T10:53:39.377Z"
   },
   {
    "duration": 15,
    "start_time": "2024-02-07T10:54:53.467Z"
   },
   {
    "duration": 3,
    "start_time": "2024-02-07T10:56:16.962Z"
   },
   {
    "duration": 10,
    "start_time": "2024-02-07T10:57:05.217Z"
   },
   {
    "duration": 19,
    "start_time": "2024-02-07T10:58:19.297Z"
   },
   {
    "duration": 1619,
    "start_time": "2024-02-07T10:59:42.529Z"
   },
   {
    "duration": 17,
    "start_time": "2024-02-07T10:59:56.042Z"
   },
   {
    "duration": 4,
    "start_time": "2024-02-07T10:59:58.385Z"
   },
   {
    "duration": 11,
    "start_time": "2024-02-07T11:00:45.977Z"
   },
   {
    "duration": 442,
    "start_time": "2024-02-07T11:02:45.066Z"
   },
   {
    "duration": 101,
    "start_time": "2024-02-07T11:02:45.509Z"
   },
   {
    "duration": 13,
    "start_time": "2024-02-07T11:02:45.611Z"
   },
   {
    "duration": 7,
    "start_time": "2024-02-07T11:02:45.626Z"
   },
   {
    "duration": 112,
    "start_time": "2024-02-07T11:02:45.635Z"
   },
   {
    "duration": 14,
    "start_time": "2024-02-07T11:02:45.749Z"
   },
   {
    "duration": 8,
    "start_time": "2024-02-07T11:02:45.765Z"
   },
   {
    "duration": 78,
    "start_time": "2024-02-07T11:02:45.775Z"
   },
   {
    "duration": 13,
    "start_time": "2024-02-07T11:02:45.855Z"
   },
   {
    "duration": 5,
    "start_time": "2024-02-07T11:02:45.872Z"
   },
   {
    "duration": 14,
    "start_time": "2024-02-07T11:02:45.879Z"
   },
   {
    "duration": 19,
    "start_time": "2024-02-07T11:02:45.894Z"
   },
   {
    "duration": 12,
    "start_time": "2024-02-07T11:02:45.914Z"
   },
   {
    "duration": 9,
    "start_time": "2024-02-07T11:02:45.928Z"
   },
   {
    "duration": 14,
    "start_time": "2024-02-07T11:02:45.938Z"
   },
   {
    "duration": 10,
    "start_time": "2024-02-07T11:02:45.954Z"
   },
   {
    "duration": 27,
    "start_time": "2024-02-07T11:02:45.966Z"
   },
   {
    "duration": 13,
    "start_time": "2024-02-07T11:02:45.995Z"
   },
   {
    "duration": 13,
    "start_time": "2024-02-07T11:02:46.010Z"
   },
   {
    "duration": 17,
    "start_time": "2024-02-07T11:02:46.024Z"
   },
   {
    "duration": 438,
    "start_time": "2024-02-07T11:02:46.043Z"
   },
   {
    "duration": 139,
    "start_time": "2024-02-07T11:02:46.487Z"
   },
   {
    "duration": 175,
    "start_time": "2024-02-07T11:02:46.627Z"
   },
   {
    "duration": 10,
    "start_time": "2024-02-07T11:02:46.804Z"
   },
   {
    "duration": 21,
    "start_time": "2024-02-07T11:02:46.816Z"
   },
   {
    "duration": 54,
    "start_time": "2024-02-07T11:02:46.838Z"
   },
   {
    "duration": 13,
    "start_time": "2024-02-07T11:02:46.894Z"
   },
   {
    "duration": 169,
    "start_time": "2024-02-07T11:02:46.911Z"
   },
   {
    "duration": 205,
    "start_time": "2024-02-07T11:02:47.082Z"
   },
   {
    "duration": 165,
    "start_time": "2024-02-07T11:02:47.289Z"
   },
   {
    "duration": 150,
    "start_time": "2024-02-07T11:02:47.456Z"
   },
   {
    "duration": 15,
    "start_time": "2024-02-07T11:02:47.607Z"
   },
   {
    "duration": 16,
    "start_time": "2024-02-07T11:02:47.623Z"
   },
   {
    "duration": 4,
    "start_time": "2024-02-07T11:02:47.641Z"
   },
   {
    "duration": 16,
    "start_time": "2024-02-07T11:02:47.647Z"
   },
   {
    "duration": 438,
    "start_time": "2024-02-07T11:04:59.066Z"
   },
   {
    "duration": 95,
    "start_time": "2024-02-07T11:04:59.506Z"
   },
   {
    "duration": 11,
    "start_time": "2024-02-07T11:04:59.603Z"
   },
   {
    "duration": 10,
    "start_time": "2024-02-07T11:04:59.617Z"
   },
   {
    "duration": 110,
    "start_time": "2024-02-07T11:04:59.628Z"
   },
   {
    "duration": 11,
    "start_time": "2024-02-07T11:04:59.740Z"
   },
   {
    "duration": 17,
    "start_time": "2024-02-07T11:04:59.753Z"
   },
   {
    "duration": 87,
    "start_time": "2024-02-07T11:04:59.771Z"
   },
   {
    "duration": 9,
    "start_time": "2024-02-07T11:04:59.860Z"
   },
   {
    "duration": 11,
    "start_time": "2024-02-07T11:04:59.872Z"
   },
   {
    "duration": 11,
    "start_time": "2024-02-07T11:04:59.884Z"
   },
   {
    "duration": 18,
    "start_time": "2024-02-07T11:04:59.896Z"
   },
   {
    "duration": 10,
    "start_time": "2024-02-07T11:04:59.915Z"
   },
   {
    "duration": 7,
    "start_time": "2024-02-07T11:04:59.927Z"
   },
   {
    "duration": 10,
    "start_time": "2024-02-07T11:04:59.935Z"
   },
   {
    "duration": 8,
    "start_time": "2024-02-07T11:04:59.946Z"
   },
   {
    "duration": 9,
    "start_time": "2024-02-07T11:04:59.955Z"
   },
   {
    "duration": 12,
    "start_time": "2024-02-07T11:04:59.965Z"
   },
   {
    "duration": 18,
    "start_time": "2024-02-07T11:04:59.987Z"
   },
   {
    "duration": 65,
    "start_time": "2024-02-07T11:05:00.007Z"
   },
   {
    "duration": 499,
    "start_time": "2024-02-07T11:05:00.073Z"
   },
   {
    "duration": 151,
    "start_time": "2024-02-07T11:05:00.574Z"
   },
   {
    "duration": 155,
    "start_time": "2024-02-07T11:05:00.727Z"
   },
   {
    "duration": 3,
    "start_time": "2024-02-07T11:05:00.887Z"
   },
   {
    "duration": 43,
    "start_time": "2024-02-07T11:05:00.891Z"
   },
   {
    "duration": 53,
    "start_time": "2024-02-07T11:05:00.936Z"
   },
   {
    "duration": 26,
    "start_time": "2024-02-07T11:05:00.991Z"
   },
   {
    "duration": 45,
    "start_time": "2024-02-07T11:05:01.020Z"
   },
   {
    "duration": 163,
    "start_time": "2024-02-07T11:05:01.067Z"
   },
   {
    "duration": 200,
    "start_time": "2024-02-07T11:05:01.232Z"
   },
   {
    "duration": 168,
    "start_time": "2024-02-07T11:05:01.434Z"
   },
   {
    "duration": 154,
    "start_time": "2024-02-07T11:05:01.604Z"
   },
   {
    "duration": 2,
    "start_time": "2024-02-07T11:05:01.760Z"
   },
   {
    "duration": 150,
    "start_time": "2024-02-07T11:05:01.764Z"
   },
   {
    "duration": 0,
    "start_time": "2024-02-07T11:05:01.915Z"
   },
   {
    "duration": 0,
    "start_time": "2024-02-07T11:05:01.917Z"
   },
   {
    "duration": 23,
    "start_time": "2024-02-07T11:07:10.261Z"
   },
   {
    "duration": 6,
    "start_time": "2024-02-07T11:07:15.151Z"
   },
   {
    "duration": 16,
    "start_time": "2024-02-07T11:07:17.446Z"
   },
   {
    "duration": 8,
    "start_time": "2024-02-07T11:21:19.460Z"
   },
   {
    "duration": 39,
    "start_time": "2024-02-07T11:27:21.132Z"
   },
   {
    "duration": 535,
    "start_time": "2024-02-07T11:27:40.653Z"
   },
   {
    "duration": 17,
    "start_time": "2024-02-07T11:32:13.572Z"
   },
   {
    "duration": 737,
    "start_time": "2024-02-07T11:32:55.884Z"
   },
   {
    "duration": 12,
    "start_time": "2024-02-07T11:33:10.411Z"
   },
   {
    "duration": 466,
    "start_time": "2024-02-07T11:34:43.163Z"
   },
   {
    "duration": 219,
    "start_time": "2024-02-07T11:34:43.631Z"
   },
   {
    "duration": 14,
    "start_time": "2024-02-07T11:34:43.851Z"
   },
   {
    "duration": 10,
    "start_time": "2024-02-07T11:34:43.867Z"
   },
   {
    "duration": 124,
    "start_time": "2024-02-07T11:34:43.880Z"
   },
   {
    "duration": 15,
    "start_time": "2024-02-07T11:34:44.006Z"
   },
   {
    "duration": 29,
    "start_time": "2024-02-07T11:34:44.023Z"
   },
   {
    "duration": 110,
    "start_time": "2024-02-07T11:34:44.054Z"
   },
   {
    "duration": 12,
    "start_time": "2024-02-07T11:34:44.165Z"
   },
   {
    "duration": 9,
    "start_time": "2024-02-07T11:34:44.178Z"
   },
   {
    "duration": 20,
    "start_time": "2024-02-07T11:34:44.189Z"
   },
   {
    "duration": 18,
    "start_time": "2024-02-07T11:34:44.211Z"
   },
   {
    "duration": 13,
    "start_time": "2024-02-07T11:34:44.231Z"
   },
   {
    "duration": 12,
    "start_time": "2024-02-07T11:34:44.248Z"
   },
   {
    "duration": 12,
    "start_time": "2024-02-07T11:34:44.262Z"
   },
   {
    "duration": 13,
    "start_time": "2024-02-07T11:34:44.276Z"
   },
   {
    "duration": 17,
    "start_time": "2024-02-07T11:34:44.290Z"
   },
   {
    "duration": 14,
    "start_time": "2024-02-07T11:34:44.309Z"
   },
   {
    "duration": 19,
    "start_time": "2024-02-07T11:34:44.325Z"
   },
   {
    "duration": 19,
    "start_time": "2024-02-07T11:34:44.346Z"
   },
   {
    "duration": 461,
    "start_time": "2024-02-07T11:34:44.366Z"
   },
   {
    "duration": 161,
    "start_time": "2024-02-07T11:34:44.829Z"
   },
   {
    "duration": 174,
    "start_time": "2024-02-07T11:34:44.992Z"
   },
   {
    "duration": 3,
    "start_time": "2024-02-07T11:34:45.168Z"
   },
   {
    "duration": 43,
    "start_time": "2024-02-07T11:34:45.172Z"
   },
   {
    "duration": 73,
    "start_time": "2024-02-07T11:34:45.217Z"
   },
   {
    "duration": 25,
    "start_time": "2024-02-07T11:34:45.292Z"
   },
   {
    "duration": 57,
    "start_time": "2024-02-07T11:34:45.319Z"
   },
   {
    "duration": 178,
    "start_time": "2024-02-07T11:34:45.378Z"
   },
   {
    "duration": 220,
    "start_time": "2024-02-07T11:34:45.558Z"
   },
   {
    "duration": 173,
    "start_time": "2024-02-07T11:34:45.786Z"
   },
   {
    "duration": 155,
    "start_time": "2024-02-07T11:34:45.961Z"
   },
   {
    "duration": 18,
    "start_time": "2024-02-07T11:34:46.117Z"
   },
   {
    "duration": 17,
    "start_time": "2024-02-07T11:34:46.137Z"
   },
   {
    "duration": 14,
    "start_time": "2024-02-07T11:34:46.156Z"
   },
   {
    "duration": 60,
    "start_time": "2024-02-07T11:34:46.188Z"
   },
   {
    "duration": 137,
    "start_time": "2024-02-07T11:34:46.251Z"
   },
   {
    "duration": 0,
    "start_time": "2024-02-07T11:34:46.390Z"
   },
   {
    "duration": 14,
    "start_time": "2024-02-07T11:39:13.964Z"
   },
   {
    "duration": 18,
    "start_time": "2024-02-07T11:40:13.813Z"
   },
   {
    "duration": 12,
    "start_time": "2024-02-07T11:41:42.659Z"
   },
   {
    "duration": 3,
    "start_time": "2024-02-07T11:43:53.021Z"
   },
   {
    "duration": 14,
    "start_time": "2024-02-07T11:45:45.947Z"
   },
   {
    "duration": 39,
    "start_time": "2024-02-07T11:46:19.784Z"
   },
   {
    "duration": 401,
    "start_time": "2024-02-07T11:48:18.354Z"
   },
   {
    "duration": 140,
    "start_time": "2024-02-07T11:48:18.757Z"
   },
   {
    "duration": 11,
    "start_time": "2024-02-07T11:48:18.898Z"
   },
   {
    "duration": 12,
    "start_time": "2024-02-07T11:48:18.910Z"
   },
   {
    "duration": 88,
    "start_time": "2024-02-07T11:48:18.924Z"
   },
   {
    "duration": 11,
    "start_time": "2024-02-07T11:48:19.014Z"
   },
   {
    "duration": 6,
    "start_time": "2024-02-07T11:48:19.026Z"
   },
   {
    "duration": 92,
    "start_time": "2024-02-07T11:48:19.033Z"
   },
   {
    "duration": 9,
    "start_time": "2024-02-07T11:48:19.127Z"
   },
   {
    "duration": 17,
    "start_time": "2024-02-07T11:48:19.138Z"
   },
   {
    "duration": 15,
    "start_time": "2024-02-07T11:48:19.156Z"
   },
   {
    "duration": 14,
    "start_time": "2024-02-07T11:48:19.173Z"
   },
   {
    "duration": 9,
    "start_time": "2024-02-07T11:48:19.189Z"
   },
   {
    "duration": 5,
    "start_time": "2024-02-07T11:48:19.202Z"
   },
   {
    "duration": 10,
    "start_time": "2024-02-07T11:48:19.208Z"
   },
   {
    "duration": 12,
    "start_time": "2024-02-07T11:48:19.219Z"
   },
   {
    "duration": 11,
    "start_time": "2024-02-07T11:48:19.233Z"
   },
   {
    "duration": 45,
    "start_time": "2024-02-07T11:48:19.246Z"
   },
   {
    "duration": 17,
    "start_time": "2024-02-07T11:48:19.293Z"
   },
   {
    "duration": 6,
    "start_time": "2024-02-07T11:48:19.311Z"
   },
   {
    "duration": 419,
    "start_time": "2024-02-07T11:48:19.319Z"
   },
   {
    "duration": 144,
    "start_time": "2024-02-07T11:48:19.740Z"
   },
   {
    "duration": 144,
    "start_time": "2024-02-07T11:48:19.888Z"
   },
   {
    "duration": 3,
    "start_time": "2024-02-07T11:48:20.034Z"
   },
   {
    "duration": 32,
    "start_time": "2024-02-07T11:48:20.039Z"
   },
   {
    "duration": 25,
    "start_time": "2024-02-07T11:48:20.073Z"
   },
   {
    "duration": 12,
    "start_time": "2024-02-07T11:48:20.100Z"
   },
   {
    "duration": 11,
    "start_time": "2024-02-07T11:48:20.114Z"
   },
   {
    "duration": 3,
    "start_time": "2024-02-07T11:48:20.126Z"
   },
   {
    "duration": 17,
    "start_time": "2024-02-07T11:48:20.130Z"
   },
   {
    "duration": 166,
    "start_time": "2024-02-07T11:48:20.149Z"
   },
   {
    "duration": 201,
    "start_time": "2024-02-07T11:48:20.317Z"
   },
   {
    "duration": 157,
    "start_time": "2024-02-07T11:48:20.519Z"
   },
   {
    "duration": 152,
    "start_time": "2024-02-07T11:48:20.677Z"
   },
   {
    "duration": 17,
    "start_time": "2024-02-07T11:48:20.830Z"
   },
   {
    "duration": 6,
    "start_time": "2024-02-07T11:48:20.848Z"
   },
   {
    "duration": 32,
    "start_time": "2024-02-07T11:48:20.856Z"
   },
   {
    "duration": 66,
    "start_time": "2024-02-07T11:48:20.889Z"
   },
   {
    "duration": 13,
    "start_time": "2024-02-07T11:48:57.434Z"
   },
   {
    "duration": 13,
    "start_time": "2024-02-07T12:02:06.248Z"
   },
   {
    "duration": 22,
    "start_time": "2024-02-07T12:02:48.280Z"
   },
   {
    "duration": 11,
    "start_time": "2024-02-07T12:06:52.001Z"
   },
   {
    "duration": 36,
    "start_time": "2024-02-07T12:07:23.056Z"
   },
   {
    "duration": 59,
    "start_time": "2024-02-07T12:08:07.231Z"
   },
   {
    "duration": 46,
    "start_time": "2024-02-07T12:12:39.724Z"
   },
   {
    "duration": 1905,
    "start_time": "2024-02-07T12:13:25.518Z"
   },
   {
    "duration": 683,
    "start_time": "2024-02-07T12:14:37.326Z"
   },
   {
    "duration": 451,
    "start_time": "2024-02-07T12:14:57.360Z"
   },
   {
    "duration": 92,
    "start_time": "2024-02-07T12:14:57.814Z"
   },
   {
    "duration": 13,
    "start_time": "2024-02-07T12:14:57.907Z"
   },
   {
    "duration": 7,
    "start_time": "2024-02-07T12:14:57.921Z"
   },
   {
    "duration": 123,
    "start_time": "2024-02-07T12:14:57.931Z"
   },
   {
    "duration": 13,
    "start_time": "2024-02-07T12:14:58.055Z"
   },
   {
    "duration": 19,
    "start_time": "2024-02-07T12:14:58.069Z"
   },
   {
    "duration": 105,
    "start_time": "2024-02-07T12:14:58.090Z"
   },
   {
    "duration": 11,
    "start_time": "2024-02-07T12:14:58.196Z"
   },
   {
    "duration": 25,
    "start_time": "2024-02-07T12:14:58.208Z"
   },
   {
    "duration": 24,
    "start_time": "2024-02-07T12:14:58.235Z"
   },
   {
    "duration": 18,
    "start_time": "2024-02-07T12:14:58.260Z"
   },
   {
    "duration": 11,
    "start_time": "2024-02-07T12:14:58.280Z"
   },
   {
    "duration": 17,
    "start_time": "2024-02-07T12:14:58.295Z"
   },
   {
    "duration": 20,
    "start_time": "2024-02-07T12:14:58.313Z"
   },
   {
    "duration": 21,
    "start_time": "2024-02-07T12:14:58.334Z"
   },
   {
    "duration": 9,
    "start_time": "2024-02-07T12:14:58.357Z"
   },
   {
    "duration": 16,
    "start_time": "2024-02-07T12:14:58.367Z"
   },
   {
    "duration": 17,
    "start_time": "2024-02-07T12:14:58.384Z"
   },
   {
    "duration": 17,
    "start_time": "2024-02-07T12:14:58.402Z"
   },
   {
    "duration": 429,
    "start_time": "2024-02-07T12:14:58.420Z"
   },
   {
    "duration": 148,
    "start_time": "2024-02-07T12:14:58.851Z"
   },
   {
    "duration": 158,
    "start_time": "2024-02-07T12:14:59.001Z"
   },
   {
    "duration": 4,
    "start_time": "2024-02-07T12:14:59.161Z"
   },
   {
    "duration": 24,
    "start_time": "2024-02-07T12:14:59.167Z"
   },
   {
    "duration": 31,
    "start_time": "2024-02-07T12:14:59.193Z"
   },
   {
    "duration": 14,
    "start_time": "2024-02-07T12:14:59.226Z"
   },
   {
    "duration": 21,
    "start_time": "2024-02-07T12:14:59.242Z"
   },
   {
    "duration": 23,
    "start_time": "2024-02-07T12:14:59.265Z"
   },
   {
    "duration": 15,
    "start_time": "2024-02-07T12:14:59.290Z"
   },
   {
    "duration": 170,
    "start_time": "2024-02-07T12:14:59.306Z"
   },
   {
    "duration": 221,
    "start_time": "2024-02-07T12:14:59.477Z"
   },
   {
    "duration": 177,
    "start_time": "2024-02-07T12:14:59.700Z"
   },
   {
    "duration": 151,
    "start_time": "2024-02-07T12:14:59.886Z"
   },
   {
    "duration": 19,
    "start_time": "2024-02-07T12:15:00.039Z"
   },
   {
    "duration": 38,
    "start_time": "2024-02-07T12:15:00.060Z"
   },
   {
    "duration": 41,
    "start_time": "2024-02-07T12:15:00.100Z"
   },
   {
    "duration": 30,
    "start_time": "2024-02-07T12:15:00.143Z"
   },
   {
    "duration": 86,
    "start_time": "2024-02-07T12:15:00.174Z"
   },
   {
    "duration": 76,
    "start_time": "2024-02-07T12:15:00.261Z"
   },
   {
    "duration": 165,
    "start_time": "2024-02-07T12:15:00.340Z"
   },
   {
    "duration": 0,
    "start_time": "2024-02-07T12:15:00.507Z"
   },
   {
    "duration": 14,
    "start_time": "2024-02-07T12:19:13.717Z"
   },
   {
    "duration": 989,
    "start_time": "2024-02-07T12:19:29.102Z"
   },
   {
    "duration": 524,
    "start_time": "2024-02-07T12:24:58.908Z"
   },
   {
    "duration": 5,
    "start_time": "2024-02-07T12:30:17.374Z"
   },
   {
    "duration": 15,
    "start_time": "2024-02-07T12:33:20.079Z"
   },
   {
    "duration": 6,
    "start_time": "2024-02-07T12:34:04.916Z"
   },
   {
    "duration": 469,
    "start_time": "2024-02-07T12:34:13.943Z"
   },
   {
    "duration": 13,
    "start_time": "2024-02-07T12:34:33.048Z"
   },
   {
    "duration": 445,
    "start_time": "2024-02-07T12:34:48.863Z"
   },
   {
    "duration": 136,
    "start_time": "2024-02-07T12:34:49.309Z"
   },
   {
    "duration": 11,
    "start_time": "2024-02-07T12:34:49.446Z"
   },
   {
    "duration": 7,
    "start_time": "2024-02-07T12:34:49.459Z"
   },
   {
    "duration": 193,
    "start_time": "2024-02-07T12:34:49.467Z"
   },
   {
    "duration": 12,
    "start_time": "2024-02-07T12:34:49.661Z"
   },
   {
    "duration": 7,
    "start_time": "2024-02-07T12:34:49.674Z"
   },
   {
    "duration": 114,
    "start_time": "2024-02-07T12:34:49.682Z"
   },
   {
    "duration": 14,
    "start_time": "2024-02-07T12:34:49.798Z"
   },
   {
    "duration": 7,
    "start_time": "2024-02-07T12:34:49.816Z"
   },
   {
    "duration": 10,
    "start_time": "2024-02-07T12:34:49.825Z"
   },
   {
    "duration": 5,
    "start_time": "2024-02-07T12:34:49.836Z"
   },
   {
    "duration": 8,
    "start_time": "2024-02-07T12:34:49.843Z"
   },
   {
    "duration": 14,
    "start_time": "2024-02-07T12:34:49.852Z"
   },
   {
    "duration": 12,
    "start_time": "2024-02-07T12:34:49.888Z"
   },
   {
    "duration": 8,
    "start_time": "2024-02-07T12:34:49.901Z"
   },
   {
    "duration": 9,
    "start_time": "2024-02-07T12:34:49.910Z"
   },
   {
    "duration": 11,
    "start_time": "2024-02-07T12:34:49.921Z"
   },
   {
    "duration": 12,
    "start_time": "2024-02-07T12:34:49.933Z"
   },
   {
    "duration": 42,
    "start_time": "2024-02-07T12:34:49.946Z"
   },
   {
    "duration": 429,
    "start_time": "2024-02-07T12:34:49.990Z"
   },
   {
    "duration": 156,
    "start_time": "2024-02-07T12:34:50.421Z"
   },
   {
    "duration": 156,
    "start_time": "2024-02-07T12:34:50.579Z"
   },
   {
    "duration": 3,
    "start_time": "2024-02-07T12:34:50.737Z"
   },
   {
    "duration": 16,
    "start_time": "2024-02-07T12:34:50.742Z"
   },
   {
    "duration": 38,
    "start_time": "2024-02-07T12:34:50.760Z"
   },
   {
    "duration": 17,
    "start_time": "2024-02-07T12:34:50.800Z"
   },
   {
    "duration": 29,
    "start_time": "2024-02-07T12:34:50.822Z"
   },
   {
    "duration": 24,
    "start_time": "2024-02-07T12:34:50.854Z"
   },
   {
    "duration": 21,
    "start_time": "2024-02-07T12:34:50.881Z"
   },
   {
    "duration": 184,
    "start_time": "2024-02-07T12:34:50.905Z"
   },
   {
    "duration": 220,
    "start_time": "2024-02-07T12:34:51.091Z"
   },
   {
    "duration": 177,
    "start_time": "2024-02-07T12:34:51.313Z"
   },
   {
    "duration": 162,
    "start_time": "2024-02-07T12:34:51.492Z"
   },
   {
    "duration": 17,
    "start_time": "2024-02-07T12:34:51.656Z"
   },
   {
    "duration": 5,
    "start_time": "2024-02-07T12:34:51.687Z"
   },
   {
    "duration": 26,
    "start_time": "2024-02-07T12:34:51.694Z"
   },
   {
    "duration": 26,
    "start_time": "2024-02-07T12:34:51.722Z"
   },
   {
    "duration": 32,
    "start_time": "2024-02-07T12:34:51.749Z"
   },
   {
    "duration": 47,
    "start_time": "2024-02-07T12:34:51.782Z"
   },
   {
    "duration": 41,
    "start_time": "2024-02-07T12:34:51.831Z"
   },
   {
    "duration": 82,
    "start_time": "2024-02-07T12:34:51.873Z"
   },
   {
    "duration": 0,
    "start_time": "2024-02-07T12:34:51.957Z"
   },
   {
    "duration": 7,
    "start_time": "2024-02-07T12:35:28.015Z"
   },
   {
    "duration": 514,
    "start_time": "2024-02-07T12:35:29.574Z"
   },
   {
    "duration": 12,
    "start_time": "2024-02-07T12:35:42.959Z"
   },
   {
    "duration": 36,
    "start_time": "2024-02-07T12:36:27.110Z"
   },
   {
    "duration": 11,
    "start_time": "2024-02-07T12:36:53.191Z"
   },
   {
    "duration": 13,
    "start_time": "2024-02-07T12:39:54.158Z"
   },
   {
    "duration": 20,
    "start_time": "2024-02-07T12:40:13.218Z"
   },
   {
    "duration": 13,
    "start_time": "2024-02-07T12:40:31.181Z"
   },
   {
    "duration": 9,
    "start_time": "2024-02-07T12:41:25.453Z"
   },
   {
    "duration": 405,
    "start_time": "2024-02-07T12:41:42.286Z"
   },
   {
    "duration": 87,
    "start_time": "2024-02-07T12:41:42.694Z"
   },
   {
    "duration": 10,
    "start_time": "2024-02-07T12:41:42.783Z"
   },
   {
    "duration": 10,
    "start_time": "2024-02-07T12:41:42.795Z"
   },
   {
    "duration": 113,
    "start_time": "2024-02-07T12:41:42.808Z"
   },
   {
    "duration": 11,
    "start_time": "2024-02-07T12:41:42.922Z"
   },
   {
    "duration": 11,
    "start_time": "2024-02-07T12:41:42.934Z"
   },
   {
    "duration": 100,
    "start_time": "2024-02-07T12:41:42.946Z"
   },
   {
    "duration": 10,
    "start_time": "2024-02-07T12:41:43.047Z"
   },
   {
    "duration": 8,
    "start_time": "2024-02-07T12:41:43.058Z"
   },
   {
    "duration": 7,
    "start_time": "2024-02-07T12:41:43.068Z"
   },
   {
    "duration": 4,
    "start_time": "2024-02-07T12:41:43.077Z"
   },
   {
    "duration": 5,
    "start_time": "2024-02-07T12:41:43.083Z"
   },
   {
    "duration": 4,
    "start_time": "2024-02-07T12:41:43.092Z"
   },
   {
    "duration": 10,
    "start_time": "2024-02-07T12:41:43.097Z"
   },
   {
    "duration": 14,
    "start_time": "2024-02-07T12:41:43.108Z"
   },
   {
    "duration": 7,
    "start_time": "2024-02-07T12:41:43.124Z"
   },
   {
    "duration": 9,
    "start_time": "2024-02-07T12:41:43.132Z"
   },
   {
    "duration": 9,
    "start_time": "2024-02-07T12:41:43.143Z"
   },
   {
    "duration": 5,
    "start_time": "2024-02-07T12:41:43.153Z"
   },
   {
    "duration": 410,
    "start_time": "2024-02-07T12:41:43.160Z"
   },
   {
    "duration": 143,
    "start_time": "2024-02-07T12:41:43.572Z"
   },
   {
    "duration": 166,
    "start_time": "2024-02-07T12:41:43.717Z"
   },
   {
    "duration": 4,
    "start_time": "2024-02-07T12:41:43.886Z"
   },
   {
    "duration": 15,
    "start_time": "2024-02-07T12:41:43.892Z"
   },
   {
    "duration": 41,
    "start_time": "2024-02-07T12:41:43.909Z"
   },
   {
    "duration": 14,
    "start_time": "2024-02-07T12:41:43.952Z"
   },
   {
    "duration": 32,
    "start_time": "2024-02-07T12:41:43.968Z"
   },
   {
    "duration": 6,
    "start_time": "2024-02-07T12:41:44.002Z"
   },
   {
    "duration": 17,
    "start_time": "2024-02-07T12:41:44.010Z"
   },
   {
    "duration": 134,
    "start_time": "2024-02-07T12:41:44.029Z"
   },
   {
    "duration": 205,
    "start_time": "2024-02-07T12:41:44.164Z"
   },
   {
    "duration": 185,
    "start_time": "2024-02-07T12:41:44.371Z"
   },
   {
    "duration": 147,
    "start_time": "2024-02-07T12:41:44.557Z"
   },
   {
    "duration": 17,
    "start_time": "2024-02-07T12:41:44.705Z"
   },
   {
    "duration": 4,
    "start_time": "2024-02-07T12:41:44.723Z"
   },
   {
    "duration": 18,
    "start_time": "2024-02-07T12:41:44.728Z"
   },
   {
    "duration": 11,
    "start_time": "2024-02-07T12:41:44.748Z"
   },
   {
    "duration": 30,
    "start_time": "2024-02-07T12:41:44.760Z"
   },
   {
    "duration": 13,
    "start_time": "2024-02-07T12:41:44.791Z"
   },
   {
    "duration": 42,
    "start_time": "2024-02-07T12:41:44.808Z"
   },
   {
    "duration": 94,
    "start_time": "2024-02-07T12:41:44.851Z"
   },
   {
    "duration": 0,
    "start_time": "2024-02-07T12:41:44.947Z"
   },
   {
    "duration": 4,
    "start_time": "2024-02-07T12:42:30.685Z"
   },
   {
    "duration": 7,
    "start_time": "2024-02-07T12:42:51.932Z"
   },
   {
    "duration": 433,
    "start_time": "2024-02-07T12:42:59.962Z"
   },
   {
    "duration": 82,
    "start_time": "2024-02-07T12:43:00.397Z"
   },
   {
    "duration": 22,
    "start_time": "2024-02-07T12:43:00.480Z"
   },
   {
    "duration": 54,
    "start_time": "2024-02-07T12:43:00.504Z"
   },
   {
    "duration": 143,
    "start_time": "2024-02-07T12:43:00.560Z"
   },
   {
    "duration": 12,
    "start_time": "2024-02-07T12:43:00.704Z"
   },
   {
    "duration": 45,
    "start_time": "2024-02-07T12:43:00.718Z"
   },
   {
    "duration": 115,
    "start_time": "2024-02-07T12:43:00.765Z"
   },
   {
    "duration": 10,
    "start_time": "2024-02-07T12:43:00.881Z"
   },
   {
    "duration": 73,
    "start_time": "2024-02-07T12:43:00.893Z"
   },
   {
    "duration": 64,
    "start_time": "2024-02-07T12:43:00.968Z"
   },
   {
    "duration": 57,
    "start_time": "2024-02-07T12:43:01.034Z"
   },
   {
    "duration": 43,
    "start_time": "2024-02-07T12:43:01.093Z"
   },
   {
    "duration": 64,
    "start_time": "2024-02-07T12:43:01.141Z"
   },
   {
    "duration": 61,
    "start_time": "2024-02-07T12:43:01.207Z"
   },
   {
    "duration": 62,
    "start_time": "2024-02-07T12:43:01.269Z"
   },
   {
    "duration": 82,
    "start_time": "2024-02-07T12:43:01.333Z"
   },
   {
    "duration": 67,
    "start_time": "2024-02-07T12:43:01.417Z"
   },
   {
    "duration": 40,
    "start_time": "2024-02-07T12:43:01.486Z"
   },
   {
    "duration": 30,
    "start_time": "2024-02-07T12:43:01.527Z"
   },
   {
    "duration": 500,
    "start_time": "2024-02-07T12:43:01.559Z"
   },
   {
    "duration": 147,
    "start_time": "2024-02-07T12:43:02.061Z"
   },
   {
    "duration": 151,
    "start_time": "2024-02-07T12:43:02.210Z"
   },
   {
    "duration": 3,
    "start_time": "2024-02-07T12:43:02.363Z"
   },
   {
    "duration": 78,
    "start_time": "2024-02-07T12:43:02.368Z"
   },
   {
    "duration": 59,
    "start_time": "2024-02-07T12:43:02.448Z"
   },
   {
    "duration": 45,
    "start_time": "2024-02-07T12:43:02.509Z"
   },
   {
    "duration": 42,
    "start_time": "2024-02-07T12:43:02.555Z"
   },
   {
    "duration": 39,
    "start_time": "2024-02-07T12:43:02.598Z"
   },
   {
    "duration": 43,
    "start_time": "2024-02-07T12:43:02.639Z"
   },
   {
    "duration": 167,
    "start_time": "2024-02-07T12:43:02.683Z"
   },
   {
    "duration": 205,
    "start_time": "2024-02-07T12:43:02.851Z"
   },
   {
    "duration": 168,
    "start_time": "2024-02-07T12:43:03.057Z"
   },
   {
    "duration": 145,
    "start_time": "2024-02-07T12:43:03.227Z"
   },
   {
    "duration": 29,
    "start_time": "2024-02-07T12:43:03.373Z"
   },
   {
    "duration": 4,
    "start_time": "2024-02-07T12:43:03.403Z"
   },
   {
    "duration": 23,
    "start_time": "2024-02-07T12:43:03.409Z"
   },
   {
    "duration": 19,
    "start_time": "2024-02-07T12:43:03.434Z"
   },
   {
    "duration": 11,
    "start_time": "2024-02-07T12:43:03.454Z"
   },
   {
    "duration": 28,
    "start_time": "2024-02-07T12:43:03.467Z"
   },
   {
    "duration": 51,
    "start_time": "2024-02-07T12:43:03.499Z"
   },
   {
    "duration": 83,
    "start_time": "2024-02-07T12:43:03.551Z"
   },
   {
    "duration": 0,
    "start_time": "2024-02-07T12:43:03.636Z"
   },
   {
    "duration": 9,
    "start_time": "2024-02-07T12:43:57.244Z"
   },
   {
    "duration": 9,
    "start_time": "2024-02-07T12:44:42.835Z"
   },
   {
    "duration": 9,
    "start_time": "2024-02-07T12:44:55.678Z"
   },
   {
    "duration": 11,
    "start_time": "2024-02-07T12:54:04.777Z"
   },
   {
    "duration": 11,
    "start_time": "2024-02-07T12:55:03.842Z"
   },
   {
    "duration": 8,
    "start_time": "2024-02-07T12:55:45.800Z"
   },
   {
    "duration": 10,
    "start_time": "2024-02-07T12:56:32.778Z"
   },
   {
    "duration": 7,
    "start_time": "2024-02-07T12:58:19.121Z"
   },
   {
    "duration": 8,
    "start_time": "2024-02-07T12:58:27.744Z"
   },
   {
    "duration": 9,
    "start_time": "2024-02-07T13:01:42.940Z"
   },
   {
    "duration": 10,
    "start_time": "2024-02-07T13:39:39.113Z"
   },
   {
    "duration": 8,
    "start_time": "2024-02-07T13:40:11.063Z"
   },
   {
    "duration": 8,
    "start_time": "2024-02-07T13:40:31.605Z"
   },
   {
    "duration": 385,
    "start_time": "2024-02-07T13:42:43.047Z"
   },
   {
    "duration": 120,
    "start_time": "2024-02-07T13:42:43.433Z"
   },
   {
    "duration": 11,
    "start_time": "2024-02-07T13:42:43.555Z"
   },
   {
    "duration": 18,
    "start_time": "2024-02-07T13:42:43.568Z"
   },
   {
    "duration": 165,
    "start_time": "2024-02-07T13:42:43.588Z"
   },
   {
    "duration": 10,
    "start_time": "2024-02-07T13:42:43.755Z"
   },
   {
    "duration": 19,
    "start_time": "2024-02-07T13:42:43.767Z"
   },
   {
    "duration": 144,
    "start_time": "2024-02-07T13:42:43.788Z"
   },
   {
    "duration": 11,
    "start_time": "2024-02-07T13:42:43.933Z"
   },
   {
    "duration": 23,
    "start_time": "2024-02-07T13:42:43.946Z"
   },
   {
    "duration": 10,
    "start_time": "2024-02-07T13:42:43.971Z"
   },
   {
    "duration": 11,
    "start_time": "2024-02-07T13:42:43.983Z"
   },
   {
    "duration": 19,
    "start_time": "2024-02-07T13:42:43.996Z"
   },
   {
    "duration": 16,
    "start_time": "2024-02-07T13:42:44.017Z"
   },
   {
    "duration": 19,
    "start_time": "2024-02-07T13:42:44.034Z"
   },
   {
    "duration": 8,
    "start_time": "2024-02-07T13:42:44.055Z"
   },
   {
    "duration": 18,
    "start_time": "2024-02-07T13:42:44.064Z"
   },
   {
    "duration": 12,
    "start_time": "2024-02-07T13:42:44.084Z"
   },
   {
    "duration": 7,
    "start_time": "2024-02-07T13:42:44.098Z"
   },
   {
    "duration": 25,
    "start_time": "2024-02-07T13:42:44.107Z"
   },
   {
    "duration": 448,
    "start_time": "2024-02-07T13:42:44.134Z"
   },
   {
    "duration": 143,
    "start_time": "2024-02-07T13:42:44.584Z"
   },
   {
    "duration": 148,
    "start_time": "2024-02-07T13:42:44.728Z"
   },
   {
    "duration": 3,
    "start_time": "2024-02-07T13:42:44.878Z"
   },
   {
    "duration": 17,
    "start_time": "2024-02-07T13:42:44.888Z"
   },
   {
    "duration": 26,
    "start_time": "2024-02-07T13:42:44.906Z"
   },
   {
    "duration": 13,
    "start_time": "2024-02-07T13:42:44.933Z"
   },
   {
    "duration": 11,
    "start_time": "2024-02-07T13:42:44.948Z"
   },
   {
    "duration": 161,
    "start_time": "2024-02-07T13:42:44.960Z"
   },
   {
    "duration": 208,
    "start_time": "2024-02-07T13:42:45.123Z"
   },
   {
    "duration": 161,
    "start_time": "2024-02-07T13:42:45.333Z"
   },
   {
    "duration": 151,
    "start_time": "2024-02-07T13:42:45.495Z"
   },
   {
    "duration": 17,
    "start_time": "2024-02-07T13:42:45.648Z"
   },
   {
    "duration": 5,
    "start_time": "2024-02-07T13:42:45.666Z"
   },
   {
    "duration": 27,
    "start_time": "2024-02-07T13:42:45.672Z"
   },
   {
    "duration": 15,
    "start_time": "2024-02-07T13:42:45.700Z"
   },
   {
    "duration": 82,
    "start_time": "2024-02-07T13:42:45.717Z"
   },
   {
    "duration": 5,
    "start_time": "2024-02-07T14:14:36.950Z"
   },
   {
    "duration": 8,
    "start_time": "2024-02-07T14:15:01.244Z"
   },
   {
    "duration": 7,
    "start_time": "2024-02-07T14:18:36.562Z"
   },
   {
    "duration": 15,
    "start_time": "2024-02-07T14:18:53.230Z"
   },
   {
    "duration": 1597,
    "start_time": "2024-02-07T14:22:58.267Z"
   },
   {
    "duration": 1552,
    "start_time": "2024-02-07T14:23:58.443Z"
   },
   {
    "duration": 5,
    "start_time": "2024-02-07T14:25:07.907Z"
   },
   {
    "duration": 9,
    "start_time": "2024-02-07T14:25:34.988Z"
   },
   {
    "duration": 13,
    "start_time": "2024-02-07T14:30:11.940Z"
   },
   {
    "duration": 14,
    "start_time": "2024-02-07T14:34:19.908Z"
   },
   {
    "duration": 9,
    "start_time": "2024-02-07T14:34:31.883Z"
   },
   {
    "duration": 11,
    "start_time": "2024-02-07T14:35:17.076Z"
   },
   {
    "duration": 12,
    "start_time": "2024-02-07T14:36:04.532Z"
   },
   {
    "duration": 11,
    "start_time": "2024-02-07T14:36:15.123Z"
   },
   {
    "duration": 16,
    "start_time": "2024-02-07T14:36:20.186Z"
   },
   {
    "duration": 12,
    "start_time": "2024-02-07T14:36:40.988Z"
   },
   {
    "duration": 16,
    "start_time": "2024-02-07T14:36:46.659Z"
   },
   {
    "duration": 405,
    "start_time": "2024-02-07T14:36:52.396Z"
   },
   {
    "duration": 90,
    "start_time": "2024-02-07T14:36:52.803Z"
   },
   {
    "duration": 12,
    "start_time": "2024-02-07T14:36:52.895Z"
   },
   {
    "duration": 26,
    "start_time": "2024-02-07T14:36:52.909Z"
   },
   {
    "duration": 117,
    "start_time": "2024-02-07T14:36:52.937Z"
   },
   {
    "duration": 11,
    "start_time": "2024-02-07T14:36:53.055Z"
   },
   {
    "duration": 6,
    "start_time": "2024-02-07T14:36:53.067Z"
   },
   {
    "duration": 87,
    "start_time": "2024-02-07T14:36:53.074Z"
   },
   {
    "duration": 10,
    "start_time": "2024-02-07T14:36:53.163Z"
   },
   {
    "duration": 7,
    "start_time": "2024-02-07T14:36:53.175Z"
   },
   {
    "duration": 10,
    "start_time": "2024-02-07T14:36:53.184Z"
   },
   {
    "duration": 5,
    "start_time": "2024-02-07T14:36:53.196Z"
   },
   {
    "duration": 7,
    "start_time": "2024-02-07T14:36:53.203Z"
   },
   {
    "duration": 4,
    "start_time": "2024-02-07T14:36:53.215Z"
   },
   {
    "duration": 10,
    "start_time": "2024-02-07T14:36:53.221Z"
   },
   {
    "duration": 8,
    "start_time": "2024-02-07T14:36:53.233Z"
   },
   {
    "duration": 25,
    "start_time": "2024-02-07T14:36:53.243Z"
   },
   {
    "duration": 26,
    "start_time": "2024-02-07T14:36:53.270Z"
   },
   {
    "duration": 21,
    "start_time": "2024-02-07T14:36:53.298Z"
   },
   {
    "duration": 11,
    "start_time": "2024-02-07T14:36:53.320Z"
   },
   {
    "duration": 408,
    "start_time": "2024-02-07T14:36:53.333Z"
   },
   {
    "duration": 153,
    "start_time": "2024-02-07T14:36:53.742Z"
   },
   {
    "duration": 157,
    "start_time": "2024-02-07T14:36:53.897Z"
   },
   {
    "duration": 3,
    "start_time": "2024-02-07T14:36:54.056Z"
   },
   {
    "duration": 13,
    "start_time": "2024-02-07T14:36:54.060Z"
   },
   {
    "duration": 22,
    "start_time": "2024-02-07T14:36:54.087Z"
   },
   {
    "duration": 13,
    "start_time": "2024-02-07T14:36:54.111Z"
   },
   {
    "duration": 11,
    "start_time": "2024-02-07T14:36:54.126Z"
   },
   {
    "duration": 167,
    "start_time": "2024-02-07T14:36:54.138Z"
   },
   {
    "duration": 240,
    "start_time": "2024-02-07T14:36:54.307Z"
   },
   {
    "duration": 170,
    "start_time": "2024-02-07T14:36:54.549Z"
   },
   {
    "duration": 151,
    "start_time": "2024-02-07T14:36:54.721Z"
   },
   {
    "duration": 25,
    "start_time": "2024-02-07T14:36:54.874Z"
   },
   {
    "duration": 4,
    "start_time": "2024-02-07T14:36:54.901Z"
   },
   {
    "duration": 16,
    "start_time": "2024-02-07T14:36:54.906Z"
   },
   {
    "duration": 6,
    "start_time": "2024-02-07T14:36:54.924Z"
   },
   {
    "duration": 10,
    "start_time": "2024-02-07T14:36:54.932Z"
   },
   {
    "duration": 1708,
    "start_time": "2024-02-07T14:36:54.945Z"
   },
   {
    "duration": 0,
    "start_time": "2024-02-07T14:36:56.655Z"
   },
   {
    "duration": 11,
    "start_time": "2024-02-07T14:37:41.955Z"
   },
   {
    "duration": 12,
    "start_time": "2024-02-07T14:39:29.507Z"
   },
   {
    "duration": 10,
    "start_time": "2024-02-07T14:40:24.957Z"
   },
   {
    "duration": 6,
    "start_time": "2024-02-07T14:40:26.443Z"
   },
   {
    "duration": 427,
    "start_time": "2024-02-07T14:40:58.076Z"
   },
   {
    "duration": 84,
    "start_time": "2024-02-07T14:40:58.505Z"
   },
   {
    "duration": 12,
    "start_time": "2024-02-07T14:40:58.590Z"
   },
   {
    "duration": 10,
    "start_time": "2024-02-07T14:40:58.604Z"
   },
   {
    "duration": 127,
    "start_time": "2024-02-07T14:40:58.616Z"
   },
   {
    "duration": 12,
    "start_time": "2024-02-07T14:40:58.745Z"
   },
   {
    "duration": 7,
    "start_time": "2024-02-07T14:40:58.759Z"
   },
   {
    "duration": 86,
    "start_time": "2024-02-07T14:40:58.768Z"
   },
   {
    "duration": 11,
    "start_time": "2024-02-07T14:40:58.856Z"
   },
   {
    "duration": 6,
    "start_time": "2024-02-07T14:40:58.869Z"
   },
   {
    "duration": 21,
    "start_time": "2024-02-07T14:40:58.877Z"
   },
   {
    "duration": 5,
    "start_time": "2024-02-07T14:40:58.900Z"
   },
   {
    "duration": 15,
    "start_time": "2024-02-07T14:40:58.907Z"
   },
   {
    "duration": 5,
    "start_time": "2024-02-07T14:40:58.926Z"
   },
   {
    "duration": 11,
    "start_time": "2024-02-07T14:40:58.932Z"
   },
   {
    "duration": 9,
    "start_time": "2024-02-07T14:40:58.944Z"
   },
   {
    "duration": 9,
    "start_time": "2024-02-07T14:40:58.955Z"
   },
   {
    "duration": 32,
    "start_time": "2024-02-07T14:40:58.966Z"
   },
   {
    "duration": 13,
    "start_time": "2024-02-07T14:40:59.000Z"
   },
   {
    "duration": 6,
    "start_time": "2024-02-07T14:40:59.015Z"
   },
   {
    "duration": 410,
    "start_time": "2024-02-07T14:40:59.022Z"
   },
   {
    "duration": 143,
    "start_time": "2024-02-07T14:40:59.433Z"
   },
   {
    "duration": 149,
    "start_time": "2024-02-07T14:40:59.578Z"
   },
   {
    "duration": 3,
    "start_time": "2024-02-07T14:40:59.729Z"
   },
   {
    "duration": 23,
    "start_time": "2024-02-07T14:40:59.733Z"
   },
   {
    "duration": 43,
    "start_time": "2024-02-07T14:40:59.757Z"
   },
   {
    "duration": 14,
    "start_time": "2024-02-07T14:40:59.802Z"
   },
   {
    "duration": 10,
    "start_time": "2024-02-07T14:40:59.818Z"
   },
   {
    "duration": 161,
    "start_time": "2024-02-07T14:40:59.830Z"
   },
   {
    "duration": 217,
    "start_time": "2024-02-07T14:40:59.992Z"
   },
   {
    "duration": 178,
    "start_time": "2024-02-07T14:41:00.211Z"
   },
   {
    "duration": 161,
    "start_time": "2024-02-07T14:41:00.391Z"
   },
   {
    "duration": 18,
    "start_time": "2024-02-07T14:41:00.553Z"
   },
   {
    "duration": 37,
    "start_time": "2024-02-07T14:41:00.573Z"
   },
   {
    "duration": 66,
    "start_time": "2024-02-07T14:41:00.611Z"
   },
   {
    "duration": 39,
    "start_time": "2024-02-07T14:41:00.679Z"
   },
   {
    "duration": 30,
    "start_time": "2024-02-07T14:41:00.719Z"
   },
   {
    "duration": 30,
    "start_time": "2024-02-07T14:41:00.750Z"
   },
   {
    "duration": 57,
    "start_time": "2024-02-07T14:41:00.782Z"
   },
   {
    "duration": 378,
    "start_time": "2024-02-07T14:44:29.439Z"
   },
   {
    "duration": 119,
    "start_time": "2024-02-07T14:44:29.819Z"
   },
   {
    "duration": 12,
    "start_time": "2024-02-07T14:44:29.940Z"
   },
   {
    "duration": 8,
    "start_time": "2024-02-07T14:44:29.953Z"
   },
   {
    "duration": 179,
    "start_time": "2024-02-07T14:44:29.963Z"
   },
   {
    "duration": 13,
    "start_time": "2024-02-07T14:44:30.143Z"
   },
   {
    "duration": 201,
    "start_time": "2024-02-07T14:44:30.157Z"
   },
   {
    "duration": 308,
    "start_time": "2024-02-07T14:44:30.360Z"
   },
   {
    "duration": 10,
    "start_time": "2024-02-07T14:44:30.670Z"
   },
   {
    "duration": 113,
    "start_time": "2024-02-07T14:44:30.682Z"
   },
   {
    "duration": 83,
    "start_time": "2024-02-07T14:44:30.797Z"
   },
   {
    "duration": 158,
    "start_time": "2024-02-07T14:44:30.881Z"
   },
   {
    "duration": 39,
    "start_time": "2024-02-07T14:44:31.041Z"
   },
   {
    "duration": 38,
    "start_time": "2024-02-07T14:44:31.084Z"
   },
   {
    "duration": 52,
    "start_time": "2024-02-07T14:44:31.124Z"
   },
   {
    "duration": 59,
    "start_time": "2024-02-07T14:44:31.177Z"
   },
   {
    "duration": 58,
    "start_time": "2024-02-07T14:44:31.238Z"
   },
   {
    "duration": 65,
    "start_time": "2024-02-07T14:44:31.297Z"
   },
   {
    "duration": 56,
    "start_time": "2024-02-07T14:44:31.363Z"
   },
   {
    "duration": 127,
    "start_time": "2024-02-07T14:44:31.421Z"
   },
   {
    "duration": 453,
    "start_time": "2024-02-07T14:44:31.549Z"
   },
   {
    "duration": 151,
    "start_time": "2024-02-07T14:44:32.004Z"
   },
   {
    "duration": 159,
    "start_time": "2024-02-07T14:44:32.157Z"
   },
   {
    "duration": 3,
    "start_time": "2024-02-07T14:44:32.318Z"
   },
   {
    "duration": 75,
    "start_time": "2024-02-07T14:44:32.323Z"
   },
   {
    "duration": 75,
    "start_time": "2024-02-07T14:44:32.400Z"
   },
   {
    "duration": 27,
    "start_time": "2024-02-07T14:44:32.477Z"
   },
   {
    "duration": 26,
    "start_time": "2024-02-07T14:44:32.506Z"
   },
   {
    "duration": 158,
    "start_time": "2024-02-07T14:44:32.534Z"
   },
   {
    "duration": 202,
    "start_time": "2024-02-07T14:44:32.693Z"
   },
   {
    "duration": 167,
    "start_time": "2024-02-07T14:44:32.897Z"
   },
   {
    "duration": 153,
    "start_time": "2024-02-07T14:44:33.065Z"
   },
   {
    "duration": 24,
    "start_time": "2024-02-07T14:44:33.219Z"
   },
   {
    "duration": 5,
    "start_time": "2024-02-07T14:44:33.246Z"
   },
   {
    "duration": 29,
    "start_time": "2024-02-07T14:44:33.258Z"
   },
   {
    "duration": 8,
    "start_time": "2024-02-07T14:44:33.289Z"
   },
   {
    "duration": 15,
    "start_time": "2024-02-07T14:44:33.299Z"
   },
   {
    "duration": 15,
    "start_time": "2024-02-07T14:44:33.316Z"
   },
   {
    "duration": 37,
    "start_time": "2024-02-07T14:44:33.333Z"
   },
   {
    "duration": 12,
    "start_time": "2024-02-07T14:47:12.287Z"
   },
   {
    "duration": 13,
    "start_time": "2024-02-07T14:47:15.045Z"
   },
   {
    "duration": 11,
    "start_time": "2024-02-07T14:49:38.039Z"
   },
   {
    "duration": 467,
    "start_time": "2024-02-07T14:49:51.476Z"
   },
   {
    "duration": 106,
    "start_time": "2024-02-07T14:49:51.945Z"
   },
   {
    "duration": 17,
    "start_time": "2024-02-07T14:49:52.053Z"
   },
   {
    "duration": 21,
    "start_time": "2024-02-07T14:49:52.073Z"
   },
   {
    "duration": 134,
    "start_time": "2024-02-07T14:49:52.097Z"
   },
   {
    "duration": 12,
    "start_time": "2024-02-07T14:49:52.233Z"
   },
   {
    "duration": 9,
    "start_time": "2024-02-07T14:49:52.247Z"
   },
   {
    "duration": 91,
    "start_time": "2024-02-07T14:49:52.258Z"
   },
   {
    "duration": 11,
    "start_time": "2024-02-07T14:49:52.351Z"
   },
   {
    "duration": 18,
    "start_time": "2024-02-07T14:49:52.363Z"
   },
   {
    "duration": 24,
    "start_time": "2024-02-07T14:49:52.383Z"
   },
   {
    "duration": 27,
    "start_time": "2024-02-07T14:49:52.409Z"
   },
   {
    "duration": 8,
    "start_time": "2024-02-07T14:49:52.437Z"
   },
   {
    "duration": 4,
    "start_time": "2024-02-07T14:49:52.450Z"
   },
   {
    "duration": 14,
    "start_time": "2024-02-07T14:49:52.456Z"
   },
   {
    "duration": 9,
    "start_time": "2024-02-07T14:49:52.471Z"
   },
   {
    "duration": 36,
    "start_time": "2024-02-07T14:49:52.482Z"
   },
   {
    "duration": 14,
    "start_time": "2024-02-07T14:49:52.521Z"
   },
   {
    "duration": 13,
    "start_time": "2024-02-07T14:49:52.537Z"
   },
   {
    "duration": 12,
    "start_time": "2024-02-07T14:49:52.552Z"
   },
   {
    "duration": 469,
    "start_time": "2024-02-07T14:49:52.566Z"
   },
   {
    "duration": 160,
    "start_time": "2024-02-07T14:49:53.036Z"
   },
   {
    "duration": 165,
    "start_time": "2024-02-07T14:49:53.199Z"
   },
   {
    "duration": 4,
    "start_time": "2024-02-07T14:49:53.366Z"
   },
   {
    "duration": 35,
    "start_time": "2024-02-07T14:49:53.371Z"
   },
   {
    "duration": 38,
    "start_time": "2024-02-07T14:49:53.408Z"
   },
   {
    "duration": 15,
    "start_time": "2024-02-07T14:49:53.448Z"
   },
   {
    "duration": 44,
    "start_time": "2024-02-07T14:49:53.464Z"
   },
   {
    "duration": 147,
    "start_time": "2024-02-07T14:49:53.509Z"
   },
   {
    "duration": 256,
    "start_time": "2024-02-07T14:49:53.657Z"
   },
   {
    "duration": 209,
    "start_time": "2024-02-07T14:49:53.915Z"
   },
   {
    "duration": 182,
    "start_time": "2024-02-07T14:49:54.126Z"
   },
   {
    "duration": 18,
    "start_time": "2024-02-07T14:49:54.309Z"
   },
   {
    "duration": 13,
    "start_time": "2024-02-07T14:49:54.329Z"
   },
   {
    "duration": 33,
    "start_time": "2024-02-07T14:49:54.344Z"
   },
   {
    "duration": 21,
    "start_time": "2024-02-07T14:49:54.378Z"
   },
   {
    "duration": 40,
    "start_time": "2024-02-07T14:49:54.402Z"
   },
   {
    "duration": 51,
    "start_time": "2024-02-07T14:49:54.444Z"
   },
   {
    "duration": 35,
    "start_time": "2024-02-07T14:49:54.497Z"
   },
   {
    "duration": 13,
    "start_time": "2024-02-07T14:49:54.535Z"
   },
   {
    "duration": 9,
    "start_time": "2024-02-07T14:49:54.552Z"
   },
   {
    "duration": 431,
    "start_time": "2024-02-07T14:54:25.472Z"
   },
   {
    "duration": 104,
    "start_time": "2024-02-07T14:54:25.905Z"
   },
   {
    "duration": 12,
    "start_time": "2024-02-07T14:54:26.010Z"
   },
   {
    "duration": 6,
    "start_time": "2024-02-07T14:54:26.025Z"
   },
   {
    "duration": 122,
    "start_time": "2024-02-07T14:54:26.033Z"
   },
   {
    "duration": 13,
    "start_time": "2024-02-07T14:54:26.157Z"
   },
   {
    "duration": 7,
    "start_time": "2024-02-07T14:54:26.171Z"
   },
   {
    "duration": 92,
    "start_time": "2024-02-07T14:54:26.180Z"
   },
   {
    "duration": 11,
    "start_time": "2024-02-07T14:54:26.274Z"
   },
   {
    "duration": 7,
    "start_time": "2024-02-07T14:54:26.288Z"
   },
   {
    "duration": 13,
    "start_time": "2024-02-07T14:54:26.297Z"
   },
   {
    "duration": 8,
    "start_time": "2024-02-07T14:54:26.312Z"
   },
   {
    "duration": 6,
    "start_time": "2024-02-07T14:54:26.321Z"
   },
   {
    "duration": 5,
    "start_time": "2024-02-07T14:54:26.328Z"
   },
   {
    "duration": 15,
    "start_time": "2024-02-07T14:54:26.334Z"
   },
   {
    "duration": 42,
    "start_time": "2024-02-07T14:54:26.351Z"
   },
   {
    "duration": 12,
    "start_time": "2024-02-07T14:54:26.396Z"
   },
   {
    "duration": 11,
    "start_time": "2024-02-07T14:54:26.409Z"
   },
   {
    "duration": 12,
    "start_time": "2024-02-07T14:54:26.421Z"
   },
   {
    "duration": 13,
    "start_time": "2024-02-07T14:54:26.434Z"
   },
   {
    "duration": 464,
    "start_time": "2024-02-07T14:54:26.448Z"
   },
   {
    "duration": 158,
    "start_time": "2024-02-07T14:54:26.913Z"
   },
   {
    "duration": 167,
    "start_time": "2024-02-07T14:54:27.072Z"
   },
   {
    "duration": 4,
    "start_time": "2024-02-07T14:54:27.240Z"
   },
   {
    "duration": 18,
    "start_time": "2024-02-07T14:54:27.245Z"
   },
   {
    "duration": 46,
    "start_time": "2024-02-07T14:54:27.265Z"
   },
   {
    "duration": 13,
    "start_time": "2024-02-07T14:54:27.313Z"
   },
   {
    "duration": 21,
    "start_time": "2024-02-07T14:54:27.330Z"
   },
   {
    "duration": 151,
    "start_time": "2024-02-07T14:54:27.352Z"
   },
   {
    "duration": 223,
    "start_time": "2024-02-07T14:54:27.505Z"
   },
   {
    "duration": 175,
    "start_time": "2024-02-07T14:54:27.729Z"
   },
   {
    "duration": 154,
    "start_time": "2024-02-07T14:54:27.905Z"
   },
   {
    "duration": 31,
    "start_time": "2024-02-07T14:54:28.061Z"
   },
   {
    "duration": 6,
    "start_time": "2024-02-07T14:54:28.095Z"
   },
   {
    "duration": 17,
    "start_time": "2024-02-07T14:54:28.103Z"
   },
   {
    "duration": 15,
    "start_time": "2024-02-07T14:54:28.123Z"
   },
   {
    "duration": 7,
    "start_time": "2024-02-07T14:54:28.141Z"
   },
   {
    "duration": 19,
    "start_time": "2024-02-07T14:54:28.150Z"
   },
   {
    "duration": 14,
    "start_time": "2024-02-07T14:54:28.187Z"
   },
   {
    "duration": 10,
    "start_time": "2024-02-07T14:54:28.204Z"
   },
   {
    "duration": 10,
    "start_time": "2024-02-07T14:54:28.216Z"
   },
   {
    "duration": 79,
    "start_time": "2024-02-07T15:34:09.783Z"
   },
   {
    "duration": 371,
    "start_time": "2024-02-07T15:35:10.348Z"
   },
   {
    "duration": 88,
    "start_time": "2024-02-07T15:35:10.721Z"
   },
   {
    "duration": 11,
    "start_time": "2024-02-07T15:35:10.810Z"
   },
   {
    "duration": 7,
    "start_time": "2024-02-07T15:35:10.822Z"
   },
   {
    "duration": 103,
    "start_time": "2024-02-07T15:35:10.831Z"
   },
   {
    "duration": 11,
    "start_time": "2024-02-07T15:35:10.935Z"
   },
   {
    "duration": 7,
    "start_time": "2024-02-07T15:35:10.948Z"
   },
   {
    "duration": 76,
    "start_time": "2024-02-07T15:35:10.957Z"
   },
   {
    "duration": 9,
    "start_time": "2024-02-07T15:35:11.035Z"
   },
   {
    "duration": 16,
    "start_time": "2024-02-07T15:35:11.046Z"
   },
   {
    "duration": 10,
    "start_time": "2024-02-07T15:35:11.064Z"
   },
   {
    "duration": 5,
    "start_time": "2024-02-07T15:35:11.075Z"
   },
   {
    "duration": 5,
    "start_time": "2024-02-07T15:35:11.081Z"
   },
   {
    "duration": 4,
    "start_time": "2024-02-07T15:35:11.089Z"
   },
   {
    "duration": 8,
    "start_time": "2024-02-07T15:35:11.095Z"
   },
   {
    "duration": 6,
    "start_time": "2024-02-07T15:35:11.105Z"
   },
   {
    "duration": 7,
    "start_time": "2024-02-07T15:35:11.113Z"
   },
   {
    "duration": 15,
    "start_time": "2024-02-07T15:35:11.121Z"
   },
   {
    "duration": 10,
    "start_time": "2024-02-07T15:35:11.137Z"
   },
   {
    "duration": 7,
    "start_time": "2024-02-07T15:35:11.148Z"
   },
   {
    "duration": 391,
    "start_time": "2024-02-07T15:35:11.187Z"
   },
   {
    "duration": 144,
    "start_time": "2024-02-07T15:35:11.579Z"
   },
   {
    "duration": 145,
    "start_time": "2024-02-07T15:35:11.724Z"
   },
   {
    "duration": 4,
    "start_time": "2024-02-07T15:35:11.870Z"
   },
   {
    "duration": 28,
    "start_time": "2024-02-07T15:35:11.875Z"
   },
   {
    "duration": 24,
    "start_time": "2024-02-07T15:35:11.904Z"
   },
   {
    "duration": 12,
    "start_time": "2024-02-07T15:35:11.930Z"
   },
   {
    "duration": 10,
    "start_time": "2024-02-07T15:35:11.943Z"
   },
   {
    "duration": 135,
    "start_time": "2024-02-07T15:35:11.954Z"
   },
   {
    "duration": 188,
    "start_time": "2024-02-07T15:35:12.091Z"
   },
   {
    "duration": 163,
    "start_time": "2024-02-07T15:35:12.280Z"
   },
   {
    "duration": 144,
    "start_time": "2024-02-07T15:35:12.445Z"
   },
   {
    "duration": 16,
    "start_time": "2024-02-07T15:35:12.590Z"
   },
   {
    "duration": 11,
    "start_time": "2024-02-07T15:35:12.608Z"
   },
   {
    "duration": 22,
    "start_time": "2024-02-07T15:35:12.620Z"
   },
   {
    "duration": 77,
    "start_time": "2024-02-07T15:35:12.644Z"
   },
   {
    "duration": 0,
    "start_time": "2024-02-07T15:35:12.723Z"
   },
   {
    "duration": 0,
    "start_time": "2024-02-07T15:35:12.724Z"
   },
   {
    "duration": 0,
    "start_time": "2024-02-07T15:35:12.725Z"
   },
   {
    "duration": 0,
    "start_time": "2024-02-07T15:35:12.726Z"
   },
   {
    "duration": 0,
    "start_time": "2024-02-07T15:35:12.727Z"
   },
   {
    "duration": 0,
    "start_time": "2024-02-07T15:35:12.728Z"
   },
   {
    "duration": 18,
    "start_time": "2024-02-07T15:37:18.350Z"
   },
   {
    "duration": 31,
    "start_time": "2024-02-07T15:37:44.462Z"
   },
   {
    "duration": 46,
    "start_time": "2024-02-07T15:39:19.239Z"
   },
   {
    "duration": 51,
    "start_time": "2024-02-07T15:39:28.205Z"
   },
   {
    "duration": 45,
    "start_time": "2024-02-07T15:40:41.637Z"
   },
   {
    "duration": 4,
    "start_time": "2024-02-07T15:42:50.158Z"
   },
   {
    "duration": 46,
    "start_time": "2024-02-07T15:43:47.587Z"
   },
   {
    "duration": 92,
    "start_time": "2024-02-07T15:45:56.525Z"
   },
   {
    "duration": 17,
    "start_time": "2024-02-07T15:46:00.555Z"
   },
   {
    "duration": 16,
    "start_time": "2024-02-07T15:46:12.132Z"
   },
   {
    "duration": 118,
    "start_time": "2024-02-07T15:46:20.076Z"
   },
   {
    "duration": 14,
    "start_time": "2024-02-07T15:46:55.356Z"
   },
   {
    "duration": 418,
    "start_time": "2024-02-07T15:47:31.510Z"
   },
   {
    "duration": 116,
    "start_time": "2024-02-07T15:47:31.930Z"
   },
   {
    "duration": 12,
    "start_time": "2024-02-07T15:47:32.047Z"
   },
   {
    "duration": 44,
    "start_time": "2024-02-07T15:47:32.060Z"
   },
   {
    "duration": 199,
    "start_time": "2024-02-07T15:47:32.107Z"
   },
   {
    "duration": 17,
    "start_time": "2024-02-07T15:47:32.307Z"
   },
   {
    "duration": 31,
    "start_time": "2024-02-07T15:47:32.326Z"
   },
   {
    "duration": 178,
    "start_time": "2024-02-07T15:47:32.358Z"
   },
   {
    "duration": 9,
    "start_time": "2024-02-07T15:47:32.538Z"
   },
   {
    "duration": 40,
    "start_time": "2024-02-07T15:47:32.549Z"
   },
   {
    "duration": 10,
    "start_time": "2024-02-07T15:47:32.591Z"
   },
   {
    "duration": 15,
    "start_time": "2024-02-07T15:47:32.602Z"
   },
   {
    "duration": 8,
    "start_time": "2024-02-07T15:47:32.618Z"
   },
   {
    "duration": 4,
    "start_time": "2024-02-07T15:47:32.630Z"
   },
   {
    "duration": 28,
    "start_time": "2024-02-07T15:47:32.636Z"
   },
   {
    "duration": 8,
    "start_time": "2024-02-07T15:47:32.666Z"
   },
   {
    "duration": 13,
    "start_time": "2024-02-07T15:47:32.675Z"
   },
   {
    "duration": 30,
    "start_time": "2024-02-07T15:47:32.689Z"
   },
   {
    "duration": 7,
    "start_time": "2024-02-07T15:47:32.721Z"
   },
   {
    "duration": 6,
    "start_time": "2024-02-07T15:47:32.729Z"
   },
   {
    "duration": 374,
    "start_time": "2024-02-07T15:47:32.736Z"
   },
   {
    "duration": 153,
    "start_time": "2024-02-07T15:47:33.112Z"
   },
   {
    "duration": 142,
    "start_time": "2024-02-07T15:47:33.267Z"
   },
   {
    "duration": 4,
    "start_time": "2024-02-07T15:47:33.411Z"
   },
   {
    "duration": 67,
    "start_time": "2024-02-07T15:47:33.417Z"
   },
   {
    "duration": 92,
    "start_time": "2024-02-07T15:47:33.485Z"
   },
   {
    "duration": 93,
    "start_time": "2024-02-07T15:47:33.579Z"
   },
   {
    "duration": 31,
    "start_time": "2024-02-07T15:47:33.673Z"
   },
   {
    "duration": 172,
    "start_time": "2024-02-07T15:47:33.706Z"
   },
   {
    "duration": 237,
    "start_time": "2024-02-07T15:47:33.879Z"
   },
   {
    "duration": 160,
    "start_time": "2024-02-07T15:47:34.118Z"
   },
   {
    "duration": 175,
    "start_time": "2024-02-07T15:47:34.280Z"
   },
   {
    "duration": 19,
    "start_time": "2024-02-07T15:47:34.457Z"
   },
   {
    "duration": 15,
    "start_time": "2024-02-07T15:47:34.478Z"
   },
   {
    "duration": 28,
    "start_time": "2024-02-07T15:47:34.495Z"
   },
   {
    "duration": 34,
    "start_time": "2024-02-07T15:47:34.524Z"
   },
   {
    "duration": 78,
    "start_time": "2024-02-07T15:47:34.561Z"
   },
   {
    "duration": 54,
    "start_time": "2024-02-07T15:47:34.641Z"
   },
   {
    "duration": 4,
    "start_time": "2024-02-07T15:47:34.696Z"
   },
   {
    "duration": 0,
    "start_time": "2024-02-07T15:47:34.701Z"
   },
   {
    "duration": 0,
    "start_time": "2024-02-07T15:47:34.703Z"
   },
   {
    "duration": 0,
    "start_time": "2024-02-07T15:47:34.704Z"
   },
   {
    "duration": 0,
    "start_time": "2024-02-07T15:47:34.705Z"
   },
   {
    "duration": 0,
    "start_time": "2024-02-07T15:47:34.706Z"
   },
   {
    "duration": 0,
    "start_time": "2024-02-07T15:47:34.708Z"
   },
   {
    "duration": 115,
    "start_time": "2024-02-07T15:48:36.794Z"
   },
   {
    "duration": 71,
    "start_time": "2024-02-07T15:49:02.876Z"
   },
   {
    "duration": 118,
    "start_time": "2024-02-07T15:49:41.860Z"
   },
   {
    "duration": 93,
    "start_time": "2024-02-07T15:49:52.844Z"
   },
   {
    "duration": 94,
    "start_time": "2024-02-07T15:50:24.971Z"
   },
   {
    "duration": 95,
    "start_time": "2024-02-07T15:50:35.771Z"
   },
   {
    "duration": 432,
    "start_time": "2024-02-07T15:52:05.861Z"
   },
   {
    "duration": 85,
    "start_time": "2024-02-07T15:52:06.294Z"
   },
   {
    "duration": 11,
    "start_time": "2024-02-07T15:52:06.381Z"
   },
   {
    "duration": 10,
    "start_time": "2024-02-07T15:52:06.394Z"
   },
   {
    "duration": 110,
    "start_time": "2024-02-07T15:52:06.406Z"
   },
   {
    "duration": 12,
    "start_time": "2024-02-07T15:52:06.517Z"
   },
   {
    "duration": 5,
    "start_time": "2024-02-07T15:52:06.531Z"
   },
   {
    "duration": 94,
    "start_time": "2024-02-07T15:52:06.537Z"
   },
   {
    "duration": 10,
    "start_time": "2024-02-07T15:52:06.632Z"
   },
   {
    "duration": 7,
    "start_time": "2024-02-07T15:52:06.643Z"
   },
   {
    "duration": 16,
    "start_time": "2024-02-07T15:52:06.652Z"
   },
   {
    "duration": 25,
    "start_time": "2024-02-07T15:52:06.670Z"
   },
   {
    "duration": 5,
    "start_time": "2024-02-07T15:52:06.696Z"
   },
   {
    "duration": 4,
    "start_time": "2024-02-07T15:52:06.705Z"
   },
   {
    "duration": 11,
    "start_time": "2024-02-07T15:52:06.711Z"
   },
   {
    "duration": 7,
    "start_time": "2024-02-07T15:52:06.723Z"
   },
   {
    "duration": 7,
    "start_time": "2024-02-07T15:52:06.732Z"
   },
   {
    "duration": 9,
    "start_time": "2024-02-07T15:52:06.741Z"
   },
   {
    "duration": 40,
    "start_time": "2024-02-07T15:52:06.751Z"
   },
   {
    "duration": 11,
    "start_time": "2024-02-07T15:52:06.792Z"
   },
   {
    "duration": 414,
    "start_time": "2024-02-07T15:52:06.804Z"
   },
   {
    "duration": 156,
    "start_time": "2024-02-07T15:52:07.220Z"
   },
   {
    "duration": 144,
    "start_time": "2024-02-07T15:52:07.378Z"
   },
   {
    "duration": 3,
    "start_time": "2024-02-07T15:52:07.524Z"
   },
   {
    "duration": 28,
    "start_time": "2024-02-07T15:52:07.528Z"
   },
   {
    "duration": 55,
    "start_time": "2024-02-07T15:52:07.558Z"
   },
   {
    "duration": 36,
    "start_time": "2024-02-07T15:52:07.614Z"
   },
   {
    "duration": 31,
    "start_time": "2024-02-07T15:52:07.651Z"
   },
   {
    "duration": 136,
    "start_time": "2024-02-07T15:52:07.684Z"
   },
   {
    "duration": 190,
    "start_time": "2024-02-07T15:52:07.821Z"
   },
   {
    "duration": 162,
    "start_time": "2024-02-07T15:52:08.012Z"
   },
   {
    "duration": 146,
    "start_time": "2024-02-07T15:52:08.175Z"
   },
   {
    "duration": 20,
    "start_time": "2024-02-07T15:52:08.322Z"
   },
   {
    "duration": 5,
    "start_time": "2024-02-07T15:52:08.343Z"
   },
   {
    "duration": 13,
    "start_time": "2024-02-07T15:52:08.349Z"
   },
   {
    "duration": 46,
    "start_time": "2024-02-07T15:52:08.364Z"
   },
   {
    "duration": 21,
    "start_time": "2024-02-07T15:52:08.411Z"
   },
   {
    "duration": 15,
    "start_time": "2024-02-07T15:52:08.433Z"
   },
   {
    "duration": 23,
    "start_time": "2024-02-07T15:55:50.033Z"
   },
   {
    "duration": 21,
    "start_time": "2024-02-07T15:58:24.577Z"
   },
   {
    "duration": 381,
    "start_time": "2024-02-07T15:58:44.443Z"
   },
   {
    "duration": 91,
    "start_time": "2024-02-07T15:58:44.826Z"
   },
   {
    "duration": 13,
    "start_time": "2024-02-07T15:58:44.919Z"
   },
   {
    "duration": 19,
    "start_time": "2024-02-07T15:58:44.934Z"
   },
   {
    "duration": 124,
    "start_time": "2024-02-07T15:58:44.955Z"
   },
   {
    "duration": 13,
    "start_time": "2024-02-07T15:58:45.081Z"
   },
   {
    "duration": 24,
    "start_time": "2024-02-07T15:58:45.096Z"
   },
   {
    "duration": 106,
    "start_time": "2024-02-07T15:58:45.122Z"
   },
   {
    "duration": 14,
    "start_time": "2024-02-07T15:58:45.230Z"
   },
   {
    "duration": 24,
    "start_time": "2024-02-07T15:58:45.245Z"
   },
   {
    "duration": 23,
    "start_time": "2024-02-07T15:58:45.271Z"
   },
   {
    "duration": 8,
    "start_time": "2024-02-07T15:58:45.296Z"
   },
   {
    "duration": 9,
    "start_time": "2024-02-07T15:58:45.305Z"
   },
   {
    "duration": 4,
    "start_time": "2024-02-07T15:58:45.320Z"
   },
   {
    "duration": 11,
    "start_time": "2024-02-07T15:58:45.326Z"
   },
   {
    "duration": 8,
    "start_time": "2024-02-07T15:58:45.339Z"
   },
   {
    "duration": 9,
    "start_time": "2024-02-07T15:58:45.348Z"
   },
   {
    "duration": 35,
    "start_time": "2024-02-07T15:58:45.358Z"
   },
   {
    "duration": 7,
    "start_time": "2024-02-07T15:58:45.395Z"
   },
   {
    "duration": 10,
    "start_time": "2024-02-07T15:58:45.405Z"
   },
   {
    "duration": 452,
    "start_time": "2024-02-07T15:58:45.417Z"
   },
   {
    "duration": 146,
    "start_time": "2024-02-07T15:58:45.871Z"
   },
   {
    "duration": 166,
    "start_time": "2024-02-07T15:58:46.019Z"
   },
   {
    "duration": 3,
    "start_time": "2024-02-07T15:58:46.187Z"
   },
   {
    "duration": 48,
    "start_time": "2024-02-07T15:58:46.192Z"
   },
   {
    "duration": 58,
    "start_time": "2024-02-07T15:58:46.241Z"
   },
   {
    "duration": 17,
    "start_time": "2024-02-07T15:58:46.301Z"
   },
   {
    "duration": 17,
    "start_time": "2024-02-07T15:58:46.320Z"
   },
   {
    "duration": 154,
    "start_time": "2024-02-07T15:58:46.338Z"
   },
   {
    "duration": 196,
    "start_time": "2024-02-07T15:58:46.494Z"
   },
   {
    "duration": 165,
    "start_time": "2024-02-07T15:58:46.692Z"
   },
   {
    "duration": 155,
    "start_time": "2024-02-07T15:58:46.858Z"
   },
   {
    "duration": 19,
    "start_time": "2024-02-07T15:58:47.014Z"
   },
   {
    "duration": 4,
    "start_time": "2024-02-07T15:58:47.035Z"
   },
   {
    "duration": 30,
    "start_time": "2024-02-07T15:58:47.040Z"
   },
   {
    "duration": 40,
    "start_time": "2024-02-07T15:58:47.071Z"
   },
   {
    "duration": 19,
    "start_time": "2024-02-07T15:58:47.113Z"
   },
   {
    "duration": 14,
    "start_time": "2024-02-07T15:58:47.134Z"
   },
   {
    "duration": 46,
    "start_time": "2024-02-07T15:58:47.150Z"
   },
   {
    "duration": 21,
    "start_time": "2024-02-07T15:58:47.197Z"
   },
   {
    "duration": 27,
    "start_time": "2024-02-07T15:59:33.689Z"
   },
   {
    "duration": 18,
    "start_time": "2024-02-07T16:00:14.627Z"
   },
   {
    "duration": 11,
    "start_time": "2024-02-07T16:01:10.337Z"
   },
   {
    "duration": 10,
    "start_time": "2024-02-07T16:01:12.610Z"
   },
   {
    "duration": 16,
    "start_time": "2024-02-07T16:01:32.826Z"
   },
   {
    "duration": 13,
    "start_time": "2024-02-07T16:01:42.756Z"
   },
   {
    "duration": 14,
    "start_time": "2024-02-07T16:01:49.322Z"
   },
   {
    "duration": 396,
    "start_time": "2024-02-07T16:02:45.692Z"
   },
   {
    "duration": 90,
    "start_time": "2024-02-07T16:02:46.090Z"
   },
   {
    "duration": 12,
    "start_time": "2024-02-07T16:02:46.181Z"
   },
   {
    "duration": 22,
    "start_time": "2024-02-07T16:02:46.195Z"
   },
   {
    "duration": 124,
    "start_time": "2024-02-07T16:02:46.219Z"
   },
   {
    "duration": 12,
    "start_time": "2024-02-07T16:02:46.344Z"
   },
   {
    "duration": 14,
    "start_time": "2024-02-07T16:02:46.358Z"
   },
   {
    "duration": 103,
    "start_time": "2024-02-07T16:02:46.374Z"
   },
   {
    "duration": 10,
    "start_time": "2024-02-07T16:02:46.479Z"
   },
   {
    "duration": 23,
    "start_time": "2024-02-07T16:02:46.492Z"
   },
   {
    "duration": 36,
    "start_time": "2024-02-07T16:02:46.517Z"
   },
   {
    "duration": 26,
    "start_time": "2024-02-07T16:02:46.554Z"
   },
   {
    "duration": 23,
    "start_time": "2024-02-07T16:02:46.582Z"
   },
   {
    "duration": 6,
    "start_time": "2024-02-07T16:02:46.607Z"
   },
   {
    "duration": 25,
    "start_time": "2024-02-07T16:02:46.614Z"
   },
   {
    "duration": 8,
    "start_time": "2024-02-07T16:02:46.640Z"
   },
   {
    "duration": 9,
    "start_time": "2024-02-07T16:02:46.649Z"
   },
   {
    "duration": 18,
    "start_time": "2024-02-07T16:02:46.659Z"
   },
   {
    "duration": 14,
    "start_time": "2024-02-07T16:02:46.679Z"
   },
   {
    "duration": 8,
    "start_time": "2024-02-07T16:02:46.694Z"
   },
   {
    "duration": 392,
    "start_time": "2024-02-07T16:02:46.704Z"
   },
   {
    "duration": 150,
    "start_time": "2024-02-07T16:02:47.097Z"
   },
   {
    "duration": 144,
    "start_time": "2024-02-07T16:02:47.248Z"
   },
   {
    "duration": 4,
    "start_time": "2024-02-07T16:02:47.393Z"
   },
   {
    "duration": 11,
    "start_time": "2024-02-07T16:02:47.398Z"
   },
   {
    "duration": 26,
    "start_time": "2024-02-07T16:02:47.411Z"
   },
   {
    "duration": 17,
    "start_time": "2024-02-07T16:02:47.438Z"
   },
   {
    "duration": 44,
    "start_time": "2024-02-07T16:02:47.458Z"
   },
   {
    "duration": 142,
    "start_time": "2024-02-07T16:02:47.503Z"
   },
   {
    "duration": 192,
    "start_time": "2024-02-07T16:02:47.647Z"
   },
   {
    "duration": 156,
    "start_time": "2024-02-07T16:02:47.840Z"
   },
   {
    "duration": 143,
    "start_time": "2024-02-07T16:02:47.998Z"
   },
   {
    "duration": 18,
    "start_time": "2024-02-07T16:02:48.143Z"
   },
   {
    "duration": 6,
    "start_time": "2024-02-07T16:02:48.162Z"
   },
   {
    "duration": 27,
    "start_time": "2024-02-07T16:02:48.169Z"
   },
   {
    "duration": 10,
    "start_time": "2024-02-07T16:02:48.198Z"
   },
   {
    "duration": 49,
    "start_time": "2024-02-07T16:02:48.209Z"
   },
   {
    "duration": 29,
    "start_time": "2024-02-07T16:02:48.259Z"
   },
   {
    "duration": 15,
    "start_time": "2024-02-07T16:02:48.290Z"
   },
   {
    "duration": 14,
    "start_time": "2024-02-07T16:02:48.307Z"
   },
   {
    "duration": 19,
    "start_time": "2024-02-07T16:02:48.323Z"
   },
   {
    "duration": 8,
    "start_time": "2024-02-07T16:03:23.545Z"
   },
   {
    "duration": 10,
    "start_time": "2024-02-07T16:03:32.799Z"
   },
   {
    "duration": 10,
    "start_time": "2024-02-07T16:03:42.752Z"
   },
   {
    "duration": 15,
    "start_time": "2024-02-07T16:03:54.270Z"
   },
   {
    "duration": 429,
    "start_time": "2024-02-08T09:41:31.670Z"
   },
   {
    "duration": 215,
    "start_time": "2024-02-08T09:41:32.101Z"
   },
   {
    "duration": 11,
    "start_time": "2024-02-08T09:41:32.318Z"
   },
   {
    "duration": 16,
    "start_time": "2024-02-08T09:41:32.331Z"
   },
   {
    "duration": 104,
    "start_time": "2024-02-08T09:41:32.349Z"
   },
   {
    "duration": 12,
    "start_time": "2024-02-08T09:41:32.455Z"
   },
   {
    "duration": 10,
    "start_time": "2024-02-08T09:41:32.468Z"
   },
   {
    "duration": 80,
    "start_time": "2024-02-08T09:41:32.479Z"
   },
   {
    "duration": 12,
    "start_time": "2024-02-08T09:41:32.560Z"
   },
   {
    "duration": 12,
    "start_time": "2024-02-08T09:41:32.574Z"
   },
   {
    "duration": 13,
    "start_time": "2024-02-08T09:41:32.589Z"
   },
   {
    "duration": 5,
    "start_time": "2024-02-08T09:41:32.604Z"
   },
   {
    "duration": 5,
    "start_time": "2024-02-08T09:41:32.610Z"
   },
   {
    "duration": 23,
    "start_time": "2024-02-08T09:41:32.618Z"
   },
   {
    "duration": 6,
    "start_time": "2024-02-08T09:41:32.642Z"
   },
   {
    "duration": 28,
    "start_time": "2024-02-08T09:41:32.649Z"
   },
   {
    "duration": 13,
    "start_time": "2024-02-08T09:41:32.679Z"
   },
   {
    "duration": 16,
    "start_time": "2024-02-08T09:41:32.697Z"
   },
   {
    "duration": 13,
    "start_time": "2024-02-08T09:41:32.714Z"
   },
   {
    "duration": 10,
    "start_time": "2024-02-08T09:41:32.729Z"
   },
   {
    "duration": 649,
    "start_time": "2024-02-08T09:41:32.741Z"
   },
   {
    "duration": 174,
    "start_time": "2024-02-08T09:41:33.392Z"
   },
   {
    "duration": 166,
    "start_time": "2024-02-08T09:41:33.568Z"
   },
   {
    "duration": 3,
    "start_time": "2024-02-08T09:41:33.736Z"
   },
   {
    "duration": 28,
    "start_time": "2024-02-08T09:41:33.741Z"
   },
   {
    "duration": 35,
    "start_time": "2024-02-08T09:41:33.771Z"
   },
   {
    "duration": 17,
    "start_time": "2024-02-08T09:41:33.808Z"
   },
   {
    "duration": 93,
    "start_time": "2024-02-08T09:41:33.827Z"
   },
   {
    "duration": 171,
    "start_time": "2024-02-08T09:41:33.923Z"
   },
   {
    "duration": 181,
    "start_time": "2024-02-08T09:41:34.096Z"
   },
   {
    "duration": 205,
    "start_time": "2024-02-08T09:41:34.279Z"
   },
   {
    "duration": 168,
    "start_time": "2024-02-08T09:41:34.489Z"
   },
   {
    "duration": 36,
    "start_time": "2024-02-08T09:41:34.658Z"
   },
   {
    "duration": 14,
    "start_time": "2024-02-08T09:41:34.696Z"
   },
   {
    "duration": 16,
    "start_time": "2024-02-08T09:41:34.711Z"
   },
   {
    "duration": 26,
    "start_time": "2024-02-08T09:41:34.728Z"
   },
   {
    "duration": 73,
    "start_time": "2024-02-08T09:41:34.756Z"
   },
   {
    "duration": 15,
    "start_time": "2024-02-08T09:41:34.831Z"
   },
   {
    "duration": 58,
    "start_time": "2024-02-08T09:41:34.848Z"
   },
   {
    "duration": 22,
    "start_time": "2024-02-08T09:41:34.907Z"
   },
   {
    "duration": 39,
    "start_time": "2024-02-08T09:41:34.933Z"
   },
   {
    "duration": 463,
    "start_time": "2024-02-08T15:14:16.841Z"
   },
   {
    "duration": 130,
    "start_time": "2024-02-08T15:14:17.305Z"
   },
   {
    "duration": 11,
    "start_time": "2024-02-08T15:14:17.437Z"
   },
   {
    "duration": 21,
    "start_time": "2024-02-08T15:14:17.450Z"
   },
   {
    "duration": 162,
    "start_time": "2024-02-08T15:14:17.472Z"
   },
   {
    "duration": 11,
    "start_time": "2024-02-08T15:14:17.636Z"
   },
   {
    "duration": 9,
    "start_time": "2024-02-08T15:14:17.649Z"
   },
   {
    "duration": 125,
    "start_time": "2024-02-08T15:14:17.659Z"
   },
   {
    "duration": 12,
    "start_time": "2024-02-08T15:14:17.786Z"
   },
   {
    "duration": 14,
    "start_time": "2024-02-08T15:14:17.802Z"
   },
   {
    "duration": 14,
    "start_time": "2024-02-08T15:14:17.818Z"
   },
   {
    "duration": 4,
    "start_time": "2024-02-08T15:14:17.834Z"
   },
   {
    "duration": 4,
    "start_time": "2024-02-08T15:14:17.840Z"
   },
   {
    "duration": 8,
    "start_time": "2024-02-08T15:14:17.846Z"
   },
   {
    "duration": 21,
    "start_time": "2024-02-08T15:14:17.855Z"
   },
   {
    "duration": 9,
    "start_time": "2024-02-08T15:14:17.877Z"
   },
   {
    "duration": 9,
    "start_time": "2024-02-08T15:14:17.888Z"
   },
   {
    "duration": 11,
    "start_time": "2024-02-08T15:14:17.899Z"
   },
   {
    "duration": 16,
    "start_time": "2024-02-08T15:14:17.912Z"
   },
   {
    "duration": 25,
    "start_time": "2024-02-08T15:14:17.930Z"
   },
   {
    "duration": 428,
    "start_time": "2024-02-08T15:14:17.957Z"
   },
   {
    "duration": 150,
    "start_time": "2024-02-08T15:14:18.387Z"
   },
   {
    "duration": 152,
    "start_time": "2024-02-08T15:14:18.539Z"
   },
   {
    "duration": 3,
    "start_time": "2024-02-08T15:14:18.693Z"
   },
   {
    "duration": 32,
    "start_time": "2024-02-08T15:14:18.698Z"
   },
   {
    "duration": 46,
    "start_time": "2024-02-08T15:14:18.732Z"
   },
   {
    "duration": 18,
    "start_time": "2024-02-08T15:14:18.780Z"
   },
   {
    "duration": 17,
    "start_time": "2024-02-08T15:14:18.801Z"
   },
   {
    "duration": 154,
    "start_time": "2024-02-08T15:14:18.820Z"
   },
   {
    "duration": 208,
    "start_time": "2024-02-08T15:14:18.976Z"
   },
   {
    "duration": 170,
    "start_time": "2024-02-08T15:14:19.185Z"
   },
   {
    "duration": 160,
    "start_time": "2024-02-08T15:14:19.357Z"
   },
   {
    "duration": 18,
    "start_time": "2024-02-08T15:14:19.519Z"
   },
   {
    "duration": 12,
    "start_time": "2024-02-08T15:14:19.538Z"
   },
   {
    "duration": 25,
    "start_time": "2024-02-08T15:14:19.551Z"
   },
   {
    "duration": 10,
    "start_time": "2024-02-08T15:14:19.577Z"
   },
   {
    "duration": 49,
    "start_time": "2024-02-08T15:14:19.589Z"
   },
   {
    "duration": 16,
    "start_time": "2024-02-08T15:14:19.639Z"
   },
   {
    "duration": 18,
    "start_time": "2024-02-08T15:14:19.656Z"
   },
   {
    "duration": 14,
    "start_time": "2024-02-08T15:14:19.675Z"
   },
   {
    "duration": 12,
    "start_time": "2024-02-08T15:14:19.691Z"
   },
   {
    "duration": 420,
    "start_time": "2024-02-08T15:31:08.292Z"
   },
   {
    "duration": 97,
    "start_time": "2024-02-08T15:31:14.944Z"
   },
   {
    "duration": 7,
    "start_time": "2024-02-08T15:32:05.079Z"
   },
   {
    "duration": 5,
    "start_time": "2024-02-08T15:37:00.798Z"
   },
   {
    "duration": 5,
    "start_time": "2024-02-08T15:37:13.659Z"
   },
   {
    "duration": 4,
    "start_time": "2024-02-08T15:37:42.654Z"
   },
   {
    "duration": 4,
    "start_time": "2024-02-08T15:37:52.401Z"
   },
   {
    "duration": 5,
    "start_time": "2024-02-08T15:42:20.046Z"
   },
   {
    "duration": 6,
    "start_time": "2024-02-08T15:45:16.869Z"
   },
   {
    "duration": 6,
    "start_time": "2024-02-08T15:49:42.602Z"
   },
   {
    "duration": 12,
    "start_time": "2024-02-08T15:53:56.836Z"
   },
   {
    "duration": 7,
    "start_time": "2024-02-08T15:56:54.434Z"
   },
   {
    "duration": 5,
    "start_time": "2024-02-08T15:57:03.754Z"
   },
   {
    "duration": 6,
    "start_time": "2024-02-08T15:58:18.525Z"
   },
   {
    "duration": 1586,
    "start_time": "2024-02-08T16:57:04.265Z"
   },
   {
    "duration": 13,
    "start_time": "2024-02-08T17:00:51.928Z"
   },
   {
    "duration": 12,
    "start_time": "2024-02-08T17:02:23.631Z"
   },
   {
    "duration": 47,
    "start_time": "2024-02-08T17:06:42.570Z"
   },
   {
    "duration": 53,
    "start_time": "2024-02-08T17:06:54.233Z"
   },
   {
    "duration": 45,
    "start_time": "2024-02-08T17:07:31.073Z"
   },
   {
    "duration": 1569,
    "start_time": "2024-02-08T17:08:12.025Z"
   },
   {
    "duration": 29,
    "start_time": "2024-02-08T17:08:47.514Z"
   },
   {
    "duration": 15,
    "start_time": "2024-02-08T17:08:53.960Z"
   },
   {
    "duration": 19,
    "start_time": "2024-02-08T17:09:04.408Z"
   },
   {
    "duration": 14,
    "start_time": "2024-02-08T17:14:40.132Z"
   },
   {
    "duration": 13,
    "start_time": "2024-02-08T17:15:11.828Z"
   },
   {
    "duration": 17,
    "start_time": "2024-02-08T17:17:17.123Z"
   },
   {
    "duration": 10,
    "start_time": "2024-02-08T17:17:58.170Z"
   },
   {
    "duration": 7,
    "start_time": "2024-02-08T17:28:51.845Z"
   },
   {
    "duration": 7,
    "start_time": "2024-02-08T17:28:52.369Z"
   },
   {
    "duration": 437,
    "start_time": "2024-02-08T17:29:48.845Z"
   },
   {
    "duration": 146,
    "start_time": "2024-02-08T17:29:49.284Z"
   },
   {
    "duration": 12,
    "start_time": "2024-02-08T17:29:49.431Z"
   },
   {
    "duration": 17,
    "start_time": "2024-02-08T17:29:49.444Z"
   },
   {
    "duration": 154,
    "start_time": "2024-02-08T17:29:49.463Z"
   },
   {
    "duration": 11,
    "start_time": "2024-02-08T17:29:49.619Z"
   },
   {
    "duration": 9,
    "start_time": "2024-02-08T17:29:49.631Z"
   },
   {
    "duration": 115,
    "start_time": "2024-02-08T17:29:49.642Z"
   },
   {
    "duration": 11,
    "start_time": "2024-02-08T17:29:49.759Z"
   },
   {
    "duration": 8,
    "start_time": "2024-02-08T17:29:49.772Z"
   },
   {
    "duration": 24,
    "start_time": "2024-02-08T17:29:49.782Z"
   },
   {
    "duration": 5,
    "start_time": "2024-02-08T17:29:49.814Z"
   },
   {
    "duration": 11,
    "start_time": "2024-02-08T17:29:49.822Z"
   },
   {
    "duration": 5,
    "start_time": "2024-02-08T17:29:49.836Z"
   },
   {
    "duration": 12,
    "start_time": "2024-02-08T17:29:49.843Z"
   },
   {
    "duration": 31,
    "start_time": "2024-02-08T17:29:49.857Z"
   },
   {
    "duration": 9,
    "start_time": "2024-02-08T17:29:49.889Z"
   },
   {
    "duration": 10,
    "start_time": "2024-02-08T17:29:49.899Z"
   },
   {
    "duration": 7,
    "start_time": "2024-02-08T17:29:49.910Z"
   },
   {
    "duration": 5,
    "start_time": "2024-02-08T17:29:49.918Z"
   },
   {
    "duration": 449,
    "start_time": "2024-02-08T17:29:49.924Z"
   },
   {
    "duration": 153,
    "start_time": "2024-02-08T17:29:50.374Z"
   },
   {
    "duration": 153,
    "start_time": "2024-02-08T17:29:50.529Z"
   },
   {
    "duration": 3,
    "start_time": "2024-02-08T17:29:50.684Z"
   },
   {
    "duration": 13,
    "start_time": "2024-02-08T17:29:50.688Z"
   },
   {
    "duration": 47,
    "start_time": "2024-02-08T17:29:50.703Z"
   },
   {
    "duration": 22,
    "start_time": "2024-02-08T17:29:50.752Z"
   },
   {
    "duration": 15,
    "start_time": "2024-02-08T17:29:50.775Z"
   },
   {
    "duration": 153,
    "start_time": "2024-02-08T17:29:50.792Z"
   },
   {
    "duration": 207,
    "start_time": "2024-02-08T17:29:50.947Z"
   },
   {
    "duration": 172,
    "start_time": "2024-02-08T17:29:51.155Z"
   },
   {
    "duration": 154,
    "start_time": "2024-02-08T17:29:51.328Z"
   },
   {
    "duration": 18,
    "start_time": "2024-02-08T17:29:51.484Z"
   },
   {
    "duration": 5,
    "start_time": "2024-02-08T17:29:51.503Z"
   },
   {
    "duration": 17,
    "start_time": "2024-02-08T17:29:51.509Z"
   },
   {
    "duration": 10,
    "start_time": "2024-02-08T17:29:51.528Z"
   },
   {
    "duration": 51,
    "start_time": "2024-02-08T17:29:51.539Z"
   },
   {
    "duration": 16,
    "start_time": "2024-02-08T17:29:51.592Z"
   },
   {
    "duration": 17,
    "start_time": "2024-02-08T17:29:51.609Z"
   },
   {
    "duration": 15,
    "start_time": "2024-02-08T17:29:51.627Z"
   },
   {
    "duration": 35,
    "start_time": "2024-02-08T17:29:51.645Z"
   },
   {
    "duration": 435,
    "start_time": "2024-02-08T17:29:51.682Z"
   },
   {
    "duration": 7,
    "start_time": "2024-02-08T17:29:52.119Z"
   },
   {
    "duration": 32,
    "start_time": "2024-02-08T17:29:52.128Z"
   },
   {
    "duration": 18,
    "start_time": "2024-02-08T17:29:52.162Z"
   },
   {
    "duration": 15,
    "start_time": "2024-02-08T17:29:52.181Z"
   },
   {
    "duration": 404,
    "start_time": "2024-02-09T07:37:21.191Z"
   },
   {
    "duration": 101,
    "start_time": "2024-02-09T07:37:21.597Z"
   },
   {
    "duration": 10,
    "start_time": "2024-02-09T07:37:21.699Z"
   },
   {
    "duration": 21,
    "start_time": "2024-02-09T07:37:21.711Z"
   },
   {
    "duration": 114,
    "start_time": "2024-02-09T07:37:21.733Z"
   },
   {
    "duration": 10,
    "start_time": "2024-02-09T07:37:21.849Z"
   },
   {
    "duration": 39,
    "start_time": "2024-02-09T07:37:21.861Z"
   },
   {
    "duration": 88,
    "start_time": "2024-02-09T07:37:21.902Z"
   },
   {
    "duration": 11,
    "start_time": "2024-02-09T07:37:21.991Z"
   },
   {
    "duration": 29,
    "start_time": "2024-02-09T07:37:22.005Z"
   },
   {
    "duration": 11,
    "start_time": "2024-02-09T07:37:22.035Z"
   },
   {
    "duration": 24,
    "start_time": "2024-02-09T07:37:22.048Z"
   },
   {
    "duration": 8,
    "start_time": "2024-02-09T07:37:22.074Z"
   },
   {
    "duration": 5,
    "start_time": "2024-02-09T07:37:22.084Z"
   },
   {
    "duration": 10,
    "start_time": "2024-02-09T07:37:22.091Z"
   },
   {
    "duration": 12,
    "start_time": "2024-02-09T07:37:22.102Z"
   },
   {
    "duration": 8,
    "start_time": "2024-02-09T07:37:22.115Z"
   },
   {
    "duration": 14,
    "start_time": "2024-02-09T07:37:22.125Z"
   },
   {
    "duration": 8,
    "start_time": "2024-02-09T07:37:22.141Z"
   },
   {
    "duration": 6,
    "start_time": "2024-02-09T07:37:22.151Z"
   },
   {
    "duration": 556,
    "start_time": "2024-02-09T07:37:22.159Z"
   },
   {
    "duration": 140,
    "start_time": "2024-02-09T07:37:22.717Z"
   },
   {
    "duration": 141,
    "start_time": "2024-02-09T07:37:22.859Z"
   },
   {
    "duration": 3,
    "start_time": "2024-02-09T07:37:23.002Z"
   },
   {
    "duration": 24,
    "start_time": "2024-02-09T07:37:23.006Z"
   },
   {
    "duration": 32,
    "start_time": "2024-02-09T07:37:23.032Z"
   },
   {
    "duration": 17,
    "start_time": "2024-02-09T07:37:23.065Z"
   },
   {
    "duration": 13,
    "start_time": "2024-02-09T07:37:23.087Z"
   },
   {
    "duration": 198,
    "start_time": "2024-02-09T07:37:23.102Z"
   },
   {
    "duration": 144,
    "start_time": "2024-02-09T07:37:23.301Z"
   },
   {
    "duration": 154,
    "start_time": "2024-02-09T07:37:23.447Z"
   },
   {
    "duration": 139,
    "start_time": "2024-02-09T07:37:23.602Z"
   },
   {
    "duration": 16,
    "start_time": "2024-02-09T07:37:23.742Z"
   },
   {
    "duration": 14,
    "start_time": "2024-02-09T07:37:23.760Z"
   },
   {
    "duration": 20,
    "start_time": "2024-02-09T07:37:23.776Z"
   },
   {
    "duration": 9,
    "start_time": "2024-02-09T07:37:23.798Z"
   },
   {
    "duration": 37,
    "start_time": "2024-02-09T07:37:23.808Z"
   },
   {
    "duration": 14,
    "start_time": "2024-02-09T07:37:23.846Z"
   },
   {
    "duration": 52,
    "start_time": "2024-02-09T07:37:23.861Z"
   },
   {
    "duration": 75,
    "start_time": "2024-02-09T07:37:23.915Z"
   },
   {
    "duration": 33,
    "start_time": "2024-02-09T07:37:23.991Z"
   },
   {
    "duration": 504,
    "start_time": "2024-02-09T07:37:24.025Z"
   },
   {
    "duration": 6,
    "start_time": "2024-02-09T07:37:24.530Z"
   },
   {
    "duration": 18,
    "start_time": "2024-02-09T07:37:24.537Z"
   },
   {
    "duration": 14,
    "start_time": "2024-02-09T07:37:24.557Z"
   },
   {
    "duration": 10,
    "start_time": "2024-02-09T07:37:24.572Z"
   },
   {
    "duration": 3,
    "start_time": "2024-02-09T08:31:21.718Z"
   },
   {
    "duration": 2,
    "start_time": "2024-02-09T08:31:58.716Z"
   },
   {
    "duration": 7,
    "start_time": "2024-02-09T08:58:58.154Z"
   },
   {
    "duration": 6,
    "start_time": "2024-02-09T09:04:33.845Z"
   },
   {
    "duration": 13,
    "start_time": "2024-02-09T09:04:55.787Z"
   },
   {
    "duration": 6,
    "start_time": "2024-02-09T09:05:06.639Z"
   },
   {
    "duration": 13,
    "start_time": "2024-02-09T09:05:25.893Z"
   },
   {
    "duration": 7,
    "start_time": "2024-02-09T09:05:36.873Z"
   },
   {
    "duration": 6,
    "start_time": "2024-02-09T09:07:16.098Z"
   },
   {
    "duration": 12,
    "start_time": "2024-02-09T09:07:57.621Z"
   },
   {
    "duration": 12,
    "start_time": "2024-02-09T09:10:32.780Z"
   },
   {
    "duration": 9,
    "start_time": "2024-02-09T09:17:35.530Z"
   },
   {
    "duration": 295,
    "start_time": "2024-02-09T09:20:29.299Z"
   },
   {
    "duration": 237,
    "start_time": "2024-02-09T09:25:46.393Z"
   },
   {
    "duration": 3,
    "start_time": "2024-02-09T09:33:13.967Z"
   },
   {
    "duration": 4,
    "start_time": "2024-02-09T09:36:44.853Z"
   },
   {
    "duration": 100,
    "start_time": "2024-02-09T09:46:33.624Z"
   },
   {
    "duration": 222,
    "start_time": "2024-02-09T09:48:23.190Z"
   },
   {
    "duration": 270,
    "start_time": "2024-02-09T09:48:28.430Z"
   },
   {
    "duration": 8,
    "start_time": "2024-02-09T09:48:33.029Z"
   },
   {
    "duration": 6,
    "start_time": "2024-02-09T09:49:38.316Z"
   },
   {
    "duration": 8,
    "start_time": "2024-02-09T09:49:51.525Z"
   },
   {
    "duration": 299,
    "start_time": "2024-02-09T09:51:29.403Z"
   },
   {
    "duration": 48,
    "start_time": "2024-02-09T15:57:46.067Z"
   },
   {
    "duration": 403,
    "start_time": "2024-02-09T15:57:54.664Z"
   },
   {
    "duration": 84,
    "start_time": "2024-02-09T15:57:55.069Z"
   },
   {
    "duration": 10,
    "start_time": "2024-02-09T15:57:55.155Z"
   },
   {
    "duration": 13,
    "start_time": "2024-02-09T15:57:55.167Z"
   },
   {
    "duration": 90,
    "start_time": "2024-02-09T15:57:55.182Z"
   },
   {
    "duration": 12,
    "start_time": "2024-02-09T15:57:55.273Z"
   },
   {
    "duration": 8,
    "start_time": "2024-02-09T15:57:55.286Z"
   },
   {
    "duration": 87,
    "start_time": "2024-02-09T15:57:55.296Z"
   },
   {
    "duration": 9,
    "start_time": "2024-02-09T15:57:55.385Z"
   },
   {
    "duration": 6,
    "start_time": "2024-02-09T15:57:55.396Z"
   },
   {
    "duration": 18,
    "start_time": "2024-02-09T15:57:55.403Z"
   },
   {
    "duration": 4,
    "start_time": "2024-02-09T15:57:55.423Z"
   },
   {
    "duration": 4,
    "start_time": "2024-02-09T15:57:55.428Z"
   },
   {
    "duration": 4,
    "start_time": "2024-02-09T15:57:55.434Z"
   },
   {
    "duration": 4,
    "start_time": "2024-02-09T15:57:55.439Z"
   },
   {
    "duration": 20,
    "start_time": "2024-02-09T15:57:55.445Z"
   },
   {
    "duration": 7,
    "start_time": "2024-02-09T15:57:55.466Z"
   },
   {
    "duration": 9,
    "start_time": "2024-02-09T15:57:55.475Z"
   },
   {
    "duration": 8,
    "start_time": "2024-02-09T15:57:55.485Z"
   },
   {
    "duration": 8,
    "start_time": "2024-02-09T15:57:55.494Z"
   },
   {
    "duration": 544,
    "start_time": "2024-02-09T15:57:55.503Z"
   },
   {
    "duration": 131,
    "start_time": "2024-02-09T15:57:56.049Z"
   },
   {
    "duration": 131,
    "start_time": "2024-02-09T15:57:56.182Z"
   },
   {
    "duration": 3,
    "start_time": "2024-02-09T15:57:56.314Z"
   },
   {
    "duration": 12,
    "start_time": "2024-02-09T15:57:56.319Z"
   },
   {
    "duration": 39,
    "start_time": "2024-02-09T15:57:56.332Z"
   },
   {
    "duration": 17,
    "start_time": "2024-02-09T15:57:56.372Z"
   },
   {
    "duration": 14,
    "start_time": "2024-02-09T15:57:56.392Z"
   },
   {
    "duration": 196,
    "start_time": "2024-02-09T15:57:56.407Z"
   },
   {
    "duration": 139,
    "start_time": "2024-02-09T15:57:56.604Z"
   },
   {
    "duration": 154,
    "start_time": "2024-02-09T15:57:56.745Z"
   },
   {
    "duration": 133,
    "start_time": "2024-02-09T15:57:56.901Z"
   },
   {
    "duration": 16,
    "start_time": "2024-02-09T15:57:57.036Z"
   },
   {
    "duration": 13,
    "start_time": "2024-02-09T15:57:57.054Z"
   },
   {
    "duration": 12,
    "start_time": "2024-02-09T15:57:57.068Z"
   },
   {
    "duration": 9,
    "start_time": "2024-02-09T15:57:57.081Z"
   },
   {
    "duration": 28,
    "start_time": "2024-02-09T15:57:57.091Z"
   },
   {
    "duration": 45,
    "start_time": "2024-02-09T15:57:57.120Z"
   },
   {
    "duration": 18,
    "start_time": "2024-02-09T15:57:57.167Z"
   },
   {
    "duration": 17,
    "start_time": "2024-02-09T15:57:57.186Z"
   },
   {
    "duration": 15,
    "start_time": "2024-02-09T15:57:57.204Z"
   },
   {
    "duration": 457,
    "start_time": "2024-02-09T15:57:57.221Z"
   },
   {
    "duration": 5,
    "start_time": "2024-02-09T15:57:57.680Z"
   },
   {
    "duration": 5,
    "start_time": "2024-02-09T15:57:57.686Z"
   },
   {
    "duration": 9,
    "start_time": "2024-02-09T15:57:57.692Z"
   },
   {
    "duration": 4,
    "start_time": "2024-02-09T15:57:57.703Z"
   },
   {
    "duration": 288,
    "start_time": "2024-02-09T15:57:57.708Z"
   },
   {
    "duration": 92,
    "start_time": "2024-02-09T15:57:57.997Z"
   },
   {
    "duration": 0,
    "start_time": "2024-02-09T15:57:58.091Z"
   },
   {
    "duration": 217,
    "start_time": "2024-02-09T15:58:41.642Z"
   },
   {
    "duration": 5,
    "start_time": "2024-02-09T16:00:20.900Z"
   },
   {
    "duration": 5,
    "start_time": "2024-02-09T16:00:39.633Z"
   },
   {
    "duration": 4,
    "start_time": "2024-02-09T16:11:58.144Z"
   },
   {
    "duration": 6,
    "start_time": "2024-02-09T16:21:26.830Z"
   },
   {
    "duration": 4,
    "start_time": "2024-02-09T16:23:34.767Z"
   },
   {
    "duration": 271,
    "start_time": "2024-02-09T16:24:08.144Z"
   },
   {
    "duration": 135,
    "start_time": "2024-02-09T16:26:30.007Z"
   },
   {
    "duration": 133,
    "start_time": "2024-02-09T16:27:21.288Z"
   },
   {
    "duration": 127,
    "start_time": "2024-02-09T16:27:59.503Z"
   },
   {
    "duration": 393,
    "start_time": "2024-02-11T15:44:49.883Z"
   },
   {
    "duration": 92,
    "start_time": "2024-02-11T15:44:50.278Z"
   },
   {
    "duration": 11,
    "start_time": "2024-02-11T15:44:50.371Z"
   },
   {
    "duration": 14,
    "start_time": "2024-02-11T15:44:50.384Z"
   },
   {
    "duration": 87,
    "start_time": "2024-02-11T15:44:50.399Z"
   },
   {
    "duration": 11,
    "start_time": "2024-02-11T15:44:50.488Z"
   },
   {
    "duration": 36,
    "start_time": "2024-02-11T15:44:50.500Z"
   },
   {
    "duration": 107,
    "start_time": "2024-02-11T15:44:50.537Z"
   },
   {
    "duration": 12,
    "start_time": "2024-02-11T15:44:50.646Z"
   },
   {
    "duration": 30,
    "start_time": "2024-02-11T15:44:50.661Z"
   },
   {
    "duration": 12,
    "start_time": "2024-02-11T15:44:50.692Z"
   },
   {
    "duration": 8,
    "start_time": "2024-02-11T15:44:50.706Z"
   },
   {
    "duration": 6,
    "start_time": "2024-02-11T15:44:50.723Z"
   },
   {
    "duration": 8,
    "start_time": "2024-02-11T15:44:50.730Z"
   },
   {
    "duration": 7,
    "start_time": "2024-02-11T15:44:50.740Z"
   },
   {
    "duration": 13,
    "start_time": "2024-02-11T15:44:50.748Z"
   },
   {
    "duration": 28,
    "start_time": "2024-02-11T15:44:50.762Z"
   },
   {
    "duration": 9,
    "start_time": "2024-02-11T15:44:50.792Z"
   },
   {
    "duration": 27,
    "start_time": "2024-02-11T15:44:50.803Z"
   },
   {
    "duration": 8,
    "start_time": "2024-02-11T15:44:50.832Z"
   },
   {
    "duration": 560,
    "start_time": "2024-02-11T15:44:50.842Z"
   },
   {
    "duration": 138,
    "start_time": "2024-02-11T15:44:51.404Z"
   },
   {
    "duration": 143,
    "start_time": "2024-02-11T15:44:51.544Z"
   },
   {
    "duration": 4,
    "start_time": "2024-02-11T15:44:51.689Z"
   },
   {
    "duration": 21,
    "start_time": "2024-02-11T15:44:51.694Z"
   },
   {
    "duration": 26,
    "start_time": "2024-02-11T15:44:51.717Z"
   },
   {
    "duration": 37,
    "start_time": "2024-02-11T15:44:51.745Z"
   },
   {
    "duration": 14,
    "start_time": "2024-02-11T15:44:51.786Z"
   },
   {
    "duration": 198,
    "start_time": "2024-02-11T15:44:51.802Z"
   },
   {
    "duration": 147,
    "start_time": "2024-02-11T15:44:52.002Z"
   },
   {
    "duration": 151,
    "start_time": "2024-02-11T15:44:52.150Z"
   },
   {
    "duration": 142,
    "start_time": "2024-02-11T15:44:52.303Z"
   },
   {
    "duration": 24,
    "start_time": "2024-02-11T15:44:52.447Z"
   },
   {
    "duration": 4,
    "start_time": "2024-02-11T15:44:52.472Z"
   },
   {
    "duration": 14,
    "start_time": "2024-02-11T15:44:52.478Z"
   },
   {
    "duration": 9,
    "start_time": "2024-02-11T15:44:52.494Z"
   },
   {
    "duration": 28,
    "start_time": "2024-02-11T15:44:52.505Z"
   },
   {
    "duration": 30,
    "start_time": "2024-02-11T15:44:52.534Z"
   },
   {
    "duration": 13,
    "start_time": "2024-02-11T15:44:52.566Z"
   },
   {
    "duration": 11,
    "start_time": "2024-02-11T15:44:52.581Z"
   },
   {
    "duration": 20,
    "start_time": "2024-02-11T15:44:52.594Z"
   },
   {
    "duration": 466,
    "start_time": "2024-02-11T15:44:52.616Z"
   },
   {
    "duration": 6,
    "start_time": "2024-02-11T15:44:53.083Z"
   },
   {
    "duration": 13,
    "start_time": "2024-02-11T15:44:53.091Z"
   },
   {
    "duration": 25,
    "start_time": "2024-02-11T15:44:53.106Z"
   },
   {
    "duration": 16,
    "start_time": "2024-02-11T15:44:53.132Z"
   },
   {
    "duration": 347,
    "start_time": "2024-02-11T15:44:53.150Z"
   },
   {
    "duration": 386,
    "start_time": "2024-02-11T15:48:00.781Z"
   },
   {
    "duration": 87,
    "start_time": "2024-02-11T15:48:01.169Z"
   },
   {
    "duration": 10,
    "start_time": "2024-02-11T15:48:01.258Z"
   },
   {
    "duration": 41,
    "start_time": "2024-02-11T15:48:01.271Z"
   },
   {
    "duration": 107,
    "start_time": "2024-02-11T15:48:01.314Z"
   },
   {
    "duration": 13,
    "start_time": "2024-02-11T15:48:01.422Z"
   },
   {
    "duration": 8,
    "start_time": "2024-02-11T15:48:01.437Z"
   },
   {
    "duration": 111,
    "start_time": "2024-02-11T15:48:01.446Z"
   },
   {
    "duration": 11,
    "start_time": "2024-02-11T15:48:01.559Z"
   },
   {
    "duration": 22,
    "start_time": "2024-02-11T15:48:01.573Z"
   },
   {
    "duration": 29,
    "start_time": "2024-02-11T15:48:01.597Z"
   },
   {
    "duration": 42,
    "start_time": "2024-02-11T15:48:01.628Z"
   },
   {
    "duration": 15,
    "start_time": "2024-02-11T15:48:01.672Z"
   },
   {
    "duration": 29,
    "start_time": "2024-02-11T15:48:01.689Z"
   },
   {
    "duration": 52,
    "start_time": "2024-02-11T15:48:01.720Z"
   },
   {
    "duration": 40,
    "start_time": "2024-02-11T15:48:01.774Z"
   },
   {
    "duration": 27,
    "start_time": "2024-02-11T15:48:01.816Z"
   },
   {
    "duration": 28,
    "start_time": "2024-02-11T15:48:01.845Z"
   },
   {
    "duration": 23,
    "start_time": "2024-02-11T15:48:01.875Z"
   },
   {
    "duration": 24,
    "start_time": "2024-02-11T15:48:01.900Z"
   },
   {
    "duration": 437,
    "start_time": "2024-02-11T15:48:01.926Z"
   },
   {
    "duration": 138,
    "start_time": "2024-02-11T15:48:02.365Z"
   },
   {
    "duration": 136,
    "start_time": "2024-02-11T15:48:02.504Z"
   },
   {
    "duration": 3,
    "start_time": "2024-02-11T15:48:02.642Z"
   },
   {
    "duration": 80,
    "start_time": "2024-02-11T15:48:02.647Z"
   },
   {
    "duration": 71,
    "start_time": "2024-02-11T15:48:02.729Z"
   },
   {
    "duration": 29,
    "start_time": "2024-02-11T15:48:02.802Z"
   },
   {
    "duration": 26,
    "start_time": "2024-02-11T15:48:02.835Z"
   },
   {
    "duration": 169,
    "start_time": "2024-02-11T15:48:02.863Z"
   },
   {
    "duration": 185,
    "start_time": "2024-02-11T15:48:03.034Z"
   },
   {
    "duration": 165,
    "start_time": "2024-02-11T15:48:03.221Z"
   },
   {
    "duration": 148,
    "start_time": "2024-02-11T15:48:03.388Z"
   },
   {
    "duration": 26,
    "start_time": "2024-02-11T15:48:03.538Z"
   },
   {
    "duration": 10,
    "start_time": "2024-02-11T15:48:03.565Z"
   },
   {
    "duration": 32,
    "start_time": "2024-02-11T15:48:03.577Z"
   },
   {
    "duration": 48,
    "start_time": "2024-02-11T15:48:03.611Z"
   },
   {
    "duration": 61,
    "start_time": "2024-02-11T15:48:03.661Z"
   },
   {
    "duration": 62,
    "start_time": "2024-02-11T15:48:03.724Z"
   },
   {
    "duration": 24,
    "start_time": "2024-02-11T15:48:03.788Z"
   },
   {
    "duration": 25,
    "start_time": "2024-02-11T15:48:03.813Z"
   },
   {
    "duration": 27,
    "start_time": "2024-02-11T15:48:03.840Z"
   },
   {
    "duration": 489,
    "start_time": "2024-02-11T15:48:03.868Z"
   },
   {
    "duration": 5,
    "start_time": "2024-02-11T15:48:04.359Z"
   },
   {
    "duration": 27,
    "start_time": "2024-02-11T15:48:04.365Z"
   },
   {
    "duration": 36,
    "start_time": "2024-02-11T15:48:04.393Z"
   },
   {
    "duration": 13,
    "start_time": "2024-02-11T15:48:04.431Z"
   },
   {
    "duration": 350,
    "start_time": "2024-02-11T15:48:04.446Z"
   },
   {
    "duration": 6,
    "start_time": "2024-02-11T16:11:49.294Z"
   },
   {
    "duration": 384,
    "start_time": "2024-02-11T16:17:08.291Z"
   },
   {
    "duration": 332,
    "start_time": "2024-02-11T16:17:43.464Z"
   },
   {
    "duration": 1293,
    "start_time": "2024-02-11T16:18:43.980Z"
   },
   {
    "duration": 841,
    "start_time": "2024-02-11T16:19:34.875Z"
   },
   {
    "duration": 879,
    "start_time": "2024-02-11T16:20:21.975Z"
   },
   {
    "duration": 823,
    "start_time": "2024-02-11T16:20:33.307Z"
   },
   {
    "duration": 3,
    "start_time": "2024-02-11T16:27:16.295Z"
   },
   {
    "duration": 493,
    "start_time": "2024-02-11T16:28:15.858Z"
   },
   {
    "duration": 383,
    "start_time": "2024-02-11T16:33:22.091Z"
   },
   {
    "duration": 135,
    "start_time": "2024-02-11T16:34:40.435Z"
   },
   {
    "duration": 476,
    "start_time": "2024-02-11T16:36:18.283Z"
   },
   {
    "duration": 230,
    "start_time": "2024-02-11T16:38:36.171Z"
   },
   {
    "duration": 126,
    "start_time": "2024-02-11T16:39:40.849Z"
   },
   {
    "duration": 131,
    "start_time": "2024-02-11T16:40:13.544Z"
   },
   {
    "duration": 86,
    "start_time": "2024-02-11T16:42:43.841Z"
   },
   {
    "duration": 5,
    "start_time": "2024-02-11T16:42:58.219Z"
   },
   {
    "duration": 5,
    "start_time": "2024-02-11T16:43:32.515Z"
   },
   {
    "duration": 136,
    "start_time": "2024-02-11T16:44:21.554Z"
   },
   {
    "duration": 4,
    "start_time": "2024-02-11T16:45:25.473Z"
   },
   {
    "duration": 119,
    "start_time": "2024-02-11T16:45:48.929Z"
   },
   {
    "duration": 124,
    "start_time": "2024-02-11T16:46:08.185Z"
   },
   {
    "duration": 335,
    "start_time": "2024-02-11T16:51:48.337Z"
   },
   {
    "duration": 411,
    "start_time": "2024-02-11T16:55:22.834Z"
   },
   {
    "duration": 22,
    "start_time": "2024-02-11T16:59:18.248Z"
   },
   {
    "duration": 399,
    "start_time": "2024-02-11T16:59:55.087Z"
   },
   {
    "duration": 3,
    "start_time": "2024-02-11T17:05:40.383Z"
   },
   {
    "duration": 149,
    "start_time": "2024-02-11T17:05:57.436Z"
   },
   {
    "duration": 281,
    "start_time": "2024-02-11T17:06:07.575Z"
   },
   {
    "duration": 122,
    "start_time": "2024-02-11T17:07:21.823Z"
   },
   {
    "duration": 267,
    "start_time": "2024-02-11T17:07:25.328Z"
   },
   {
    "duration": 130,
    "start_time": "2024-02-11T17:11:25.947Z"
   },
   {
    "duration": 6,
    "start_time": "2024-02-11T17:21:39.003Z"
   },
   {
    "duration": 7,
    "start_time": "2024-02-11T17:21:54.981Z"
   },
   {
    "duration": 108,
    "start_time": "2024-02-11T17:24:49.373Z"
   },
   {
    "duration": 101,
    "start_time": "2024-02-11T17:25:04.019Z"
   },
   {
    "duration": 8,
    "start_time": "2024-02-11T17:25:36.264Z"
   },
   {
    "duration": 15,
    "start_time": "2024-02-11T17:25:58.555Z"
   },
   {
    "duration": 6,
    "start_time": "2024-02-11T17:26:06.072Z"
   },
   {
    "duration": 5,
    "start_time": "2024-02-11T17:26:24.492Z"
   },
   {
    "duration": 6,
    "start_time": "2024-02-11T17:27:41.343Z"
   },
   {
    "duration": 6,
    "start_time": "2024-02-11T17:28:04.934Z"
   },
   {
    "duration": 175,
    "start_time": "2024-02-11T17:30:51.541Z"
   },
   {
    "duration": 199,
    "start_time": "2024-02-11T17:32:58.827Z"
   },
   {
    "duration": 295,
    "start_time": "2024-02-11T17:33:58.423Z"
   },
   {
    "duration": 206,
    "start_time": "2024-02-11T17:35:29.639Z"
   },
   {
    "duration": 200,
    "start_time": "2024-02-11T17:36:00.315Z"
   },
   {
    "duration": 212,
    "start_time": "2024-02-11T17:36:16.135Z"
   },
   {
    "duration": 407,
    "start_time": "2024-02-11T17:54:16.936Z"
   },
   {
    "duration": 90,
    "start_time": "2024-02-11T17:54:17.344Z"
   },
   {
    "duration": 10,
    "start_time": "2024-02-11T17:54:17.436Z"
   },
   {
    "duration": 30,
    "start_time": "2024-02-11T17:54:17.448Z"
   },
   {
    "duration": 119,
    "start_time": "2024-02-11T17:54:17.483Z"
   },
   {
    "duration": 10,
    "start_time": "2024-02-11T17:54:17.604Z"
   },
   {
    "duration": 22,
    "start_time": "2024-02-11T17:54:17.616Z"
   },
   {
    "duration": 86,
    "start_time": "2024-02-11T17:54:17.640Z"
   },
   {
    "duration": 11,
    "start_time": "2024-02-11T17:54:17.727Z"
   },
   {
    "duration": 7,
    "start_time": "2024-02-11T17:54:17.740Z"
   },
   {
    "duration": 29,
    "start_time": "2024-02-11T17:54:17.748Z"
   },
   {
    "duration": 4,
    "start_time": "2024-02-11T17:54:17.779Z"
   },
   {
    "duration": 11,
    "start_time": "2024-02-11T17:54:17.784Z"
   },
   {
    "duration": 5,
    "start_time": "2024-02-11T17:54:17.797Z"
   },
   {
    "duration": 5,
    "start_time": "2024-02-11T17:54:17.803Z"
   },
   {
    "duration": 7,
    "start_time": "2024-02-11T17:54:17.809Z"
   },
   {
    "duration": 7,
    "start_time": "2024-02-11T17:54:17.817Z"
   },
   {
    "duration": 9,
    "start_time": "2024-02-11T17:54:17.825Z"
   },
   {
    "duration": 31,
    "start_time": "2024-02-11T17:54:17.835Z"
   },
   {
    "duration": 10,
    "start_time": "2024-02-11T17:54:17.868Z"
   },
   {
    "duration": 397,
    "start_time": "2024-02-11T17:54:17.879Z"
   },
   {
    "duration": 134,
    "start_time": "2024-02-11T17:54:18.277Z"
   },
   {
    "duration": 159,
    "start_time": "2024-02-11T17:54:18.413Z"
   },
   {
    "duration": 3,
    "start_time": "2024-02-11T17:54:18.574Z"
   },
   {
    "duration": 21,
    "start_time": "2024-02-11T17:54:18.579Z"
   },
   {
    "duration": 25,
    "start_time": "2024-02-11T17:54:18.601Z"
   },
   {
    "duration": 15,
    "start_time": "2024-02-11T17:54:18.628Z"
   },
   {
    "duration": 26,
    "start_time": "2024-02-11T17:54:18.644Z"
   },
   {
    "duration": 120,
    "start_time": "2024-02-11T17:54:18.671Z"
   },
   {
    "duration": 204,
    "start_time": "2024-02-11T17:54:18.793Z"
   },
   {
    "duration": 155,
    "start_time": "2024-02-11T17:54:18.998Z"
   },
   {
    "duration": 141,
    "start_time": "2024-02-11T17:54:19.162Z"
   },
   {
    "duration": 17,
    "start_time": "2024-02-11T17:54:19.304Z"
   },
   {
    "duration": 4,
    "start_time": "2024-02-11T17:54:19.322Z"
   },
   {
    "duration": 44,
    "start_time": "2024-02-11T17:54:19.328Z"
   },
   {
    "duration": 12,
    "start_time": "2024-02-11T17:54:19.373Z"
   },
   {
    "duration": 27,
    "start_time": "2024-02-11T17:54:19.386Z"
   },
   {
    "duration": 15,
    "start_time": "2024-02-11T17:54:19.414Z"
   },
   {
    "duration": 14,
    "start_time": "2024-02-11T17:54:19.431Z"
   },
   {
    "duration": 19,
    "start_time": "2024-02-11T17:54:19.459Z"
   },
   {
    "duration": 14,
    "start_time": "2024-02-11T17:54:19.481Z"
   },
   {
    "duration": 426,
    "start_time": "2024-02-11T17:54:19.497Z"
   },
   {
    "duration": 5,
    "start_time": "2024-02-11T17:54:19.925Z"
   },
   {
    "duration": 12,
    "start_time": "2024-02-11T17:54:19.932Z"
   },
   {
    "duration": 20,
    "start_time": "2024-02-11T17:54:19.946Z"
   },
   {
    "duration": 8,
    "start_time": "2024-02-11T17:54:19.968Z"
   },
   {
    "duration": 7,
    "start_time": "2024-02-11T17:54:19.978Z"
   },
   {
    "duration": 101,
    "start_time": "2024-02-11T17:54:19.986Z"
   },
   {
    "duration": 0,
    "start_time": "2024-02-11T17:54:20.088Z"
   },
   {
    "duration": 0,
    "start_time": "2024-02-11T17:54:20.089Z"
   },
   {
    "duration": 0,
    "start_time": "2024-02-11T17:54:20.090Z"
   },
   {
    "duration": 434,
    "start_time": "2024-02-12T07:45:13.431Z"
   },
   {
    "duration": 89,
    "start_time": "2024-02-12T07:45:13.867Z"
   },
   {
    "duration": 16,
    "start_time": "2024-02-12T07:45:13.958Z"
   },
   {
    "duration": 18,
    "start_time": "2024-02-12T07:45:13.976Z"
   },
   {
    "duration": 116,
    "start_time": "2024-02-12T07:45:13.996Z"
   },
   {
    "duration": 13,
    "start_time": "2024-02-12T07:45:14.114Z"
   },
   {
    "duration": 9,
    "start_time": "2024-02-12T07:45:14.129Z"
   },
   {
    "duration": 102,
    "start_time": "2024-02-12T07:45:14.140Z"
   },
   {
    "duration": 10,
    "start_time": "2024-02-12T07:45:14.243Z"
   },
   {
    "duration": 7,
    "start_time": "2024-02-12T07:45:14.256Z"
   },
   {
    "duration": 10,
    "start_time": "2024-02-12T07:45:14.265Z"
   },
   {
    "duration": 4,
    "start_time": "2024-02-12T07:45:14.277Z"
   },
   {
    "duration": 5,
    "start_time": "2024-02-12T07:45:14.282Z"
   },
   {
    "duration": 7,
    "start_time": "2024-02-12T07:45:14.289Z"
   },
   {
    "duration": 4,
    "start_time": "2024-02-12T07:45:14.298Z"
   },
   {
    "duration": 13,
    "start_time": "2024-02-12T07:45:14.304Z"
   },
   {
    "duration": 18,
    "start_time": "2024-02-12T07:45:14.318Z"
   },
   {
    "duration": 10,
    "start_time": "2024-02-12T07:45:14.338Z"
   },
   {
    "duration": 6,
    "start_time": "2024-02-12T07:45:14.372Z"
   },
   {
    "duration": 8,
    "start_time": "2024-02-12T07:45:14.380Z"
   },
   {
    "duration": 573,
    "start_time": "2024-02-12T07:45:14.389Z"
   },
   {
    "duration": 154,
    "start_time": "2024-02-12T07:45:14.964Z"
   },
   {
    "duration": 165,
    "start_time": "2024-02-12T07:45:15.120Z"
   },
   {
    "duration": 4,
    "start_time": "2024-02-12T07:45:15.287Z"
   },
   {
    "duration": 18,
    "start_time": "2024-02-12T07:45:15.293Z"
   },
   {
    "duration": 28,
    "start_time": "2024-02-12T07:45:15.313Z"
   },
   {
    "duration": 42,
    "start_time": "2024-02-12T07:45:15.343Z"
   },
   {
    "duration": 64,
    "start_time": "2024-02-12T07:45:15.390Z"
   },
   {
    "duration": 148,
    "start_time": "2024-02-12T07:45:15.456Z"
   },
   {
    "duration": 157,
    "start_time": "2024-02-12T07:45:15.606Z"
   },
   {
    "duration": 175,
    "start_time": "2024-02-12T07:45:15.765Z"
   },
   {
    "duration": 154,
    "start_time": "2024-02-12T07:45:15.942Z"
   },
   {
    "duration": 19,
    "start_time": "2024-02-12T07:45:16.098Z"
   },
   {
    "duration": 13,
    "start_time": "2024-02-12T07:45:16.118Z"
   },
   {
    "duration": 24,
    "start_time": "2024-02-12T07:45:16.132Z"
   },
   {
    "duration": 10,
    "start_time": "2024-02-12T07:45:16.158Z"
   },
   {
    "duration": 29,
    "start_time": "2024-02-12T07:45:16.173Z"
   },
   {
    "duration": 14,
    "start_time": "2024-02-12T07:45:16.204Z"
   },
   {
    "duration": 14,
    "start_time": "2024-02-12T07:45:16.220Z"
   },
   {
    "duration": 42,
    "start_time": "2024-02-12T07:45:16.236Z"
   },
   {
    "duration": 20,
    "start_time": "2024-02-12T07:45:16.279Z"
   },
   {
    "duration": 440,
    "start_time": "2024-02-12T07:45:16.301Z"
   },
   {
    "duration": 7,
    "start_time": "2024-02-12T07:45:16.742Z"
   },
   {
    "duration": 6,
    "start_time": "2024-02-12T07:45:16.750Z"
   },
   {
    "duration": 9,
    "start_time": "2024-02-12T07:45:16.773Z"
   },
   {
    "duration": 6,
    "start_time": "2024-02-12T07:45:16.783Z"
   },
   {
    "duration": 10,
    "start_time": "2024-02-12T07:45:16.791Z"
   },
   {
    "duration": 119,
    "start_time": "2024-02-12T07:45:16.803Z"
   },
   {
    "duration": 0,
    "start_time": "2024-02-12T07:45:16.924Z"
   },
   {
    "duration": 0,
    "start_time": "2024-02-12T07:45:16.925Z"
   },
   {
    "duration": 0,
    "start_time": "2024-02-12T07:45:16.926Z"
   },
   {
    "duration": 2,
    "start_time": "2024-02-12T07:45:51.971Z"
   },
   {
    "duration": 3,
    "start_time": "2024-02-12T07:45:53.844Z"
   },
   {
    "duration": 394,
    "start_time": "2024-02-12T07:46:02.997Z"
   },
   {
    "duration": 87,
    "start_time": "2024-02-12T07:46:03.393Z"
   },
   {
    "duration": 16,
    "start_time": "2024-02-12T07:46:03.482Z"
   },
   {
    "duration": 47,
    "start_time": "2024-02-12T07:46:03.501Z"
   },
   {
    "duration": 113,
    "start_time": "2024-02-12T07:46:03.550Z"
   },
   {
    "duration": 11,
    "start_time": "2024-02-12T07:46:03.665Z"
   },
   {
    "duration": 24,
    "start_time": "2024-02-12T07:46:03.677Z"
   },
   {
    "duration": 82,
    "start_time": "2024-02-12T07:46:03.703Z"
   },
   {
    "duration": 11,
    "start_time": "2024-02-12T07:46:03.787Z"
   },
   {
    "duration": 22,
    "start_time": "2024-02-12T07:46:03.800Z"
   },
   {
    "duration": 22,
    "start_time": "2024-02-12T07:46:03.824Z"
   },
   {
    "duration": 15,
    "start_time": "2024-02-12T07:46:03.848Z"
   },
   {
    "duration": 33,
    "start_time": "2024-02-12T07:46:03.865Z"
   },
   {
    "duration": 59,
    "start_time": "2024-02-12T07:46:03.900Z"
   },
   {
    "duration": 32,
    "start_time": "2024-02-12T07:46:03.961Z"
   },
   {
    "duration": 21,
    "start_time": "2024-02-12T07:46:03.995Z"
   },
   {
    "duration": 22,
    "start_time": "2024-02-12T07:46:04.017Z"
   },
   {
    "duration": 26,
    "start_time": "2024-02-12T07:46:04.041Z"
   },
   {
    "duration": 17,
    "start_time": "2024-02-12T07:46:04.069Z"
   },
   {
    "duration": 20,
    "start_time": "2024-02-12T07:46:04.087Z"
   },
   {
    "duration": 419,
    "start_time": "2024-02-12T07:46:04.108Z"
   },
   {
    "duration": 151,
    "start_time": "2024-02-12T07:46:04.528Z"
   },
   {
    "duration": 152,
    "start_time": "2024-02-12T07:46:04.681Z"
   },
   {
    "duration": 3,
    "start_time": "2024-02-12T07:46:04.835Z"
   },
   {
    "duration": 22,
    "start_time": "2024-02-12T07:46:04.839Z"
   },
   {
    "duration": 39,
    "start_time": "2024-02-12T07:46:04.862Z"
   },
   {
    "duration": 18,
    "start_time": "2024-02-12T07:46:04.902Z"
   },
   {
    "duration": 15,
    "start_time": "2024-02-12T07:46:04.923Z"
   },
   {
    "duration": 154,
    "start_time": "2024-02-12T07:46:04.939Z"
   },
   {
    "duration": 200,
    "start_time": "2024-02-12T07:46:05.094Z"
   },
   {
    "duration": 164,
    "start_time": "2024-02-12T07:46:05.296Z"
   },
   {
    "duration": 146,
    "start_time": "2024-02-12T07:46:05.462Z"
   },
   {
    "duration": 16,
    "start_time": "2024-02-12T07:46:05.610Z"
   },
   {
    "duration": 12,
    "start_time": "2024-02-12T07:46:05.628Z"
   },
   {
    "duration": 15,
    "start_time": "2024-02-12T07:46:05.642Z"
   },
   {
    "duration": 15,
    "start_time": "2024-02-12T07:46:05.658Z"
   },
   {
    "duration": 26,
    "start_time": "2024-02-12T07:46:05.675Z"
   },
   {
    "duration": 14,
    "start_time": "2024-02-12T07:46:05.702Z"
   },
   {
    "duration": 32,
    "start_time": "2024-02-12T07:46:05.718Z"
   },
   {
    "duration": 23,
    "start_time": "2024-02-12T07:46:05.751Z"
   },
   {
    "duration": 12,
    "start_time": "2024-02-12T07:46:05.775Z"
   },
   {
    "duration": 430,
    "start_time": "2024-02-12T07:46:05.789Z"
   },
   {
    "duration": 6,
    "start_time": "2024-02-12T07:46:06.220Z"
   },
   {
    "duration": 18,
    "start_time": "2024-02-12T07:46:06.227Z"
   },
   {
    "duration": 26,
    "start_time": "2024-02-12T07:46:06.247Z"
   },
   {
    "duration": 5,
    "start_time": "2024-02-12T07:46:06.275Z"
   },
   {
    "duration": 5,
    "start_time": "2024-02-12T07:46:06.281Z"
   },
   {
    "duration": 5,
    "start_time": "2024-02-12T07:46:06.287Z"
   },
   {
    "duration": 101,
    "start_time": "2024-02-12T07:46:06.293Z"
   },
   {
    "duration": 0,
    "start_time": "2024-02-12T07:46:06.395Z"
   },
   {
    "duration": 0,
    "start_time": "2024-02-12T07:46:06.396Z"
   },
   {
    "duration": 0,
    "start_time": "2024-02-12T07:46:06.397Z"
   },
   {
    "duration": 2,
    "start_time": "2024-02-12T07:47:49.298Z"
   },
   {
    "duration": 3,
    "start_time": "2024-02-12T07:47:50.095Z"
   },
   {
    "duration": 133,
    "start_time": "2024-02-12T07:47:53.713Z"
   },
   {
    "duration": 263,
    "start_time": "2024-02-12T07:48:31.024Z"
   },
   {
    "duration": 6,
    "start_time": "2024-02-12T07:48:43.248Z"
   },
   {
    "duration": 210,
    "start_time": "2024-02-12T07:48:44.447Z"
   },
   {
    "duration": 418,
    "start_time": "2024-02-12T07:48:54.587Z"
   },
   {
    "duration": 93,
    "start_time": "2024-02-12T07:48:55.007Z"
   },
   {
    "duration": 12,
    "start_time": "2024-02-12T07:48:55.102Z"
   },
   {
    "duration": 15,
    "start_time": "2024-02-12T07:48:55.117Z"
   },
   {
    "duration": 103,
    "start_time": "2024-02-12T07:48:55.134Z"
   },
   {
    "duration": 11,
    "start_time": "2024-02-12T07:48:55.239Z"
   },
   {
    "duration": 36,
    "start_time": "2024-02-12T07:48:55.252Z"
   },
   {
    "duration": 96,
    "start_time": "2024-02-12T07:48:55.289Z"
   },
   {
    "duration": 11,
    "start_time": "2024-02-12T07:48:55.386Z"
   },
   {
    "duration": 25,
    "start_time": "2024-02-12T07:48:55.400Z"
   },
   {
    "duration": 17,
    "start_time": "2024-02-12T07:48:55.427Z"
   },
   {
    "duration": 4,
    "start_time": "2024-02-12T07:48:55.445Z"
   },
   {
    "duration": 8,
    "start_time": "2024-02-12T07:48:55.451Z"
   },
   {
    "duration": 21,
    "start_time": "2024-02-12T07:48:55.460Z"
   },
   {
    "duration": 24,
    "start_time": "2024-02-12T07:48:55.482Z"
   },
   {
    "duration": 19,
    "start_time": "2024-02-12T07:48:55.507Z"
   },
   {
    "duration": 37,
    "start_time": "2024-02-12T07:48:55.528Z"
   },
   {
    "duration": 36,
    "start_time": "2024-02-12T07:48:55.567Z"
   },
   {
    "duration": 23,
    "start_time": "2024-02-12T07:48:55.604Z"
   },
   {
    "duration": 20,
    "start_time": "2024-02-12T07:48:55.628Z"
   },
   {
    "duration": 391,
    "start_time": "2024-02-12T07:48:55.650Z"
   },
   {
    "duration": 149,
    "start_time": "2024-02-12T07:48:56.043Z"
   },
   {
    "duration": 159,
    "start_time": "2024-02-12T07:48:56.194Z"
   },
   {
    "duration": 4,
    "start_time": "2024-02-12T07:48:56.355Z"
   },
   {
    "duration": 13,
    "start_time": "2024-02-12T07:48:56.372Z"
   },
   {
    "duration": 27,
    "start_time": "2024-02-12T07:48:56.387Z"
   },
   {
    "duration": 18,
    "start_time": "2024-02-12T07:48:56.416Z"
   },
   {
    "duration": 40,
    "start_time": "2024-02-12T07:48:56.438Z"
   },
   {
    "duration": 139,
    "start_time": "2024-02-12T07:48:56.479Z"
   },
   {
    "duration": 190,
    "start_time": "2024-02-12T07:48:56.620Z"
   },
   {
    "duration": 172,
    "start_time": "2024-02-12T07:48:56.812Z"
   },
   {
    "duration": 152,
    "start_time": "2024-02-12T07:48:56.986Z"
   },
   {
    "duration": 17,
    "start_time": "2024-02-12T07:48:57.140Z"
   },
   {
    "duration": 14,
    "start_time": "2024-02-12T07:48:57.158Z"
   },
   {
    "duration": 9,
    "start_time": "2024-02-12T07:48:57.174Z"
   },
   {
    "duration": 9,
    "start_time": "2024-02-12T07:48:57.185Z"
   },
   {
    "duration": 27,
    "start_time": "2024-02-12T07:48:57.195Z"
   },
   {
    "duration": 14,
    "start_time": "2024-02-12T07:48:57.224Z"
   },
   {
    "duration": 46,
    "start_time": "2024-02-12T07:48:57.239Z"
   },
   {
    "duration": 16,
    "start_time": "2024-02-12T07:48:57.287Z"
   },
   {
    "duration": 13,
    "start_time": "2024-02-12T07:48:57.305Z"
   },
   {
    "duration": 481,
    "start_time": "2024-02-12T07:48:57.320Z"
   },
   {
    "duration": 8,
    "start_time": "2024-02-12T07:48:57.802Z"
   },
   {
    "duration": 6,
    "start_time": "2024-02-12T07:48:57.811Z"
   },
   {
    "duration": 10,
    "start_time": "2024-02-12T07:48:57.818Z"
   },
   {
    "duration": 5,
    "start_time": "2024-02-12T07:48:57.830Z"
   },
   {
    "duration": 4,
    "start_time": "2024-02-12T07:48:57.837Z"
   },
   {
    "duration": 6,
    "start_time": "2024-02-12T07:48:57.843Z"
   },
   {
    "duration": 148,
    "start_time": "2024-02-12T07:48:57.873Z"
   },
   {
    "duration": 275,
    "start_time": "2024-02-12T07:48:58.023Z"
   },
   {
    "duration": 5,
    "start_time": "2024-02-12T07:48:58.300Z"
   },
   {
    "duration": 218,
    "start_time": "2024-02-12T07:48:58.307Z"
   },
   {
    "duration": 368,
    "start_time": "2024-02-12T07:58:45.730Z"
   },
   {
    "duration": 98,
    "start_time": "2024-02-12T07:58:46.100Z"
   },
   {
    "duration": 12,
    "start_time": "2024-02-12T07:58:46.200Z"
   },
   {
    "duration": 14,
    "start_time": "2024-02-12T07:58:46.214Z"
   },
   {
    "duration": 101,
    "start_time": "2024-02-12T07:58:46.230Z"
   },
   {
    "duration": 12,
    "start_time": "2024-02-12T07:58:46.333Z"
   },
   {
    "duration": 9,
    "start_time": "2024-02-12T07:58:46.346Z"
   },
   {
    "duration": 78,
    "start_time": "2024-02-12T07:58:46.356Z"
   },
   {
    "duration": 11,
    "start_time": "2024-02-12T07:58:46.436Z"
   },
   {
    "duration": 8,
    "start_time": "2024-02-12T07:58:46.451Z"
   },
   {
    "duration": 11,
    "start_time": "2024-02-12T07:58:46.460Z"
   },
   {
    "duration": 7,
    "start_time": "2024-02-12T07:58:46.472Z"
   },
   {
    "duration": 7,
    "start_time": "2024-02-12T07:58:46.480Z"
   },
   {
    "duration": 6,
    "start_time": "2024-02-12T07:58:46.488Z"
   },
   {
    "duration": 8,
    "start_time": "2024-02-12T07:58:46.495Z"
   },
   {
    "duration": 11,
    "start_time": "2024-02-12T07:58:46.504Z"
   },
   {
    "duration": 8,
    "start_time": "2024-02-12T07:58:46.516Z"
   },
   {
    "duration": 10,
    "start_time": "2024-02-12T07:58:46.526Z"
   },
   {
    "duration": 8,
    "start_time": "2024-02-12T07:58:46.537Z"
   },
   {
    "duration": 6,
    "start_time": "2024-02-12T07:58:46.573Z"
   },
   {
    "duration": 408,
    "start_time": "2024-02-12T07:58:46.580Z"
   },
   {
    "duration": 168,
    "start_time": "2024-02-12T07:58:46.990Z"
   },
   {
    "duration": 151,
    "start_time": "2024-02-12T07:58:47.160Z"
   },
   {
    "duration": 4,
    "start_time": "2024-02-12T07:58:47.313Z"
   },
   {
    "duration": 14,
    "start_time": "2024-02-12T07:58:47.318Z"
   },
   {
    "duration": 43,
    "start_time": "2024-02-12T07:58:47.333Z"
   },
   {
    "duration": 17,
    "start_time": "2024-02-12T07:58:47.378Z"
   },
   {
    "duration": 15,
    "start_time": "2024-02-12T07:58:47.398Z"
   },
   {
    "duration": 165,
    "start_time": "2024-02-12T07:58:47.415Z"
   },
   {
    "duration": 196,
    "start_time": "2024-02-12T07:58:47.581Z"
   },
   {
    "duration": 166,
    "start_time": "2024-02-12T07:58:47.778Z"
   },
   {
    "duration": 148,
    "start_time": "2024-02-12T07:58:47.945Z"
   },
   {
    "duration": 18,
    "start_time": "2024-02-12T07:58:48.094Z"
   },
   {
    "duration": 8,
    "start_time": "2024-02-12T07:58:48.114Z"
   },
   {
    "duration": 13,
    "start_time": "2024-02-12T07:58:48.124Z"
   },
   {
    "duration": 16,
    "start_time": "2024-02-12T07:58:48.139Z"
   },
   {
    "duration": 46,
    "start_time": "2024-02-12T07:58:48.156Z"
   },
   {
    "duration": 17,
    "start_time": "2024-02-12T07:58:48.204Z"
   },
   {
    "duration": 16,
    "start_time": "2024-02-12T07:58:48.222Z"
   },
   {
    "duration": 43,
    "start_time": "2024-02-12T07:58:48.240Z"
   },
   {
    "duration": 15,
    "start_time": "2024-02-12T07:58:48.285Z"
   },
   {
    "duration": 403,
    "start_time": "2024-02-12T07:58:48.301Z"
   },
   {
    "duration": 6,
    "start_time": "2024-02-12T07:58:48.706Z"
   },
   {
    "duration": 9,
    "start_time": "2024-02-12T07:58:48.714Z"
   },
   {
    "duration": 9,
    "start_time": "2024-02-12T07:58:48.725Z"
   },
   {
    "duration": 4,
    "start_time": "2024-02-12T07:58:48.736Z"
   },
   {
    "duration": 5,
    "start_time": "2024-02-12T07:58:48.742Z"
   },
   {
    "duration": 3,
    "start_time": "2024-02-12T07:58:48.773Z"
   },
   {
    "duration": 152,
    "start_time": "2024-02-12T07:58:48.777Z"
   },
   {
    "duration": 284,
    "start_time": "2024-02-12T07:58:48.930Z"
   },
   {
    "duration": 6,
    "start_time": "2024-02-12T07:58:49.215Z"
   },
   {
    "duration": 218,
    "start_time": "2024-02-12T07:58:49.223Z"
   },
   {
    "duration": 430,
    "start_time": "2024-02-12T07:59:08.463Z"
   },
   {
    "duration": 85,
    "start_time": "2024-02-12T07:59:08.895Z"
   },
   {
    "duration": 10,
    "start_time": "2024-02-12T07:59:08.982Z"
   },
   {
    "duration": 50,
    "start_time": "2024-02-12T07:59:08.994Z"
   },
   {
    "duration": 104,
    "start_time": "2024-02-12T07:59:09.046Z"
   },
   {
    "duration": 10,
    "start_time": "2024-02-12T07:59:09.151Z"
   },
   {
    "duration": 34,
    "start_time": "2024-02-12T07:59:09.163Z"
   },
   {
    "duration": 94,
    "start_time": "2024-02-12T07:59:09.199Z"
   },
   {
    "duration": 10,
    "start_time": "2024-02-12T07:59:09.295Z"
   },
   {
    "duration": 11,
    "start_time": "2024-02-12T07:59:09.306Z"
   },
   {
    "duration": 10,
    "start_time": "2024-02-12T07:59:09.318Z"
   },
   {
    "duration": 4,
    "start_time": "2024-02-12T07:59:09.329Z"
   },
   {
    "duration": 29,
    "start_time": "2024-02-12T07:59:09.335Z"
   },
   {
    "duration": 27,
    "start_time": "2024-02-12T07:59:09.367Z"
   },
   {
    "duration": 34,
    "start_time": "2024-02-12T07:59:09.395Z"
   },
   {
    "duration": 43,
    "start_time": "2024-02-12T07:59:09.430Z"
   },
   {
    "duration": 31,
    "start_time": "2024-02-12T07:59:09.474Z"
   },
   {
    "duration": 50,
    "start_time": "2024-02-12T07:59:09.506Z"
   },
   {
    "duration": 54,
    "start_time": "2024-02-12T07:59:09.557Z"
   },
   {
    "duration": 25,
    "start_time": "2024-02-12T07:59:09.613Z"
   },
   {
    "duration": 412,
    "start_time": "2024-02-12T07:59:09.639Z"
   },
   {
    "duration": 144,
    "start_time": "2024-02-12T07:59:10.052Z"
   },
   {
    "duration": 147,
    "start_time": "2024-02-12T07:59:10.197Z"
   },
   {
    "duration": 3,
    "start_time": "2024-02-12T07:59:10.346Z"
   },
   {
    "duration": 24,
    "start_time": "2024-02-12T07:59:10.351Z"
   },
   {
    "duration": 47,
    "start_time": "2024-02-12T07:59:10.376Z"
   },
   {
    "duration": 16,
    "start_time": "2024-02-12T07:59:10.425Z"
   },
   {
    "duration": 14,
    "start_time": "2024-02-12T07:59:10.443Z"
   },
   {
    "duration": 132,
    "start_time": "2024-02-12T07:59:10.458Z"
   },
   {
    "duration": 191,
    "start_time": "2024-02-12T07:59:10.591Z"
   },
   {
    "duration": 170,
    "start_time": "2024-02-12T07:59:10.784Z"
   },
   {
    "duration": 168,
    "start_time": "2024-02-12T07:59:10.956Z"
   },
   {
    "duration": 17,
    "start_time": "2024-02-12T07:59:11.126Z"
   },
   {
    "duration": 21,
    "start_time": "2024-02-12T07:59:11.144Z"
   },
   {
    "duration": 11,
    "start_time": "2024-02-12T07:59:11.166Z"
   },
   {
    "duration": 9,
    "start_time": "2024-02-12T07:59:11.179Z"
   },
   {
    "duration": 32,
    "start_time": "2024-02-12T07:59:11.190Z"
   },
   {
    "duration": 18,
    "start_time": "2024-02-12T07:59:11.224Z"
   },
   {
    "duration": 32,
    "start_time": "2024-02-12T07:59:11.243Z"
   },
   {
    "duration": 15,
    "start_time": "2024-02-12T07:59:11.277Z"
   },
   {
    "duration": 15,
    "start_time": "2024-02-12T07:59:11.296Z"
   },
   {
    "duration": 453,
    "start_time": "2024-02-12T07:59:11.312Z"
   },
   {
    "duration": 10,
    "start_time": "2024-02-12T07:59:11.766Z"
   },
   {
    "duration": 23,
    "start_time": "2024-02-12T07:59:11.778Z"
   },
   {
    "duration": 9,
    "start_time": "2024-02-12T07:59:11.803Z"
   },
   {
    "duration": 6,
    "start_time": "2024-02-12T07:59:11.813Z"
   },
   {
    "duration": 3,
    "start_time": "2024-02-12T07:59:11.821Z"
   },
   {
    "duration": 3,
    "start_time": "2024-02-12T07:59:11.825Z"
   },
   {
    "duration": 146,
    "start_time": "2024-02-12T07:59:11.830Z"
   },
   {
    "duration": 309,
    "start_time": "2024-02-12T07:59:11.978Z"
   },
   {
    "duration": 5,
    "start_time": "2024-02-12T07:59:12.289Z"
   },
   {
    "duration": 224,
    "start_time": "2024-02-12T07:59:12.296Z"
   },
   {
    "duration": 417,
    "start_time": "2024-02-12T13:23:13.497Z"
   },
   {
    "duration": 118,
    "start_time": "2024-02-12T13:23:13.916Z"
   },
   {
    "duration": 13,
    "start_time": "2024-02-12T13:23:14.035Z"
   },
   {
    "duration": 18,
    "start_time": "2024-02-12T13:23:14.050Z"
   },
   {
    "duration": 173,
    "start_time": "2024-02-12T13:23:14.069Z"
   },
   {
    "duration": 13,
    "start_time": "2024-02-12T13:23:14.244Z"
   },
   {
    "duration": 13,
    "start_time": "2024-02-12T13:23:14.259Z"
   },
   {
    "duration": 136,
    "start_time": "2024-02-12T13:23:14.274Z"
   },
   {
    "duration": 15,
    "start_time": "2024-02-12T13:23:14.412Z"
   },
   {
    "duration": 8,
    "start_time": "2024-02-12T13:23:14.432Z"
   },
   {
    "duration": 10,
    "start_time": "2024-02-12T13:23:14.442Z"
   },
   {
    "duration": 5,
    "start_time": "2024-02-12T13:23:14.454Z"
   },
   {
    "duration": 6,
    "start_time": "2024-02-12T13:23:14.461Z"
   },
   {
    "duration": 14,
    "start_time": "2024-02-12T13:23:14.469Z"
   },
   {
    "duration": 8,
    "start_time": "2024-02-12T13:23:14.484Z"
   },
   {
    "duration": 16,
    "start_time": "2024-02-12T13:23:14.494Z"
   },
   {
    "duration": 14,
    "start_time": "2024-02-12T13:23:14.513Z"
   },
   {
    "duration": 39,
    "start_time": "2024-02-12T13:23:14.529Z"
   },
   {
    "duration": 9,
    "start_time": "2024-02-12T13:23:14.569Z"
   },
   {
    "duration": 10,
    "start_time": "2024-02-12T13:23:14.579Z"
   },
   {
    "duration": 653,
    "start_time": "2024-02-12T13:23:14.591Z"
   },
   {
    "duration": 166,
    "start_time": "2024-02-12T13:23:15.246Z"
   },
   {
    "duration": 162,
    "start_time": "2024-02-12T13:23:15.413Z"
   },
   {
    "duration": 3,
    "start_time": "2024-02-12T13:23:15.577Z"
   },
   {
    "duration": 14,
    "start_time": "2024-02-12T13:23:15.582Z"
   },
   {
    "duration": 33,
    "start_time": "2024-02-12T13:23:15.597Z"
   },
   {
    "duration": 46,
    "start_time": "2024-02-12T13:23:15.631Z"
   },
   {
    "duration": 98,
    "start_time": "2024-02-12T13:23:15.681Z"
   },
   {
    "duration": 150,
    "start_time": "2024-02-12T13:23:15.781Z"
   },
   {
    "duration": 166,
    "start_time": "2024-02-12T13:23:15.932Z"
   },
   {
    "duration": 189,
    "start_time": "2024-02-12T13:23:16.100Z"
   },
   {
    "duration": 166,
    "start_time": "2024-02-12T13:23:16.291Z"
   },
   {
    "duration": 19,
    "start_time": "2024-02-12T13:23:16.458Z"
   },
   {
    "duration": 12,
    "start_time": "2024-02-12T13:23:16.479Z"
   },
   {
    "duration": 33,
    "start_time": "2024-02-12T13:23:16.493Z"
   },
   {
    "duration": 18,
    "start_time": "2024-02-12T13:23:16.528Z"
   },
   {
    "duration": 33,
    "start_time": "2024-02-12T13:23:16.547Z"
   },
   {
    "duration": 17,
    "start_time": "2024-02-12T13:23:16.581Z"
   },
   {
    "duration": 17,
    "start_time": "2024-02-12T13:23:16.600Z"
   },
   {
    "duration": 15,
    "start_time": "2024-02-12T13:23:16.619Z"
   },
   {
    "duration": 35,
    "start_time": "2024-02-12T13:23:16.636Z"
   },
   {
    "duration": 470,
    "start_time": "2024-02-12T13:23:16.673Z"
   },
   {
    "duration": 7,
    "start_time": "2024-02-12T13:23:17.145Z"
   },
   {
    "duration": 8,
    "start_time": "2024-02-12T13:23:17.159Z"
   },
   {
    "duration": 12,
    "start_time": "2024-02-12T13:23:17.168Z"
   },
   {
    "duration": 7,
    "start_time": "2024-02-12T13:23:17.183Z"
   },
   {
    "duration": 3,
    "start_time": "2024-02-12T13:23:17.192Z"
   },
   {
    "duration": 3,
    "start_time": "2024-02-12T13:23:17.197Z"
   },
   {
    "duration": 195,
    "start_time": "2024-02-12T13:23:17.202Z"
   },
   {
    "duration": 350,
    "start_time": "2024-02-12T13:23:17.399Z"
   },
   {
    "duration": 11,
    "start_time": "2024-02-12T13:23:17.751Z"
   },
   {
    "duration": 306,
    "start_time": "2024-02-12T13:23:17.763Z"
   },
   {
    "duration": 222,
    "start_time": "2024-02-12T13:23:29.809Z"
   },
   {
    "duration": 21,
    "start_time": "2024-02-12T13:27:46.175Z"
   },
   {
    "duration": 7,
    "start_time": "2024-02-12T13:31:55.620Z"
   },
   {
    "duration": 449,
    "start_time": "2024-02-12T13:36:54.587Z"
   },
   {
    "duration": 93,
    "start_time": "2024-02-12T13:36:55.038Z"
   },
   {
    "duration": 13,
    "start_time": "2024-02-12T13:36:55.134Z"
   },
   {
    "duration": 32,
    "start_time": "2024-02-12T13:36:55.149Z"
   },
   {
    "duration": 96,
    "start_time": "2024-02-12T13:36:55.184Z"
   },
   {
    "duration": 13,
    "start_time": "2024-02-12T13:36:55.282Z"
   },
   {
    "duration": 59,
    "start_time": "2024-02-12T13:36:55.298Z"
   },
   {
    "duration": 105,
    "start_time": "2024-02-12T13:36:55.359Z"
   },
   {
    "duration": 13,
    "start_time": "2024-02-12T13:36:55.466Z"
   },
   {
    "duration": 32,
    "start_time": "2024-02-12T13:36:55.482Z"
   },
   {
    "duration": 46,
    "start_time": "2024-02-12T13:36:55.516Z"
   },
   {
    "duration": 18,
    "start_time": "2024-02-12T13:36:55.564Z"
   },
   {
    "duration": 9,
    "start_time": "2024-02-12T13:36:55.584Z"
   },
   {
    "duration": 20,
    "start_time": "2024-02-12T13:36:55.594Z"
   },
   {
    "duration": 7,
    "start_time": "2024-02-12T13:36:55.616Z"
   },
   {
    "duration": 17,
    "start_time": "2024-02-12T13:36:55.624Z"
   },
   {
    "duration": 22,
    "start_time": "2024-02-12T13:36:55.643Z"
   },
   {
    "duration": 20,
    "start_time": "2024-02-12T13:36:55.667Z"
   },
   {
    "duration": 40,
    "start_time": "2024-02-12T13:36:55.689Z"
   },
   {
    "duration": 30,
    "start_time": "2024-02-12T13:36:55.730Z"
   },
   {
    "duration": 478,
    "start_time": "2024-02-12T13:36:55.762Z"
   },
   {
    "duration": 174,
    "start_time": "2024-02-12T13:36:56.242Z"
   },
   {
    "duration": 171,
    "start_time": "2024-02-12T13:36:56.417Z"
   },
   {
    "duration": 4,
    "start_time": "2024-02-12T13:36:56.590Z"
   },
   {
    "duration": 14,
    "start_time": "2024-02-12T13:36:56.595Z"
   },
   {
    "duration": 49,
    "start_time": "2024-02-12T13:36:56.610Z"
   },
   {
    "duration": 20,
    "start_time": "2024-02-12T13:36:56.661Z"
   },
   {
    "duration": 19,
    "start_time": "2024-02-12T13:36:56.685Z"
   },
   {
    "duration": 169,
    "start_time": "2024-02-12T13:36:56.706Z"
   },
   {
    "duration": 234,
    "start_time": "2024-02-12T13:36:56.877Z"
   },
   {
    "duration": 217,
    "start_time": "2024-02-12T13:36:57.113Z"
   },
   {
    "duration": 161,
    "start_time": "2024-02-12T13:36:57.332Z"
   },
   {
    "duration": 18,
    "start_time": "2024-02-12T13:36:57.495Z"
   },
   {
    "duration": 12,
    "start_time": "2024-02-12T13:36:57.515Z"
   },
   {
    "duration": 13,
    "start_time": "2024-02-12T13:36:57.529Z"
   },
   {
    "duration": 28,
    "start_time": "2024-02-12T13:36:57.544Z"
   },
   {
    "duration": 56,
    "start_time": "2024-02-12T13:36:57.573Z"
   },
   {
    "duration": 28,
    "start_time": "2024-02-12T13:36:57.630Z"
   },
   {
    "duration": 17,
    "start_time": "2024-02-12T13:36:57.660Z"
   },
   {
    "duration": 16,
    "start_time": "2024-02-12T13:36:57.678Z"
   },
   {
    "duration": 16,
    "start_time": "2024-02-12T13:36:57.695Z"
   },
   {
    "duration": 509,
    "start_time": "2024-02-12T13:36:57.713Z"
   },
   {
    "duration": 7,
    "start_time": "2024-02-12T13:36:58.224Z"
   },
   {
    "duration": 11,
    "start_time": "2024-02-12T13:36:58.233Z"
   },
   {
    "duration": 10,
    "start_time": "2024-02-12T13:36:58.259Z"
   },
   {
    "duration": 14,
    "start_time": "2024-02-12T13:36:58.271Z"
   },
   {
    "duration": 14,
    "start_time": "2024-02-12T13:36:58.287Z"
   },
   {
    "duration": 13,
    "start_time": "2024-02-12T13:36:58.303Z"
   },
   {
    "duration": 165,
    "start_time": "2024-02-12T13:36:58.318Z"
   },
   {
    "duration": 296,
    "start_time": "2024-02-12T13:36:58.484Z"
   },
   {
    "duration": 6,
    "start_time": "2024-02-12T13:36:58.782Z"
   },
   {
    "duration": 237,
    "start_time": "2024-02-12T13:36:58.790Z"
   },
   {
    "duration": 72,
    "start_time": "2024-02-12T17:03:04.567Z"
   },
   {
    "duration": 96,
    "start_time": "2024-02-12T17:03:16.972Z"
   },
   {
    "duration": 84,
    "start_time": "2024-02-12T17:03:24.124Z"
   },
   {
    "duration": 0,
    "start_time": "2024-02-12T17:03:24.211Z"
   },
   {
    "duration": 0,
    "start_time": "2024-02-12T17:03:24.212Z"
   },
   {
    "duration": 0,
    "start_time": "2024-02-12T17:03:24.213Z"
   },
   {
    "duration": 0,
    "start_time": "2024-02-12T17:03:24.214Z"
   },
   {
    "duration": 0,
    "start_time": "2024-02-12T17:03:24.215Z"
   },
   {
    "duration": 0,
    "start_time": "2024-02-12T17:03:24.216Z"
   },
   {
    "duration": 0,
    "start_time": "2024-02-12T17:03:24.217Z"
   },
   {
    "duration": 0,
    "start_time": "2024-02-12T17:03:24.218Z"
   },
   {
    "duration": 1,
    "start_time": "2024-02-12T17:03:24.218Z"
   },
   {
    "duration": 0,
    "start_time": "2024-02-12T17:03:24.220Z"
   },
   {
    "duration": 0,
    "start_time": "2024-02-12T17:03:24.221Z"
   },
   {
    "duration": 0,
    "start_time": "2024-02-12T17:03:24.222Z"
   },
   {
    "duration": 0,
    "start_time": "2024-02-12T17:03:24.223Z"
   },
   {
    "duration": 0,
    "start_time": "2024-02-12T17:03:24.224Z"
   },
   {
    "duration": 0,
    "start_time": "2024-02-12T17:03:24.224Z"
   },
   {
    "duration": 0,
    "start_time": "2024-02-12T17:03:24.226Z"
   },
   {
    "duration": 0,
    "start_time": "2024-02-12T17:03:24.227Z"
   },
   {
    "duration": 0,
    "start_time": "2024-02-12T17:03:24.228Z"
   },
   {
    "duration": 0,
    "start_time": "2024-02-12T17:03:24.229Z"
   },
   {
    "duration": 0,
    "start_time": "2024-02-12T17:03:24.230Z"
   },
   {
    "duration": 0,
    "start_time": "2024-02-12T17:03:24.231Z"
   },
   {
    "duration": 0,
    "start_time": "2024-02-12T17:03:24.231Z"
   },
   {
    "duration": 0,
    "start_time": "2024-02-12T17:03:24.232Z"
   },
   {
    "duration": 0,
    "start_time": "2024-02-12T17:03:24.233Z"
   },
   {
    "duration": 0,
    "start_time": "2024-02-12T17:03:24.234Z"
   },
   {
    "duration": 0,
    "start_time": "2024-02-12T17:03:24.235Z"
   },
   {
    "duration": 0,
    "start_time": "2024-02-12T17:03:24.236Z"
   },
   {
    "duration": 0,
    "start_time": "2024-02-12T17:03:24.237Z"
   },
   {
    "duration": 0,
    "start_time": "2024-02-12T17:03:24.237Z"
   },
   {
    "duration": 0,
    "start_time": "2024-02-12T17:03:24.238Z"
   },
   {
    "duration": 0,
    "start_time": "2024-02-12T17:03:24.239Z"
   },
   {
    "duration": 0,
    "start_time": "2024-02-12T17:03:24.240Z"
   },
   {
    "duration": 0,
    "start_time": "2024-02-12T17:03:24.241Z"
   },
   {
    "duration": 0,
    "start_time": "2024-02-12T17:03:24.242Z"
   },
   {
    "duration": 0,
    "start_time": "2024-02-12T17:03:24.243Z"
   },
   {
    "duration": 0,
    "start_time": "2024-02-12T17:03:24.244Z"
   },
   {
    "duration": 0,
    "start_time": "2024-02-12T17:03:24.245Z"
   },
   {
    "duration": 0,
    "start_time": "2024-02-12T17:03:24.246Z"
   },
   {
    "duration": 0,
    "start_time": "2024-02-12T17:03:24.247Z"
   },
   {
    "duration": 0,
    "start_time": "2024-02-12T17:03:24.248Z"
   },
   {
    "duration": 0,
    "start_time": "2024-02-12T17:03:24.249Z"
   },
   {
    "duration": 0,
    "start_time": "2024-02-12T17:03:24.250Z"
   },
   {
    "duration": 0,
    "start_time": "2024-02-12T17:03:24.251Z"
   },
   {
    "duration": 0,
    "start_time": "2024-02-12T17:03:24.252Z"
   },
   {
    "duration": 0,
    "start_time": "2024-02-12T17:03:24.253Z"
   },
   {
    "duration": 0,
    "start_time": "2024-02-12T17:03:24.255Z"
   },
   {
    "duration": 0,
    "start_time": "2024-02-12T17:03:24.256Z"
   },
   {
    "duration": 0,
    "start_time": "2024-02-12T17:03:24.317Z"
   },
   {
    "duration": 0,
    "start_time": "2024-02-12T17:03:24.318Z"
   },
   {
    "duration": 0,
    "start_time": "2024-02-12T17:03:24.319Z"
   },
   {
    "duration": 0,
    "start_time": "2024-02-12T17:03:24.320Z"
   },
   {
    "duration": 0,
    "start_time": "2024-02-12T17:03:24.321Z"
   },
   {
    "duration": 97,
    "start_time": "2024-02-12T17:03:49.986Z"
   },
   {
    "duration": 78,
    "start_time": "2024-02-12T17:05:02.111Z"
   },
   {
    "duration": 45,
    "start_time": "2024-02-12T17:05:39.327Z"
   },
   {
    "duration": 368,
    "start_time": "2024-02-12T17:05:47.851Z"
   },
   {
    "duration": 105,
    "start_time": "2024-02-12T17:05:48.221Z"
   },
   {
    "duration": 10,
    "start_time": "2024-02-12T17:05:48.328Z"
   },
   {
    "duration": 20,
    "start_time": "2024-02-12T17:05:48.340Z"
   },
   {
    "duration": 150,
    "start_time": "2024-02-12T17:05:48.362Z"
   },
   {
    "duration": 12,
    "start_time": "2024-02-12T17:05:48.513Z"
   },
   {
    "duration": 39,
    "start_time": "2024-02-12T17:05:48.526Z"
   },
   {
    "duration": 122,
    "start_time": "2024-02-12T17:05:48.567Z"
   },
   {
    "duration": 9,
    "start_time": "2024-02-12T17:05:48.691Z"
   },
   {
    "duration": 31,
    "start_time": "2024-02-12T17:05:48.702Z"
   },
   {
    "duration": 17,
    "start_time": "2024-02-12T17:05:48.735Z"
   },
   {
    "duration": 13,
    "start_time": "2024-02-12T17:05:48.753Z"
   },
   {
    "duration": 18,
    "start_time": "2024-02-12T17:05:48.767Z"
   },
   {
    "duration": 25,
    "start_time": "2024-02-12T17:05:48.788Z"
   },
   {
    "duration": 14,
    "start_time": "2024-02-12T17:05:48.814Z"
   },
   {
    "duration": 23,
    "start_time": "2024-02-12T17:05:48.830Z"
   },
   {
    "duration": 31,
    "start_time": "2024-02-12T17:05:48.854Z"
   },
   {
    "duration": 43,
    "start_time": "2024-02-12T17:05:48.886Z"
   },
   {
    "duration": 17,
    "start_time": "2024-02-12T17:05:48.930Z"
   },
   {
    "duration": 32,
    "start_time": "2024-02-12T17:05:48.948Z"
   },
   {
    "duration": 528,
    "start_time": "2024-02-12T17:05:48.982Z"
   },
   {
    "duration": 144,
    "start_time": "2024-02-12T17:05:49.512Z"
   },
   {
    "duration": 145,
    "start_time": "2024-02-12T17:05:49.658Z"
   },
   {
    "duration": 4,
    "start_time": "2024-02-12T17:05:49.804Z"
   },
   {
    "duration": 32,
    "start_time": "2024-02-12T17:05:49.809Z"
   },
   {
    "duration": 53,
    "start_time": "2024-02-12T17:05:49.843Z"
   },
   {
    "duration": 16,
    "start_time": "2024-02-12T17:05:49.898Z"
   },
   {
    "duration": 75,
    "start_time": "2024-02-12T17:05:49.916Z"
   },
   {
    "duration": 129,
    "start_time": "2024-02-12T17:05:49.992Z"
   },
   {
    "duration": 144,
    "start_time": "2024-02-12T17:05:50.122Z"
   },
   {
    "duration": 145,
    "start_time": "2024-02-12T17:05:50.267Z"
   },
   {
    "duration": 129,
    "start_time": "2024-02-12T17:05:50.413Z"
   },
   {
    "duration": 15,
    "start_time": "2024-02-12T17:05:50.543Z"
   },
   {
    "duration": 20,
    "start_time": "2024-02-12T17:05:50.560Z"
   },
   {
    "duration": 31,
    "start_time": "2024-02-12T17:05:50.581Z"
   },
   {
    "duration": 29,
    "start_time": "2024-02-12T17:05:50.613Z"
   },
   {
    "duration": 26,
    "start_time": "2024-02-12T17:05:50.643Z"
   },
   {
    "duration": 17,
    "start_time": "2024-02-12T17:05:50.671Z"
   },
   {
    "duration": 13,
    "start_time": "2024-02-12T17:05:50.690Z"
   },
   {
    "duration": 15,
    "start_time": "2024-02-12T17:05:50.704Z"
   },
   {
    "duration": 29,
    "start_time": "2024-02-12T17:05:50.722Z"
   },
   {
    "duration": 445,
    "start_time": "2024-02-12T17:05:50.752Z"
   },
   {
    "duration": 6,
    "start_time": "2024-02-12T17:05:51.199Z"
   },
   {
    "duration": 35,
    "start_time": "2024-02-12T17:05:51.206Z"
   },
   {
    "duration": 17,
    "start_time": "2024-02-12T17:05:51.243Z"
   },
   {
    "duration": 10,
    "start_time": "2024-02-12T17:05:51.262Z"
   },
   {
    "duration": 34,
    "start_time": "2024-02-12T17:05:51.274Z"
   },
   {
    "duration": 10,
    "start_time": "2024-02-12T17:05:51.309Z"
   },
   {
    "duration": 121,
    "start_time": "2024-02-12T17:05:51.321Z"
   },
   {
    "duration": 306,
    "start_time": "2024-02-12T17:05:51.444Z"
   },
   {
    "duration": 5,
    "start_time": "2024-02-12T17:05:51.752Z"
   },
   {
    "duration": 260,
    "start_time": "2024-02-12T17:05:51.758Z"
   },
   {
    "duration": 4,
    "start_time": "2024-02-12T17:22:53.196Z"
   },
   {
    "duration": 3,
    "start_time": "2024-02-12T17:22:56.037Z"
   },
   {
    "duration": 5,
    "start_time": "2024-02-12T17:23:20.452Z"
   },
   {
    "duration": 4,
    "start_time": "2024-02-12T17:23:48.148Z"
   },
   {
    "duration": 107,
    "start_time": "2024-02-12T17:29:47.836Z"
   },
   {
    "duration": 190,
    "start_time": "2024-02-12T17:31:19.517Z"
   },
   {
    "duration": 13,
    "start_time": "2024-02-12T17:33:27.897Z"
   },
   {
    "duration": 448,
    "start_time": "2024-02-12T17:33:42.211Z"
   },
   {
    "duration": 95,
    "start_time": "2024-02-12T17:33:42.662Z"
   },
   {
    "duration": 13,
    "start_time": "2024-02-12T17:33:42.758Z"
   },
   {
    "duration": 18,
    "start_time": "2024-02-12T17:33:42.772Z"
   },
   {
    "duration": 103,
    "start_time": "2024-02-12T17:33:42.792Z"
   },
   {
    "duration": 16,
    "start_time": "2024-02-12T17:33:42.896Z"
   },
   {
    "duration": 12,
    "start_time": "2024-02-12T17:33:42.914Z"
   },
   {
    "duration": 93,
    "start_time": "2024-02-12T17:33:42.929Z"
   },
   {
    "duration": 15,
    "start_time": "2024-02-12T17:33:43.025Z"
   },
   {
    "duration": 9,
    "start_time": "2024-02-12T17:33:43.042Z"
   },
   {
    "duration": 14,
    "start_time": "2024-02-12T17:33:43.054Z"
   },
   {
    "duration": 8,
    "start_time": "2024-02-12T17:33:43.070Z"
   },
   {
    "duration": 45,
    "start_time": "2024-02-12T17:33:43.080Z"
   },
   {
    "duration": 8,
    "start_time": "2024-02-12T17:33:43.131Z"
   },
   {
    "duration": 7,
    "start_time": "2024-02-12T17:33:43.142Z"
   },
   {
    "duration": 5,
    "start_time": "2024-02-12T17:33:43.151Z"
   },
   {
    "duration": 7,
    "start_time": "2024-02-12T17:33:43.158Z"
   },
   {
    "duration": 10,
    "start_time": "2024-02-12T17:33:43.167Z"
   },
   {
    "duration": 13,
    "start_time": "2024-02-12T17:33:43.219Z"
   },
   {
    "duration": 17,
    "start_time": "2024-02-12T17:33:43.234Z"
   },
   {
    "duration": 10,
    "start_time": "2024-02-12T17:33:43.258Z"
   },
   {
    "duration": 106,
    "start_time": "2024-02-12T17:33:43.271Z"
   },
   {
    "duration": 0,
    "start_time": "2024-02-12T17:33:43.379Z"
   },
   {
    "duration": 0,
    "start_time": "2024-02-12T17:33:43.381Z"
   },
   {
    "duration": 0,
    "start_time": "2024-02-12T17:33:43.381Z"
   },
   {
    "duration": 0,
    "start_time": "2024-02-12T17:33:43.383Z"
   },
   {
    "duration": 0,
    "start_time": "2024-02-12T17:33:43.383Z"
   },
   {
    "duration": 0,
    "start_time": "2024-02-12T17:33:43.384Z"
   },
   {
    "duration": 0,
    "start_time": "2024-02-12T17:33:43.385Z"
   },
   {
    "duration": 0,
    "start_time": "2024-02-12T17:33:43.386Z"
   },
   {
    "duration": 0,
    "start_time": "2024-02-12T17:33:43.388Z"
   },
   {
    "duration": 0,
    "start_time": "2024-02-12T17:33:43.389Z"
   },
   {
    "duration": 0,
    "start_time": "2024-02-12T17:33:43.390Z"
   },
   {
    "duration": 0,
    "start_time": "2024-02-12T17:33:43.391Z"
   },
   {
    "duration": 0,
    "start_time": "2024-02-12T17:33:43.394Z"
   },
   {
    "duration": 0,
    "start_time": "2024-02-12T17:33:43.418Z"
   },
   {
    "duration": 0,
    "start_time": "2024-02-12T17:33:43.419Z"
   },
   {
    "duration": 0,
    "start_time": "2024-02-12T17:33:43.421Z"
   },
   {
    "duration": 0,
    "start_time": "2024-02-12T17:33:43.424Z"
   },
   {
    "duration": 0,
    "start_time": "2024-02-12T17:33:43.431Z"
   },
   {
    "duration": 0,
    "start_time": "2024-02-12T17:33:43.436Z"
   },
   {
    "duration": 0,
    "start_time": "2024-02-12T17:33:43.440Z"
   },
   {
    "duration": 0,
    "start_time": "2024-02-12T17:33:43.442Z"
   },
   {
    "duration": 0,
    "start_time": "2024-02-12T17:33:43.444Z"
   },
   {
    "duration": 0,
    "start_time": "2024-02-12T17:33:43.448Z"
   },
   {
    "duration": 0,
    "start_time": "2024-02-12T17:33:43.449Z"
   },
   {
    "duration": 0,
    "start_time": "2024-02-12T17:33:43.451Z"
   },
   {
    "duration": 0,
    "start_time": "2024-02-12T17:33:43.452Z"
   },
   {
    "duration": 0,
    "start_time": "2024-02-12T17:33:43.454Z"
   },
   {
    "duration": 0,
    "start_time": "2024-02-12T17:33:43.455Z"
   },
   {
    "duration": 0,
    "start_time": "2024-02-12T17:33:43.456Z"
   },
   {
    "duration": 0,
    "start_time": "2024-02-12T17:33:43.457Z"
   },
   {
    "duration": 0,
    "start_time": "2024-02-12T17:33:43.458Z"
   },
   {
    "duration": 0,
    "start_time": "2024-02-12T17:33:43.459Z"
   },
   {
    "duration": 0,
    "start_time": "2024-02-12T17:33:43.460Z"
   },
   {
    "duration": 0,
    "start_time": "2024-02-12T17:33:43.462Z"
   },
   {
    "duration": 8,
    "start_time": "2024-02-12T17:34:12.867Z"
   },
   {
    "duration": 73,
    "start_time": "2024-02-12T17:38:35.997Z"
   },
   {
    "duration": 0,
    "start_time": "2024-02-12T17:38:36.073Z"
   },
   {
    "duration": 0,
    "start_time": "2024-02-12T17:38:36.074Z"
   },
   {
    "duration": 0,
    "start_time": "2024-02-12T17:38:36.075Z"
   },
   {
    "duration": 0,
    "start_time": "2024-02-12T17:38:36.076Z"
   },
   {
    "duration": 0,
    "start_time": "2024-02-12T17:38:36.077Z"
   },
   {
    "duration": 0,
    "start_time": "2024-02-12T17:38:36.077Z"
   },
   {
    "duration": 0,
    "start_time": "2024-02-12T17:38:36.079Z"
   },
   {
    "duration": 0,
    "start_time": "2024-02-12T17:38:36.080Z"
   },
   {
    "duration": 0,
    "start_time": "2024-02-12T17:38:36.080Z"
   },
   {
    "duration": 0,
    "start_time": "2024-02-12T17:38:36.082Z"
   },
   {
    "duration": 0,
    "start_time": "2024-02-12T17:38:36.082Z"
   },
   {
    "duration": 0,
    "start_time": "2024-02-12T17:38:36.083Z"
   },
   {
    "duration": 0,
    "start_time": "2024-02-12T17:38:36.084Z"
   },
   {
    "duration": 0,
    "start_time": "2024-02-12T17:38:36.085Z"
   },
   {
    "duration": 0,
    "start_time": "2024-02-12T17:38:36.086Z"
   },
   {
    "duration": 0,
    "start_time": "2024-02-12T17:38:36.087Z"
   },
   {
    "duration": 0,
    "start_time": "2024-02-12T17:38:36.088Z"
   },
   {
    "duration": 0,
    "start_time": "2024-02-12T17:38:36.089Z"
   },
   {
    "duration": 0,
    "start_time": "2024-02-12T17:38:36.090Z"
   },
   {
    "duration": 0,
    "start_time": "2024-02-12T17:38:36.090Z"
   },
   {
    "duration": 0,
    "start_time": "2024-02-12T17:38:36.091Z"
   },
   {
    "duration": 0,
    "start_time": "2024-02-12T17:38:36.092Z"
   },
   {
    "duration": 0,
    "start_time": "2024-02-12T17:38:36.093Z"
   },
   {
    "duration": 0,
    "start_time": "2024-02-12T17:38:36.094Z"
   },
   {
    "duration": 0,
    "start_time": "2024-02-12T17:38:36.095Z"
   },
   {
    "duration": 0,
    "start_time": "2024-02-12T17:38:36.096Z"
   },
   {
    "duration": 0,
    "start_time": "2024-02-12T17:38:36.097Z"
   },
   {
    "duration": 0,
    "start_time": "2024-02-12T17:38:36.097Z"
   },
   {
    "duration": 0,
    "start_time": "2024-02-12T17:38:36.098Z"
   },
   {
    "duration": 0,
    "start_time": "2024-02-12T17:38:36.099Z"
   },
   {
    "duration": 0,
    "start_time": "2024-02-12T17:38:36.100Z"
   },
   {
    "duration": 0,
    "start_time": "2024-02-12T17:38:36.100Z"
   },
   {
    "duration": 0,
    "start_time": "2024-02-12T17:38:36.101Z"
   },
   {
    "duration": 0,
    "start_time": "2024-02-12T17:38:36.102Z"
   },
   {
    "duration": 0,
    "start_time": "2024-02-12T17:38:36.103Z"
   },
   {
    "duration": 0,
    "start_time": "2024-02-12T17:38:36.104Z"
   },
   {
    "duration": 0,
    "start_time": "2024-02-12T17:38:36.105Z"
   },
   {
    "duration": 0,
    "start_time": "2024-02-12T17:38:36.106Z"
   },
   {
    "duration": 0,
    "start_time": "2024-02-12T17:38:36.122Z"
   },
   {
    "duration": 0,
    "start_time": "2024-02-12T17:38:36.123Z"
   },
   {
    "duration": 0,
    "start_time": "2024-02-12T17:38:36.129Z"
   },
   {
    "duration": 0,
    "start_time": "2024-02-12T17:38:36.129Z"
   },
   {
    "duration": 0,
    "start_time": "2024-02-12T17:38:36.130Z"
   },
   {
    "duration": 0,
    "start_time": "2024-02-12T17:38:36.131Z"
   },
   {
    "duration": 0,
    "start_time": "2024-02-12T17:38:36.131Z"
   },
   {
    "duration": 0,
    "start_time": "2024-02-12T17:38:36.132Z"
   },
   {
    "duration": 118,
    "start_time": "2024-02-12T17:38:36.137Z"
   },
   {
    "duration": 0,
    "start_time": "2024-02-12T17:38:36.257Z"
   },
   {
    "duration": 0,
    "start_time": "2024-02-12T17:38:36.258Z"
   },
   {
    "duration": 0,
    "start_time": "2024-02-12T17:38:36.259Z"
   },
   {
    "duration": 0,
    "start_time": "2024-02-12T17:38:36.260Z"
   },
   {
    "duration": 0,
    "start_time": "2024-02-12T17:38:36.261Z"
   },
   {
    "duration": 0,
    "start_time": "2024-02-12T17:38:36.262Z"
   },
   {
    "duration": 0,
    "start_time": "2024-02-12T17:38:36.318Z"
   },
   {
    "duration": 1189,
    "start_time": "2024-02-12T17:39:19.471Z"
   },
   {
    "duration": 0,
    "start_time": "2024-02-12T17:39:20.664Z"
   },
   {
    "duration": 0,
    "start_time": "2024-02-12T17:39:20.668Z"
   },
   {
    "duration": 0,
    "start_time": "2024-02-12T17:39:20.669Z"
   },
   {
    "duration": 0,
    "start_time": "2024-02-12T17:39:20.670Z"
   },
   {
    "duration": 0,
    "start_time": "2024-02-12T17:39:20.671Z"
   },
   {
    "duration": 0,
    "start_time": "2024-02-12T17:39:20.672Z"
   },
   {
    "duration": 0,
    "start_time": "2024-02-12T17:39:20.673Z"
   },
   {
    "duration": 0,
    "start_time": "2024-02-12T17:39:20.674Z"
   },
   {
    "duration": 0,
    "start_time": "2024-02-12T17:39:20.675Z"
   },
   {
    "duration": 0,
    "start_time": "2024-02-12T17:39:20.676Z"
   },
   {
    "duration": 0,
    "start_time": "2024-02-12T17:39:20.676Z"
   },
   {
    "duration": 0,
    "start_time": "2024-02-12T17:39:20.677Z"
   },
   {
    "duration": 0,
    "start_time": "2024-02-12T17:39:20.678Z"
   },
   {
    "duration": 0,
    "start_time": "2024-02-12T17:39:20.679Z"
   },
   {
    "duration": 0,
    "start_time": "2024-02-12T17:39:20.680Z"
   },
   {
    "duration": 0,
    "start_time": "2024-02-12T17:39:20.682Z"
   },
   {
    "duration": 0,
    "start_time": "2024-02-12T17:39:20.683Z"
   },
   {
    "duration": 0,
    "start_time": "2024-02-12T17:39:20.684Z"
   },
   {
    "duration": 0,
    "start_time": "2024-02-12T17:39:20.685Z"
   },
   {
    "duration": 1,
    "start_time": "2024-02-12T17:39:20.718Z"
   },
   {
    "duration": 0,
    "start_time": "2024-02-12T17:39:20.720Z"
   },
   {
    "duration": 0,
    "start_time": "2024-02-12T17:39:20.721Z"
   },
   {
    "duration": 0,
    "start_time": "2024-02-12T17:39:20.723Z"
   },
   {
    "duration": 0,
    "start_time": "2024-02-12T17:39:20.724Z"
   },
   {
    "duration": 0,
    "start_time": "2024-02-12T17:39:20.726Z"
   },
   {
    "duration": 0,
    "start_time": "2024-02-12T17:39:20.727Z"
   },
   {
    "duration": 0,
    "start_time": "2024-02-12T17:39:20.728Z"
   },
   {
    "duration": 0,
    "start_time": "2024-02-12T17:39:20.730Z"
   },
   {
    "duration": 0,
    "start_time": "2024-02-12T17:39:20.731Z"
   },
   {
    "duration": 0,
    "start_time": "2024-02-12T17:39:20.732Z"
   },
   {
    "duration": 0,
    "start_time": "2024-02-12T17:39:20.733Z"
   },
   {
    "duration": 0,
    "start_time": "2024-02-12T17:39:20.735Z"
   },
   {
    "duration": 0,
    "start_time": "2024-02-12T17:39:20.736Z"
   },
   {
    "duration": 0,
    "start_time": "2024-02-12T17:39:20.738Z"
   },
   {
    "duration": 0,
    "start_time": "2024-02-12T17:39:20.739Z"
   },
   {
    "duration": 0,
    "start_time": "2024-02-12T17:39:20.743Z"
   },
   {
    "duration": 0,
    "start_time": "2024-02-12T17:39:20.744Z"
   },
   {
    "duration": 0,
    "start_time": "2024-02-12T17:39:20.746Z"
   },
   {
    "duration": 0,
    "start_time": "2024-02-12T17:39:20.747Z"
   },
   {
    "duration": 0,
    "start_time": "2024-02-12T17:39:20.748Z"
   },
   {
    "duration": 0,
    "start_time": "2024-02-12T17:39:20.750Z"
   },
   {
    "duration": 0,
    "start_time": "2024-02-12T17:39:20.751Z"
   },
   {
    "duration": 0,
    "start_time": "2024-02-12T17:39:20.752Z"
   },
   {
    "duration": 0,
    "start_time": "2024-02-12T17:39:20.754Z"
   },
   {
    "duration": 0,
    "start_time": "2024-02-12T17:39:20.755Z"
   },
   {
    "duration": 0,
    "start_time": "2024-02-12T17:39:20.756Z"
   },
   {
    "duration": 0,
    "start_time": "2024-02-12T17:39:20.818Z"
   },
   {
    "duration": 0,
    "start_time": "2024-02-12T17:39:20.819Z"
   },
   {
    "duration": 0,
    "start_time": "2024-02-12T17:39:20.821Z"
   },
   {
    "duration": 0,
    "start_time": "2024-02-12T17:39:20.822Z"
   },
   {
    "duration": 0,
    "start_time": "2024-02-12T17:39:20.824Z"
   },
   {
    "duration": 0,
    "start_time": "2024-02-12T17:39:20.825Z"
   },
   {
    "duration": 1,
    "start_time": "2024-02-12T17:39:20.826Z"
   },
   {
    "duration": 0,
    "start_time": "2024-02-12T17:39:20.828Z"
   },
   {
    "duration": 2,
    "start_time": "2024-02-12T17:44:02.771Z"
   },
   {
    "duration": 1144,
    "start_time": "2024-02-12T17:44:21.950Z"
   },
   {
    "duration": 79,
    "start_time": "2024-02-12T17:44:23.095Z"
   },
   {
    "duration": 10,
    "start_time": "2024-02-12T17:44:23.176Z"
   },
   {
    "duration": 11,
    "start_time": "2024-02-12T17:44:23.187Z"
   },
   {
    "duration": 102,
    "start_time": "2024-02-12T17:44:23.200Z"
   },
   {
    "duration": 10,
    "start_time": "2024-02-12T17:44:23.304Z"
   },
   {
    "duration": 15,
    "start_time": "2024-02-12T17:44:23.315Z"
   },
   {
    "duration": 93,
    "start_time": "2024-02-12T17:44:23.332Z"
   },
   {
    "duration": 19,
    "start_time": "2024-02-12T17:44:23.427Z"
   },
   {
    "duration": 9,
    "start_time": "2024-02-12T17:44:23.453Z"
   },
   {
    "duration": 19,
    "start_time": "2024-02-12T17:44:23.464Z"
   },
   {
    "duration": 7,
    "start_time": "2024-02-12T17:44:23.484Z"
   },
   {
    "duration": 7,
    "start_time": "2024-02-12T17:44:23.492Z"
   },
   {
    "duration": 4,
    "start_time": "2024-02-12T17:44:23.502Z"
   },
   {
    "duration": 15,
    "start_time": "2024-02-12T17:44:23.508Z"
   },
   {
    "duration": 10,
    "start_time": "2024-02-12T17:44:23.525Z"
   },
   {
    "duration": 7,
    "start_time": "2024-02-12T17:44:23.537Z"
   },
   {
    "duration": 11,
    "start_time": "2024-02-12T17:44:23.546Z"
   },
   {
    "duration": 8,
    "start_time": "2024-02-12T17:44:23.559Z"
   },
   {
    "duration": 10,
    "start_time": "2024-02-12T17:44:23.568Z"
   },
   {
    "duration": 39,
    "start_time": "2024-02-12T17:44:23.580Z"
   },
   {
    "duration": 266,
    "start_time": "2024-02-12T17:44:23.620Z"
   },
   {
    "duration": 0,
    "start_time": "2024-02-12T17:44:23.888Z"
   },
   {
    "duration": 0,
    "start_time": "2024-02-12T17:44:23.890Z"
   },
   {
    "duration": 0,
    "start_time": "2024-02-12T17:44:23.891Z"
   },
   {
    "duration": 0,
    "start_time": "2024-02-12T17:44:23.892Z"
   },
   {
    "duration": 0,
    "start_time": "2024-02-12T17:44:23.894Z"
   },
   {
    "duration": 0,
    "start_time": "2024-02-12T17:44:23.895Z"
   },
   {
    "duration": 0,
    "start_time": "2024-02-12T17:44:23.896Z"
   },
   {
    "duration": 0,
    "start_time": "2024-02-12T17:44:23.898Z"
   },
   {
    "duration": 0,
    "start_time": "2024-02-12T17:44:23.899Z"
   },
   {
    "duration": 0,
    "start_time": "2024-02-12T17:44:23.900Z"
   },
   {
    "duration": 0,
    "start_time": "2024-02-12T17:44:23.917Z"
   },
   {
    "duration": 0,
    "start_time": "2024-02-12T17:44:23.918Z"
   },
   {
    "duration": 0,
    "start_time": "2024-02-12T17:44:23.919Z"
   },
   {
    "duration": 0,
    "start_time": "2024-02-12T17:44:23.920Z"
   },
   {
    "duration": 0,
    "start_time": "2024-02-12T17:44:23.921Z"
   },
   {
    "duration": 0,
    "start_time": "2024-02-12T17:44:23.923Z"
   },
   {
    "duration": 0,
    "start_time": "2024-02-12T17:44:23.925Z"
   },
   {
    "duration": 0,
    "start_time": "2024-02-12T17:44:23.927Z"
   },
   {
    "duration": 0,
    "start_time": "2024-02-12T17:44:23.928Z"
   },
   {
    "duration": 0,
    "start_time": "2024-02-12T17:44:23.929Z"
   },
   {
    "duration": 0,
    "start_time": "2024-02-12T17:44:23.930Z"
   },
   {
    "duration": 0,
    "start_time": "2024-02-12T17:44:23.932Z"
   },
   {
    "duration": 0,
    "start_time": "2024-02-12T17:44:23.933Z"
   },
   {
    "duration": 0,
    "start_time": "2024-02-12T17:44:23.936Z"
   },
   {
    "duration": 0,
    "start_time": "2024-02-12T17:44:23.938Z"
   },
   {
    "duration": 0,
    "start_time": "2024-02-12T17:44:23.939Z"
   },
   {
    "duration": 0,
    "start_time": "2024-02-12T17:44:23.941Z"
   },
   {
    "duration": 0,
    "start_time": "2024-02-12T17:44:23.942Z"
   },
   {
    "duration": 0,
    "start_time": "2024-02-12T17:44:23.944Z"
   },
   {
    "duration": 0,
    "start_time": "2024-02-12T17:44:23.946Z"
   },
   {
    "duration": 0,
    "start_time": "2024-02-12T17:44:23.948Z"
   },
   {
    "duration": 0,
    "start_time": "2024-02-12T17:44:23.950Z"
   },
   {
    "duration": 0,
    "start_time": "2024-02-12T17:44:23.951Z"
   },
   {
    "duration": 155,
    "start_time": "2024-02-12T17:47:43.553Z"
   },
   {
    "duration": 140,
    "start_time": "2024-02-12T17:48:42.337Z"
   },
   {
    "duration": 181,
    "start_time": "2024-02-12T17:50:30.668Z"
   },
   {
    "duration": 172,
    "start_time": "2024-02-12T17:50:41.827Z"
   },
   {
    "duration": 157,
    "start_time": "2024-02-12T17:50:58.415Z"
   },
   {
    "duration": 152,
    "start_time": "2024-02-12T17:51:12.400Z"
   },
   {
    "duration": 158,
    "start_time": "2024-02-12T17:51:18.855Z"
   },
   {
    "duration": 175,
    "start_time": "2024-02-12T17:52:10.779Z"
   },
   {
    "duration": 5,
    "start_time": "2024-02-12T17:52:33.064Z"
   },
   {
    "duration": 4,
    "start_time": "2024-02-12T17:54:35.976Z"
   },
   {
    "duration": 12,
    "start_time": "2024-02-12T17:55:30.662Z"
   },
   {
    "duration": 13,
    "start_time": "2024-02-12T18:01:09.777Z"
   },
   {
    "duration": 15,
    "start_time": "2024-02-12T18:01:36.143Z"
   },
   {
    "duration": 159,
    "start_time": "2024-02-12T18:01:44.941Z"
   },
   {
    "duration": 95,
    "start_time": "2024-02-12T18:04:20.510Z"
   },
   {
    "duration": 105,
    "start_time": "2024-02-12T18:04:47.486Z"
   },
   {
    "duration": 92,
    "start_time": "2024-02-12T18:04:55.949Z"
   },
   {
    "duration": 86,
    "start_time": "2024-02-12T18:05:43.276Z"
   },
   {
    "duration": 1161,
    "start_time": "2024-02-12T18:07:26.835Z"
   },
   {
    "duration": 100,
    "start_time": "2024-02-12T18:07:27.998Z"
   },
   {
    "duration": 14,
    "start_time": "2024-02-12T18:07:28.100Z"
   },
   {
    "duration": 23,
    "start_time": "2024-02-12T18:07:28.116Z"
   },
   {
    "duration": 125,
    "start_time": "2024-02-12T18:07:28.141Z"
   },
   {
    "duration": 11,
    "start_time": "2024-02-12T18:07:28.268Z"
   },
   {
    "duration": 10,
    "start_time": "2024-02-12T18:07:28.280Z"
   },
   {
    "duration": 99,
    "start_time": "2024-02-12T18:07:28.291Z"
   },
   {
    "duration": 9,
    "start_time": "2024-02-12T18:07:28.392Z"
   },
   {
    "duration": 8,
    "start_time": "2024-02-12T18:07:28.402Z"
   },
   {
    "duration": 10,
    "start_time": "2024-02-12T18:07:28.411Z"
   },
   {
    "duration": 4,
    "start_time": "2024-02-12T18:07:28.422Z"
   },
   {
    "duration": 11,
    "start_time": "2024-02-12T18:07:28.428Z"
   },
   {
    "duration": 11,
    "start_time": "2024-02-12T18:07:28.442Z"
   },
   {
    "duration": 5,
    "start_time": "2024-02-12T18:07:28.455Z"
   },
   {
    "duration": 14,
    "start_time": "2024-02-12T18:07:28.462Z"
   },
   {
    "duration": 12,
    "start_time": "2024-02-12T18:07:28.477Z"
   },
   {
    "duration": 9,
    "start_time": "2024-02-12T18:07:28.491Z"
   },
   {
    "duration": 12,
    "start_time": "2024-02-12T18:07:28.517Z"
   },
   {
    "duration": 9,
    "start_time": "2024-02-12T18:07:28.531Z"
   },
   {
    "duration": 10,
    "start_time": "2024-02-12T18:07:28.542Z"
   },
   {
    "duration": 204,
    "start_time": "2024-02-12T18:07:28.554Z"
   },
   {
    "duration": 6,
    "start_time": "2024-02-12T18:07:28.760Z"
   },
   {
    "duration": 6,
    "start_time": "2024-02-12T18:07:28.767Z"
   },
   {
    "duration": 98,
    "start_time": "2024-02-12T18:07:28.774Z"
   },
   {
    "duration": 149,
    "start_time": "2024-02-12T18:07:28.874Z"
   },
   {
    "duration": 155,
    "start_time": "2024-02-12T18:07:29.025Z"
   },
   {
    "duration": 173,
    "start_time": "2024-02-12T18:07:29.182Z"
   },
   {
    "duration": 3,
    "start_time": "2024-02-12T18:07:29.357Z"
   },
   {
    "duration": 12,
    "start_time": "2024-02-12T18:07:29.361Z"
   },
   {
    "duration": 61,
    "start_time": "2024-02-12T18:07:29.376Z"
   },
   {
    "duration": 23,
    "start_time": "2024-02-12T18:07:29.439Z"
   },
   {
    "duration": 16,
    "start_time": "2024-02-12T18:07:29.463Z"
   },
   {
    "duration": 144,
    "start_time": "2024-02-12T18:07:29.480Z"
   },
   {
    "duration": 159,
    "start_time": "2024-02-12T18:07:29.626Z"
   },
   {
    "duration": 172,
    "start_time": "2024-02-12T18:07:29.787Z"
   },
   {
    "duration": 145,
    "start_time": "2024-02-12T18:07:29.960Z"
   },
   {
    "duration": 27,
    "start_time": "2024-02-12T18:07:30.107Z"
   },
   {
    "duration": 30,
    "start_time": "2024-02-12T18:07:30.136Z"
   },
   {
    "duration": 24,
    "start_time": "2024-02-12T18:07:30.167Z"
   },
   {
    "duration": 20,
    "start_time": "2024-02-12T18:07:30.194Z"
   },
   {
    "duration": 42,
    "start_time": "2024-02-12T18:07:30.215Z"
   },
   {
    "duration": 15,
    "start_time": "2024-02-12T18:07:30.259Z"
   },
   {
    "duration": 21,
    "start_time": "2024-02-12T18:07:30.276Z"
   },
   {
    "duration": 102,
    "start_time": "2024-02-12T18:07:30.298Z"
   },
   {
    "duration": 24,
    "start_time": "2024-02-12T18:07:30.401Z"
   },
   {
    "duration": 12,
    "start_time": "2024-02-12T18:07:30.428Z"
   },
   {
    "duration": 30,
    "start_time": "2024-02-12T18:07:30.442Z"
   },
   {
    "duration": 26,
    "start_time": "2024-02-12T18:07:30.475Z"
   },
   {
    "duration": 32,
    "start_time": "2024-02-12T18:07:30.503Z"
   },
   {
    "duration": 27,
    "start_time": "2024-02-12T18:07:30.537Z"
   },
   {
    "duration": 22,
    "start_time": "2024-02-12T18:07:30.565Z"
   },
   {
    "duration": 173,
    "start_time": "2024-02-12T18:07:30.588Z"
   },
   {
    "duration": 269,
    "start_time": "2024-02-12T18:07:30.763Z"
   },
   {
    "duration": 6,
    "start_time": "2024-02-12T18:07:31.034Z"
   },
   {
    "duration": 213,
    "start_time": "2024-02-12T18:07:31.046Z"
   },
   {
    "duration": 12,
    "start_time": "2024-02-12T18:11:56.457Z"
   },
   {
    "duration": 156,
    "start_time": "2024-02-12T18:12:29.517Z"
   },
   {
    "duration": 153,
    "start_time": "2024-02-12T18:12:47.353Z"
   },
   {
    "duration": 207,
    "start_time": "2024-02-12T18:13:03.435Z"
   },
   {
    "duration": 206,
    "start_time": "2024-02-12T18:13:17.388Z"
   },
   {
    "duration": 183,
    "start_time": "2024-02-12T18:13:23.378Z"
   },
   {
    "duration": 165,
    "start_time": "2024-02-12T18:13:35.692Z"
   },
   {
    "duration": 166,
    "start_time": "2024-02-12T18:13:59.199Z"
   },
   {
    "duration": 159,
    "start_time": "2024-02-12T18:14:24.327Z"
   },
   {
    "duration": 6,
    "start_time": "2024-02-12T18:15:28.635Z"
   },
   {
    "duration": 18,
    "start_time": "2024-02-12T18:15:54.641Z"
   },
   {
    "duration": 309,
    "start_time": "2024-02-12T18:17:56.905Z"
   },
   {
    "duration": 154,
    "start_time": "2024-02-12T18:19:28.825Z"
   },
   {
    "duration": 142,
    "start_time": "2024-02-12T18:19:37.166Z"
   },
   {
    "duration": 225,
    "start_time": "2024-02-12T18:21:17.792Z"
   },
   {
    "duration": 228,
    "start_time": "2024-02-12T18:21:40.470Z"
   },
   {
    "duration": 48,
    "start_time": "2024-02-13T07:41:14.363Z"
   },
   {
    "duration": 1275,
    "start_time": "2024-02-13T07:41:21.342Z"
   },
   {
    "duration": 80,
    "start_time": "2024-02-13T07:41:22.619Z"
   },
   {
    "duration": 11,
    "start_time": "2024-02-13T07:41:22.701Z"
   },
   {
    "duration": 10,
    "start_time": "2024-02-13T07:41:22.714Z"
   },
   {
    "duration": 157,
    "start_time": "2024-02-13T07:41:22.726Z"
   },
   {
    "duration": 10,
    "start_time": "2024-02-13T07:41:22.885Z"
   },
   {
    "duration": 8,
    "start_time": "2024-02-13T07:41:22.897Z"
   },
   {
    "duration": 100,
    "start_time": "2024-02-13T07:41:22.906Z"
   },
   {
    "duration": 9,
    "start_time": "2024-02-13T07:41:23.008Z"
   },
   {
    "duration": 8,
    "start_time": "2024-02-13T07:41:23.019Z"
   },
   {
    "duration": 10,
    "start_time": "2024-02-13T07:41:23.029Z"
   },
   {
    "duration": 7,
    "start_time": "2024-02-13T07:41:23.041Z"
   },
   {
    "duration": 10,
    "start_time": "2024-02-13T07:41:23.050Z"
   },
   {
    "duration": 6,
    "start_time": "2024-02-13T07:41:23.062Z"
   },
   {
    "duration": 5,
    "start_time": "2024-02-13T07:41:23.069Z"
   },
   {
    "duration": 14,
    "start_time": "2024-02-13T07:41:23.076Z"
   },
   {
    "duration": 24,
    "start_time": "2024-02-13T07:41:23.092Z"
   },
   {
    "duration": 8,
    "start_time": "2024-02-13T07:41:23.118Z"
   },
   {
    "duration": 9,
    "start_time": "2024-02-13T07:41:23.127Z"
   },
   {
    "duration": 9,
    "start_time": "2024-02-13T07:41:23.138Z"
   },
   {
    "duration": 12,
    "start_time": "2024-02-13T07:41:23.148Z"
   },
   {
    "duration": 194,
    "start_time": "2024-02-13T07:41:23.162Z"
   },
   {
    "duration": 5,
    "start_time": "2024-02-13T07:41:23.358Z"
   },
   {
    "duration": 7,
    "start_time": "2024-02-13T07:41:23.364Z"
   },
   {
    "duration": 97,
    "start_time": "2024-02-13T07:41:23.372Z"
   },
   {
    "duration": 146,
    "start_time": "2024-02-13T07:41:23.470Z"
   },
   {
    "duration": 7,
    "start_time": "2024-02-13T07:41:23.618Z"
   },
   {
    "duration": 159,
    "start_time": "2024-02-13T07:41:23.629Z"
   },
   {
    "duration": 8,
    "start_time": "2024-02-13T07:41:23.790Z"
   },
   {
    "duration": 169,
    "start_time": "2024-02-13T07:41:23.799Z"
   },
   {
    "duration": 3,
    "start_time": "2024-02-13T07:41:23.969Z"
   },
   {
    "duration": 20,
    "start_time": "2024-02-13T07:41:23.974Z"
   },
   {
    "duration": 43,
    "start_time": "2024-02-13T07:41:23.995Z"
   },
   {
    "duration": 16,
    "start_time": "2024-02-13T07:41:24.039Z"
   },
   {
    "duration": 14,
    "start_time": "2024-02-13T07:41:24.056Z"
   },
   {
    "duration": 145,
    "start_time": "2024-02-13T07:41:24.071Z"
   },
   {
    "duration": 173,
    "start_time": "2024-02-13T07:41:24.218Z"
   },
   {
    "duration": 262,
    "start_time": "2024-02-13T07:41:24.393Z"
   },
   {
    "duration": 229,
    "start_time": "2024-02-13T07:41:24.657Z"
   },
   {
    "duration": 158,
    "start_time": "2024-02-13T07:41:24.888Z"
   },
   {
    "duration": 249,
    "start_time": "2024-02-13T07:41:25.047Z"
   },
   {
    "duration": 27,
    "start_time": "2024-02-13T07:41:25.298Z"
   },
   {
    "duration": 5,
    "start_time": "2024-02-13T07:41:25.326Z"
   },
   {
    "duration": 14,
    "start_time": "2024-02-13T07:41:25.332Z"
   },
   {
    "duration": 10,
    "start_time": "2024-02-13T07:41:25.347Z"
   },
   {
    "duration": 47,
    "start_time": "2024-02-13T07:41:25.359Z"
   },
   {
    "duration": 20,
    "start_time": "2024-02-13T07:41:25.407Z"
   },
   {
    "duration": 14,
    "start_time": "2024-02-13T07:41:25.429Z"
   },
   {
    "duration": 14,
    "start_time": "2024-02-13T07:41:25.444Z"
   },
   {
    "duration": 14,
    "start_time": "2024-02-13T07:41:25.459Z"
   },
   {
    "duration": 9,
    "start_time": "2024-02-13T07:41:25.474Z"
   },
   {
    "duration": 35,
    "start_time": "2024-02-13T07:41:25.484Z"
   },
   {
    "duration": 6,
    "start_time": "2024-02-13T07:41:25.521Z"
   },
   {
    "duration": 10,
    "start_time": "2024-02-13T07:41:25.529Z"
   },
   {
    "duration": 6,
    "start_time": "2024-02-13T07:41:25.540Z"
   },
   {
    "duration": 3,
    "start_time": "2024-02-13T07:41:25.548Z"
   },
   {
    "duration": 184,
    "start_time": "2024-02-13T07:41:25.552Z"
   },
   {
    "duration": 350,
    "start_time": "2024-02-13T07:41:25.738Z"
   },
   {
    "duration": 5,
    "start_time": "2024-02-13T07:41:26.090Z"
   },
   {
    "duration": 226,
    "start_time": "2024-02-13T07:41:26.096Z"
   },
   {
    "duration": 13,
    "start_time": "2024-02-13T07:50:59.307Z"
   },
   {
    "duration": 188,
    "start_time": "2024-02-13T07:55:02.695Z"
   },
   {
    "duration": 139,
    "start_time": "2024-02-13T07:55:47.645Z"
   },
   {
    "duration": 161,
    "start_time": "2024-02-13T07:55:58.760Z"
   },
   {
    "duration": 202,
    "start_time": "2024-02-13T07:56:17.179Z"
   },
   {
    "duration": 209,
    "start_time": "2024-02-13T07:56:29.222Z"
   },
   {
    "duration": 11,
    "start_time": "2024-02-13T07:59:02.484Z"
   },
   {
    "duration": 16,
    "start_time": "2024-02-13T07:59:04.980Z"
   },
   {
    "duration": 5,
    "start_time": "2024-02-13T07:59:07.683Z"
   },
   {
    "duration": 15,
    "start_time": "2024-02-13T08:00:42.346Z"
   },
   {
    "duration": 17,
    "start_time": "2024-02-13T08:00:46.306Z"
   },
   {
    "duration": 1143,
    "start_time": "2024-02-13T08:01:13.129Z"
   },
   {
    "duration": 91,
    "start_time": "2024-02-13T08:01:14.274Z"
   },
   {
    "duration": 11,
    "start_time": "2024-02-13T08:01:14.366Z"
   },
   {
    "duration": 12,
    "start_time": "2024-02-13T08:01:14.379Z"
   },
   {
    "duration": 114,
    "start_time": "2024-02-13T08:01:14.392Z"
   },
   {
    "duration": 10,
    "start_time": "2024-02-13T08:01:14.507Z"
   },
   {
    "duration": 8,
    "start_time": "2024-02-13T08:01:14.518Z"
   },
   {
    "duration": 78,
    "start_time": "2024-02-13T08:01:14.527Z"
   },
   {
    "duration": 9,
    "start_time": "2024-02-13T08:01:14.607Z"
   },
   {
    "duration": 8,
    "start_time": "2024-02-13T08:01:14.619Z"
   },
   {
    "duration": 12,
    "start_time": "2024-02-13T08:01:14.628Z"
   },
   {
    "duration": 4,
    "start_time": "2024-02-13T08:01:14.642Z"
   },
   {
    "duration": 10,
    "start_time": "2024-02-13T08:01:14.647Z"
   },
   {
    "duration": 12,
    "start_time": "2024-02-13T08:01:14.658Z"
   },
   {
    "duration": 20,
    "start_time": "2024-02-13T08:01:14.672Z"
   },
   {
    "duration": 17,
    "start_time": "2024-02-13T08:01:14.693Z"
   },
   {
    "duration": 7,
    "start_time": "2024-02-13T08:01:14.712Z"
   },
   {
    "duration": 9,
    "start_time": "2024-02-13T08:01:14.720Z"
   },
   {
    "duration": 7,
    "start_time": "2024-02-13T08:01:14.731Z"
   },
   {
    "duration": 9,
    "start_time": "2024-02-13T08:01:14.740Z"
   },
   {
    "duration": 15,
    "start_time": "2024-02-13T08:01:14.751Z"
   },
   {
    "duration": 180,
    "start_time": "2024-02-13T08:01:14.768Z"
   },
   {
    "duration": 9,
    "start_time": "2024-02-13T08:01:14.950Z"
   },
   {
    "duration": 5,
    "start_time": "2024-02-13T08:01:14.960Z"
   },
   {
    "duration": 108,
    "start_time": "2024-02-13T08:01:14.967Z"
   },
   {
    "duration": 145,
    "start_time": "2024-02-13T08:01:15.077Z"
   },
   {
    "duration": 7,
    "start_time": "2024-02-13T08:01:15.224Z"
   },
   {
    "duration": 166,
    "start_time": "2024-02-13T08:01:15.235Z"
   },
   {
    "duration": 20,
    "start_time": "2024-02-13T08:01:15.402Z"
   },
   {
    "duration": 165,
    "start_time": "2024-02-13T08:01:15.423Z"
   },
   {
    "duration": 4,
    "start_time": "2024-02-13T08:01:15.589Z"
   },
   {
    "duration": 52,
    "start_time": "2024-02-13T08:01:15.594Z"
   },
   {
    "duration": 33,
    "start_time": "2024-02-13T08:01:15.648Z"
   },
   {
    "duration": 13,
    "start_time": "2024-02-13T08:01:15.683Z"
   },
   {
    "duration": 18,
    "start_time": "2024-02-13T08:01:15.698Z"
   },
   {
    "duration": 32,
    "start_time": "2024-02-13T08:01:15.718Z"
   },
   {
    "duration": 154,
    "start_time": "2024-02-13T08:01:15.752Z"
   },
   {
    "duration": 165,
    "start_time": "2024-02-13T08:01:15.908Z"
   },
   {
    "duration": 219,
    "start_time": "2024-02-13T08:01:16.075Z"
   },
   {
    "duration": 145,
    "start_time": "2024-02-13T08:01:16.296Z"
   },
   {
    "duration": 223,
    "start_time": "2024-02-13T08:01:16.443Z"
   },
   {
    "duration": 230,
    "start_time": "2024-02-13T08:01:16.669Z"
   },
   {
    "duration": 96,
    "start_time": "2024-02-13T08:01:16.901Z"
   },
   {
    "duration": 0,
    "start_time": "2024-02-13T08:01:16.999Z"
   },
   {
    "duration": 0,
    "start_time": "2024-02-13T08:01:17.000Z"
   },
   {
    "duration": 0,
    "start_time": "2024-02-13T08:01:17.002Z"
   },
   {
    "duration": 0,
    "start_time": "2024-02-13T08:01:17.003Z"
   },
   {
    "duration": 0,
    "start_time": "2024-02-13T08:01:17.004Z"
   },
   {
    "duration": 0,
    "start_time": "2024-02-13T08:01:17.005Z"
   },
   {
    "duration": 0,
    "start_time": "2024-02-13T08:01:17.015Z"
   },
   {
    "duration": 0,
    "start_time": "2024-02-13T08:01:17.016Z"
   },
   {
    "duration": 0,
    "start_time": "2024-02-13T08:01:17.016Z"
   },
   {
    "duration": 0,
    "start_time": "2024-02-13T08:01:17.017Z"
   },
   {
    "duration": 0,
    "start_time": "2024-02-13T08:01:17.018Z"
   },
   {
    "duration": 0,
    "start_time": "2024-02-13T08:01:17.019Z"
   },
   {
    "duration": 0,
    "start_time": "2024-02-13T08:01:17.020Z"
   },
   {
    "duration": 0,
    "start_time": "2024-02-13T08:01:17.021Z"
   },
   {
    "duration": 0,
    "start_time": "2024-02-13T08:01:17.022Z"
   },
   {
    "duration": 0,
    "start_time": "2024-02-13T08:01:17.023Z"
   },
   {
    "duration": 0,
    "start_time": "2024-02-13T08:01:17.024Z"
   },
   {
    "duration": 0,
    "start_time": "2024-02-13T08:01:17.025Z"
   },
   {
    "duration": 3,
    "start_time": "2024-02-13T08:02:33.189Z"
   },
   {
    "duration": 4,
    "start_time": "2024-02-13T08:02:42.794Z"
   },
   {
    "duration": 8,
    "start_time": "2024-02-13T08:03:02.226Z"
   },
   {
    "duration": 4,
    "start_time": "2024-02-13T08:03:10.519Z"
   },
   {
    "duration": 15,
    "start_time": "2024-02-13T08:03:15.874Z"
   },
   {
    "duration": 3,
    "start_time": "2024-02-13T08:03:44.651Z"
   },
   {
    "duration": 11,
    "start_time": "2024-02-13T08:03:46.745Z"
   },
   {
    "duration": 4,
    "start_time": "2024-02-13T08:07:19.186Z"
   },
   {
    "duration": 5,
    "start_time": "2024-02-13T08:10:20.513Z"
   },
   {
    "duration": 4,
    "start_time": "2024-02-13T08:11:39.929Z"
   },
   {
    "duration": 6,
    "start_time": "2024-02-13T08:11:56.279Z"
   },
   {
    "duration": 15,
    "start_time": "2024-02-13T08:12:01.807Z"
   },
   {
    "duration": 16,
    "start_time": "2024-02-13T08:12:03.841Z"
   },
   {
    "duration": 18,
    "start_time": "2024-02-13T08:12:40.500Z"
   },
   {
    "duration": 4,
    "start_time": "2024-02-13T08:12:43.541Z"
   },
   {
    "duration": 27,
    "start_time": "2024-02-13T08:13:21.486Z"
   },
   {
    "duration": 20,
    "start_time": "2024-02-13T08:13:26.156Z"
   },
   {
    "duration": 16,
    "start_time": "2024-02-13T08:13:28.878Z"
   },
   {
    "duration": 14,
    "start_time": "2024-02-13T08:13:32.008Z"
   },
   {
    "duration": 17,
    "start_time": "2024-02-13T08:13:34.275Z"
   },
   {
    "duration": 77,
    "start_time": "2024-02-13T08:32:03.541Z"
   },
   {
    "duration": 77,
    "start_time": "2024-02-13T08:32:43.937Z"
   },
   {
    "duration": 97,
    "start_time": "2024-02-13T08:33:40.511Z"
   },
   {
    "duration": 10,
    "start_time": "2024-02-13T08:46:08.663Z"
   },
   {
    "duration": 9,
    "start_time": "2024-02-13T08:46:15.411Z"
   },
   {
    "duration": 6,
    "start_time": "2024-02-13T08:46:17.333Z"
   },
   {
    "duration": 5,
    "start_time": "2024-02-13T08:56:04.013Z"
   },
   {
    "duration": 6,
    "start_time": "2024-02-13T08:59:58.832Z"
   },
   {
    "duration": 6,
    "start_time": "2024-02-13T09:00:27.066Z"
   },
   {
    "duration": 7,
    "start_time": "2024-02-13T09:04:29.681Z"
   },
   {
    "duration": 4,
    "start_time": "2024-02-13T09:06:20.142Z"
   },
   {
    "duration": 6,
    "start_time": "2024-02-13T09:06:58.558Z"
   },
   {
    "duration": 6,
    "start_time": "2024-02-13T09:08:46.129Z"
   },
   {
    "duration": 6,
    "start_time": "2024-02-13T09:09:54.484Z"
   },
   {
    "duration": 9,
    "start_time": "2024-02-13T09:12:42.191Z"
   },
   {
    "duration": 9,
    "start_time": "2024-02-13T09:12:53.974Z"
   },
   {
    "duration": 5,
    "start_time": "2024-02-13T09:12:56.699Z"
   },
   {
    "duration": 11,
    "start_time": "2024-02-13T09:22:00.727Z"
   },
   {
    "duration": 2,
    "start_time": "2024-02-13T09:22:13.029Z"
   },
   {
    "duration": 125,
    "start_time": "2024-02-13T09:22:13.656Z"
   },
   {
    "duration": 271,
    "start_time": "2024-02-13T09:22:17.386Z"
   },
   {
    "duration": 5,
    "start_time": "2024-02-13T09:22:21.310Z"
   },
   {
    "duration": 182,
    "start_time": "2024-02-13T09:22:23.076Z"
   },
   {
    "duration": 189,
    "start_time": "2024-02-13T09:22:32.732Z"
   },
   {
    "duration": 195,
    "start_time": "2024-02-13T09:23:31.008Z"
   },
   {
    "duration": 5,
    "start_time": "2024-02-13T09:25:19.861Z"
   },
   {
    "duration": 6,
    "start_time": "2024-02-13T09:25:31.549Z"
   },
   {
    "duration": 5,
    "start_time": "2024-02-13T09:26:40.179Z"
   },
   {
    "duration": 1099,
    "start_time": "2024-02-13T09:26:51.566Z"
   },
   {
    "duration": 86,
    "start_time": "2024-02-13T09:26:52.667Z"
   },
   {
    "duration": 11,
    "start_time": "2024-02-13T09:26:52.755Z"
   },
   {
    "duration": 15,
    "start_time": "2024-02-13T09:26:52.768Z"
   },
   {
    "duration": 135,
    "start_time": "2024-02-13T09:26:52.785Z"
   },
   {
    "duration": 11,
    "start_time": "2024-02-13T09:26:52.922Z"
   },
   {
    "duration": 7,
    "start_time": "2024-02-13T09:26:52.935Z"
   },
   {
    "duration": 84,
    "start_time": "2024-02-13T09:26:52.944Z"
   },
   {
    "duration": 10,
    "start_time": "2024-02-13T09:26:53.030Z"
   },
   {
    "duration": 7,
    "start_time": "2024-02-13T09:26:53.042Z"
   },
   {
    "duration": 9,
    "start_time": "2024-02-13T09:26:53.050Z"
   },
   {
    "duration": 4,
    "start_time": "2024-02-13T09:26:53.061Z"
   },
   {
    "duration": 5,
    "start_time": "2024-02-13T09:26:53.067Z"
   },
   {
    "duration": 5,
    "start_time": "2024-02-13T09:26:53.073Z"
   },
   {
    "duration": 11,
    "start_time": "2024-02-13T09:26:53.079Z"
   },
   {
    "duration": 24,
    "start_time": "2024-02-13T09:26:53.092Z"
   },
   {
    "duration": 6,
    "start_time": "2024-02-13T09:26:53.117Z"
   },
   {
    "duration": 7,
    "start_time": "2024-02-13T09:26:53.124Z"
   },
   {
    "duration": 8,
    "start_time": "2024-02-13T09:26:53.133Z"
   },
   {
    "duration": 24,
    "start_time": "2024-02-13T09:26:53.142Z"
   },
   {
    "duration": 4,
    "start_time": "2024-02-13T09:26:53.168Z"
   },
   {
    "duration": 178,
    "start_time": "2024-02-13T09:26:53.174Z"
   },
   {
    "duration": 5,
    "start_time": "2024-02-13T09:26:53.354Z"
   },
   {
    "duration": 11,
    "start_time": "2024-02-13T09:26:53.360Z"
   },
   {
    "duration": 89,
    "start_time": "2024-02-13T09:26:53.372Z"
   },
   {
    "duration": 146,
    "start_time": "2024-02-13T09:26:53.462Z"
   },
   {
    "duration": 7,
    "start_time": "2024-02-13T09:26:53.614Z"
   },
   {
    "duration": 162,
    "start_time": "2024-02-13T09:26:53.624Z"
   },
   {
    "duration": 8,
    "start_time": "2024-02-13T09:26:53.788Z"
   },
   {
    "duration": 182,
    "start_time": "2024-02-13T09:26:53.798Z"
   },
   {
    "duration": 5,
    "start_time": "2024-02-13T09:26:53.981Z"
   },
   {
    "duration": 30,
    "start_time": "2024-02-13T09:26:53.987Z"
   },
   {
    "duration": 25,
    "start_time": "2024-02-13T09:26:54.019Z"
   },
   {
    "duration": 14,
    "start_time": "2024-02-13T09:26:54.046Z"
   },
   {
    "duration": 43,
    "start_time": "2024-02-13T09:26:54.062Z"
   },
   {
    "duration": 27,
    "start_time": "2024-02-13T09:26:54.106Z"
   },
   {
    "duration": 15,
    "start_time": "2024-02-13T09:26:54.135Z"
   },
   {
    "duration": 153,
    "start_time": "2024-02-13T09:26:54.151Z"
   },
   {
    "duration": 163,
    "start_time": "2024-02-13T09:26:54.305Z"
   },
   {
    "duration": 224,
    "start_time": "2024-02-13T09:26:54.470Z"
   },
   {
    "duration": 161,
    "start_time": "2024-02-13T09:26:54.695Z"
   },
   {
    "duration": 264,
    "start_time": "2024-02-13T09:26:54.858Z"
   },
   {
    "duration": 212,
    "start_time": "2024-02-13T09:26:55.123Z"
   },
   {
    "duration": 18,
    "start_time": "2024-02-13T09:26:55.337Z"
   },
   {
    "duration": 5,
    "start_time": "2024-02-13T09:26:55.357Z"
   },
   {
    "duration": 42,
    "start_time": "2024-02-13T09:26:55.363Z"
   },
   {
    "duration": 20,
    "start_time": "2024-02-13T09:26:55.407Z"
   },
   {
    "duration": 15,
    "start_time": "2024-02-13T09:26:55.429Z"
   },
   {
    "duration": 14,
    "start_time": "2024-02-13T09:26:55.446Z"
   },
   {
    "duration": 12,
    "start_time": "2024-02-13T09:26:55.461Z"
   },
   {
    "duration": 40,
    "start_time": "2024-02-13T09:26:55.475Z"
   },
   {
    "duration": 6,
    "start_time": "2024-02-13T09:26:55.516Z"
   },
   {
    "duration": 13,
    "start_time": "2024-02-13T09:26:55.523Z"
   },
   {
    "duration": 5,
    "start_time": "2024-02-13T09:26:55.538Z"
   },
   {
    "duration": 6,
    "start_time": "2024-02-13T09:26:55.544Z"
   },
   {
    "duration": 9,
    "start_time": "2024-02-13T09:26:55.551Z"
   },
   {
    "duration": 6,
    "start_time": "2024-02-13T09:26:55.561Z"
   },
   {
    "duration": 4,
    "start_time": "2024-02-13T09:26:55.568Z"
   },
   {
    "duration": 189,
    "start_time": "2024-02-13T09:26:55.573Z"
   },
   {
    "duration": 275,
    "start_time": "2024-02-13T09:26:55.764Z"
   },
   {
    "duration": 5,
    "start_time": "2024-02-13T09:26:56.041Z"
   },
   {
    "duration": 204,
    "start_time": "2024-02-13T09:26:56.047Z"
   },
   {
    "duration": 5,
    "start_time": "2024-02-13T09:28:50.705Z"
   },
   {
    "duration": 5,
    "start_time": "2024-02-13T09:29:09.986Z"
   },
   {
    "duration": 6,
    "start_time": "2024-02-13T09:29:25.383Z"
   },
   {
    "duration": 6,
    "start_time": "2024-02-13T09:29:41.537Z"
   },
   {
    "duration": 192,
    "start_time": "2024-02-13T09:30:24.099Z"
   },
   {
    "duration": 197,
    "start_time": "2024-02-13T09:31:39.303Z"
   },
   {
    "duration": 1048,
    "start_time": "2024-02-13T09:35:27.035Z"
   },
   {
    "duration": 87,
    "start_time": "2024-02-13T09:35:28.085Z"
   },
   {
    "duration": 12,
    "start_time": "2024-02-13T09:35:28.174Z"
   },
   {
    "duration": 13,
    "start_time": "2024-02-13T09:35:28.188Z"
   },
   {
    "duration": 99,
    "start_time": "2024-02-13T09:35:28.203Z"
   },
   {
    "duration": 12,
    "start_time": "2024-02-13T09:35:28.304Z"
   },
   {
    "duration": 9,
    "start_time": "2024-02-13T09:35:28.317Z"
   },
   {
    "duration": 74,
    "start_time": "2024-02-13T09:35:28.328Z"
   },
   {
    "duration": 10,
    "start_time": "2024-02-13T09:35:28.404Z"
   },
   {
    "duration": 10,
    "start_time": "2024-02-13T09:35:28.415Z"
   },
   {
    "duration": 14,
    "start_time": "2024-02-13T09:35:28.427Z"
   },
   {
    "duration": 5,
    "start_time": "2024-02-13T09:35:28.442Z"
   },
   {
    "duration": 7,
    "start_time": "2024-02-13T09:35:28.448Z"
   },
   {
    "duration": 4,
    "start_time": "2024-02-13T09:35:28.458Z"
   },
   {
    "duration": 3,
    "start_time": "2024-02-13T09:35:28.464Z"
   },
   {
    "duration": 7,
    "start_time": "2024-02-13T09:35:28.469Z"
   },
   {
    "duration": 9,
    "start_time": "2024-02-13T09:35:28.477Z"
   },
   {
    "duration": 32,
    "start_time": "2024-02-13T09:35:28.488Z"
   },
   {
    "duration": 8,
    "start_time": "2024-02-13T09:35:28.522Z"
   },
   {
    "duration": 9,
    "start_time": "2024-02-13T09:35:28.531Z"
   },
   {
    "duration": 5,
    "start_time": "2024-02-13T09:35:28.541Z"
   },
   {
    "duration": 180,
    "start_time": "2024-02-13T09:35:28.548Z"
   },
   {
    "duration": 6,
    "start_time": "2024-02-13T09:35:28.729Z"
   },
   {
    "duration": 4,
    "start_time": "2024-02-13T09:35:28.736Z"
   },
   {
    "duration": 111,
    "start_time": "2024-02-13T09:35:28.742Z"
   },
   {
    "duration": 136,
    "start_time": "2024-02-13T09:35:28.855Z"
   },
   {
    "duration": 7,
    "start_time": "2024-02-13T09:35:28.992Z"
   },
   {
    "duration": 171,
    "start_time": "2024-02-13T09:35:29.001Z"
   },
   {
    "duration": 10,
    "start_time": "2024-02-13T09:35:29.173Z"
   },
   {
    "duration": 163,
    "start_time": "2024-02-13T09:35:29.185Z"
   },
   {
    "duration": 4,
    "start_time": "2024-02-13T09:35:29.349Z"
   },
   {
    "duration": 19,
    "start_time": "2024-02-13T09:35:29.354Z"
   },
   {
    "duration": 41,
    "start_time": "2024-02-13T09:35:29.375Z"
   },
   {
    "duration": 14,
    "start_time": "2024-02-13T09:35:29.417Z"
   },
   {
    "duration": 7,
    "start_time": "2024-02-13T09:35:29.433Z"
   },
   {
    "duration": 20,
    "start_time": "2024-02-13T09:35:29.442Z"
   },
   {
    "duration": 15,
    "start_time": "2024-02-13T09:35:29.464Z"
   },
   {
    "duration": 181,
    "start_time": "2024-02-13T09:35:29.480Z"
   },
   {
    "duration": 166,
    "start_time": "2024-02-13T09:35:29.662Z"
   },
   {
    "duration": 221,
    "start_time": "2024-02-13T09:35:29.829Z"
   },
   {
    "duration": 162,
    "start_time": "2024-02-13T09:35:30.056Z"
   },
   {
    "duration": 267,
    "start_time": "2024-02-13T09:35:30.220Z"
   },
   {
    "duration": 226,
    "start_time": "2024-02-13T09:35:30.488Z"
   },
   {
    "duration": 17,
    "start_time": "2024-02-13T09:35:30.716Z"
   },
   {
    "duration": 18,
    "start_time": "2024-02-13T09:35:30.734Z"
   },
   {
    "duration": 41,
    "start_time": "2024-02-13T09:35:30.754Z"
   },
   {
    "duration": 40,
    "start_time": "2024-02-13T09:35:30.796Z"
   },
   {
    "duration": 42,
    "start_time": "2024-02-13T09:35:30.838Z"
   },
   {
    "duration": 43,
    "start_time": "2024-02-13T09:35:30.882Z"
   },
   {
    "duration": 48,
    "start_time": "2024-02-13T09:35:30.927Z"
   },
   {
    "duration": 46,
    "start_time": "2024-02-13T09:35:30.977Z"
   },
   {
    "duration": 33,
    "start_time": "2024-02-13T09:35:31.025Z"
   },
   {
    "duration": 35,
    "start_time": "2024-02-13T09:35:31.060Z"
   },
   {
    "duration": 28,
    "start_time": "2024-02-13T09:35:31.096Z"
   },
   {
    "duration": 51,
    "start_time": "2024-02-13T09:35:31.125Z"
   },
   {
    "duration": 25,
    "start_time": "2024-02-13T09:35:31.178Z"
   },
   {
    "duration": 55,
    "start_time": "2024-02-13T09:35:31.204Z"
   },
   {
    "duration": 62,
    "start_time": "2024-02-13T09:35:31.260Z"
   },
   {
    "duration": 164,
    "start_time": "2024-02-13T09:35:31.324Z"
   },
   {
    "duration": 325,
    "start_time": "2024-02-13T09:35:31.490Z"
   },
   {
    "duration": 6,
    "start_time": "2024-02-13T09:35:31.816Z"
   },
   {
    "duration": 200,
    "start_time": "2024-02-13T09:35:31.823Z"
   },
   {
    "duration": 221,
    "start_time": "2024-02-13T09:44:42.687Z"
   },
   {
    "duration": 204,
    "start_time": "2024-02-13T09:44:59.093Z"
   },
   {
    "duration": 1156,
    "start_time": "2024-02-13T09:49:21.701Z"
   },
   {
    "duration": 87,
    "start_time": "2024-02-13T09:49:22.859Z"
   },
   {
    "duration": 11,
    "start_time": "2024-02-13T09:49:22.947Z"
   },
   {
    "duration": 22,
    "start_time": "2024-02-13T09:49:22.960Z"
   },
   {
    "duration": 108,
    "start_time": "2024-02-13T09:49:22.983Z"
   },
   {
    "duration": 13,
    "start_time": "2024-02-13T09:49:23.092Z"
   },
   {
    "duration": 15,
    "start_time": "2024-02-13T09:49:23.106Z"
   },
   {
    "duration": 79,
    "start_time": "2024-02-13T09:49:23.123Z"
   },
   {
    "duration": 10,
    "start_time": "2024-02-13T09:49:23.203Z"
   },
   {
    "duration": 7,
    "start_time": "2024-02-13T09:49:23.216Z"
   },
   {
    "duration": 9,
    "start_time": "2024-02-13T09:49:23.225Z"
   },
   {
    "duration": 7,
    "start_time": "2024-02-13T09:49:23.235Z"
   },
   {
    "duration": 5,
    "start_time": "2024-02-13T09:49:23.243Z"
   },
   {
    "duration": 7,
    "start_time": "2024-02-13T09:49:23.249Z"
   },
   {
    "duration": 5,
    "start_time": "2024-02-13T09:49:23.257Z"
   },
   {
    "duration": 4,
    "start_time": "2024-02-13T09:49:23.263Z"
   },
   {
    "duration": 9,
    "start_time": "2024-02-13T09:49:23.268Z"
   },
   {
    "duration": 37,
    "start_time": "2024-02-13T09:49:23.278Z"
   },
   {
    "duration": 9,
    "start_time": "2024-02-13T09:49:23.316Z"
   },
   {
    "duration": 9,
    "start_time": "2024-02-13T09:49:23.327Z"
   },
   {
    "duration": 10,
    "start_time": "2024-02-13T09:49:23.338Z"
   },
   {
    "duration": 181,
    "start_time": "2024-02-13T09:49:23.349Z"
   },
   {
    "duration": 5,
    "start_time": "2024-02-13T09:49:23.531Z"
   },
   {
    "duration": 9,
    "start_time": "2024-02-13T09:49:23.538Z"
   },
   {
    "duration": 98,
    "start_time": "2024-02-13T09:49:23.548Z"
   },
   {
    "duration": 145,
    "start_time": "2024-02-13T09:49:23.648Z"
   },
   {
    "duration": 8,
    "start_time": "2024-02-13T09:49:23.794Z"
   },
   {
    "duration": 172,
    "start_time": "2024-02-13T09:49:23.815Z"
   },
   {
    "duration": 8,
    "start_time": "2024-02-13T09:49:23.989Z"
   },
   {
    "duration": 173,
    "start_time": "2024-02-13T09:49:23.998Z"
   },
   {
    "duration": 3,
    "start_time": "2024-02-13T09:49:24.173Z"
   },
   {
    "duration": 38,
    "start_time": "2024-02-13T09:49:24.178Z"
   },
   {
    "duration": 32,
    "start_time": "2024-02-13T09:49:24.217Z"
   },
   {
    "duration": 16,
    "start_time": "2024-02-13T09:49:24.251Z"
   },
   {
    "duration": 7,
    "start_time": "2024-02-13T09:49:24.268Z"
   },
   {
    "duration": 46,
    "start_time": "2024-02-13T09:49:24.277Z"
   },
   {
    "duration": 15,
    "start_time": "2024-02-13T09:49:24.325Z"
   },
   {
    "duration": 166,
    "start_time": "2024-02-13T09:49:24.341Z"
   },
   {
    "duration": 172,
    "start_time": "2024-02-13T09:49:24.508Z"
   },
   {
    "duration": 231,
    "start_time": "2024-02-13T09:49:24.682Z"
   },
   {
    "duration": 156,
    "start_time": "2024-02-13T09:49:24.915Z"
   },
   {
    "duration": 247,
    "start_time": "2024-02-13T09:49:25.072Z"
   },
   {
    "duration": 240,
    "start_time": "2024-02-13T09:49:25.321Z"
   },
   {
    "duration": 16,
    "start_time": "2024-02-13T09:49:25.562Z"
   },
   {
    "duration": 4,
    "start_time": "2024-02-13T09:49:25.580Z"
   },
   {
    "duration": 45,
    "start_time": "2024-02-13T09:49:25.585Z"
   },
   {
    "duration": 17,
    "start_time": "2024-02-13T09:49:25.631Z"
   },
   {
    "duration": 15,
    "start_time": "2024-02-13T09:49:25.650Z"
   },
   {
    "duration": 15,
    "start_time": "2024-02-13T09:49:25.667Z"
   },
   {
    "duration": 40,
    "start_time": "2024-02-13T09:49:25.684Z"
   },
   {
    "duration": 8,
    "start_time": "2024-02-13T09:49:25.726Z"
   },
   {
    "duration": 5,
    "start_time": "2024-02-13T09:49:25.736Z"
   },
   {
    "duration": 16,
    "start_time": "2024-02-13T09:49:25.743Z"
   },
   {
    "duration": 14,
    "start_time": "2024-02-13T09:49:25.760Z"
   },
   {
    "duration": 13,
    "start_time": "2024-02-13T09:49:25.776Z"
   },
   {
    "duration": 29,
    "start_time": "2024-02-13T09:49:25.791Z"
   },
   {
    "duration": 5,
    "start_time": "2024-02-13T09:49:25.822Z"
   },
   {
    "duration": 11,
    "start_time": "2024-02-13T09:49:25.828Z"
   },
   {
    "duration": 145,
    "start_time": "2024-02-13T09:49:25.840Z"
   },
   {
    "duration": 307,
    "start_time": "2024-02-13T09:49:25.987Z"
   },
   {
    "duration": 5,
    "start_time": "2024-02-13T09:49:26.296Z"
   },
   {
    "duration": 205,
    "start_time": "2024-02-13T09:49:26.314Z"
   },
   {
    "duration": 1114,
    "start_time": "2024-02-13T13:47:26.874Z"
   },
   {
    "duration": 77,
    "start_time": "2024-02-13T13:47:27.990Z"
   },
   {
    "duration": 11,
    "start_time": "2024-02-13T13:47:28.069Z"
   },
   {
    "duration": 29,
    "start_time": "2024-02-13T13:47:28.082Z"
   },
   {
    "duration": 104,
    "start_time": "2024-02-13T13:47:28.113Z"
   },
   {
    "duration": 11,
    "start_time": "2024-02-13T13:47:28.219Z"
   },
   {
    "duration": 9,
    "start_time": "2024-02-13T13:47:28.231Z"
   },
   {
    "duration": 141,
    "start_time": "2024-02-13T13:47:28.241Z"
   },
   {
    "duration": 10,
    "start_time": "2024-02-13T13:47:28.384Z"
   },
   {
    "duration": 20,
    "start_time": "2024-02-13T13:47:28.396Z"
   },
   {
    "duration": 32,
    "start_time": "2024-02-13T13:47:28.418Z"
   },
   {
    "duration": 26,
    "start_time": "2024-02-13T13:47:28.452Z"
   },
   {
    "duration": 12,
    "start_time": "2024-02-13T13:47:28.480Z"
   },
   {
    "duration": 6,
    "start_time": "2024-02-13T13:47:28.494Z"
   },
   {
    "duration": 10,
    "start_time": "2024-02-13T13:47:28.501Z"
   },
   {
    "duration": 12,
    "start_time": "2024-02-13T13:47:28.512Z"
   },
   {
    "duration": 19,
    "start_time": "2024-02-13T13:47:28.526Z"
   },
   {
    "duration": 13,
    "start_time": "2024-02-13T13:47:28.547Z"
   },
   {
    "duration": 9,
    "start_time": "2024-02-13T13:47:28.562Z"
   },
   {
    "duration": 10,
    "start_time": "2024-02-13T13:47:28.572Z"
   },
   {
    "duration": 28,
    "start_time": "2024-02-13T13:47:28.583Z"
   },
   {
    "duration": 199,
    "start_time": "2024-02-13T13:47:28.613Z"
   },
   {
    "duration": 8,
    "start_time": "2024-02-13T13:47:28.813Z"
   },
   {
    "duration": 37,
    "start_time": "2024-02-13T13:47:28.823Z"
   },
   {
    "duration": 144,
    "start_time": "2024-02-13T13:47:28.862Z"
   },
   {
    "duration": 154,
    "start_time": "2024-02-13T13:47:29.007Z"
   },
   {
    "duration": 7,
    "start_time": "2024-02-13T13:47:29.163Z"
   },
   {
    "duration": 160,
    "start_time": "2024-02-13T13:47:29.174Z"
   },
   {
    "duration": 8,
    "start_time": "2024-02-13T13:47:29.335Z"
   },
   {
    "duration": 173,
    "start_time": "2024-02-13T13:47:29.345Z"
   },
   {
    "duration": 3,
    "start_time": "2024-02-13T13:47:29.520Z"
   },
   {
    "duration": 34,
    "start_time": "2024-02-13T13:47:29.524Z"
   },
   {
    "duration": 26,
    "start_time": "2024-02-13T13:47:29.560Z"
   },
   {
    "duration": 13,
    "start_time": "2024-02-13T13:47:29.588Z"
   },
   {
    "duration": 22,
    "start_time": "2024-02-13T13:47:29.602Z"
   },
   {
    "duration": 16,
    "start_time": "2024-02-13T13:47:29.625Z"
   },
   {
    "duration": 13,
    "start_time": "2024-02-13T13:47:29.643Z"
   },
   {
    "duration": 174,
    "start_time": "2024-02-13T13:47:29.658Z"
   },
   {
    "duration": 170,
    "start_time": "2024-02-13T13:47:29.834Z"
   },
   {
    "duration": 237,
    "start_time": "2024-02-13T13:47:30.006Z"
   },
   {
    "duration": 158,
    "start_time": "2024-02-13T13:47:30.245Z"
   },
   {
    "duration": 241,
    "start_time": "2024-02-13T13:47:30.405Z"
   },
   {
    "duration": 232,
    "start_time": "2024-02-13T13:47:30.647Z"
   },
   {
    "duration": 18,
    "start_time": "2024-02-13T13:47:30.880Z"
   },
   {
    "duration": 41,
    "start_time": "2024-02-13T13:47:30.899Z"
   },
   {
    "duration": 45,
    "start_time": "2024-02-13T13:47:30.941Z"
   },
   {
    "duration": 24,
    "start_time": "2024-02-13T13:47:30.988Z"
   },
   {
    "duration": 30,
    "start_time": "2024-02-13T13:47:31.014Z"
   },
   {
    "duration": 52,
    "start_time": "2024-02-13T13:47:31.046Z"
   },
   {
    "duration": 34,
    "start_time": "2024-02-13T13:47:31.099Z"
   },
   {
    "duration": 74,
    "start_time": "2024-02-13T13:47:31.135Z"
   },
   {
    "duration": 47,
    "start_time": "2024-02-13T13:47:31.211Z"
   },
   {
    "duration": 31,
    "start_time": "2024-02-13T13:47:31.260Z"
   },
   {
    "duration": 33,
    "start_time": "2024-02-13T13:47:31.293Z"
   },
   {
    "duration": 80,
    "start_time": "2024-02-13T13:47:31.328Z"
   },
   {
    "duration": 158,
    "start_time": "2024-02-13T13:47:31.409Z"
   },
   {
    "duration": 62,
    "start_time": "2024-02-13T13:47:31.569Z"
   },
   {
    "duration": 122,
    "start_time": "2024-02-13T13:47:31.633Z"
   },
   {
    "duration": 181,
    "start_time": "2024-02-13T13:47:31.757Z"
   },
   {
    "duration": 284,
    "start_time": "2024-02-13T13:47:31.939Z"
   },
   {
    "duration": 6,
    "start_time": "2024-02-13T13:47:32.224Z"
   },
   {
    "duration": 246,
    "start_time": "2024-02-13T13:47:32.231Z"
   },
   {
    "duration": 1039,
    "start_time": "2024-02-13T13:52:58.657Z"
   },
   {
    "duration": 99,
    "start_time": "2024-02-13T13:52:59.698Z"
   },
   {
    "duration": 11,
    "start_time": "2024-02-13T13:52:59.800Z"
   },
   {
    "duration": 18,
    "start_time": "2024-02-13T13:52:59.813Z"
   },
   {
    "duration": 127,
    "start_time": "2024-02-13T13:52:59.832Z"
   },
   {
    "duration": 12,
    "start_time": "2024-02-13T13:52:59.960Z"
   },
   {
    "duration": 8,
    "start_time": "2024-02-13T13:52:59.973Z"
   },
   {
    "duration": 117,
    "start_time": "2024-02-13T13:52:59.983Z"
   },
   {
    "duration": 10,
    "start_time": "2024-02-13T13:53:00.102Z"
   },
   {
    "duration": 38,
    "start_time": "2024-02-13T13:53:00.113Z"
   },
   {
    "duration": 51,
    "start_time": "2024-02-13T13:53:00.153Z"
   },
   {
    "duration": 31,
    "start_time": "2024-02-13T13:53:00.205Z"
   },
   {
    "duration": 19,
    "start_time": "2024-02-13T13:53:00.239Z"
   },
   {
    "duration": 18,
    "start_time": "2024-02-13T13:53:00.260Z"
   },
   {
    "duration": 31,
    "start_time": "2024-02-13T13:53:00.279Z"
   },
   {
    "duration": 28,
    "start_time": "2024-02-13T13:53:00.311Z"
   },
   {
    "duration": 19,
    "start_time": "2024-02-13T13:53:00.340Z"
   },
   {
    "duration": 30,
    "start_time": "2024-02-13T13:53:00.361Z"
   },
   {
    "duration": 9,
    "start_time": "2024-02-13T13:53:00.393Z"
   },
   {
    "duration": 28,
    "start_time": "2024-02-13T13:53:00.403Z"
   },
   {
    "duration": 18,
    "start_time": "2024-02-13T13:53:00.432Z"
   },
   {
    "duration": 211,
    "start_time": "2024-02-13T13:53:00.452Z"
   },
   {
    "duration": 5,
    "start_time": "2024-02-13T13:53:00.665Z"
   },
   {
    "duration": 46,
    "start_time": "2024-02-13T13:53:00.671Z"
   },
   {
    "duration": 130,
    "start_time": "2024-02-13T13:53:00.719Z"
   },
   {
    "duration": 147,
    "start_time": "2024-02-13T13:53:00.851Z"
   },
   {
    "duration": 8,
    "start_time": "2024-02-13T13:53:00.999Z"
   },
   {
    "duration": 184,
    "start_time": "2024-02-13T13:53:01.009Z"
   },
   {
    "duration": 9,
    "start_time": "2024-02-13T13:53:01.194Z"
   },
   {
    "duration": 189,
    "start_time": "2024-02-13T13:53:01.204Z"
   },
   {
    "duration": 3,
    "start_time": "2024-02-13T13:53:01.395Z"
   },
   {
    "duration": 70,
    "start_time": "2024-02-13T13:53:01.399Z"
   },
   {
    "duration": 105,
    "start_time": "2024-02-13T13:53:01.470Z"
   },
   {
    "duration": 55,
    "start_time": "2024-02-13T13:53:01.576Z"
   },
   {
    "duration": 43,
    "start_time": "2024-02-13T13:53:01.633Z"
   },
   {
    "duration": 63,
    "start_time": "2024-02-13T13:53:01.678Z"
   },
   {
    "duration": 45,
    "start_time": "2024-02-13T13:53:01.743Z"
   },
   {
    "duration": 180,
    "start_time": "2024-02-13T13:53:01.790Z"
   },
   {
    "duration": 299,
    "start_time": "2024-02-13T13:53:01.972Z"
   },
   {
    "duration": 265,
    "start_time": "2024-02-13T13:53:02.321Z"
   },
   {
    "duration": 169,
    "start_time": "2024-02-13T13:53:02.588Z"
   },
   {
    "duration": 259,
    "start_time": "2024-02-13T13:53:02.759Z"
   },
   {
    "duration": 226,
    "start_time": "2024-02-13T13:53:03.021Z"
   },
   {
    "duration": 16,
    "start_time": "2024-02-13T13:53:03.249Z"
   },
   {
    "duration": 6,
    "start_time": "2024-02-13T13:53:03.266Z"
   },
   {
    "duration": 44,
    "start_time": "2024-02-13T13:53:03.273Z"
   },
   {
    "duration": 15,
    "start_time": "2024-02-13T13:53:03.318Z"
   },
   {
    "duration": 15,
    "start_time": "2024-02-13T13:53:03.335Z"
   },
   {
    "duration": 14,
    "start_time": "2024-02-13T13:53:03.351Z"
   },
   {
    "duration": 14,
    "start_time": "2024-02-13T13:53:03.367Z"
   },
   {
    "duration": 39,
    "start_time": "2024-02-13T13:53:03.382Z"
   },
   {
    "duration": 7,
    "start_time": "2024-02-13T13:53:03.423Z"
   },
   {
    "duration": 9,
    "start_time": "2024-02-13T13:53:03.432Z"
   },
   {
    "duration": 8,
    "start_time": "2024-02-13T13:53:03.443Z"
   },
   {
    "duration": 20,
    "start_time": "2024-02-13T13:53:03.452Z"
   },
   {
    "duration": 11,
    "start_time": "2024-02-13T13:53:03.474Z"
   },
   {
    "duration": 7,
    "start_time": "2024-02-13T13:53:03.487Z"
   },
   {
    "duration": 3,
    "start_time": "2024-02-13T13:53:03.520Z"
   },
   {
    "duration": 159,
    "start_time": "2024-02-13T13:53:03.525Z"
   },
   {
    "duration": 294,
    "start_time": "2024-02-13T13:53:03.685Z"
   },
   {
    "duration": 6,
    "start_time": "2024-02-13T13:53:03.981Z"
   },
   {
    "duration": 213,
    "start_time": "2024-02-13T13:53:03.989Z"
   },
   {
    "duration": 163,
    "start_time": "2024-02-13T16:37:17.727Z"
   },
   {
    "duration": 170,
    "start_time": "2024-02-13T16:37:30.475Z"
   },
   {
    "duration": 189,
    "start_time": "2024-02-13T16:38:10.582Z"
   },
   {
    "duration": 182,
    "start_time": "2024-02-13T16:38:17.539Z"
   },
   {
    "duration": 204,
    "start_time": "2024-02-13T16:39:37.996Z"
   },
   {
    "duration": 7,
    "start_time": "2024-02-13T16:46:43.420Z"
   },
   {
    "duration": 1051,
    "start_time": "2024-02-13T16:47:07.137Z"
   },
   {
    "duration": 123,
    "start_time": "2024-02-13T16:47:08.190Z"
   },
   {
    "duration": 12,
    "start_time": "2024-02-13T16:47:08.314Z"
   },
   {
    "duration": 11,
    "start_time": "2024-02-13T16:47:08.329Z"
   },
   {
    "duration": 108,
    "start_time": "2024-02-13T16:47:08.341Z"
   },
   {
    "duration": 11,
    "start_time": "2024-02-13T16:47:08.450Z"
   },
   {
    "duration": 9,
    "start_time": "2024-02-13T16:47:08.462Z"
   },
   {
    "duration": 68,
    "start_time": "2024-02-13T16:47:08.472Z"
   },
   {
    "duration": 9,
    "start_time": "2024-02-13T16:47:08.542Z"
   },
   {
    "duration": 7,
    "start_time": "2024-02-13T16:47:08.553Z"
   },
   {
    "duration": 19,
    "start_time": "2024-02-13T16:47:08.561Z"
   },
   {
    "duration": 5,
    "start_time": "2024-02-13T16:47:08.581Z"
   },
   {
    "duration": 12,
    "start_time": "2024-02-13T16:47:08.587Z"
   },
   {
    "duration": 4,
    "start_time": "2024-02-13T16:47:08.601Z"
   },
   {
    "duration": 4,
    "start_time": "2024-02-13T16:47:08.606Z"
   },
   {
    "duration": 5,
    "start_time": "2024-02-13T16:47:08.611Z"
   },
   {
    "duration": 8,
    "start_time": "2024-02-13T16:47:08.617Z"
   },
   {
    "duration": 8,
    "start_time": "2024-02-13T16:47:08.627Z"
   },
   {
    "duration": 7,
    "start_time": "2024-02-13T16:47:08.637Z"
   },
   {
    "duration": 9,
    "start_time": "2024-02-13T16:47:08.646Z"
   },
   {
    "duration": 5,
    "start_time": "2024-02-13T16:47:08.656Z"
   },
   {
    "duration": 188,
    "start_time": "2024-02-13T16:47:08.663Z"
   },
   {
    "duration": 14,
    "start_time": "2024-02-13T16:47:08.853Z"
   },
   {
    "duration": 6,
    "start_time": "2024-02-13T16:47:08.868Z"
   },
   {
    "duration": 89,
    "start_time": "2024-02-13T16:47:08.875Z"
   },
   {
    "duration": 140,
    "start_time": "2024-02-13T16:47:08.966Z"
   },
   {
    "duration": 13,
    "start_time": "2024-02-13T16:47:09.107Z"
   },
   {
    "duration": 154,
    "start_time": "2024-02-13T16:47:09.123Z"
   },
   {
    "duration": 8,
    "start_time": "2024-02-13T16:47:09.279Z"
   },
   {
    "duration": 156,
    "start_time": "2024-02-13T16:47:09.288Z"
   },
   {
    "duration": 3,
    "start_time": "2024-02-13T16:47:09.445Z"
   },
   {
    "duration": 18,
    "start_time": "2024-02-13T16:47:09.450Z"
   },
   {
    "duration": 24,
    "start_time": "2024-02-13T16:47:09.469Z"
   },
   {
    "duration": 14,
    "start_time": "2024-02-13T16:47:09.514Z"
   },
   {
    "duration": 7,
    "start_time": "2024-02-13T16:47:09.529Z"
   },
   {
    "duration": 16,
    "start_time": "2024-02-13T16:47:09.537Z"
   },
   {
    "duration": 14,
    "start_time": "2024-02-13T16:47:09.554Z"
   },
   {
    "duration": 163,
    "start_time": "2024-02-13T16:47:09.570Z"
   },
   {
    "duration": 174,
    "start_time": "2024-02-13T16:47:09.734Z"
   },
   {
    "duration": 193,
    "start_time": "2024-02-13T16:47:09.910Z"
   },
   {
    "duration": 144,
    "start_time": "2024-02-13T16:47:10.105Z"
   },
   {
    "duration": 239,
    "start_time": "2024-02-13T16:47:10.250Z"
   },
   {
    "duration": 208,
    "start_time": "2024-02-13T16:47:10.490Z"
   },
   {
    "duration": 24,
    "start_time": "2024-02-13T16:47:10.700Z"
   },
   {
    "duration": 4,
    "start_time": "2024-02-13T16:47:10.726Z"
   },
   {
    "duration": 32,
    "start_time": "2024-02-13T16:47:10.731Z"
   },
   {
    "duration": 14,
    "start_time": "2024-02-13T16:47:10.764Z"
   },
   {
    "duration": 17,
    "start_time": "2024-02-13T16:47:10.779Z"
   },
   {
    "duration": 27,
    "start_time": "2024-02-13T16:47:10.798Z"
   },
   {
    "duration": 14,
    "start_time": "2024-02-13T16:47:10.826Z"
   },
   {
    "duration": 8,
    "start_time": "2024-02-13T16:47:10.842Z"
   },
   {
    "duration": 6,
    "start_time": "2024-02-13T16:47:10.851Z"
   },
   {
    "duration": 6,
    "start_time": "2024-02-13T16:47:10.859Z"
   },
   {
    "duration": 6,
    "start_time": "2024-02-13T16:47:10.867Z"
   },
   {
    "duration": 7,
    "start_time": "2024-02-13T16:47:10.915Z"
   },
   {
    "duration": 11,
    "start_time": "2024-02-13T16:47:10.923Z"
   },
   {
    "duration": 5,
    "start_time": "2024-02-13T16:47:10.936Z"
   },
   {
    "duration": 3,
    "start_time": "2024-02-13T16:47:10.942Z"
   },
   {
    "duration": 148,
    "start_time": "2024-02-13T16:47:10.947Z"
   },
   {
    "duration": 293,
    "start_time": "2024-02-13T16:47:11.097Z"
   },
   {
    "duration": 5,
    "start_time": "2024-02-13T16:47:11.391Z"
   },
   {
    "duration": 199,
    "start_time": "2024-02-13T16:47:11.398Z"
   },
   {
    "duration": 5,
    "start_time": "2024-02-13T16:49:43.841Z"
   },
   {
    "duration": 1077,
    "start_time": "2024-02-13T16:49:55.495Z"
   },
   {
    "duration": 113,
    "start_time": "2024-02-13T16:49:56.573Z"
   },
   {
    "duration": 11,
    "start_time": "2024-02-13T16:49:56.687Z"
   },
   {
    "duration": 14,
    "start_time": "2024-02-13T16:49:56.700Z"
   },
   {
    "duration": 89,
    "start_time": "2024-02-13T16:49:56.716Z"
   },
   {
    "duration": 11,
    "start_time": "2024-02-13T16:49:56.807Z"
   },
   {
    "duration": 11,
    "start_time": "2024-02-13T16:49:56.820Z"
   },
   {
    "duration": 75,
    "start_time": "2024-02-13T16:49:56.832Z"
   },
   {
    "duration": 10,
    "start_time": "2024-02-13T16:49:56.909Z"
   },
   {
    "duration": 7,
    "start_time": "2024-02-13T16:49:56.921Z"
   },
   {
    "duration": 17,
    "start_time": "2024-02-13T16:49:56.929Z"
   },
   {
    "duration": 4,
    "start_time": "2024-02-13T16:49:56.948Z"
   },
   {
    "duration": 17,
    "start_time": "2024-02-13T16:49:56.954Z"
   },
   {
    "duration": 31,
    "start_time": "2024-02-13T16:49:56.972Z"
   },
   {
    "duration": 19,
    "start_time": "2024-02-13T16:49:57.005Z"
   },
   {
    "duration": 26,
    "start_time": "2024-02-13T16:49:57.025Z"
   },
   {
    "duration": 11,
    "start_time": "2024-02-13T16:49:57.053Z"
   },
   {
    "duration": 16,
    "start_time": "2024-02-13T16:49:57.065Z"
   },
   {
    "duration": 9,
    "start_time": "2024-02-13T16:49:57.082Z"
   },
   {
    "duration": 11,
    "start_time": "2024-02-13T16:49:57.092Z"
   },
   {
    "duration": 8,
    "start_time": "2024-02-13T16:49:57.104Z"
   },
   {
    "duration": 168,
    "start_time": "2024-02-13T16:49:57.113Z"
   },
   {
    "duration": 5,
    "start_time": "2024-02-13T16:49:57.283Z"
   },
   {
    "duration": 4,
    "start_time": "2024-02-13T16:49:57.290Z"
   },
   {
    "duration": 94,
    "start_time": "2024-02-13T16:49:57.295Z"
   },
   {
    "duration": 142,
    "start_time": "2024-02-13T16:49:57.390Z"
   },
   {
    "duration": 7,
    "start_time": "2024-02-13T16:49:57.534Z"
   },
   {
    "duration": 156,
    "start_time": "2024-02-13T16:49:57.544Z"
   },
   {
    "duration": 16,
    "start_time": "2024-02-13T16:49:57.701Z"
   },
   {
    "duration": 153,
    "start_time": "2024-02-13T16:49:57.718Z"
   },
   {
    "duration": 3,
    "start_time": "2024-02-13T16:49:57.872Z"
   },
   {
    "duration": 21,
    "start_time": "2024-02-13T16:49:57.877Z"
   },
   {
    "duration": 40,
    "start_time": "2024-02-13T16:49:57.900Z"
   },
   {
    "duration": 16,
    "start_time": "2024-02-13T16:49:57.941Z"
   },
   {
    "duration": 6,
    "start_time": "2024-02-13T16:49:57.958Z"
   },
   {
    "duration": 17,
    "start_time": "2024-02-13T16:49:57.966Z"
   },
   {
    "duration": 41,
    "start_time": "2024-02-13T16:49:57.985Z"
   },
   {
    "duration": 193,
    "start_time": "2024-02-13T16:49:58.028Z"
   },
   {
    "duration": 157,
    "start_time": "2024-02-13T16:49:58.222Z"
   },
   {
    "duration": 206,
    "start_time": "2024-02-13T16:49:58.381Z"
   },
   {
    "duration": 149,
    "start_time": "2024-02-13T16:49:58.589Z"
   },
   {
    "duration": 235,
    "start_time": "2024-02-13T16:49:58.740Z"
   },
   {
    "duration": 215,
    "start_time": "2024-02-13T16:49:58.977Z"
   },
   {
    "duration": 21,
    "start_time": "2024-02-13T16:49:59.194Z"
   },
   {
    "duration": 5,
    "start_time": "2024-02-13T16:49:59.217Z"
   },
   {
    "duration": 28,
    "start_time": "2024-02-13T16:49:59.223Z"
   },
   {
    "duration": 14,
    "start_time": "2024-02-13T16:49:59.252Z"
   },
   {
    "duration": 14,
    "start_time": "2024-02-13T16:49:59.268Z"
   },
   {
    "duration": 44,
    "start_time": "2024-02-13T16:49:59.283Z"
   },
   {
    "duration": 13,
    "start_time": "2024-02-13T16:49:59.328Z"
   },
   {
    "duration": 8,
    "start_time": "2024-02-13T16:49:59.343Z"
   },
   {
    "duration": 5,
    "start_time": "2024-02-13T16:49:59.352Z"
   },
   {
    "duration": 6,
    "start_time": "2024-02-13T16:49:59.359Z"
   },
   {
    "duration": 5,
    "start_time": "2024-02-13T16:49:59.366Z"
   },
   {
    "duration": 44,
    "start_time": "2024-02-13T16:49:59.372Z"
   },
   {
    "duration": 8,
    "start_time": "2024-02-13T16:49:59.418Z"
   },
   {
    "duration": 5,
    "start_time": "2024-02-13T16:49:59.427Z"
   },
   {
    "duration": 7,
    "start_time": "2024-02-13T16:49:59.433Z"
   },
   {
    "duration": 146,
    "start_time": "2024-02-13T16:49:59.441Z"
   },
   {
    "duration": 301,
    "start_time": "2024-02-13T16:49:59.589Z"
   },
   {
    "duration": 5,
    "start_time": "2024-02-13T16:49:59.892Z"
   },
   {
    "duration": 201,
    "start_time": "2024-02-13T16:49:59.899Z"
   },
   {
    "duration": 1044,
    "start_time": "2024-02-13T16:59:40.534Z"
   },
   {
    "duration": 109,
    "start_time": "2024-02-13T16:59:41.580Z"
   },
   {
    "duration": 11,
    "start_time": "2024-02-13T16:59:41.690Z"
   },
   {
    "duration": 27,
    "start_time": "2024-02-13T16:59:41.703Z"
   },
   {
    "duration": 104,
    "start_time": "2024-02-13T16:59:41.731Z"
   },
   {
    "duration": 10,
    "start_time": "2024-02-13T16:59:41.836Z"
   },
   {
    "duration": 23,
    "start_time": "2024-02-13T16:59:41.847Z"
   },
   {
    "duration": 78,
    "start_time": "2024-02-13T16:59:41.871Z"
   },
   {
    "duration": 10,
    "start_time": "2024-02-13T16:59:41.951Z"
   },
   {
    "duration": 10,
    "start_time": "2024-02-13T16:59:41.964Z"
   },
   {
    "duration": 20,
    "start_time": "2024-02-13T16:59:41.976Z"
   },
   {
    "duration": 23,
    "start_time": "2024-02-13T16:59:41.998Z"
   },
   {
    "duration": 15,
    "start_time": "2024-02-13T16:59:42.022Z"
   },
   {
    "duration": 13,
    "start_time": "2024-02-13T16:59:42.039Z"
   },
   {
    "duration": 21,
    "start_time": "2024-02-13T16:59:42.054Z"
   },
   {
    "duration": 12,
    "start_time": "2024-02-13T16:59:42.077Z"
   },
   {
    "duration": 31,
    "start_time": "2024-02-13T16:59:42.090Z"
   },
   {
    "duration": 16,
    "start_time": "2024-02-13T16:59:42.122Z"
   },
   {
    "duration": 20,
    "start_time": "2024-02-13T16:59:42.140Z"
   },
   {
    "duration": 34,
    "start_time": "2024-02-13T16:59:42.162Z"
   },
   {
    "duration": 6,
    "start_time": "2024-02-13T16:59:42.198Z"
   },
   {
    "duration": 170,
    "start_time": "2024-02-13T16:59:42.205Z"
   },
   {
    "duration": 6,
    "start_time": "2024-02-13T16:59:42.376Z"
   },
   {
    "duration": 16,
    "start_time": "2024-02-13T16:59:42.384Z"
   },
   {
    "duration": 98,
    "start_time": "2024-02-13T16:59:42.402Z"
   },
   {
    "duration": 144,
    "start_time": "2024-02-13T16:59:42.501Z"
   },
   {
    "duration": 9,
    "start_time": "2024-02-13T16:59:42.646Z"
   },
   {
    "duration": 167,
    "start_time": "2024-02-13T16:59:42.659Z"
   },
   {
    "duration": 9,
    "start_time": "2024-02-13T16:59:42.828Z"
   },
   {
    "duration": 182,
    "start_time": "2024-02-13T16:59:42.838Z"
   },
   {
    "duration": 3,
    "start_time": "2024-02-13T16:59:43.021Z"
   },
   {
    "duration": 17,
    "start_time": "2024-02-13T16:59:43.026Z"
   },
   {
    "duration": 24,
    "start_time": "2024-02-13T16:59:43.045Z"
   },
   {
    "duration": 13,
    "start_time": "2024-02-13T16:59:43.071Z"
   },
   {
    "duration": 34,
    "start_time": "2024-02-13T16:59:43.085Z"
   },
   {
    "duration": 16,
    "start_time": "2024-02-13T16:59:43.120Z"
   },
   {
    "duration": 15,
    "start_time": "2024-02-13T16:59:43.138Z"
   },
   {
    "duration": 166,
    "start_time": "2024-02-13T16:59:43.154Z"
   },
   {
    "duration": 160,
    "start_time": "2024-02-13T16:59:43.322Z"
   },
   {
    "duration": 212,
    "start_time": "2024-02-13T16:59:43.484Z"
   },
   {
    "duration": 153,
    "start_time": "2024-02-13T16:59:43.698Z"
   },
   {
    "duration": 232,
    "start_time": "2024-02-13T16:59:43.853Z"
   },
   {
    "duration": 242,
    "start_time": "2024-02-13T16:59:44.087Z"
   },
   {
    "duration": 16,
    "start_time": "2024-02-13T16:59:44.330Z"
   },
   {
    "duration": 4,
    "start_time": "2024-02-13T16:59:44.348Z"
   },
   {
    "duration": 26,
    "start_time": "2024-02-13T16:59:44.353Z"
   },
   {
    "duration": 35,
    "start_time": "2024-02-13T16:59:44.381Z"
   },
   {
    "duration": 14,
    "start_time": "2024-02-13T16:59:44.417Z"
   },
   {
    "duration": 12,
    "start_time": "2024-02-13T16:59:44.433Z"
   },
   {
    "duration": 12,
    "start_time": "2024-02-13T16:59:44.446Z"
   },
   {
    "duration": 9,
    "start_time": "2024-02-13T16:59:44.459Z"
   },
   {
    "duration": 5,
    "start_time": "2024-02-13T16:59:44.469Z"
   },
   {
    "duration": 6,
    "start_time": "2024-02-13T16:59:44.475Z"
   },
   {
    "duration": 37,
    "start_time": "2024-02-13T16:59:44.482Z"
   },
   {
    "duration": 6,
    "start_time": "2024-02-13T16:59:44.520Z"
   },
   {
    "duration": 8,
    "start_time": "2024-02-13T16:59:44.527Z"
   },
   {
    "duration": 5,
    "start_time": "2024-02-13T16:59:44.536Z"
   },
   {
    "duration": 9,
    "start_time": "2024-02-13T16:59:44.542Z"
   },
   {
    "duration": 149,
    "start_time": "2024-02-13T16:59:44.552Z"
   },
   {
    "duration": 298,
    "start_time": "2024-02-13T16:59:44.703Z"
   },
   {
    "duration": 15,
    "start_time": "2024-02-13T16:59:45.002Z"
   },
   {
    "duration": 225,
    "start_time": "2024-02-13T16:59:45.019Z"
   },
   {
    "duration": 1075,
    "start_time": "2024-02-13T17:08:18.483Z"
   },
   {
    "duration": 86,
    "start_time": "2024-02-13T17:08:19.559Z"
   },
   {
    "duration": 10,
    "start_time": "2024-02-13T17:08:19.647Z"
   },
   {
    "duration": 12,
    "start_time": "2024-02-13T17:08:19.658Z"
   },
   {
    "duration": 99,
    "start_time": "2024-02-13T17:08:19.671Z"
   },
   {
    "duration": 10,
    "start_time": "2024-02-13T17:08:19.771Z"
   },
   {
    "duration": 8,
    "start_time": "2024-02-13T17:08:19.783Z"
   },
   {
    "duration": 98,
    "start_time": "2024-02-13T17:08:19.792Z"
   },
   {
    "duration": 9,
    "start_time": "2024-02-13T17:08:19.892Z"
   },
   {
    "duration": 15,
    "start_time": "2024-02-13T17:08:19.904Z"
   },
   {
    "duration": 11,
    "start_time": "2024-02-13T17:08:19.920Z"
   },
   {
    "duration": 4,
    "start_time": "2024-02-13T17:08:19.932Z"
   },
   {
    "duration": 5,
    "start_time": "2024-02-13T17:08:19.938Z"
   },
   {
    "duration": 4,
    "start_time": "2024-02-13T17:08:19.945Z"
   },
   {
    "duration": 5,
    "start_time": "2024-02-13T17:08:19.950Z"
   },
   {
    "duration": 4,
    "start_time": "2024-02-13T17:08:19.957Z"
   },
   {
    "duration": 6,
    "start_time": "2024-02-13T17:08:19.962Z"
   },
   {
    "duration": 9,
    "start_time": "2024-02-13T17:08:19.970Z"
   },
   {
    "duration": 9,
    "start_time": "2024-02-13T17:08:20.015Z"
   },
   {
    "duration": 10,
    "start_time": "2024-02-13T17:08:20.025Z"
   },
   {
    "duration": 10,
    "start_time": "2024-02-13T17:08:20.037Z"
   },
   {
    "duration": 182,
    "start_time": "2024-02-13T17:08:20.048Z"
   },
   {
    "duration": 5,
    "start_time": "2024-02-13T17:08:20.232Z"
   },
   {
    "duration": 4,
    "start_time": "2024-02-13T17:08:20.239Z"
   },
   {
    "duration": 96,
    "start_time": "2024-02-13T17:08:20.244Z"
   },
   {
    "duration": 151,
    "start_time": "2024-02-13T17:08:20.341Z"
   },
   {
    "duration": 8,
    "start_time": "2024-02-13T17:08:20.493Z"
   },
   {
    "duration": 152,
    "start_time": "2024-02-13T17:08:20.514Z"
   },
   {
    "duration": 8,
    "start_time": "2024-02-13T17:08:20.668Z"
   },
   {
    "duration": 162,
    "start_time": "2024-02-13T17:08:20.677Z"
   },
   {
    "duration": 3,
    "start_time": "2024-02-13T17:08:20.841Z"
   },
   {
    "duration": 19,
    "start_time": "2024-02-13T17:08:20.846Z"
   },
   {
    "duration": 24,
    "start_time": "2024-02-13T17:08:20.866Z"
   },
   {
    "duration": 34,
    "start_time": "2024-02-13T17:08:20.891Z"
   },
   {
    "duration": 6,
    "start_time": "2024-02-13T17:08:20.927Z"
   },
   {
    "duration": 18,
    "start_time": "2024-02-13T17:08:20.934Z"
   },
   {
    "duration": 14,
    "start_time": "2024-02-13T17:08:20.954Z"
   },
   {
    "duration": 164,
    "start_time": "2024-02-13T17:08:20.970Z"
   },
   {
    "duration": 168,
    "start_time": "2024-02-13T17:08:21.135Z"
   },
   {
    "duration": 211,
    "start_time": "2024-02-13T17:08:21.305Z"
   },
   {
    "duration": 153,
    "start_time": "2024-02-13T17:08:21.517Z"
   },
   {
    "duration": 238,
    "start_time": "2024-02-13T17:08:21.672Z"
   },
   {
    "duration": 212,
    "start_time": "2024-02-13T17:08:21.915Z"
   },
   {
    "duration": 17,
    "start_time": "2024-02-13T17:08:22.128Z"
   },
   {
    "duration": 4,
    "start_time": "2024-02-13T17:08:22.146Z"
   },
   {
    "duration": 28,
    "start_time": "2024-02-13T17:08:22.151Z"
   },
   {
    "duration": 36,
    "start_time": "2024-02-13T17:08:22.180Z"
   },
   {
    "duration": 15,
    "start_time": "2024-02-13T17:08:22.217Z"
   },
   {
    "duration": 14,
    "start_time": "2024-02-13T17:08:22.233Z"
   },
   {
    "duration": 13,
    "start_time": "2024-02-13T17:08:22.248Z"
   },
   {
    "duration": 7,
    "start_time": "2024-02-13T17:08:22.262Z"
   },
   {
    "duration": 5,
    "start_time": "2024-02-13T17:08:22.271Z"
   },
   {
    "duration": 7,
    "start_time": "2024-02-13T17:08:22.314Z"
   },
   {
    "duration": 6,
    "start_time": "2024-02-13T17:08:22.322Z"
   },
   {
    "duration": 18,
    "start_time": "2024-02-13T17:08:22.330Z"
   },
   {
    "duration": 9,
    "start_time": "2024-02-13T17:08:22.350Z"
   },
   {
    "duration": 5,
    "start_time": "2024-02-13T17:08:22.360Z"
   },
   {
    "duration": 2,
    "start_time": "2024-02-13T17:08:22.367Z"
   },
   {
    "duration": 152,
    "start_time": "2024-02-13T17:08:22.371Z"
   },
   {
    "duration": 281,
    "start_time": "2024-02-13T17:08:22.524Z"
   },
   {
    "duration": 10,
    "start_time": "2024-02-13T17:08:22.807Z"
   },
   {
    "duration": 204,
    "start_time": "2024-02-13T17:08:22.819Z"
   },
   {
    "duration": 1182,
    "start_time": "2024-02-13T17:24:02.091Z"
   },
   {
    "duration": 208,
    "start_time": "2024-02-13T17:24:03.275Z"
   },
   {
    "duration": 15,
    "start_time": "2024-02-13T17:24:03.485Z"
   },
   {
    "duration": 77,
    "start_time": "2024-02-13T17:24:03.505Z"
   },
   {
    "duration": 108,
    "start_time": "2024-02-13T17:24:03.584Z"
   },
   {
    "duration": 11,
    "start_time": "2024-02-13T17:24:03.694Z"
   },
   {
    "duration": 25,
    "start_time": "2024-02-13T17:24:03.706Z"
   },
   {
    "duration": 124,
    "start_time": "2024-02-13T17:24:03.732Z"
   },
   {
    "duration": 10,
    "start_time": "2024-02-13T17:24:03.858Z"
   },
   {
    "duration": 14,
    "start_time": "2024-02-13T17:24:03.871Z"
   },
   {
    "duration": 10,
    "start_time": "2024-02-13T17:24:03.886Z"
   },
   {
    "duration": 5,
    "start_time": "2024-02-13T17:24:03.897Z"
   },
   {
    "duration": 7,
    "start_time": "2024-02-13T17:24:03.903Z"
   },
   {
    "duration": 10,
    "start_time": "2024-02-13T17:24:03.911Z"
   },
   {
    "duration": 15,
    "start_time": "2024-02-13T17:24:03.922Z"
   },
   {
    "duration": 14,
    "start_time": "2024-02-13T17:24:03.939Z"
   },
   {
    "duration": 7,
    "start_time": "2024-02-13T17:24:03.954Z"
   },
   {
    "duration": 7,
    "start_time": "2024-02-13T17:24:03.962Z"
   },
   {
    "duration": 7,
    "start_time": "2024-02-13T17:24:03.971Z"
   },
   {
    "duration": 10,
    "start_time": "2024-02-13T17:24:03.980Z"
   },
   {
    "duration": 7,
    "start_time": "2024-02-13T17:24:03.991Z"
   },
   {
    "duration": 179,
    "start_time": "2024-02-13T17:24:04.000Z"
   },
   {
    "duration": 5,
    "start_time": "2024-02-13T17:24:04.181Z"
   },
   {
    "duration": 8,
    "start_time": "2024-02-13T17:24:04.187Z"
   },
   {
    "duration": 102,
    "start_time": "2024-02-13T17:24:04.197Z"
   },
   {
    "duration": 144,
    "start_time": "2024-02-13T17:24:04.300Z"
   },
   {
    "duration": 7,
    "start_time": "2024-02-13T17:24:04.445Z"
   },
   {
    "duration": 164,
    "start_time": "2024-02-13T17:24:04.456Z"
   },
   {
    "duration": 8,
    "start_time": "2024-02-13T17:24:04.622Z"
   },
   {
    "duration": 182,
    "start_time": "2024-02-13T17:24:04.631Z"
   },
   {
    "duration": 3,
    "start_time": "2024-02-13T17:24:04.820Z"
   },
   {
    "duration": 21,
    "start_time": "2024-02-13T17:24:04.825Z"
   },
   {
    "duration": 26,
    "start_time": "2024-02-13T17:24:04.848Z"
   },
   {
    "duration": 15,
    "start_time": "2024-02-13T17:24:04.876Z"
   },
   {
    "duration": 33,
    "start_time": "2024-02-13T17:24:04.892Z"
   },
   {
    "duration": 18,
    "start_time": "2024-02-13T17:24:04.926Z"
   },
   {
    "duration": 15,
    "start_time": "2024-02-13T17:24:04.945Z"
   },
   {
    "duration": 173,
    "start_time": "2024-02-13T17:24:04.961Z"
   },
   {
    "duration": 159,
    "start_time": "2024-02-13T17:24:05.135Z"
   },
   {
    "duration": 216,
    "start_time": "2024-02-13T17:24:05.295Z"
   },
   {
    "duration": 152,
    "start_time": "2024-02-13T17:24:05.512Z"
   },
   {
    "duration": 256,
    "start_time": "2024-02-13T17:24:05.666Z"
   },
   {
    "duration": 220,
    "start_time": "2024-02-13T17:24:05.923Z"
   },
   {
    "duration": 16,
    "start_time": "2024-02-13T17:24:06.144Z"
   },
   {
    "duration": 10,
    "start_time": "2024-02-13T17:24:06.162Z"
   },
   {
    "duration": 36,
    "start_time": "2024-02-13T17:24:06.173Z"
   },
   {
    "duration": 23,
    "start_time": "2024-02-13T17:24:06.210Z"
   },
   {
    "duration": 15,
    "start_time": "2024-02-13T17:24:06.235Z"
   },
   {
    "duration": 15,
    "start_time": "2024-02-13T17:24:06.251Z"
   },
   {
    "duration": 13,
    "start_time": "2024-02-13T17:24:06.268Z"
   },
   {
    "duration": 38,
    "start_time": "2024-02-13T17:24:06.283Z"
   },
   {
    "duration": 7,
    "start_time": "2024-02-13T17:24:06.322Z"
   },
   {
    "duration": 7,
    "start_time": "2024-02-13T17:24:06.330Z"
   },
   {
    "duration": 5,
    "start_time": "2024-02-13T17:24:06.339Z"
   },
   {
    "duration": 6,
    "start_time": "2024-02-13T17:24:06.346Z"
   },
   {
    "duration": 15,
    "start_time": "2024-02-13T17:24:06.353Z"
   },
   {
    "duration": 5,
    "start_time": "2024-02-13T17:24:06.370Z"
   },
   {
    "duration": 16,
    "start_time": "2024-02-13T17:24:06.376Z"
   },
   {
    "duration": 146,
    "start_time": "2024-02-13T17:24:06.394Z"
   },
   {
    "duration": 282,
    "start_time": "2024-02-13T17:24:06.541Z"
   },
   {
    "duration": 5,
    "start_time": "2024-02-13T17:24:06.824Z"
   },
   {
    "duration": 199,
    "start_time": "2024-02-13T17:24:06.831Z"
   },
   {
    "duration": 143,
    "start_time": "2024-02-13T17:26:34.572Z"
   }
  ],
  "kernelspec": {
   "display_name": "Python 3 (ipykernel)",
   "language": "python",
   "name": "python3"
  },
  "language_info": {
   "codemirror_mode": {
    "name": "ipython",
    "version": 3
   },
   "file_extension": ".py",
   "mimetype": "text/x-python",
   "name": "python",
   "nbconvert_exporter": "python",
   "pygments_lexer": "ipython3",
   "version": "3.11.5"
  },
  "toc": {
   "base_numbering": 1,
   "nav_menu": {},
   "number_sections": true,
   "sideBar": true,
   "skip_h1_title": true,
   "title_cell": "Table of Contents",
   "title_sidebar": "Contents",
   "toc_cell": false,
   "toc_position": {},
   "toc_section_display": true,
   "toc_window_display": false
  }
 },
 "nbformat": 4,
 "nbformat_minor": 5
}
