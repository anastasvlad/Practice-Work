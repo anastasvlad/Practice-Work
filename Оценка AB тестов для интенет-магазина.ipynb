{
 "cells": [
  {
   "cell_type": "markdown",
   "id": "ad7128f0",
   "metadata": {},
   "source": [
    "**ПРИНЯТИЕ РЕШЕНИЯ В БИЗНЕСЕ. ОЦЕНКА AB ТЕСТА ДЛЯ ИНТЕРНЕТ-МАГАЗИНА**"
   ]
  },
  {
   "cell_type": "markdown",
   "id": "52dc26f8",
   "metadata": {},
   "source": [
    "**ОПИСАНИЕ ПРОЕКТА**"
   ]
  },
  {
   "cell_type": "markdown",
   "id": "6a0458df",
   "metadata": {},
   "source": [
    "**Аналитику интернет-магазина совместно с отделом маркетинга нужно подготовить список гипотез для увеличения выручки.\n",
    "Для этого требуется приоритизировать гипотезы, запустить A/B-тест и проанализировать результаты**"
   ]
  },
  {
   "cell_type": "markdown",
   "id": "138514fb",
   "metadata": {},
   "source": [
    "**Часть 1. Приоритизация гипотез**\n",
    "\n",
    " В файле /datasets/hypothesis.csv 9 гипотез по увеличению выручки интернет-магазина с указанными параметрами Reach, Impact, Confidence, Effort.\n",
    " \n",
    "**Задача**\n",
    "\n",
    "- 1. Применить фреймворк ICE для приоритизации гипотез. Отсортировать их по убыванию приоритета.\n",
    "- 2. Применить фреймворк RICE для приоритизации гипотез. Отсортировать их по убыванию приоритета.\n",
    "- 3. Указать, как изменилась приоритизация гипотез при применении RICE вместо ICE. Объяснить, почему так произошло."
   ]
  },
  {
   "cell_type": "markdown",
   "id": "f15226e8",
   "metadata": {},
   "source": [
    "**Часть 2. Анализ A/B-теста**\n",
    "\n",
    "После проведения A/B-теста есть результаты, которые описаны в файлах /datasets/orders.csv и /datasets/visitors.csv\n",
    "\n",
    "**Задача**\n",
    "\n",
    "Проанализировать A/B-тест:\n",
    "\n",
    "- 1. Построить график кумулятивной выручки по группам. Сделать выводы и предположения.\n",
    "- 2. Построить график кумулятивного среднего чека по группам. Сделать выводы и предположения.\n",
    "- 3. Построить график относительного изменения кумулятивного среднего чека группы B к группе A. Сделать выводы и предположения.\n",
    "- 4. Построить график кумулятивного среднего количества заказов на посетителя по группам. Сделать выводы и предположения.\n",
    "- 5. Построить график относительного изменения кумулятивного среднего количества заказов на посетителя группы B к группе A. \n",
    "Сделать выводы и предположения.\n",
    "- 6. Построить точечный график количества заказов по пользователям. Сделать выводы и предположения.\n",
    "- 7. Посчитать 95-й и 99-й перцентили количества заказов на пользователя. Выберить границу для определения аномальных пользователей.\n",
    "- 8. Построить точечный график стоимостей заказов. Сделать выводы и предположения.\n",
    "- 9. Посчитать 95-й и 99-й перцентили стоимости заказов. Выберить границу для определения аномальных заказов.\n",
    "- 10. Посчитать статистическую значимость различий в среднем количестве заказов на посетителя между группами по «сырым» данным. Сделать выводы и предположения.\n",
    "- 11. Посчитать статистическую значимость различий в среднем чеке заказа между группами по «сырым» данным. Сделать выводы и предположения.\n",
    "- 12. Посчитать статистическую значимость различий в среднем количестве заказов на посетителя между группами по «очищенным» данным. Сделать выводы и предположения.\n",
    "- 13. Посчитать статистическую значимость различий в среднем чеке заказа между группами по «очищенным» данным. Сделать выводы и предположения.\n",
    "\n",
    "**Принять решение по результатам теста и объясните его. Варианты решений:**\n",
    "- 1. Остановить тест, зафиксировать победу одной из групп.\n",
    "- 2. Остановить тест, зафиксировать отсутствие различий между группами.\n",
    "- 3. Продолжить тест."
   ]
  },
  {
   "cell_type": "markdown",
   "id": "cfd3200a",
   "metadata": {},
   "source": [
    "**Описание данных**\n",
    "\n",
    "**Данные для первой части**\n",
    "\n",
    "Файл /datasets/hypothesis.csv\n",
    "\n",
    "- Hypothesis — краткое описание гипотезы;\n",
    "- Reach — охват пользователей по 10-балльной шкале;\n",
    "- Impact — влияние на пользователей по 10-балльной шкале;\n",
    "- Confidence — уверенность в гипотезе по 10-балльной шкале;\n",
    "- Efforts — затраты ресурсов на проверку гипотезы по 10-балльной шкале. Чем больше значение Efforts, тем дороже проверка гипотезы\n",
    "\n",
    "**Данные для второй части**\n",
    "\n",
    "Файл /datasets/orders.csv\n",
    "\n",
    "- transactionId — идентификатор заказа;\n",
    "- visitorId — идентификатор пользователя, совершившего заказ;\n",
    "- date — дата, когда был совершён заказ;\n",
    "- revenue — выручка заказа;\n",
    "- group — группа A/B-теста, в которую попал заказ\n",
    "\n",
    "Файл /datasets/visitors.csv\n",
    "\n",
    "- date — дата;\n",
    "- group — группа A/B-теста;\n",
    "- visitors — количество пользователей в указанную дату в указанной группе A/B-теста"
   ]
  },
  {
   "cell_type": "markdown",
   "id": "cefa1ccb",
   "metadata": {},
   "source": [
    "### Загрузка данных и библиотек"
   ]
  },
  {
   "cell_type": "markdown",
   "id": "2b7a5dd2",
   "metadata": {},
   "source": [
    "#### *Загрузка библиотек*"
   ]
  },
  {
   "cell_type": "code",
   "execution_count": 1,
   "id": "31248538",
   "metadata": {},
   "outputs": [],
   "source": [
    "import pandas as pd\n",
    "from scipy import stats as st\n",
    "import numpy as np\n",
    "import math as mth\n",
    "import datetime as dt\n",
    "import matplotlib.pyplot as plt\n",
    "%matplotlib inline\n",
    "import matplotlib.ticker as ticker\n",
    "from pandas.plotting import register_matplotlib_converters\n",
    "import warnings\n",
    "from matplotlib.ticker import ScalarFormatter"
   ]
  },
  {
   "cell_type": "markdown",
   "id": "0948eee4",
   "metadata": {},
   "source": [
    "#### *Загрузка данных*"
   ]
  },
  {
   "cell_type": "code",
   "execution_count": 2,
   "id": "60b873c5",
   "metadata": {},
   "outputs": [],
   "source": [
    "try:    \n",
    "    hypothesis, orders, visitors = (\n",
    "    pd.read_csv('C:\\\\Users\\\\User\\\\Desktop\\\\My_Jupiter\\\\Принятие решений в бизнесе\\\\hypothesis.csv'),  # журнал гипотез\n",
    "    pd.read_csv('C:\\\\Users\\\\User\\\\Desktop\\\\My_Jupiter\\\\Принятие решений в бизнесе\\\\orders.csv'),  # журнал покупок\n",
    "    pd.read_csv('C:\\\\Users\\\\User\\\\Desktop\\\\My_Jupiter\\\\Принятие решений в бизнесе\\\\visitors.csv'),   # журнал пользователей\n",
    ")\n",
    "except:\n",
    "    hypothesis, orders, visitors = (\n",
    "    pd.read_csv('https://code.s3.yandex.net/datasets/hypothesis.csv'), # журнал гипотез    \n",
    "    pd.read_csv('https://code.s3.yandex.net/datasets/orders.csv'),  # журнал покупок \n",
    "    pd.read_csv('https://code.s3.yandex.net/datasets/visitors.csv'), # журнал пользователей  \n",
    ")    "
   ]
  },
  {
   "cell_type": "markdown",
   "id": "f76ebdaa",
   "metadata": {},
   "source": [
    "#### *Вывод данных*"
   ]
  },
  {
   "cell_type": "code",
   "execution_count": 3,
   "id": "c47be8e0",
   "metadata": {},
   "outputs": [
    {
     "data": {
      "text/html": [
       "<div>\n",
       "<style scoped>\n",
       "    .dataframe tbody tr th:only-of-type {\n",
       "        vertical-align: middle;\n",
       "    }\n",
       "\n",
       "    .dataframe tbody tr th {\n",
       "        vertical-align: top;\n",
       "    }\n",
       "\n",
       "    .dataframe thead th {\n",
       "        text-align: right;\n",
       "    }\n",
       "</style>\n",
       "<table border=\"1\" class=\"dataframe\">\n",
       "  <thead>\n",
       "    <tr style=\"text-align: right;\">\n",
       "      <th></th>\n",
       "      <th>Hypothesis</th>\n",
       "      <th>Reach</th>\n",
       "      <th>Impact</th>\n",
       "      <th>Confidence</th>\n",
       "      <th>Efforts</th>\n",
       "    </tr>\n",
       "  </thead>\n",
       "  <tbody>\n",
       "    <tr>\n",
       "      <th>0</th>\n",
       "      <td>Добавить два новых канала привлечения трафика, что позволит привлекать на 30% больше пользователей</td>\n",
       "      <td>3</td>\n",
       "      <td>10</td>\n",
       "      <td>8</td>\n",
       "      <td>6</td>\n",
       "    </tr>\n",
       "    <tr>\n",
       "      <th>1</th>\n",
       "      <td>Запустить собственную службу доставки, что сократит срок доставки заказов</td>\n",
       "      <td>2</td>\n",
       "      <td>5</td>\n",
       "      <td>4</td>\n",
       "      <td>10</td>\n",
       "    </tr>\n",
       "    <tr>\n",
       "      <th>2</th>\n",
       "      <td>Добавить блоки рекомендаций товаров на сайт интернет магазина, чтобы повысить конверсию и средний чек заказа</td>\n",
       "      <td>8</td>\n",
       "      <td>3</td>\n",
       "      <td>7</td>\n",
       "      <td>3</td>\n",
       "    </tr>\n",
       "    <tr>\n",
       "      <th>3</th>\n",
       "      <td>Изменить структура категорий, что увеличит конверсию, т.к. пользователи быстрее найдут нужный товар</td>\n",
       "      <td>8</td>\n",
       "      <td>3</td>\n",
       "      <td>3</td>\n",
       "      <td>8</td>\n",
       "    </tr>\n",
       "    <tr>\n",
       "      <th>4</th>\n",
       "      <td>Изменить цвет фона главной страницы, чтобы увеличить вовлеченность пользователей</td>\n",
       "      <td>3</td>\n",
       "      <td>1</td>\n",
       "      <td>1</td>\n",
       "      <td>1</td>\n",
       "    </tr>\n",
       "  </tbody>\n",
       "</table>\n",
       "</div>"
      ],
      "text/plain": [
       "                                                                                                     Hypothesis  \\\n",
       "0            Добавить два новых канала привлечения трафика, что позволит привлекать на 30% больше пользователей   \n",
       "1                                     Запустить собственную службу доставки, что сократит срок доставки заказов   \n",
       "2  Добавить блоки рекомендаций товаров на сайт интернет магазина, чтобы повысить конверсию и средний чек заказа   \n",
       "3           Изменить структура категорий, что увеличит конверсию, т.к. пользователи быстрее найдут нужный товар   \n",
       "4                              Изменить цвет фона главной страницы, чтобы увеличить вовлеченность пользователей   \n",
       "\n",
       "   Reach  Impact  Confidence  Efforts  \n",
       "0      3      10           8        6  \n",
       "1      2       5           4       10  \n",
       "2      8       3           7        3  \n",
       "3      8       3           3        8  \n",
       "4      3       1           1        1  "
      ]
     },
     "metadata": {},
     "output_type": "display_data"
    },
    {
     "data": {
      "text/html": [
       "<div>\n",
       "<style scoped>\n",
       "    .dataframe tbody tr th:only-of-type {\n",
       "        vertical-align: middle;\n",
       "    }\n",
       "\n",
       "    .dataframe tbody tr th {\n",
       "        vertical-align: top;\n",
       "    }\n",
       "\n",
       "    .dataframe thead th {\n",
       "        text-align: right;\n",
       "    }\n",
       "</style>\n",
       "<table border=\"1\" class=\"dataframe\">\n",
       "  <thead>\n",
       "    <tr style=\"text-align: right;\">\n",
       "      <th></th>\n",
       "      <th>transactionId</th>\n",
       "      <th>visitorId</th>\n",
       "      <th>date</th>\n",
       "      <th>revenue</th>\n",
       "      <th>group</th>\n",
       "    </tr>\n",
       "  </thead>\n",
       "  <tbody>\n",
       "    <tr>\n",
       "      <th>0</th>\n",
       "      <td>3667963787</td>\n",
       "      <td>3312258926</td>\n",
       "      <td>2019-08-15</td>\n",
       "      <td>1650</td>\n",
       "      <td>B</td>\n",
       "    </tr>\n",
       "    <tr>\n",
       "      <th>1</th>\n",
       "      <td>2804400009</td>\n",
       "      <td>3642806036</td>\n",
       "      <td>2019-08-15</td>\n",
       "      <td>730</td>\n",
       "      <td>B</td>\n",
       "    </tr>\n",
       "    <tr>\n",
       "      <th>2</th>\n",
       "      <td>2961555356</td>\n",
       "      <td>4069496402</td>\n",
       "      <td>2019-08-15</td>\n",
       "      <td>400</td>\n",
       "      <td>A</td>\n",
       "    </tr>\n",
       "    <tr>\n",
       "      <th>3</th>\n",
       "      <td>3797467345</td>\n",
       "      <td>1196621759</td>\n",
       "      <td>2019-08-15</td>\n",
       "      <td>9759</td>\n",
       "      <td>B</td>\n",
       "    </tr>\n",
       "    <tr>\n",
       "      <th>4</th>\n",
       "      <td>2282983706</td>\n",
       "      <td>2322279887</td>\n",
       "      <td>2019-08-15</td>\n",
       "      <td>2308</td>\n",
       "      <td>B</td>\n",
       "    </tr>\n",
       "  </tbody>\n",
       "</table>\n",
       "</div>"
      ],
      "text/plain": [
       "   transactionId   visitorId        date  revenue group\n",
       "0     3667963787  3312258926  2019-08-15     1650     B\n",
       "1     2804400009  3642806036  2019-08-15      730     B\n",
       "2     2961555356  4069496402  2019-08-15      400     A\n",
       "3     3797467345  1196621759  2019-08-15     9759     B\n",
       "4     2282983706  2322279887  2019-08-15     2308     B"
      ]
     },
     "metadata": {},
     "output_type": "display_data"
    },
    {
     "data": {
      "text/html": [
       "<div>\n",
       "<style scoped>\n",
       "    .dataframe tbody tr th:only-of-type {\n",
       "        vertical-align: middle;\n",
       "    }\n",
       "\n",
       "    .dataframe tbody tr th {\n",
       "        vertical-align: top;\n",
       "    }\n",
       "\n",
       "    .dataframe thead th {\n",
       "        text-align: right;\n",
       "    }\n",
       "</style>\n",
       "<table border=\"1\" class=\"dataframe\">\n",
       "  <thead>\n",
       "    <tr style=\"text-align: right;\">\n",
       "      <th></th>\n",
       "      <th>date</th>\n",
       "      <th>group</th>\n",
       "      <th>visitors</th>\n",
       "    </tr>\n",
       "  </thead>\n",
       "  <tbody>\n",
       "    <tr>\n",
       "      <th>0</th>\n",
       "      <td>2019-08-01</td>\n",
       "      <td>A</td>\n",
       "      <td>719</td>\n",
       "    </tr>\n",
       "    <tr>\n",
       "      <th>1</th>\n",
       "      <td>2019-08-02</td>\n",
       "      <td>A</td>\n",
       "      <td>619</td>\n",
       "    </tr>\n",
       "    <tr>\n",
       "      <th>2</th>\n",
       "      <td>2019-08-03</td>\n",
       "      <td>A</td>\n",
       "      <td>507</td>\n",
       "    </tr>\n",
       "    <tr>\n",
       "      <th>3</th>\n",
       "      <td>2019-08-04</td>\n",
       "      <td>A</td>\n",
       "      <td>717</td>\n",
       "    </tr>\n",
       "    <tr>\n",
       "      <th>4</th>\n",
       "      <td>2019-08-05</td>\n",
       "      <td>A</td>\n",
       "      <td>756</td>\n",
       "    </tr>\n",
       "  </tbody>\n",
       "</table>\n",
       "</div>"
      ],
      "text/plain": [
       "         date group  visitors\n",
       "0  2019-08-01     A       719\n",
       "1  2019-08-02     A       619\n",
       "2  2019-08-03     A       507\n",
       "3  2019-08-04     A       717\n",
       "4  2019-08-05     A       756"
      ]
     },
     "metadata": {},
     "output_type": "display_data"
    }
   ],
   "source": [
    "pd.set_option('max_colwidth', 200)\n",
    "display(hypothesis.head())\n",
    "display(orders.head())\n",
    "display(visitors.head())"
   ]
  },
  {
   "cell_type": "markdown",
   "id": "dd676200",
   "metadata": {},
   "source": [
    "#### *Проверка дубликатов*"
   ]
  },
  {
   "cell_type": "code",
   "execution_count": 4,
   "id": "fae7262c",
   "metadata": {},
   "outputs": [
    {
     "data": {
      "text/plain": [
       "0"
      ]
     },
     "execution_count": 4,
     "metadata": {},
     "output_type": "execute_result"
    }
   ],
   "source": [
    "hypothesis.duplicated().sum()"
   ]
  },
  {
   "cell_type": "code",
   "execution_count": 5,
   "id": "25283ab5",
   "metadata": {},
   "outputs": [
    {
     "data": {
      "text/plain": [
       "0"
      ]
     },
     "execution_count": 5,
     "metadata": {},
     "output_type": "execute_result"
    }
   ],
   "source": [
    "orders.duplicated().sum()"
   ]
  },
  {
   "cell_type": "code",
   "execution_count": 6,
   "id": "2ec1d80c",
   "metadata": {},
   "outputs": [
    {
     "data": {
      "text/plain": [
       "0"
      ]
     },
     "execution_count": 6,
     "metadata": {},
     "output_type": "execute_result"
    }
   ],
   "source": [
    "visitors.duplicated().sum()"
   ]
  },
  {
   "cell_type": "markdown",
   "id": "9934fcbc",
   "metadata": {},
   "source": [
    "#### *Вывод информации о данных*"
   ]
  },
  {
   "cell_type": "code",
   "execution_count": 7,
   "id": "3b940aee",
   "metadata": {},
   "outputs": [
    {
     "name": "stdout",
     "output_type": "stream",
     "text": [
      "<class 'pandas.core.frame.DataFrame'>\n",
      "RangeIndex: 9 entries, 0 to 8\n",
      "Data columns (total 5 columns):\n",
      " #   Column      Non-Null Count  Dtype \n",
      "---  ------      --------------  ----- \n",
      " 0   Hypothesis  9 non-null      object\n",
      " 1   Reach       9 non-null      int64 \n",
      " 2   Impact      9 non-null      int64 \n",
      " 3   Confidence  9 non-null      int64 \n",
      " 4   Efforts     9 non-null      int64 \n",
      "dtypes: int64(4), object(1)\n",
      "memory usage: 492.0+ bytes\n"
     ]
    }
   ],
   "source": [
    "hypothesis.info()"
   ]
  },
  {
   "cell_type": "markdown",
   "id": "24b5946d",
   "metadata": {},
   "source": [
    "В hypothesis все строки заполнены\n",
    "Столбец Hypothesis имеет тип object, остальные столбцы имеют тип int64 "
   ]
  },
  {
   "cell_type": "code",
   "execution_count": 8,
   "id": "767c46de",
   "metadata": {},
   "outputs": [
    {
     "name": "stdout",
     "output_type": "stream",
     "text": [
      "<class 'pandas.core.frame.DataFrame'>\n",
      "RangeIndex: 1197 entries, 0 to 1196\n",
      "Data columns (total 5 columns):\n",
      " #   Column         Non-Null Count  Dtype \n",
      "---  ------         --------------  ----- \n",
      " 0   transactionId  1197 non-null   int64 \n",
      " 1   visitorId      1197 non-null   int64 \n",
      " 2   date           1197 non-null   object\n",
      " 3   revenue        1197 non-null   int64 \n",
      " 4   group          1197 non-null   object\n",
      "dtypes: int64(3), object(2)\n",
      "memory usage: 46.9+ KB\n"
     ]
    }
   ],
   "source": [
    "orders.info()"
   ]
  },
  {
   "cell_type": "markdown",
   "id": "3eac20ee",
   "metadata": {},
   "source": [
    "В orders все строки заполнены\n",
    "Столбцы date и group имеют тип object, остальные столбцы имеют тип int64. Столбец date необходимо перевести в другой тип "
   ]
  },
  {
   "cell_type": "code",
   "execution_count": 9,
   "id": "501eec82",
   "metadata": {},
   "outputs": [
    {
     "name": "stdout",
     "output_type": "stream",
     "text": [
      "<class 'pandas.core.frame.DataFrame'>\n",
      "RangeIndex: 62 entries, 0 to 61\n",
      "Data columns (total 3 columns):\n",
      " #   Column    Non-Null Count  Dtype \n",
      "---  ------    --------------  ----- \n",
      " 0   date      62 non-null     object\n",
      " 1   group     62 non-null     object\n",
      " 2   visitors  62 non-null     int64 \n",
      "dtypes: int64(1), object(2)\n",
      "memory usage: 1.6+ KB\n"
     ]
    }
   ],
   "source": [
    "visitors.info()"
   ]
  },
  {
   "cell_type": "markdown",
   "id": "eda404b2",
   "metadata": {},
   "source": [
    "В visitors все строки заполнены\n",
    "Столбцы date и group имеют тип object, остальные столбцы имеют тип int64. Столбец date необходимо перевести в другой тип "
   ]
  },
  {
   "cell_type": "markdown",
   "id": "6cb23570",
   "metadata": {},
   "source": [
    "#### *Переименование столбцов*"
   ]
  },
  {
   "cell_type": "code",
   "execution_count": 10,
   "id": "4c34b385",
   "metadata": {},
   "outputs": [],
   "source": [
    "hypothesis.columns = hypothesis.columns.str.lower()"
   ]
  },
  {
   "cell_type": "code",
   "execution_count": 11,
   "id": "6a077604",
   "metadata": {},
   "outputs": [],
   "source": [
    "orders = orders.rename(columns = {'transactionId': 'transaction_id', 'visitorId' : 'visitor_id'})\n"
   ]
  },
  {
   "cell_type": "code",
   "execution_count": 12,
   "id": "bda5d1e3",
   "metadata": {},
   "outputs": [],
   "source": [
    "hypothesis = hypothesis.rename(columns = {'hypothesis' : 'hypothesa'})"
   ]
  },
  {
   "cell_type": "markdown",
   "id": "40e5f439",
   "metadata": {},
   "source": [
    "#### *Преобразование данных о времени*"
   ]
  },
  {
   "cell_type": "code",
   "execution_count": 13,
   "id": "9cf7e224",
   "metadata": {},
   "outputs": [
    {
     "name": "stdout",
     "output_type": "stream",
     "text": [
      "<class 'pandas.core.frame.DataFrame'>\n",
      "RangeIndex: 9 entries, 0 to 8\n",
      "Data columns (total 5 columns):\n",
      " #   Column      Non-Null Count  Dtype \n",
      "---  ------      --------------  ----- \n",
      " 0   hypothesa   9 non-null      object\n",
      " 1   reach       9 non-null      int64 \n",
      " 2   impact      9 non-null      int64 \n",
      " 3   confidence  9 non-null      int64 \n",
      " 4   efforts     9 non-null      int64 \n",
      "dtypes: int64(4), object(1)\n",
      "memory usage: 492.0+ bytes\n"
     ]
    }
   ],
   "source": [
    " hypothesis.info()"
   ]
  },
  {
   "cell_type": "code",
   "execution_count": 14,
   "id": "a16012e0",
   "metadata": {},
   "outputs": [
    {
     "name": "stdout",
     "output_type": "stream",
     "text": [
      "<class 'pandas.core.frame.DataFrame'>\n",
      "RangeIndex: 1197 entries, 0 to 1196\n",
      "Data columns (total 5 columns):\n",
      " #   Column          Non-Null Count  Dtype \n",
      "---  ------          --------------  ----- \n",
      " 0   transaction_id  1197 non-null   int64 \n",
      " 1   visitor_id      1197 non-null   int64 \n",
      " 2   date            1197 non-null   object\n",
      " 3   revenue         1197 non-null   int64 \n",
      " 4   group           1197 non-null   object\n",
      "dtypes: int64(3), object(2)\n",
      "memory usage: 46.9+ KB\n"
     ]
    }
   ],
   "source": [
    " orders.info()"
   ]
  },
  {
   "cell_type": "code",
   "execution_count": 15,
   "id": "27f1323a",
   "metadata": {},
   "outputs": [
    {
     "name": "stdout",
     "output_type": "stream",
     "text": [
      "<class 'pandas.core.frame.DataFrame'>\n",
      "RangeIndex: 62 entries, 0 to 61\n",
      "Data columns (total 3 columns):\n",
      " #   Column    Non-Null Count  Dtype \n",
      "---  ------    --------------  ----- \n",
      " 0   date      62 non-null     object\n",
      " 1   group     62 non-null     object\n",
      " 2   visitors  62 non-null     int64 \n",
      "dtypes: int64(1), object(2)\n",
      "memory usage: 1.6+ KB\n"
     ]
    }
   ],
   "source": [
    "visitors.info()"
   ]
  },
  {
   "cell_type": "code",
   "execution_count": 16,
   "id": "cd409469",
   "metadata": {},
   "outputs": [],
   "source": [
    "orders['date'] = pd.to_datetime(orders['date'])\n",
    "visitors['date'] = pd.to_datetime(visitors['date'])"
   ]
  },
  {
   "cell_type": "code",
   "execution_count": 17,
   "id": "52c0ecf3",
   "metadata": {},
   "outputs": [
    {
     "data": {
      "text/plain": [
       "visitor_id\n",
       "5114589       1\n",
       "6958315       1\n",
       "8300375       2\n",
       "11685486      1\n",
       "39475350      1\n",
       "             ..\n",
       "4266935830    2\n",
       "4278982564    1\n",
       "4279090005    1\n",
       "4281247801    1\n",
       "4283872382    1\n",
       "Name: group, Length: 1031, dtype: int64"
      ]
     },
     "execution_count": 17,
     "metadata": {},
     "output_type": "execute_result"
    }
   ],
   "source": [
    "# Группируем данные по visitor_id и считаем количество уникальных групп для каждого пользователя\n",
    "\n",
    "duplicated_users = orders.groupby('visitor_id')['group'].nunique()\n",
    "duplicated_users"
   ]
  },
  {
   "cell_type": "code",
   "execution_count": 18,
   "id": "569ef7d2",
   "metadata": {},
   "outputs": [
    {
     "data": {
      "text/plain": [
       "58"
      ]
     },
     "execution_count": 18,
     "metadata": {},
     "output_type": "execute_result"
    }
   ],
   "source": [
    "# Определяем пользователей, которые встречаются в обеих группах (т.е. имеют более одной уникальной группы)\n",
    "\n",
    "users_in_both_groups = duplicated_users[duplicated_users > 1].index\n",
    "len(users_in_both_groups)"
   ]
  },
  {
   "cell_type": "markdown",
   "id": "69be0bd1",
   "metadata": {},
   "source": [
    "**Всего 58 пользователей, которые находятся в обеих группах**"
   ]
  },
  {
   "cell_type": "code",
   "execution_count": 19,
   "id": "c2b0e9d4",
   "metadata": {},
   "outputs": [
    {
     "data": {
      "text/html": [
       "<div>\n",
       "<style scoped>\n",
       "    .dataframe tbody tr th:only-of-type {\n",
       "        vertical-align: middle;\n",
       "    }\n",
       "\n",
       "    .dataframe tbody tr th {\n",
       "        vertical-align: top;\n",
       "    }\n",
       "\n",
       "    .dataframe thead th {\n",
       "        text-align: right;\n",
       "    }\n",
       "</style>\n",
       "<table border=\"1\" class=\"dataframe\">\n",
       "  <thead>\n",
       "    <tr style=\"text-align: right;\">\n",
       "      <th></th>\n",
       "      <th>transaction_id</th>\n",
       "      <th>visitor_id</th>\n",
       "      <th>date</th>\n",
       "      <th>revenue</th>\n",
       "      <th>group</th>\n",
       "    </tr>\n",
       "  </thead>\n",
       "  <tbody>\n",
       "    <tr>\n",
       "      <th>0</th>\n",
       "      <td>3667963787</td>\n",
       "      <td>3312258926</td>\n",
       "      <td>2019-08-15</td>\n",
       "      <td>1650</td>\n",
       "      <td>B</td>\n",
       "    </tr>\n",
       "    <tr>\n",
       "      <th>1</th>\n",
       "      <td>2804400009</td>\n",
       "      <td>3642806036</td>\n",
       "      <td>2019-08-15</td>\n",
       "      <td>730</td>\n",
       "      <td>B</td>\n",
       "    </tr>\n",
       "    <tr>\n",
       "      <th>3</th>\n",
       "      <td>3797467345</td>\n",
       "      <td>1196621759</td>\n",
       "      <td>2019-08-15</td>\n",
       "      <td>9759</td>\n",
       "      <td>B</td>\n",
       "    </tr>\n",
       "    <tr>\n",
       "      <th>4</th>\n",
       "      <td>2282983706</td>\n",
       "      <td>2322279887</td>\n",
       "      <td>2019-08-15</td>\n",
       "      <td>2308</td>\n",
       "      <td>B</td>\n",
       "    </tr>\n",
       "    <tr>\n",
       "      <th>5</th>\n",
       "      <td>182168103</td>\n",
       "      <td>935554773</td>\n",
       "      <td>2019-08-15</td>\n",
       "      <td>2210</td>\n",
       "      <td>B</td>\n",
       "    </tr>\n",
       "  </tbody>\n",
       "</table>\n",
       "</div>"
      ],
      "text/plain": [
       "   transaction_id  visitor_id       date  revenue group\n",
       "0      3667963787  3312258926 2019-08-15     1650     B\n",
       "1      2804400009  3642806036 2019-08-15      730     B\n",
       "3      3797467345  1196621759 2019-08-15     9759     B\n",
       "4      2282983706  2322279887 2019-08-15     2308     B\n",
       "5       182168103   935554773 2019-08-15     2210     B"
      ]
     },
     "execution_count": 19,
     "metadata": {},
     "output_type": "execute_result"
    }
   ],
   "source": [
    "# Удалим заказы пользователей, которые находятся в обеих группах\n",
    "\n",
    "cleaned_orders = orders[~orders['visitor_id'].isin(users_in_both_groups)]\n",
    "cleaned_orders.head()"
   ]
  },
  {
   "cell_type": "code",
   "execution_count": 20,
   "id": "8ae922c5",
   "metadata": {},
   "outputs": [
    {
     "name": "stdout",
     "output_type": "stream",
     "text": [
      "<class 'pandas.core.frame.DataFrame'>\n",
      "Index: 1016 entries, 0 to 1196\n",
      "Data columns (total 5 columns):\n",
      " #   Column          Non-Null Count  Dtype         \n",
      "---  ------          --------------  -----         \n",
      " 0   transaction_id  1016 non-null   int64         \n",
      " 1   visitor_id      1016 non-null   int64         \n",
      " 2   date            1016 non-null   datetime64[ns]\n",
      " 3   revenue         1016 non-null   int64         \n",
      " 4   group           1016 non-null   object        \n",
      "dtypes: datetime64[ns](1), int64(3), object(1)\n",
      "memory usage: 47.6+ KB\n"
     ]
    }
   ],
   "source": [
    " cleaned_orders.info()"
   ]
  },
  {
   "cell_type": "markdown",
   "id": "102199ad",
   "metadata": {},
   "source": [
    "#### *Вывод о данных*"
   ]
  },
  {
   "cell_type": "markdown",
   "id": "1bae5e21",
   "metadata": {},
   "source": [
    "- Датасет hypothesis содержит 9 строк и 5 столбцов. Отсутствуют пропуски и явные дубликаты\n",
    "- Датасет cleaned_orders содержит 1016 строк и 5 столбцов. Отсутствуют пропуски и явные дубликаты. Удалили заказы пользователей, которые попали в обе группы. Далее будем использовать этот датасет для анализа\n",
    "- Датасет visitors содержит 62 строки и 3 столбца. Отсутствуют пропуски и явные дубликаты"
   ]
  },
  {
   "cell_type": "markdown",
   "id": "4253dea0",
   "metadata": {},
   "source": [
    "### Часть первая. Приоритизация гипотез"
   ]
  },
  {
   "cell_type": "markdown",
   "id": "e1c674f0",
   "metadata": {},
   "source": [
    "#### *Применить фреймворк ICE для приоритизации гипотез. Отсортировать их по убыванию приоритета*"
   ]
  },
  {
   "cell_type": "code",
   "execution_count": 21,
   "id": "4ad99e49",
   "metadata": {},
   "outputs": [
    {
     "data": {
      "text/html": [
       "<div>\n",
       "<style scoped>\n",
       "    .dataframe tbody tr th:only-of-type {\n",
       "        vertical-align: middle;\n",
       "    }\n",
       "\n",
       "    .dataframe tbody tr th {\n",
       "        vertical-align: top;\n",
       "    }\n",
       "\n",
       "    .dataframe thead th {\n",
       "        text-align: right;\n",
       "    }\n",
       "</style>\n",
       "<table border=\"1\" class=\"dataframe\">\n",
       "  <thead>\n",
       "    <tr style=\"text-align: right;\">\n",
       "      <th></th>\n",
       "      <th>hypothesa</th>\n",
       "      <th>reach</th>\n",
       "      <th>impact</th>\n",
       "      <th>confidence</th>\n",
       "      <th>efforts</th>\n",
       "    </tr>\n",
       "  </thead>\n",
       "  <tbody>\n",
       "    <tr>\n",
       "      <th>0</th>\n",
       "      <td>Добавить два новых канала привлечения трафика, что позволит привлекать на 30% больше пользователей</td>\n",
       "      <td>3</td>\n",
       "      <td>10</td>\n",
       "      <td>8</td>\n",
       "      <td>6</td>\n",
       "    </tr>\n",
       "    <tr>\n",
       "      <th>1</th>\n",
       "      <td>Запустить собственную службу доставки, что сократит срок доставки заказов</td>\n",
       "      <td>2</td>\n",
       "      <td>5</td>\n",
       "      <td>4</td>\n",
       "      <td>10</td>\n",
       "    </tr>\n",
       "    <tr>\n",
       "      <th>2</th>\n",
       "      <td>Добавить блоки рекомендаций товаров на сайт интернет магазина, чтобы повысить конверсию и средний чек заказа</td>\n",
       "      <td>8</td>\n",
       "      <td>3</td>\n",
       "      <td>7</td>\n",
       "      <td>3</td>\n",
       "    </tr>\n",
       "    <tr>\n",
       "      <th>3</th>\n",
       "      <td>Изменить структура категорий, что увеличит конверсию, т.к. пользователи быстрее найдут нужный товар</td>\n",
       "      <td>8</td>\n",
       "      <td>3</td>\n",
       "      <td>3</td>\n",
       "      <td>8</td>\n",
       "    </tr>\n",
       "    <tr>\n",
       "      <th>4</th>\n",
       "      <td>Изменить цвет фона главной страницы, чтобы увеличить вовлеченность пользователей</td>\n",
       "      <td>3</td>\n",
       "      <td>1</td>\n",
       "      <td>1</td>\n",
       "      <td>1</td>\n",
       "    </tr>\n",
       "  </tbody>\n",
       "</table>\n",
       "</div>"
      ],
      "text/plain": [
       "                                                                                                      hypothesa  \\\n",
       "0            Добавить два новых канала привлечения трафика, что позволит привлекать на 30% больше пользователей   \n",
       "1                                     Запустить собственную службу доставки, что сократит срок доставки заказов   \n",
       "2  Добавить блоки рекомендаций товаров на сайт интернет магазина, чтобы повысить конверсию и средний чек заказа   \n",
       "3           Изменить структура категорий, что увеличит конверсию, т.к. пользователи быстрее найдут нужный товар   \n",
       "4                              Изменить цвет фона главной страницы, чтобы увеличить вовлеченность пользователей   \n",
       "\n",
       "   reach  impact  confidence  efforts  \n",
       "0      3      10           8        6  \n",
       "1      2       5           4       10  \n",
       "2      8       3           7        3  \n",
       "3      8       3           3        8  \n",
       "4      3       1           1        1  "
      ]
     },
     "execution_count": 21,
     "metadata": {},
     "output_type": "execute_result"
    }
   ],
   "source": [
    "hypothesis.head()"
   ]
  },
  {
   "cell_type": "code",
   "execution_count": 22,
   "id": "8beca3e7",
   "metadata": {},
   "outputs": [
    {
     "data": {
      "text/html": [
       "<div>\n",
       "<style scoped>\n",
       "    .dataframe tbody tr th:only-of-type {\n",
       "        vertical-align: middle;\n",
       "    }\n",
       "\n",
       "    .dataframe tbody tr th {\n",
       "        vertical-align: top;\n",
       "    }\n",
       "\n",
       "    .dataframe thead th {\n",
       "        text-align: right;\n",
       "    }\n",
       "</style>\n",
       "<table border=\"1\" class=\"dataframe\">\n",
       "  <thead>\n",
       "    <tr style=\"text-align: right;\">\n",
       "      <th></th>\n",
       "      <th>hypothesa</th>\n",
       "      <th>reach</th>\n",
       "      <th>impact</th>\n",
       "      <th>confidence</th>\n",
       "      <th>efforts</th>\n",
       "      <th>ICE</th>\n",
       "    </tr>\n",
       "  </thead>\n",
       "  <tbody>\n",
       "    <tr>\n",
       "      <th>0</th>\n",
       "      <td>Добавить два новых канала привлечения трафика, что позволит привлекать на 30% больше пользователей</td>\n",
       "      <td>3</td>\n",
       "      <td>10</td>\n",
       "      <td>8</td>\n",
       "      <td>6</td>\n",
       "      <td>13.33</td>\n",
       "    </tr>\n",
       "    <tr>\n",
       "      <th>1</th>\n",
       "      <td>Запустить собственную службу доставки, что сократит срок доставки заказов</td>\n",
       "      <td>2</td>\n",
       "      <td>5</td>\n",
       "      <td>4</td>\n",
       "      <td>10</td>\n",
       "      <td>2.00</td>\n",
       "    </tr>\n",
       "    <tr>\n",
       "      <th>2</th>\n",
       "      <td>Добавить блоки рекомендаций товаров на сайт интернет магазина, чтобы повысить конверсию и средний чек заказа</td>\n",
       "      <td>8</td>\n",
       "      <td>3</td>\n",
       "      <td>7</td>\n",
       "      <td>3</td>\n",
       "      <td>7.00</td>\n",
       "    </tr>\n",
       "    <tr>\n",
       "      <th>3</th>\n",
       "      <td>Изменить структура категорий, что увеличит конверсию, т.к. пользователи быстрее найдут нужный товар</td>\n",
       "      <td>8</td>\n",
       "      <td>3</td>\n",
       "      <td>3</td>\n",
       "      <td>8</td>\n",
       "      <td>1.12</td>\n",
       "    </tr>\n",
       "    <tr>\n",
       "      <th>4</th>\n",
       "      <td>Изменить цвет фона главной страницы, чтобы увеличить вовлеченность пользователей</td>\n",
       "      <td>3</td>\n",
       "      <td>1</td>\n",
       "      <td>1</td>\n",
       "      <td>1</td>\n",
       "      <td>1.00</td>\n",
       "    </tr>\n",
       "    <tr>\n",
       "      <th>5</th>\n",
       "      <td>Добавить страницу отзывов клиентов о магазине, что позволит увеличить количество заказов</td>\n",
       "      <td>3</td>\n",
       "      <td>2</td>\n",
       "      <td>2</td>\n",
       "      <td>3</td>\n",
       "      <td>1.33</td>\n",
       "    </tr>\n",
       "    <tr>\n",
       "      <th>6</th>\n",
       "      <td>Показать на главной странице баннеры с актуальными акциями и распродажами, чтобы увеличить конверсию</td>\n",
       "      <td>5</td>\n",
       "      <td>3</td>\n",
       "      <td>8</td>\n",
       "      <td>3</td>\n",
       "      <td>8.00</td>\n",
       "    </tr>\n",
       "    <tr>\n",
       "      <th>7</th>\n",
       "      <td>Добавить форму подписки на все основные страницы, чтобы собрать базу клиентов для email-рассылок</td>\n",
       "      <td>10</td>\n",
       "      <td>7</td>\n",
       "      <td>8</td>\n",
       "      <td>5</td>\n",
       "      <td>11.20</td>\n",
       "    </tr>\n",
       "    <tr>\n",
       "      <th>8</th>\n",
       "      <td>Запустить акцию, дающую скидку на товар в день рождения</td>\n",
       "      <td>1</td>\n",
       "      <td>9</td>\n",
       "      <td>9</td>\n",
       "      <td>5</td>\n",
       "      <td>16.20</td>\n",
       "    </tr>\n",
       "  </tbody>\n",
       "</table>\n",
       "</div>"
      ],
      "text/plain": [
       "                                                                                                      hypothesa  \\\n",
       "0            Добавить два новых канала привлечения трафика, что позволит привлекать на 30% больше пользователей   \n",
       "1                                     Запустить собственную службу доставки, что сократит срок доставки заказов   \n",
       "2  Добавить блоки рекомендаций товаров на сайт интернет магазина, чтобы повысить конверсию и средний чек заказа   \n",
       "3           Изменить структура категорий, что увеличит конверсию, т.к. пользователи быстрее найдут нужный товар   \n",
       "4                              Изменить цвет фона главной страницы, чтобы увеличить вовлеченность пользователей   \n",
       "5                      Добавить страницу отзывов клиентов о магазине, что позволит увеличить количество заказов   \n",
       "6          Показать на главной странице баннеры с актуальными акциями и распродажами, чтобы увеличить конверсию   \n",
       "7              Добавить форму подписки на все основные страницы, чтобы собрать базу клиентов для email-рассылок   \n",
       "8                                                       Запустить акцию, дающую скидку на товар в день рождения   \n",
       "\n",
       "   reach  impact  confidence  efforts    ICE  \n",
       "0      3      10           8        6  13.33  \n",
       "1      2       5           4       10   2.00  \n",
       "2      8       3           7        3   7.00  \n",
       "3      8       3           3        8   1.12  \n",
       "4      3       1           1        1   1.00  \n",
       "5      3       2           2        3   1.33  \n",
       "6      5       3           8        3   8.00  \n",
       "7     10       7           8        5  11.20  \n",
       "8      1       9           9        5  16.20  "
      ]
     },
     "execution_count": 22,
     "metadata": {},
     "output_type": "execute_result"
    }
   ],
   "source": [
    "hypothesis['ICE'] = round(hypothesis['impact']*hypothesis['confidence']/hypothesis['efforts'], 2)\n",
    "hypothesis\n"
   ]
  },
  {
   "cell_type": "markdown",
   "id": "9575bb61",
   "metadata": {},
   "source": [
    "#### *Применить фреймворк RICE для приоритизации гипотез. Отсортировать их по убыванию приоритета*"
   ]
  },
  {
   "cell_type": "code",
   "execution_count": 23,
   "id": "0b1f4f94",
   "metadata": {
    "scrolled": false
   },
   "outputs": [
    {
     "data": {
      "text/html": [
       "<div>\n",
       "<style scoped>\n",
       "    .dataframe tbody tr th:only-of-type {\n",
       "        vertical-align: middle;\n",
       "    }\n",
       "\n",
       "    .dataframe tbody tr th {\n",
       "        vertical-align: top;\n",
       "    }\n",
       "\n",
       "    .dataframe thead th {\n",
       "        text-align: right;\n",
       "    }\n",
       "</style>\n",
       "<table border=\"1\" class=\"dataframe\">\n",
       "  <thead>\n",
       "    <tr style=\"text-align: right;\">\n",
       "      <th></th>\n",
       "      <th>hypothesa</th>\n",
       "      <th>reach</th>\n",
       "      <th>impact</th>\n",
       "      <th>confidence</th>\n",
       "      <th>efforts</th>\n",
       "      <th>ICE</th>\n",
       "      <th>RICE</th>\n",
       "    </tr>\n",
       "  </thead>\n",
       "  <tbody>\n",
       "    <tr>\n",
       "      <th>0</th>\n",
       "      <td>Добавить два новых канала привлечения трафика, что позволит привлекать на 30% больше пользователей</td>\n",
       "      <td>3</td>\n",
       "      <td>10</td>\n",
       "      <td>8</td>\n",
       "      <td>6</td>\n",
       "      <td>13.33</td>\n",
       "      <td>40.0</td>\n",
       "    </tr>\n",
       "    <tr>\n",
       "      <th>1</th>\n",
       "      <td>Запустить собственную службу доставки, что сократит срок доставки заказов</td>\n",
       "      <td>2</td>\n",
       "      <td>5</td>\n",
       "      <td>4</td>\n",
       "      <td>10</td>\n",
       "      <td>2.00</td>\n",
       "      <td>4.0</td>\n",
       "    </tr>\n",
       "    <tr>\n",
       "      <th>2</th>\n",
       "      <td>Добавить блоки рекомендаций товаров на сайт интернет магазина, чтобы повысить конверсию и средний чек заказа</td>\n",
       "      <td>8</td>\n",
       "      <td>3</td>\n",
       "      <td>7</td>\n",
       "      <td>3</td>\n",
       "      <td>7.00</td>\n",
       "      <td>56.0</td>\n",
       "    </tr>\n",
       "    <tr>\n",
       "      <th>3</th>\n",
       "      <td>Изменить структура категорий, что увеличит конверсию, т.к. пользователи быстрее найдут нужный товар</td>\n",
       "      <td>8</td>\n",
       "      <td>3</td>\n",
       "      <td>3</td>\n",
       "      <td>8</td>\n",
       "      <td>1.12</td>\n",
       "      <td>9.0</td>\n",
       "    </tr>\n",
       "    <tr>\n",
       "      <th>4</th>\n",
       "      <td>Изменить цвет фона главной страницы, чтобы увеличить вовлеченность пользователей</td>\n",
       "      <td>3</td>\n",
       "      <td>1</td>\n",
       "      <td>1</td>\n",
       "      <td>1</td>\n",
       "      <td>1.00</td>\n",
       "      <td>3.0</td>\n",
       "    </tr>\n",
       "    <tr>\n",
       "      <th>5</th>\n",
       "      <td>Добавить страницу отзывов клиентов о магазине, что позволит увеличить количество заказов</td>\n",
       "      <td>3</td>\n",
       "      <td>2</td>\n",
       "      <td>2</td>\n",
       "      <td>3</td>\n",
       "      <td>1.33</td>\n",
       "      <td>4.0</td>\n",
       "    </tr>\n",
       "    <tr>\n",
       "      <th>6</th>\n",
       "      <td>Показать на главной странице баннеры с актуальными акциями и распродажами, чтобы увеличить конверсию</td>\n",
       "      <td>5</td>\n",
       "      <td>3</td>\n",
       "      <td>8</td>\n",
       "      <td>3</td>\n",
       "      <td>8.00</td>\n",
       "      <td>40.0</td>\n",
       "    </tr>\n",
       "    <tr>\n",
       "      <th>7</th>\n",
       "      <td>Добавить форму подписки на все основные страницы, чтобы собрать базу клиентов для email-рассылок</td>\n",
       "      <td>10</td>\n",
       "      <td>7</td>\n",
       "      <td>8</td>\n",
       "      <td>5</td>\n",
       "      <td>11.20</td>\n",
       "      <td>112.0</td>\n",
       "    </tr>\n",
       "    <tr>\n",
       "      <th>8</th>\n",
       "      <td>Запустить акцию, дающую скидку на товар в день рождения</td>\n",
       "      <td>1</td>\n",
       "      <td>9</td>\n",
       "      <td>9</td>\n",
       "      <td>5</td>\n",
       "      <td>16.20</td>\n",
       "      <td>16.2</td>\n",
       "    </tr>\n",
       "  </tbody>\n",
       "</table>\n",
       "</div>"
      ],
      "text/plain": [
       "                                                                                                      hypothesa  \\\n",
       "0            Добавить два новых канала привлечения трафика, что позволит привлекать на 30% больше пользователей   \n",
       "1                                     Запустить собственную службу доставки, что сократит срок доставки заказов   \n",
       "2  Добавить блоки рекомендаций товаров на сайт интернет магазина, чтобы повысить конверсию и средний чек заказа   \n",
       "3           Изменить структура категорий, что увеличит конверсию, т.к. пользователи быстрее найдут нужный товар   \n",
       "4                              Изменить цвет фона главной страницы, чтобы увеличить вовлеченность пользователей   \n",
       "5                      Добавить страницу отзывов клиентов о магазине, что позволит увеличить количество заказов   \n",
       "6          Показать на главной странице баннеры с актуальными акциями и распродажами, чтобы увеличить конверсию   \n",
       "7              Добавить форму подписки на все основные страницы, чтобы собрать базу клиентов для email-рассылок   \n",
       "8                                                       Запустить акцию, дающую скидку на товар в день рождения   \n",
       "\n",
       "   reach  impact  confidence  efforts    ICE   RICE  \n",
       "0      3      10           8        6  13.33   40.0  \n",
       "1      2       5           4       10   2.00    4.0  \n",
       "2      8       3           7        3   7.00   56.0  \n",
       "3      8       3           3        8   1.12    9.0  \n",
       "4      3       1           1        1   1.00    3.0  \n",
       "5      3       2           2        3   1.33    4.0  \n",
       "6      5       3           8        3   8.00   40.0  \n",
       "7     10       7           8        5  11.20  112.0  \n",
       "8      1       9           9        5  16.20   16.2  "
      ]
     },
     "execution_count": 23,
     "metadata": {},
     "output_type": "execute_result"
    }
   ],
   "source": [
    "hypothesis['RICE'] = hypothesis['reach']*hypothesis['impact']*hypothesis['confidence']/hypothesis['efforts']\n",
    "hypothesis\n"
   ]
  },
  {
   "cell_type": "markdown",
   "id": "ff12dab0",
   "metadata": {},
   "source": [
    "#### *Указать, как изменилась приоритизация гипотез при применении RICE вместо ICE. Объяснить, почему так произошло*"
   ]
  },
  {
   "cell_type": "code",
   "execution_count": 24,
   "id": "c4a70408",
   "metadata": {},
   "outputs": [
    {
     "data": {
      "text/html": [
       "<div>\n",
       "<style scoped>\n",
       "    .dataframe tbody tr th:only-of-type {\n",
       "        vertical-align: middle;\n",
       "    }\n",
       "\n",
       "    .dataframe tbody tr th {\n",
       "        vertical-align: top;\n",
       "    }\n",
       "\n",
       "    .dataframe thead th {\n",
       "        text-align: right;\n",
       "    }\n",
       "</style>\n",
       "<table border=\"1\" class=\"dataframe\">\n",
       "  <thead>\n",
       "    <tr style=\"text-align: right;\">\n",
       "      <th></th>\n",
       "      <th>hypothesa</th>\n",
       "      <th>ICE</th>\n",
       "    </tr>\n",
       "  </thead>\n",
       "  <tbody>\n",
       "    <tr>\n",
       "      <th>8</th>\n",
       "      <td>Запустить акцию, дающую скидку на товар в день рождения</td>\n",
       "      <td>16.20</td>\n",
       "    </tr>\n",
       "    <tr>\n",
       "      <th>0</th>\n",
       "      <td>Добавить два новых канала привлечения трафика, что позволит привлекать на 30% больше пользователей</td>\n",
       "      <td>13.33</td>\n",
       "    </tr>\n",
       "    <tr>\n",
       "      <th>7</th>\n",
       "      <td>Добавить форму подписки на все основные страницы, чтобы собрать базу клиентов для email-рассылок</td>\n",
       "      <td>11.20</td>\n",
       "    </tr>\n",
       "    <tr>\n",
       "      <th>6</th>\n",
       "      <td>Показать на главной странице баннеры с актуальными акциями и распродажами, чтобы увеличить конверсию</td>\n",
       "      <td>8.00</td>\n",
       "    </tr>\n",
       "    <tr>\n",
       "      <th>2</th>\n",
       "      <td>Добавить блоки рекомендаций товаров на сайт интернет магазина, чтобы повысить конверсию и средний чек заказа</td>\n",
       "      <td>7.00</td>\n",
       "    </tr>\n",
       "    <tr>\n",
       "      <th>1</th>\n",
       "      <td>Запустить собственную службу доставки, что сократит срок доставки заказов</td>\n",
       "      <td>2.00</td>\n",
       "    </tr>\n",
       "    <tr>\n",
       "      <th>5</th>\n",
       "      <td>Добавить страницу отзывов клиентов о магазине, что позволит увеличить количество заказов</td>\n",
       "      <td>1.33</td>\n",
       "    </tr>\n",
       "    <tr>\n",
       "      <th>3</th>\n",
       "      <td>Изменить структура категорий, что увеличит конверсию, т.к. пользователи быстрее найдут нужный товар</td>\n",
       "      <td>1.12</td>\n",
       "    </tr>\n",
       "    <tr>\n",
       "      <th>4</th>\n",
       "      <td>Изменить цвет фона главной страницы, чтобы увеличить вовлеченность пользователей</td>\n",
       "      <td>1.00</td>\n",
       "    </tr>\n",
       "  </tbody>\n",
       "</table>\n",
       "</div>"
      ],
      "text/plain": [
       "                                                                                                      hypothesa  \\\n",
       "8                                                       Запустить акцию, дающую скидку на товар в день рождения   \n",
       "0            Добавить два новых канала привлечения трафика, что позволит привлекать на 30% больше пользователей   \n",
       "7              Добавить форму подписки на все основные страницы, чтобы собрать базу клиентов для email-рассылок   \n",
       "6          Показать на главной странице баннеры с актуальными акциями и распродажами, чтобы увеличить конверсию   \n",
       "2  Добавить блоки рекомендаций товаров на сайт интернет магазина, чтобы повысить конверсию и средний чек заказа   \n",
       "1                                     Запустить собственную службу доставки, что сократит срок доставки заказов   \n",
       "5                      Добавить страницу отзывов клиентов о магазине, что позволит увеличить количество заказов   \n",
       "3           Изменить структура категорий, что увеличит конверсию, т.к. пользователи быстрее найдут нужный товар   \n",
       "4                              Изменить цвет фона главной страницы, чтобы увеличить вовлеченность пользователей   \n",
       "\n",
       "     ICE  \n",
       "8  16.20  \n",
       "0  13.33  \n",
       "7  11.20  \n",
       "6   8.00  \n",
       "2   7.00  \n",
       "1   2.00  \n",
       "5   1.33  \n",
       "3   1.12  \n",
       "4   1.00  "
      ]
     },
     "execution_count": 24,
     "metadata": {},
     "output_type": "execute_result"
    }
   ],
   "source": [
    "hypothesis[['hypothesa','ICE']].sort_values(by='ICE', ascending = False)"
   ]
  },
  {
   "cell_type": "markdown",
   "id": "4b2995e2",
   "metadata": {},
   "source": [
    "Топ-4 ICE-гипотез:\n",
    "\n",
    "    № 8\n",
    "    № 0\n",
    "    № 7\n",
    "    № 6\n",
    "    "
   ]
  },
  {
   "cell_type": "code",
   "execution_count": 25,
   "id": "9da96113",
   "metadata": {},
   "outputs": [
    {
     "data": {
      "text/html": [
       "<div>\n",
       "<style scoped>\n",
       "    .dataframe tbody tr th:only-of-type {\n",
       "        vertical-align: middle;\n",
       "    }\n",
       "\n",
       "    .dataframe tbody tr th {\n",
       "        vertical-align: top;\n",
       "    }\n",
       "\n",
       "    .dataframe thead th {\n",
       "        text-align: right;\n",
       "    }\n",
       "</style>\n",
       "<table border=\"1\" class=\"dataframe\">\n",
       "  <thead>\n",
       "    <tr style=\"text-align: right;\">\n",
       "      <th></th>\n",
       "      <th>hypothesa</th>\n",
       "      <th>RICE</th>\n",
       "    </tr>\n",
       "  </thead>\n",
       "  <tbody>\n",
       "    <tr>\n",
       "      <th>7</th>\n",
       "      <td>Добавить форму подписки на все основные страницы, чтобы собрать базу клиентов для email-рассылок</td>\n",
       "      <td>112.0</td>\n",
       "    </tr>\n",
       "    <tr>\n",
       "      <th>2</th>\n",
       "      <td>Добавить блоки рекомендаций товаров на сайт интернет магазина, чтобы повысить конверсию и средний чек заказа</td>\n",
       "      <td>56.0</td>\n",
       "    </tr>\n",
       "    <tr>\n",
       "      <th>0</th>\n",
       "      <td>Добавить два новых канала привлечения трафика, что позволит привлекать на 30% больше пользователей</td>\n",
       "      <td>40.0</td>\n",
       "    </tr>\n",
       "    <tr>\n",
       "      <th>6</th>\n",
       "      <td>Показать на главной странице баннеры с актуальными акциями и распродажами, чтобы увеличить конверсию</td>\n",
       "      <td>40.0</td>\n",
       "    </tr>\n",
       "    <tr>\n",
       "      <th>8</th>\n",
       "      <td>Запустить акцию, дающую скидку на товар в день рождения</td>\n",
       "      <td>16.2</td>\n",
       "    </tr>\n",
       "    <tr>\n",
       "      <th>3</th>\n",
       "      <td>Изменить структура категорий, что увеличит конверсию, т.к. пользователи быстрее найдут нужный товар</td>\n",
       "      <td>9.0</td>\n",
       "    </tr>\n",
       "    <tr>\n",
       "      <th>1</th>\n",
       "      <td>Запустить собственную службу доставки, что сократит срок доставки заказов</td>\n",
       "      <td>4.0</td>\n",
       "    </tr>\n",
       "    <tr>\n",
       "      <th>5</th>\n",
       "      <td>Добавить страницу отзывов клиентов о магазине, что позволит увеличить количество заказов</td>\n",
       "      <td>4.0</td>\n",
       "    </tr>\n",
       "    <tr>\n",
       "      <th>4</th>\n",
       "      <td>Изменить цвет фона главной страницы, чтобы увеличить вовлеченность пользователей</td>\n",
       "      <td>3.0</td>\n",
       "    </tr>\n",
       "  </tbody>\n",
       "</table>\n",
       "</div>"
      ],
      "text/plain": [
       "                                                                                                      hypothesa  \\\n",
       "7              Добавить форму подписки на все основные страницы, чтобы собрать базу клиентов для email-рассылок   \n",
       "2  Добавить блоки рекомендаций товаров на сайт интернет магазина, чтобы повысить конверсию и средний чек заказа   \n",
       "0            Добавить два новых канала привлечения трафика, что позволит привлекать на 30% больше пользователей   \n",
       "6          Показать на главной странице баннеры с актуальными акциями и распродажами, чтобы увеличить конверсию   \n",
       "8                                                       Запустить акцию, дающую скидку на товар в день рождения   \n",
       "3           Изменить структура категорий, что увеличит конверсию, т.к. пользователи быстрее найдут нужный товар   \n",
       "1                                     Запустить собственную службу доставки, что сократит срок доставки заказов   \n",
       "5                      Добавить страницу отзывов клиентов о магазине, что позволит увеличить количество заказов   \n",
       "4                              Изменить цвет фона главной страницы, чтобы увеличить вовлеченность пользователей   \n",
       "\n",
       "    RICE  \n",
       "7  112.0  \n",
       "2   56.0  \n",
       "0   40.0  \n",
       "6   40.0  \n",
       "8   16.2  \n",
       "3    9.0  \n",
       "1    4.0  \n",
       "5    4.0  \n",
       "4    3.0  "
      ]
     },
     "execution_count": 25,
     "metadata": {},
     "output_type": "execute_result"
    }
   ],
   "source": [
    "hypothesis[['hypothesa','RICE']].sort_values(by='RICE', ascending=False)\n"
   ]
  },
  {
   "cell_type": "markdown",
   "id": "ef1cac1f",
   "metadata": {},
   "source": [
    "Топ-4 RICE-гипотез:\n",
    "\n",
    "    № 7\n",
    "    № 2\n",
    "    № 0\n",
    "    № 6\n"
   ]
  },
  {
   "cell_type": "markdown",
   "id": "329be984",
   "metadata": {},
   "source": [
    "**Вывод:**\n",
    "\n",
    "Как видно для параметров ICE и RICE список их приоритетных гипотез похож: № 0, № 6, № 7 входят в оба списка, но с разными приоритетами. \n",
    "- Для RICE на первом и втором местах № 7 и № 2, т. к. их reach очень высокий, т. е. затронет максимальное количество пользователей.  \n",
    "- Для ICE reach не учитывается, поэтому на первом месте там № 8 с большим impact и confidence. № 2 не входит в ТОП-4 ICE, т. к. у него низкий impact, но это компенсируется большим reach, поэтому он появляется в ТОП-4 RICE.\n",
    "\n",
    "Кроме силы гипотезы важно учитывать как много пользователей она затронет\n",
    "\n",
    "На основе вышеизложенного, гипотеза №7 является хорошим кандидатом для первой гипотезы для тестирования, так как она имеет высокий reach и занимает первые позиции в обоих списках. Она затронет максимальное количество пользователей и имеет достаточную силу для получения значимых результатов.\n",
    "\n"
   ]
  },
  {
   "cell_type": "markdown",
   "id": "9acab30a",
   "metadata": {},
   "source": [
    "### Часть вторая. Анализ A/B-теста"
   ]
  },
  {
   "cell_type": "markdown",
   "id": "d06e78aa",
   "metadata": {},
   "source": [
    "#### *Построить график кумулятивной выручки по группам. Сделать выводы и предложения*"
   ]
  },
  {
   "cell_type": "code",
   "execution_count": 26,
   "id": "6d799b4c",
   "metadata": {},
   "outputs": [
    {
     "data": {
      "text/html": [
       "<div>\n",
       "<style scoped>\n",
       "    .dataframe tbody tr th:only-of-type {\n",
       "        vertical-align: middle;\n",
       "    }\n",
       "\n",
       "    .dataframe tbody tr th {\n",
       "        vertical-align: top;\n",
       "    }\n",
       "\n",
       "    .dataframe thead th {\n",
       "        text-align: right;\n",
       "    }\n",
       "</style>\n",
       "<table border=\"1\" class=\"dataframe\">\n",
       "  <thead>\n",
       "    <tr style=\"text-align: right;\">\n",
       "      <th></th>\n",
       "      <th>date</th>\n",
       "      <th>group</th>\n",
       "    </tr>\n",
       "  </thead>\n",
       "  <tbody>\n",
       "    <tr>\n",
       "      <th>0</th>\n",
       "      <td>2019-08-15</td>\n",
       "      <td>B</td>\n",
       "    </tr>\n",
       "    <tr>\n",
       "      <th>7</th>\n",
       "      <td>2019-08-15</td>\n",
       "      <td>A</td>\n",
       "    </tr>\n",
       "    <tr>\n",
       "      <th>45</th>\n",
       "      <td>2019-08-16</td>\n",
       "      <td>A</td>\n",
       "    </tr>\n",
       "    <tr>\n",
       "      <th>47</th>\n",
       "      <td>2019-08-16</td>\n",
       "      <td>B</td>\n",
       "    </tr>\n",
       "    <tr>\n",
       "      <th>55</th>\n",
       "      <td>2019-08-01</td>\n",
       "      <td>A</td>\n",
       "    </tr>\n",
       "    <tr>\n",
       "      <th>...</th>\n",
       "      <td>...</td>\n",
       "      <td>...</td>\n",
       "    </tr>\n",
       "    <tr>\n",
       "      <th>1068</th>\n",
       "      <td>2019-08-12</td>\n",
       "      <td>A</td>\n",
       "    </tr>\n",
       "    <tr>\n",
       "      <th>1114</th>\n",
       "      <td>2019-08-13</td>\n",
       "      <td>B</td>\n",
       "    </tr>\n",
       "    <tr>\n",
       "      <th>1116</th>\n",
       "      <td>2019-08-13</td>\n",
       "      <td>A</td>\n",
       "    </tr>\n",
       "    <tr>\n",
       "      <th>1149</th>\n",
       "      <td>2019-08-14</td>\n",
       "      <td>B</td>\n",
       "    </tr>\n",
       "    <tr>\n",
       "      <th>1150</th>\n",
       "      <td>2019-08-14</td>\n",
       "      <td>A</td>\n",
       "    </tr>\n",
       "  </tbody>\n",
       "</table>\n",
       "<p>62 rows × 2 columns</p>\n",
       "</div>"
      ],
      "text/plain": [
       "           date group\n",
       "0    2019-08-15     B\n",
       "7    2019-08-15     A\n",
       "45   2019-08-16     A\n",
       "47   2019-08-16     B\n",
       "55   2019-08-01     A\n",
       "...         ...   ...\n",
       "1068 2019-08-12     A\n",
       "1114 2019-08-13     B\n",
       "1116 2019-08-13     A\n",
       "1149 2019-08-14     B\n",
       "1150 2019-08-14     A\n",
       "\n",
       "[62 rows x 2 columns]"
      ]
     },
     "execution_count": 26,
     "metadata": {},
     "output_type": "execute_result"
    }
   ],
   "source": [
    "# Создадим датафрейм datesGroups с уникальными парами значений 'date' и 'group', таблицы orders\n",
    "datesGroups = cleaned_orders[['date','group']].drop_duplicates() \n",
    "datesGroups"
   ]
  },
  {
   "cell_type": "code",
   "execution_count": 27,
   "id": "caa1c42b",
   "metadata": {},
   "outputs": [],
   "source": [
    "# Создадим таблицу ordersAggregated - будто мы ежедневно считали результаты тестирования до выбранного дня включительно \n",
    "# и сохраняли их в строках таблицы \n",
    "\n",
    "ordersAggregated = datesGroups.apply(lambda x: cleaned_orders[np.logical_and(cleaned_orders['date'] <= x['date'], cleaned_orders['group'] == x['group'])]\\\n",
    ".agg({'date' : 'max', 'group' : 'max', 'transaction_id' : 'nunique', 'visitor_id' : 'nunique', 'revenue' : 'sum'}), axis=1).sort_values(by=['date','group']) "
   ]
  },
  {
   "cell_type": "code",
   "execution_count": 28,
   "id": "78a99dec",
   "metadata": {},
   "outputs": [
    {
     "data": {
      "text/html": [
       "<div>\n",
       "<style scoped>\n",
       "    .dataframe tbody tr th:only-of-type {\n",
       "        vertical-align: middle;\n",
       "    }\n",
       "\n",
       "    .dataframe tbody tr th {\n",
       "        vertical-align: top;\n",
       "    }\n",
       "\n",
       "    .dataframe thead th {\n",
       "        text-align: right;\n",
       "    }\n",
       "</style>\n",
       "<table border=\"1\" class=\"dataframe\">\n",
       "  <thead>\n",
       "    <tr style=\"text-align: right;\">\n",
       "      <th></th>\n",
       "      <th>date</th>\n",
       "      <th>group</th>\n",
       "      <th>transaction_id</th>\n",
       "      <th>visitor_id</th>\n",
       "      <th>revenue</th>\n",
       "    </tr>\n",
       "  </thead>\n",
       "  <tbody>\n",
       "    <tr>\n",
       "      <th>55</th>\n",
       "      <td>2019-08-01</td>\n",
       "      <td>A</td>\n",
       "      <td>23</td>\n",
       "      <td>19</td>\n",
       "      <td>142779</td>\n",
       "    </tr>\n",
       "    <tr>\n",
       "      <th>66</th>\n",
       "      <td>2019-08-01</td>\n",
       "      <td>B</td>\n",
       "      <td>17</td>\n",
       "      <td>17</td>\n",
       "      <td>59758</td>\n",
       "    </tr>\n",
       "    <tr>\n",
       "      <th>175</th>\n",
       "      <td>2019-08-02</td>\n",
       "      <td>A</td>\n",
       "      <td>42</td>\n",
       "      <td>36</td>\n",
       "      <td>234381</td>\n",
       "    </tr>\n",
       "    <tr>\n",
       "      <th>173</th>\n",
       "      <td>2019-08-02</td>\n",
       "      <td>B</td>\n",
       "      <td>40</td>\n",
       "      <td>39</td>\n",
       "      <td>221801</td>\n",
       "    </tr>\n",
       "    <tr>\n",
       "      <th>291</th>\n",
       "      <td>2019-08-03</td>\n",
       "      <td>A</td>\n",
       "      <td>66</td>\n",
       "      <td>60</td>\n",
       "      <td>346854</td>\n",
       "    </tr>\n",
       "    <tr>\n",
       "      <th>...</th>\n",
       "      <td>...</td>\n",
       "      <td>...</td>\n",
       "      <td>...</td>\n",
       "      <td>...</td>\n",
       "      <td>...</td>\n",
       "    </tr>\n",
       "    <tr>\n",
       "      <th>533</th>\n",
       "      <td>2019-08-29</td>\n",
       "      <td>B</td>\n",
       "      <td>510</td>\n",
       "      <td>490</td>\n",
       "      <td>4746610</td>\n",
       "    </tr>\n",
       "    <tr>\n",
       "      <th>757</th>\n",
       "      <td>2019-08-30</td>\n",
       "      <td>A</td>\n",
       "      <td>460</td>\n",
       "      <td>437</td>\n",
       "      <td>3311413</td>\n",
       "    </tr>\n",
       "    <tr>\n",
       "      <th>690</th>\n",
       "      <td>2019-08-30</td>\n",
       "      <td>B</td>\n",
       "      <td>531</td>\n",
       "      <td>511</td>\n",
       "      <td>4955833</td>\n",
       "    </tr>\n",
       "    <tr>\n",
       "      <th>958</th>\n",
       "      <td>2019-08-31</td>\n",
       "      <td>A</td>\n",
       "      <td>468</td>\n",
       "      <td>445</td>\n",
       "      <td>3364656</td>\n",
       "    </tr>\n",
       "    <tr>\n",
       "      <th>930</th>\n",
       "      <td>2019-08-31</td>\n",
       "      <td>B</td>\n",
       "      <td>548</td>\n",
       "      <td>528</td>\n",
       "      <td>5068972</td>\n",
       "    </tr>\n",
       "  </tbody>\n",
       "</table>\n",
       "<p>62 rows × 5 columns</p>\n",
       "</div>"
      ],
      "text/plain": [
       "          date group  transaction_id  visitor_id  revenue\n",
       "55  2019-08-01     A              23          19   142779\n",
       "66  2019-08-01     B              17          17    59758\n",
       "175 2019-08-02     A              42          36   234381\n",
       "173 2019-08-02     B              40          39   221801\n",
       "291 2019-08-03     A              66          60   346854\n",
       "..         ...   ...             ...         ...      ...\n",
       "533 2019-08-29     B             510         490  4746610\n",
       "757 2019-08-30     A             460         437  3311413\n",
       "690 2019-08-30     B             531         511  4955833\n",
       "958 2019-08-31     A             468         445  3364656\n",
       "930 2019-08-31     B             548         528  5068972\n",
       "\n",
       "[62 rows x 5 columns]"
      ]
     },
     "execution_count": 28,
     "metadata": {},
     "output_type": "execute_result"
    }
   ],
   "source": [
    "ordersAggregated"
   ]
  },
  {
   "cell_type": "code",
   "execution_count": 29,
   "id": "6d332e9e",
   "metadata": {},
   "outputs": [],
   "source": [
    "# Создадим таблицу visitorsAggregated - агрегированные кумулятивные по дням данные о посетителях интернет-магазина \n",
    "\n",
    "visitorsAggregated = datesGroups.apply(lambda x: visitors[np.logical_and(visitors['date'] <= x['date'], visitors['group'] == x['group'])].agg({'date' : 'max', 'group' : 'max', 'visitors' : 'sum'}), axis=1).sort_values(by=['date','group']) "
   ]
  },
  {
   "cell_type": "code",
   "execution_count": 30,
   "id": "8812d520",
   "metadata": {},
   "outputs": [
    {
     "data": {
      "text/html": [
       "<div>\n",
       "<style scoped>\n",
       "    .dataframe tbody tr th:only-of-type {\n",
       "        vertical-align: middle;\n",
       "    }\n",
       "\n",
       "    .dataframe tbody tr th {\n",
       "        vertical-align: top;\n",
       "    }\n",
       "\n",
       "    .dataframe thead th {\n",
       "        text-align: right;\n",
       "    }\n",
       "</style>\n",
       "<table border=\"1\" class=\"dataframe\">\n",
       "  <thead>\n",
       "    <tr style=\"text-align: right;\">\n",
       "      <th></th>\n",
       "      <th>date</th>\n",
       "      <th>group</th>\n",
       "      <th>visitors</th>\n",
       "    </tr>\n",
       "  </thead>\n",
       "  <tbody>\n",
       "    <tr>\n",
       "      <th>55</th>\n",
       "      <td>2019-08-01</td>\n",
       "      <td>A</td>\n",
       "      <td>719</td>\n",
       "    </tr>\n",
       "    <tr>\n",
       "      <th>66</th>\n",
       "      <td>2019-08-01</td>\n",
       "      <td>B</td>\n",
       "      <td>713</td>\n",
       "    </tr>\n",
       "    <tr>\n",
       "      <th>175</th>\n",
       "      <td>2019-08-02</td>\n",
       "      <td>A</td>\n",
       "      <td>1338</td>\n",
       "    </tr>\n",
       "    <tr>\n",
       "      <th>173</th>\n",
       "      <td>2019-08-02</td>\n",
       "      <td>B</td>\n",
       "      <td>1294</td>\n",
       "    </tr>\n",
       "    <tr>\n",
       "      <th>291</th>\n",
       "      <td>2019-08-03</td>\n",
       "      <td>A</td>\n",
       "      <td>1845</td>\n",
       "    </tr>\n",
       "    <tr>\n",
       "      <th>...</th>\n",
       "      <td>...</td>\n",
       "      <td>...</td>\n",
       "      <td>...</td>\n",
       "    </tr>\n",
       "    <tr>\n",
       "      <th>533</th>\n",
       "      <td>2019-08-29</td>\n",
       "      <td>B</td>\n",
       "      <td>17708</td>\n",
       "    </tr>\n",
       "    <tr>\n",
       "      <th>757</th>\n",
       "      <td>2019-08-30</td>\n",
       "      <td>A</td>\n",
       "      <td>18037</td>\n",
       "    </tr>\n",
       "    <tr>\n",
       "      <th>690</th>\n",
       "      <td>2019-08-30</td>\n",
       "      <td>B</td>\n",
       "      <td>18198</td>\n",
       "    </tr>\n",
       "    <tr>\n",
       "      <th>958</th>\n",
       "      <td>2019-08-31</td>\n",
       "      <td>A</td>\n",
       "      <td>18736</td>\n",
       "    </tr>\n",
       "    <tr>\n",
       "      <th>930</th>\n",
       "      <td>2019-08-31</td>\n",
       "      <td>B</td>\n",
       "      <td>18916</td>\n",
       "    </tr>\n",
       "  </tbody>\n",
       "</table>\n",
       "<p>62 rows × 3 columns</p>\n",
       "</div>"
      ],
      "text/plain": [
       "          date group  visitors\n",
       "55  2019-08-01     A       719\n",
       "66  2019-08-01     B       713\n",
       "175 2019-08-02     A      1338\n",
       "173 2019-08-02     B      1294\n",
       "291 2019-08-03     A      1845\n",
       "..         ...   ...       ...\n",
       "533 2019-08-29     B     17708\n",
       "757 2019-08-30     A     18037\n",
       "690 2019-08-30     B     18198\n",
       "958 2019-08-31     A     18736\n",
       "930 2019-08-31     B     18916\n",
       "\n",
       "[62 rows x 3 columns]"
      ]
     },
     "execution_count": 30,
     "metadata": {},
     "output_type": "execute_result"
    }
   ],
   "source": [
    "visitorsAggregated"
   ]
  },
  {
   "cell_type": "code",
   "execution_count": 31,
   "id": "50fc14a6",
   "metadata": {},
   "outputs": [
    {
     "data": {
      "text/html": [
       "<div>\n",
       "<style scoped>\n",
       "    .dataframe tbody tr th:only-of-type {\n",
       "        vertical-align: middle;\n",
       "    }\n",
       "\n",
       "    .dataframe tbody tr th {\n",
       "        vertical-align: top;\n",
       "    }\n",
       "\n",
       "    .dataframe thead th {\n",
       "        text-align: right;\n",
       "    }\n",
       "</style>\n",
       "<table border=\"1\" class=\"dataframe\">\n",
       "  <thead>\n",
       "    <tr style=\"text-align: right;\">\n",
       "      <th></th>\n",
       "      <th>date</th>\n",
       "      <th>group</th>\n",
       "      <th>orders</th>\n",
       "      <th>buyers</th>\n",
       "      <th>revenue</th>\n",
       "      <th>visitors</th>\n",
       "    </tr>\n",
       "  </thead>\n",
       "  <tbody>\n",
       "    <tr>\n",
       "      <th>0</th>\n",
       "      <td>2019-08-01</td>\n",
       "      <td>A</td>\n",
       "      <td>23</td>\n",
       "      <td>19</td>\n",
       "      <td>142779</td>\n",
       "      <td>719</td>\n",
       "    </tr>\n",
       "    <tr>\n",
       "      <th>1</th>\n",
       "      <td>2019-08-01</td>\n",
       "      <td>B</td>\n",
       "      <td>17</td>\n",
       "      <td>17</td>\n",
       "      <td>59758</td>\n",
       "      <td>713</td>\n",
       "    </tr>\n",
       "    <tr>\n",
       "      <th>2</th>\n",
       "      <td>2019-08-02</td>\n",
       "      <td>A</td>\n",
       "      <td>42</td>\n",
       "      <td>36</td>\n",
       "      <td>234381</td>\n",
       "      <td>1338</td>\n",
       "    </tr>\n",
       "    <tr>\n",
       "      <th>3</th>\n",
       "      <td>2019-08-02</td>\n",
       "      <td>B</td>\n",
       "      <td>40</td>\n",
       "      <td>39</td>\n",
       "      <td>221801</td>\n",
       "      <td>1294</td>\n",
       "    </tr>\n",
       "    <tr>\n",
       "      <th>4</th>\n",
       "      <td>2019-08-03</td>\n",
       "      <td>A</td>\n",
       "      <td>66</td>\n",
       "      <td>60</td>\n",
       "      <td>346854</td>\n",
       "      <td>1845</td>\n",
       "    </tr>\n",
       "    <tr>\n",
       "      <th>...</th>\n",
       "      <td>...</td>\n",
       "      <td>...</td>\n",
       "      <td>...</td>\n",
       "      <td>...</td>\n",
       "      <td>...</td>\n",
       "      <td>...</td>\n",
       "    </tr>\n",
       "    <tr>\n",
       "      <th>57</th>\n",
       "      <td>2019-08-29</td>\n",
       "      <td>B</td>\n",
       "      <td>510</td>\n",
       "      <td>490</td>\n",
       "      <td>4746610</td>\n",
       "      <td>17708</td>\n",
       "    </tr>\n",
       "    <tr>\n",
       "      <th>58</th>\n",
       "      <td>2019-08-30</td>\n",
       "      <td>A</td>\n",
       "      <td>460</td>\n",
       "      <td>437</td>\n",
       "      <td>3311413</td>\n",
       "      <td>18037</td>\n",
       "    </tr>\n",
       "    <tr>\n",
       "      <th>59</th>\n",
       "      <td>2019-08-30</td>\n",
       "      <td>B</td>\n",
       "      <td>531</td>\n",
       "      <td>511</td>\n",
       "      <td>4955833</td>\n",
       "      <td>18198</td>\n",
       "    </tr>\n",
       "    <tr>\n",
       "      <th>60</th>\n",
       "      <td>2019-08-31</td>\n",
       "      <td>A</td>\n",
       "      <td>468</td>\n",
       "      <td>445</td>\n",
       "      <td>3364656</td>\n",
       "      <td>18736</td>\n",
       "    </tr>\n",
       "    <tr>\n",
       "      <th>61</th>\n",
       "      <td>2019-08-31</td>\n",
       "      <td>B</td>\n",
       "      <td>548</td>\n",
       "      <td>528</td>\n",
       "      <td>5068972</td>\n",
       "      <td>18916</td>\n",
       "    </tr>\n",
       "  </tbody>\n",
       "</table>\n",
       "<p>62 rows × 6 columns</p>\n",
       "</div>"
      ],
      "text/plain": [
       "         date group  orders  buyers  revenue  visitors\n",
       "0  2019-08-01     A      23      19   142779       719\n",
       "1  2019-08-01     B      17      17    59758       713\n",
       "2  2019-08-02     A      42      36   234381      1338\n",
       "3  2019-08-02     B      40      39   221801      1294\n",
       "4  2019-08-03     A      66      60   346854      1845\n",
       "..        ...   ...     ...     ...      ...       ...\n",
       "57 2019-08-29     B     510     490  4746610     17708\n",
       "58 2019-08-30     A     460     437  3311413     18037\n",
       "59 2019-08-30     B     531     511  4955833     18198\n",
       "60 2019-08-31     A     468     445  3364656     18736\n",
       "61 2019-08-31     B     548     528  5068972     18916\n",
       "\n",
       "[62 rows x 6 columns]"
      ]
     },
     "execution_count": 31,
     "metadata": {},
     "output_type": "execute_result"
    }
   ],
   "source": [
    "# Объединим обе таблицы в одну с понятными названиями столбцов\n",
    "\n",
    "cumulativeData = ordersAggregated.merge(visitorsAggregated, left_on=['date', 'group'], right_on=['date', 'group'])\n",
    "cumulativeData.columns = ['date', 'group', 'orders', 'buyers', 'revenue', 'visitors']\n",
    "cumulativeData"
   ]
  },
  {
   "cell_type": "code",
   "execution_count": 32,
   "id": "399ce16c",
   "metadata": {},
   "outputs": [
    {
     "name": "stdout",
     "output_type": "stream",
     "text": [
      "2019-08-01 00:00:00\n",
      "2019-08-31 00:00:00\n",
      "2019-08-01 00:00:00\n",
      "2019-08-31 00:00:00\n"
     ]
    }
   ],
   "source": [
    "# Проверим корректность cumulativeData - \n",
    "# совпадают ли минимальная и максимальная даты в этом датафрейме с минимальной и максимальной датой в исходных данных\n",
    "print(cumulativeData['date'].min())\n",
    "print(cumulativeData['date'].max())\n",
    "print(orders['date'].min())\n",
    "print(orders['date'].max())"
   ]
  },
  {
   "cell_type": "markdown",
   "id": "5a1d86ee",
   "metadata": {},
   "source": [
    "Даты совпадают, cumulativeData создана корректно"
   ]
  },
  {
   "cell_type": "code",
   "execution_count": 33,
   "id": "caf35d44",
   "metadata": {},
   "outputs": [
    {
     "data": {
      "text/html": [
       "<div>\n",
       "<style scoped>\n",
       "    .dataframe tbody tr th:only-of-type {\n",
       "        vertical-align: middle;\n",
       "    }\n",
       "\n",
       "    .dataframe tbody tr th {\n",
       "        vertical-align: top;\n",
       "    }\n",
       "\n",
       "    .dataframe thead th {\n",
       "        text-align: right;\n",
       "    }\n",
       "</style>\n",
       "<table border=\"1\" class=\"dataframe\">\n",
       "  <thead>\n",
       "    <tr style=\"text-align: right;\">\n",
       "      <th></th>\n",
       "      <th>date</th>\n",
       "      <th>revenue</th>\n",
       "      <th>orders</th>\n",
       "    </tr>\n",
       "  </thead>\n",
       "  <tbody>\n",
       "    <tr>\n",
       "      <th>0</th>\n",
       "      <td>2019-08-01</td>\n",
       "      <td>142779</td>\n",
       "      <td>23</td>\n",
       "    </tr>\n",
       "    <tr>\n",
       "      <th>2</th>\n",
       "      <td>2019-08-02</td>\n",
       "      <td>234381</td>\n",
       "      <td>42</td>\n",
       "    </tr>\n",
       "    <tr>\n",
       "      <th>4</th>\n",
       "      <td>2019-08-03</td>\n",
       "      <td>346854</td>\n",
       "      <td>66</td>\n",
       "    </tr>\n",
       "    <tr>\n",
       "      <th>6</th>\n",
       "      <td>2019-08-04</td>\n",
       "      <td>388030</td>\n",
       "      <td>77</td>\n",
       "    </tr>\n",
       "    <tr>\n",
       "      <th>8</th>\n",
       "      <td>2019-08-05</td>\n",
       "      <td>474413</td>\n",
       "      <td>99</td>\n",
       "    </tr>\n",
       "  </tbody>\n",
       "</table>\n",
       "</div>"
      ],
      "text/plain": [
       "        date  revenue  orders\n",
       "0 2019-08-01   142779      23\n",
       "2 2019-08-02   234381      42\n",
       "4 2019-08-03   346854      66\n",
       "6 2019-08-04   388030      77\n",
       "8 2019-08-05   474413      99"
      ]
     },
     "execution_count": 33,
     "metadata": {},
     "output_type": "execute_result"
    }
   ],
   "source": [
    "# датафрейм с кумулятивным количеством заказов и кумулятивной выручкой по дням в группе А\n",
    "\n",
    "cumulativeRevenueA = cumulativeData[cumulativeData['group']=='A'][['date','revenue', 'orders']]\n",
    "cumulativeRevenueA.head() "
   ]
  },
  {
   "cell_type": "code",
   "execution_count": 34,
   "id": "8f172f23",
   "metadata": {},
   "outputs": [
    {
     "data": {
      "text/html": [
       "<div>\n",
       "<style scoped>\n",
       "    .dataframe tbody tr th:only-of-type {\n",
       "        vertical-align: middle;\n",
       "    }\n",
       "\n",
       "    .dataframe tbody tr th {\n",
       "        vertical-align: top;\n",
       "    }\n",
       "\n",
       "    .dataframe thead th {\n",
       "        text-align: right;\n",
       "    }\n",
       "</style>\n",
       "<table border=\"1\" class=\"dataframe\">\n",
       "  <thead>\n",
       "    <tr style=\"text-align: right;\">\n",
       "      <th></th>\n",
       "      <th>date</th>\n",
       "      <th>revenue</th>\n",
       "      <th>orders</th>\n",
       "    </tr>\n",
       "  </thead>\n",
       "  <tbody>\n",
       "    <tr>\n",
       "      <th>1</th>\n",
       "      <td>2019-08-01</td>\n",
       "      <td>59758</td>\n",
       "      <td>17</td>\n",
       "    </tr>\n",
       "    <tr>\n",
       "      <th>3</th>\n",
       "      <td>2019-08-02</td>\n",
       "      <td>221801</td>\n",
       "      <td>40</td>\n",
       "    </tr>\n",
       "    <tr>\n",
       "      <th>5</th>\n",
       "      <td>2019-08-03</td>\n",
       "      <td>288850</td>\n",
       "      <td>54</td>\n",
       "    </tr>\n",
       "    <tr>\n",
       "      <th>7</th>\n",
       "      <td>2019-08-04</td>\n",
       "      <td>385740</td>\n",
       "      <td>68</td>\n",
       "    </tr>\n",
       "    <tr>\n",
       "      <th>9</th>\n",
       "      <td>2019-08-05</td>\n",
       "      <td>475648</td>\n",
       "      <td>89</td>\n",
       "    </tr>\n",
       "  </tbody>\n",
       "</table>\n",
       "</div>"
      ],
      "text/plain": [
       "        date  revenue  orders\n",
       "1 2019-08-01    59758      17\n",
       "3 2019-08-02   221801      40\n",
       "5 2019-08-03   288850      54\n",
       "7 2019-08-04   385740      68\n",
       "9 2019-08-05   475648      89"
      ]
     },
     "execution_count": 34,
     "metadata": {},
     "output_type": "execute_result"
    }
   ],
   "source": [
    "# датафрейм с кумулятивным количеством заказов и кумулятивной выручкой по дням в группе B\n",
    "\n",
    "cumulativeRevenueB = cumulativeData[cumulativeData['group']=='B'][['date','revenue', 'orders']]\n",
    "cumulativeRevenueB.head()\n"
   ]
  },
  {
   "cell_type": "code",
   "execution_count": 35,
   "id": "3d7be279",
   "metadata": {},
   "outputs": [
    {
     "data": {
      "image/png": "[encoded data removed]",
      "text/plain": [
       "<Figure size 1200x800 with 1 Axes>"
      ]
     },
     "metadata": {},
     "output_type": "display_data"
    }
   ],
   "source": [
    "plt.figure(figsize=(12, 8))\n",
    "# Строим график выручки группы А\n",
    "plt.plot(cumulativeRevenueA['date'], cumulativeRevenueA['revenue'], label='A')\n",
    "\n",
    "# Строим график выручки группы B\n",
    "plt.plot(cumulativeRevenueB['date'], cumulativeRevenueB['revenue'], label='B')\n",
    "plt.legend()\n",
    "\n",
    "# Форматируем ось X для предотвращения дублирования меток\n",
    "plt.gcf().autofmt_xdate()\n",
    "\n",
    "# Устанавливаем обычный формат чисел по оси Y без запятых\n",
    "ax = plt.gca()\n",
    "ax.yaxis.set_major_formatter(ticker.FuncFormatter(lambda x, pos: '{:.0f}'.format(x)))\n",
    "\n",
    "# Добавляем подписи к осям и заголовок для лучшего понимания графика\n",
    "plt.xlabel('Дата')\n",
    "plt.ylabel('Кумулятивная выручка')\n",
    "plt.title('Кумулятивная выручка по группам')\n",
    "\n",
    "plt.gca().grid(True)\n",
    "# Отображаем график\n",
    "plt.show()"
   ]
  },
  {
   "cell_type": "markdown",
   "id": "013581f2",
   "metadata": {},
   "source": [
    "**Вывод:** \n",
    "\n",
    "Выручка почти равномерно увеличивается в течение всего теста. \n",
    "Однако график выручки группы В в одной точке резко растёт. Это может сигнализировать о всплесках числа заказов, либо о появлении очень дорогих заказов в выборке"
   ]
  },
  {
   "cell_type": "markdown",
   "id": "5f215b1b",
   "metadata": {},
   "source": [
    "#### *Построить график кумулятивного среднего чека по группам. Сделать выводы и предположения*"
   ]
  },
  {
   "cell_type": "code",
   "execution_count": 36,
   "id": "1d10ec0f",
   "metadata": {},
   "outputs": [
    {
     "data": {
      "image/png": "[encoded data removed]",
      "text/plain": [
       "<Figure size 1200x800 with 1 Axes>"
      ]
     },
     "metadata": {},
     "output_type": "display_data"
    }
   ],
   "source": [
    "plt.figure(figsize=(12, 8))\n",
    "# Построим графики среднего чека по группам — разделим кумулятивную выручку на кумулятивное число заказов\n",
    "plt.plot(cumulativeRevenueA['date'], cumulativeRevenueA['revenue']/cumulativeRevenueA['orders'], label='A')\n",
    "plt.plot(cumulativeRevenueB['date'], cumulativeRevenueB['revenue']/cumulativeRevenueB['orders'], label='B')\n",
    "plt.legend() \n",
    "\n",
    "# Форматируем ось X для предотвращения дублирования меток\n",
    "plt.gcf().autofmt_xdate()\n",
    "\n",
    "# Устанавливаем обычный формат чисел по оси Y без запятых\n",
    "ax = plt.gca()\n",
    "ax.yaxis.set_major_formatter(ticker.FuncFormatter(lambda x, pos: '{:.0f}'.format(x)))\n",
    "\n",
    "# Добавляем подписи к осям и заголовок для лучшего понимания графика\n",
    "plt.xlabel('Дата')\n",
    "plt.ylabel('Кумулятивный средний чек')\n",
    "plt.title('Кумулятивный средний чек по группам')\n",
    "plt.gca().grid(True)\n",
    "# Отображаем график\n",
    "plt.show()"
   ]
  },
  {
   "cell_type": "markdown",
   "id": "3d26d4d0",
   "metadata": {},
   "source": [
    "**Вывод:**\n",
    "- Группа А - средний чек вначале колеблется в переделах 5000 - 7000 тысяч, при постоянно растущей вырычке возможо есть разброс в количестве заказов. В дальнейшем средний чек стабилизируется в районе 7000 тысяч.\n",
    "- Группа В - средний чек вначале также колеблется в переделах 5000 - 7000 тысяч, затем резкий скачок до 10000 тысяч и плавная стабилизация на уровне 9000 тысяч. Резкий скачок среднего чека совпадает со скачком выручки в данной группе, что подтверждает предположение о появлении дрогих заказов.\n",
    "- В целом группа В более привлекательна чем группа А"
   ]
  },
  {
   "cell_type": "markdown",
   "id": "47235665",
   "metadata": {},
   "source": [
    "#### *Построить график относительного изменения кумулятивного среднего чека группы B к группе A. Сделать выводы и предположения*"
   ]
  },
  {
   "cell_type": "code",
   "execution_count": 37,
   "id": "ec3b017f",
   "metadata": {},
   "outputs": [
    {
     "data": {
      "text/html": [
       "<div>\n",
       "<style scoped>\n",
       "    .dataframe tbody tr th:only-of-type {\n",
       "        vertical-align: middle;\n",
       "    }\n",
       "\n",
       "    .dataframe tbody tr th {\n",
       "        vertical-align: top;\n",
       "    }\n",
       "\n",
       "    .dataframe thead th {\n",
       "        text-align: right;\n",
       "    }\n",
       "</style>\n",
       "<table border=\"1\" class=\"dataframe\">\n",
       "  <thead>\n",
       "    <tr style=\"text-align: right;\">\n",
       "      <th></th>\n",
       "      <th>date</th>\n",
       "      <th>revenueA</th>\n",
       "      <th>ordersA</th>\n",
       "      <th>revenueB</th>\n",
       "      <th>ordersB</th>\n",
       "    </tr>\n",
       "  </thead>\n",
       "  <tbody>\n",
       "    <tr>\n",
       "      <th>0</th>\n",
       "      <td>2019-08-01</td>\n",
       "      <td>142779</td>\n",
       "      <td>23</td>\n",
       "      <td>59758</td>\n",
       "      <td>17</td>\n",
       "    </tr>\n",
       "    <tr>\n",
       "      <th>1</th>\n",
       "      <td>2019-08-02</td>\n",
       "      <td>234381</td>\n",
       "      <td>42</td>\n",
       "      <td>221801</td>\n",
       "      <td>40</td>\n",
       "    </tr>\n",
       "    <tr>\n",
       "      <th>2</th>\n",
       "      <td>2019-08-03</td>\n",
       "      <td>346854</td>\n",
       "      <td>66</td>\n",
       "      <td>288850</td>\n",
       "      <td>54</td>\n",
       "    </tr>\n",
       "    <tr>\n",
       "      <th>3</th>\n",
       "      <td>2019-08-04</td>\n",
       "      <td>388030</td>\n",
       "      <td>77</td>\n",
       "      <td>385740</td>\n",
       "      <td>68</td>\n",
       "    </tr>\n",
       "    <tr>\n",
       "      <th>4</th>\n",
       "      <td>2019-08-05</td>\n",
       "      <td>474413</td>\n",
       "      <td>99</td>\n",
       "      <td>475648</td>\n",
       "      <td>89</td>\n",
       "    </tr>\n",
       "  </tbody>\n",
       "</table>\n",
       "</div>"
      ],
      "text/plain": [
       "        date  revenueA  ordersA  revenueB  ordersB\n",
       "0 2019-08-01    142779       23     59758       17\n",
       "1 2019-08-02    234381       42    221801       40\n",
       "2 2019-08-03    346854       66    288850       54\n",
       "3 2019-08-04    388030       77    385740       68\n",
       "4 2019-08-05    474413       99    475648       89"
      ]
     },
     "execution_count": 37,
     "metadata": {},
     "output_type": "execute_result"
    }
   ],
   "source": [
    "# собираем данные в одном датафрейме\n",
    "mergedCumulativeRevenue = cumulativeRevenueA.merge(cumulativeRevenueB, left_on='date', right_on='date', how='left', suffixes=['A', 'B'])\n",
    "mergedCumulativeRevenue.head()\n"
   ]
  },
  {
   "cell_type": "code",
   "execution_count": 38,
   "id": "fc20cb8a",
   "metadata": {},
   "outputs": [
    {
     "data": {
      "image/png": "[encoded data removed]",
      "text/plain": [
       "<Figure size 1200x800 with 1 Axes>"
      ]
     },
     "metadata": {},
     "output_type": "display_data"
    }
   ],
   "source": [
    "plt.figure(figsize=(12, 8))\n",
    "# cтроим отношение средних чеков\n",
    "plt.plot(mergedCumulativeRevenue['date'], (mergedCumulativeRevenue['revenueB']/mergedCumulativeRevenue['ordersB'])/(mergedCumulativeRevenue['revenueA']/mergedCumulativeRevenue['ordersA'])-1)\n",
    "# добавляем ось X\n",
    "plt.axhline(y=0, color='black', linestyle='--') \n",
    "# Форматируем ось X для предотвращения дублирования меток\n",
    "plt.gcf().autofmt_xdate()\n",
    "# Добавляем подписи к осям и заголовок для лучшего понимания графика\n",
    "plt.xlabel('Дата')\n",
    "plt.ylabel('Отношение средних чеков')\n",
    "plt.title('Относительное изменение для среднего чека группы В к группе А')\n",
    "plt.gca().grid(True)\n",
    "# Отображаем график\n",
    "plt.show()"
   ]
  },
  {
   "cell_type": "markdown",
   "id": "db924c87",
   "metadata": {},
   "source": [
    "**Вывод:**\n",
    "\n",
    "Группа В явно выигрывает у группы А, если не считать одного провала в середине теста, резкий скачок еще раз говорит о крупных заказах"
   ]
  },
  {
   "cell_type": "markdown",
   "id": "36747a43",
   "metadata": {},
   "source": [
    "#### *Построить график кумулятивного среднего количества заказов на посетителя по группам. Сделать выводы и предположения*"
   ]
  },
  {
   "cell_type": "code",
   "execution_count": 39,
   "id": "2e7d7f4b",
   "metadata": {},
   "outputs": [],
   "source": [
    "# считаем среднее количество заказов на посетителя\n",
    "cumulativeData['conversion'] = cumulativeData['orders']/cumulativeData['visitors']\n"
   ]
  },
  {
   "cell_type": "code",
   "execution_count": 40,
   "id": "cc58561f",
   "metadata": {},
   "outputs": [
    {
     "data": {
      "text/html": [
       "<div>\n",
       "<style scoped>\n",
       "    .dataframe tbody tr th:only-of-type {\n",
       "        vertical-align: middle;\n",
       "    }\n",
       "\n",
       "    .dataframe tbody tr th {\n",
       "        vertical-align: top;\n",
       "    }\n",
       "\n",
       "    .dataframe thead th {\n",
       "        text-align: right;\n",
       "    }\n",
       "</style>\n",
       "<table border=\"1\" class=\"dataframe\">\n",
       "  <thead>\n",
       "    <tr style=\"text-align: right;\">\n",
       "      <th></th>\n",
       "      <th>date</th>\n",
       "      <th>group</th>\n",
       "      <th>orders</th>\n",
       "      <th>buyers</th>\n",
       "      <th>revenue</th>\n",
       "      <th>visitors</th>\n",
       "      <th>conversion</th>\n",
       "    </tr>\n",
       "  </thead>\n",
       "  <tbody>\n",
       "    <tr>\n",
       "      <th>0</th>\n",
       "      <td>2019-08-01</td>\n",
       "      <td>A</td>\n",
       "      <td>23</td>\n",
       "      <td>19</td>\n",
       "      <td>142779</td>\n",
       "      <td>719</td>\n",
       "      <td>0.031989</td>\n",
       "    </tr>\n",
       "    <tr>\n",
       "      <th>2</th>\n",
       "      <td>2019-08-02</td>\n",
       "      <td>A</td>\n",
       "      <td>42</td>\n",
       "      <td>36</td>\n",
       "      <td>234381</td>\n",
       "      <td>1338</td>\n",
       "      <td>0.031390</td>\n",
       "    </tr>\n",
       "    <tr>\n",
       "      <th>4</th>\n",
       "      <td>2019-08-03</td>\n",
       "      <td>A</td>\n",
       "      <td>66</td>\n",
       "      <td>60</td>\n",
       "      <td>346854</td>\n",
       "      <td>1845</td>\n",
       "      <td>0.035772</td>\n",
       "    </tr>\n",
       "    <tr>\n",
       "      <th>6</th>\n",
       "      <td>2019-08-04</td>\n",
       "      <td>A</td>\n",
       "      <td>77</td>\n",
       "      <td>71</td>\n",
       "      <td>388030</td>\n",
       "      <td>2562</td>\n",
       "      <td>0.030055</td>\n",
       "    </tr>\n",
       "    <tr>\n",
       "      <th>8</th>\n",
       "      <td>2019-08-05</td>\n",
       "      <td>A</td>\n",
       "      <td>99</td>\n",
       "      <td>92</td>\n",
       "      <td>474413</td>\n",
       "      <td>3318</td>\n",
       "      <td>0.029837</td>\n",
       "    </tr>\n",
       "  </tbody>\n",
       "</table>\n",
       "</div>"
      ],
      "text/plain": [
       "        date group  orders  buyers  revenue  visitors  conversion\n",
       "0 2019-08-01     A      23      19   142779       719    0.031989\n",
       "2 2019-08-02     A      42      36   234381      1338    0.031390\n",
       "4 2019-08-03     A      66      60   346854      1845    0.035772\n",
       "6 2019-08-04     A      77      71   388030      2562    0.030055\n",
       "8 2019-08-05     A      99      92   474413      3318    0.029837"
      ]
     },
     "execution_count": 40,
     "metadata": {},
     "output_type": "execute_result"
    }
   ],
   "source": [
    "# отделяем данные по группе A\n",
    "cumulativeDataA = cumulativeData[cumulativeData['group']=='A']\n",
    "cumulativeDataA.head()"
   ]
  },
  {
   "cell_type": "code",
   "execution_count": 41,
   "id": "5ebba398",
   "metadata": {
    "scrolled": true
   },
   "outputs": [
    {
     "data": {
      "text/html": [
       "<div>\n",
       "<style scoped>\n",
       "    .dataframe tbody tr th:only-of-type {\n",
       "        vertical-align: middle;\n",
       "    }\n",
       "\n",
       "    .dataframe tbody tr th {\n",
       "        vertical-align: top;\n",
       "    }\n",
       "\n",
       "    .dataframe thead th {\n",
       "        text-align: right;\n",
       "    }\n",
       "</style>\n",
       "<table border=\"1\" class=\"dataframe\">\n",
       "  <thead>\n",
       "    <tr style=\"text-align: right;\">\n",
       "      <th></th>\n",
       "      <th>date</th>\n",
       "      <th>group</th>\n",
       "      <th>orders</th>\n",
       "      <th>buyers</th>\n",
       "      <th>revenue</th>\n",
       "      <th>visitors</th>\n",
       "      <th>conversion</th>\n",
       "    </tr>\n",
       "  </thead>\n",
       "  <tbody>\n",
       "    <tr>\n",
       "      <th>1</th>\n",
       "      <td>2019-08-01</td>\n",
       "      <td>B</td>\n",
       "      <td>17</td>\n",
       "      <td>17</td>\n",
       "      <td>59758</td>\n",
       "      <td>713</td>\n",
       "      <td>0.023843</td>\n",
       "    </tr>\n",
       "    <tr>\n",
       "      <th>3</th>\n",
       "      <td>2019-08-02</td>\n",
       "      <td>B</td>\n",
       "      <td>40</td>\n",
       "      <td>39</td>\n",
       "      <td>221801</td>\n",
       "      <td>1294</td>\n",
       "      <td>0.030912</td>\n",
       "    </tr>\n",
       "    <tr>\n",
       "      <th>5</th>\n",
       "      <td>2019-08-03</td>\n",
       "      <td>B</td>\n",
       "      <td>54</td>\n",
       "      <td>53</td>\n",
       "      <td>288850</td>\n",
       "      <td>1803</td>\n",
       "      <td>0.029950</td>\n",
       "    </tr>\n",
       "    <tr>\n",
       "      <th>7</th>\n",
       "      <td>2019-08-04</td>\n",
       "      <td>B</td>\n",
       "      <td>68</td>\n",
       "      <td>66</td>\n",
       "      <td>385740</td>\n",
       "      <td>2573</td>\n",
       "      <td>0.026428</td>\n",
       "    </tr>\n",
       "    <tr>\n",
       "      <th>9</th>\n",
       "      <td>2019-08-05</td>\n",
       "      <td>B</td>\n",
       "      <td>89</td>\n",
       "      <td>87</td>\n",
       "      <td>475648</td>\n",
       "      <td>3280</td>\n",
       "      <td>0.027134</td>\n",
       "    </tr>\n",
       "  </tbody>\n",
       "</table>\n",
       "</div>"
      ],
      "text/plain": [
       "        date group  orders  buyers  revenue  visitors  conversion\n",
       "1 2019-08-01     B      17      17    59758       713    0.023843\n",
       "3 2019-08-02     B      40      39   221801      1294    0.030912\n",
       "5 2019-08-03     B      54      53   288850      1803    0.029950\n",
       "7 2019-08-04     B      68      66   385740      2573    0.026428\n",
       "9 2019-08-05     B      89      87   475648      3280    0.027134"
      ]
     },
     "execution_count": 41,
     "metadata": {},
     "output_type": "execute_result"
    }
   ],
   "source": [
    "# отделяем данные по группе B\n",
    "cumulativeDataB = cumulativeData[cumulativeData['group']=='B']\n",
    "cumulativeDataB.head()"
   ]
  },
  {
   "cell_type": "code",
   "execution_count": 42,
   "id": "ba62d161",
   "metadata": {},
   "outputs": [
    {
     "data": {
      "image/png": "[encoded data removed]",
      "text/plain": [
       "<Figure size 1200x800 with 1 Axes>"
      ]
     },
     "metadata": {},
     "output_type": "display_data"
    }
   ],
   "source": [
    "plt.figure(figsize=(12, 8))\n",
    "plt.plot(cumulativeDataA['date'], cumulativeDataA['conversion'], label='A')\n",
    "plt.plot(cumulativeDataB['date'], cumulativeDataB['conversion'], label='B')\n",
    "plt.legend()\n",
    "\n",
    "# Форматируем ось X для предотвращения дублирования меток\n",
    "plt.gcf().autofmt_xdate()\n",
    "\n",
    "# Добавляем подписи к осям и заголовок для лучшего понимания графика\n",
    "plt.xlabel('Дата')\n",
    "plt.ylabel('Среднне количество заказов')\n",
    "plt.title('График кумулятивного среднего количества заказов на посетителя по группам')\n",
    "plt.gca().grid(True)\n",
    "\n",
    "plt.show()\n"
   ]
  },
  {
   "cell_type": "markdown",
   "id": "2500114f",
   "metadata": {},
   "source": [
    "**Вывод**\n",
    "\n",
    "Сначала в обеих группах есть довольно большие скачки, затем графики становятся симметричны, но группа А идет вниз, а группа В вверх.\n",
    "\n",
    "Разброс среднего количества заказов на посетителя м/у группами 0.029 - 0.037. "
   ]
  },
  {
   "cell_type": "markdown",
   "id": "efccb7f0",
   "metadata": {},
   "source": [
    "#### *Построить график относительного изменения кумулятивного среднего количества заказов на посетителя группы B к группе A. Сделать выводы и предположения*"
   ]
  },
  {
   "cell_type": "code",
   "execution_count": 43,
   "id": "ed6506a5",
   "metadata": {},
   "outputs": [
    {
     "data": {
      "text/html": [
       "<div>\n",
       "<style scoped>\n",
       "    .dataframe tbody tr th:only-of-type {\n",
       "        vertical-align: middle;\n",
       "    }\n",
       "\n",
       "    .dataframe tbody tr th {\n",
       "        vertical-align: top;\n",
       "    }\n",
       "\n",
       "    .dataframe thead th {\n",
       "        text-align: right;\n",
       "    }\n",
       "</style>\n",
       "<table border=\"1\" class=\"dataframe\">\n",
       "  <thead>\n",
       "    <tr style=\"text-align: right;\">\n",
       "      <th></th>\n",
       "      <th>date</th>\n",
       "      <th>conversionA</th>\n",
       "      <th>conversionB</th>\n",
       "    </tr>\n",
       "  </thead>\n",
       "  <tbody>\n",
       "    <tr>\n",
       "      <th>0</th>\n",
       "      <td>2019-08-01</td>\n",
       "      <td>0.031989</td>\n",
       "      <td>0.023843</td>\n",
       "    </tr>\n",
       "    <tr>\n",
       "      <th>1</th>\n",
       "      <td>2019-08-02</td>\n",
       "      <td>0.031390</td>\n",
       "      <td>0.030912</td>\n",
       "    </tr>\n",
       "    <tr>\n",
       "      <th>2</th>\n",
       "      <td>2019-08-03</td>\n",
       "      <td>0.035772</td>\n",
       "      <td>0.029950</td>\n",
       "    </tr>\n",
       "    <tr>\n",
       "      <th>3</th>\n",
       "      <td>2019-08-04</td>\n",
       "      <td>0.030055</td>\n",
       "      <td>0.026428</td>\n",
       "    </tr>\n",
       "    <tr>\n",
       "      <th>4</th>\n",
       "      <td>2019-08-05</td>\n",
       "      <td>0.029837</td>\n",
       "      <td>0.027134</td>\n",
       "    </tr>\n",
       "  </tbody>\n",
       "</table>\n",
       "</div>"
      ],
      "text/plain": [
       "        date  conversionA  conversionB\n",
       "0 2019-08-01     0.031989     0.023843\n",
       "1 2019-08-02     0.031390     0.030912\n",
       "2 2019-08-03     0.035772     0.029950\n",
       "3 2019-08-04     0.030055     0.026428\n",
       "4 2019-08-05     0.029837     0.027134"
      ]
     },
     "execution_count": 43,
     "metadata": {},
     "output_type": "execute_result"
    }
   ],
   "source": [
    "# собираем данные в одном датафрейме\n",
    "\n",
    "mergedCumulativeConversions = cumulativeDataA[['date','conversion']].merge(cumulativeDataB[['date','conversion']], left_on='date', right_on='date', how='left', suffixes=['A', 'B'])\n",
    "mergedCumulativeConversions.head()"
   ]
  },
  {
   "cell_type": "code",
   "execution_count": 44,
   "id": "57666d55",
   "metadata": {},
   "outputs": [
    {
     "data": {
      "image/png": "[encoded data removed]",
      "text/plain": [
       "<Figure size 1200x800 with 1 Axes>"
      ]
     },
     "metadata": {},
     "output_type": "display_data"
    }
   ],
   "source": [
    "plt.figure(figsize=(12, 8))\n",
    "# Строим график \n",
    "\n",
    "plt.plot(mergedCumulativeConversions['date'], mergedCumulativeConversions['conversionB']/mergedCumulativeConversions['conversionA']-1,label='B/A - 1')\n",
    "plt.legend()\n",
    "\n",
    "# Форматируем ось X для предотвращения дублирования меток\n",
    "plt.gcf().autofmt_xdate()\n",
    "# Добавляем подписи к осям и заголовок для лучшего понимания графика\n",
    "plt.xlabel('Дата')\n",
    "plt.ylabel('Отношение среднего количества заказов')\n",
    "plt.title('Относительный прирост кумулятивного среднего количества заказов на посетителя группы B относительно группы A')\n",
    "\n",
    "plt.axhline(y=0, color='black', linestyle='--')\n",
    "plt.axhline(y=-0.15, color='grey', linestyle='--')\n",
    "plt.gca().grid(True)\n",
    "plt.show()"
   ]
  },
  {
   "cell_type": "markdown",
   "id": "b57a8385",
   "metadata": {},
   "source": [
    "**Вывод:**\n",
    "Сначала группа В проигрывала группе А, но затем вырвалась вперед, большее количество пользователей стали покупателями. Отрыв м/у группами довольно большой"
   ]
  },
  {
   "cell_type": "markdown",
   "id": "a22313b0",
   "metadata": {},
   "source": [
    "#### *Построить точечный график стоимости заказов по пользователям. Сделать выводы и предположения*"
   ]
  },
  {
   "cell_type": "code",
   "execution_count": 45,
   "id": "c900e358",
   "metadata": {
    "scrolled": true
   },
   "outputs": [
    {
     "data": {
      "image/png": "[encoded data removed]",
      "text/plain": [
       "<Figure size 640x480 with 1 Axes>"
      ]
     },
     "metadata": {},
     "output_type": "display_data"
    }
   ],
   "source": [
    "\n",
    "plt.hist(orders['revenue'], bins=50) \n",
    "# Настройка формата оси X с использованием FuncFormatter\n",
    "ax = plt.gca()\n",
    "ax.xaxis.set_major_formatter(ticker.FuncFormatter(lambda x, pos: '{:.0f}'.format(x)))\n",
    "# Добавляем подписи к осям и заголовок для лучшего понимания графика\n",
    "plt.xlabel('Стоимость заказа')\n",
    "plt.ylabel('Количество пользователей')\n",
    "plt.title('Гистограмма распределения стоимостей заказов')\n",
    "plt.show()"
   ]
  },
  {
   "cell_type": "markdown",
   "id": "906d3c03",
   "metadata": {},
   "source": [
    "**Вывод**: \n",
    "В данных есть заказы на сумму 200 000 рублей и даже супер дорогой заказ на сумм более 1 200 000 рублей! "
   ]
  },
  {
   "cell_type": "code",
   "execution_count": 46,
   "id": "1f9ea024",
   "metadata": {},
   "outputs": [
    {
     "data": {
      "image/png": "[encoded data removed]",
      "text/plain": [
       "<Figure size 640x480 with 1 Axes>"
      ]
     },
     "metadata": {},
     "output_type": "display_data"
    }
   ],
   "source": [
    "\n",
    "# Строим диаграмму рассеяния\n",
    "x_values = pd.Series(range(0,len(orders['revenue'])))\n",
    "plt.scatter(x_values, orders['revenue'])\n",
    "\n",
    "# Устанавливаем обычный формат чисел \n",
    "ax = plt.gca()\n",
    "ax.yaxis.set_major_formatter(ticker.FuncFormatter(lambda x, pos: '{:,.0f}'.format(x)))\n",
    "ax = plt.gca()\n",
    "ax.yaxis.set_major_formatter(ticker.FuncFormatter(lambda x, pos: '{:.0f}'.format(x)))\n",
    "\n",
    "# Добавляем подписи к осям и заголовок для лучшего понимания графика\n",
    "plt.xlabel('Количество пользователей')\n",
    "plt.ylabel('Стоимость заказов')\n",
    "plt.title('График рассеяния стоимостей заказов')\n",
    "plt.show()"
   ]
  },
  {
   "cell_type": "code",
   "execution_count": 47,
   "id": "b4836c50",
   "metadata": {},
   "outputs": [
    {
     "data": {
      "image/png": "[encoded data removed]",
      "text/plain": [
       "<Figure size 640x480 with 1 Axes>"
      ]
     },
     "metadata": {},
     "output_type": "display_data"
    }
   ],
   "source": [
    "\n",
    "# Строим диаграмму рассеяния\n",
    "x_values = pd.Series(range(0,len(orders['revenue'])))\n",
    "plt.scatter(x_values, orders['revenue'])\n",
    "\n",
    "# Ограничиваем значения по оси Y\n",
    "plt.ylim(0, 100000)\n",
    "\n",
    "# Устанавливаем обычный формат чисел \n",
    "ax = plt.gca()\n",
    "ax.yaxis.set_major_formatter(ticker.FuncFormatter(lambda x, pos: '{:,.0f}'.format(x)))\n",
    "ax = plt.gca()\n",
    "ax.yaxis.set_major_formatter(ticker.FuncFormatter(lambda x, pos: '{:.0f}'.format(x)))\n",
    "\n",
    "# Добавляем подписи к осям и заголовок для лучшего понимания графика\n",
    "plt.xlabel('Количество пользователей')\n",
    "plt.ylabel('Стоимость заказов')\n",
    "plt.title('График рассеяния стоимостей заказов')\n",
    "plt.show()"
   ]
  },
  {
   "cell_type": "markdown",
   "id": "40c84403",
   "metadata": {},
   "source": [
    "**Вывод**:\n",
    "Подтверждается заказ на сумму 200 000 рублей и супер дорогой заказ на сумму 1 200 000 рублей - это выбросы, основная часть заказов находится в пределах до 30 000 рублей, есть часть заказов 30 000 - 60 000 рублей    "
   ]
  },
  {
   "cell_type": "markdown",
   "id": "5710f74c",
   "metadata": {},
   "source": [
    "#### *Посчитать 95-й и 99-й перцентили стоимости заказов на пользователя. Выбрать границу для определения аномальных пользователей*"
   ]
  },
  {
   "cell_type": "code",
   "execution_count": 48,
   "id": "53d8a2a0",
   "metadata": {},
   "outputs": [
    {
     "name": "stdout",
     "output_type": "stream",
     "text": [
      "[18168.  28000.  58233.2]\n"
     ]
    }
   ],
   "source": [
    "# Определим 90, 95 и 99 перцентили среднего чека в выборке\n",
    "print(np.percentile(orders['revenue'], [90, 95, 99])) "
   ]
  },
  {
   "cell_type": "markdown",
   "id": "bfc825d4",
   "metadata": {},
   "source": [
    "**Вывод:**\n",
    "\n",
    "Не более 5% заказов дороже 28 000 рублей и не более 1% дороже 58 233 рублей. Будем считать 95 перцентиль границей выбросов"
   ]
  },
  {
   "cell_type": "markdown",
   "id": "e8a8eb04",
   "metadata": {},
   "source": [
    "#### Построить точечный график количества заказов по пользователям. Сделать выводы и предположения."
   ]
  },
  {
   "cell_type": "code",
   "execution_count": 49,
   "id": "f3d5273e",
   "metadata": {},
   "outputs": [
    {
     "name": "stdout",
     "output_type": "stream",
     "text": [
      "      visitor_id  orders\n",
      "1023  4256040402      11\n",
      "591   2458001652      11\n",
      "569   2378935119       9\n",
      "487   2038680547       8\n",
      "44     199603092       5\n",
      "744   3062433592       5\n",
      "55     237748145       5\n",
      "917   3803269165       5\n",
      "299   1230306981       5\n",
      "897   3717692402       5\n"
     ]
    }
   ],
   "source": [
    "# Подсчитаем количество заказов по пользователям и посмотрим на результат\n",
    "ordersByUsers = (\n",
    "    orders.groupby('visitor_id', as_index=False)\n",
    "    .agg({'transaction_id': 'nunique'})\n",
    ")\n",
    "\n",
    "ordersByUsers.columns = ['visitor_id', 'orders']\n",
    "\n",
    "print(ordersByUsers.sort_values(by='orders', ascending=False).head(10)) "
   ]
  },
  {
   "cell_type": "code",
   "execution_count": 50,
   "id": "7c1a16da",
   "metadata": {},
   "outputs": [
    {
     "data": {
      "image/png": "[encoded data removed]",
      "text/plain": [
       "<Figure size 640x480 with 1 Axes>"
      ]
     },
     "metadata": {},
     "output_type": "display_data"
    }
   ],
   "source": [
    "# Построим гистрограмму распределения количества заказов на одного пользователя\n",
    "plt.hist(ordersByUsers['orders']) \n",
    "\n",
    "# Добавляем подписи к осям и заголовок для лучшего понимания графика\n",
    "plt.xlabel('Количество заказов')\n",
    "plt.ylabel('Количество пользователей')\n",
    "plt.title('Гистограмма распределения количества заказов на одного пользователя')\n",
    "plt.show()"
   ]
  },
  {
   "cell_type": "markdown",
   "id": "c1c39564",
   "metadata": {},
   "source": [
    "**Вывод:**\n",
    "\n",
    "Большинство покупателей заказывали только один раз. Однако доля пользователей с 2-4 заказами тоже имеется"
   ]
  },
  {
   "cell_type": "code",
   "execution_count": 51,
   "id": "131a156d",
   "metadata": {},
   "outputs": [
    {
     "data": {
      "image/png": "[encoded data removed]",
      "text/plain": [
       "<Figure size 640x480 with 1 Axes>"
      ]
     },
     "metadata": {},
     "output_type": "display_data"
    }
   ],
   "source": [
    "# Построим точечную диаграмму числа заказов на одного пользователя\n",
    "x_values = pd.Series(range(0,len(ordersByUsers)))\n",
    "plt.scatter(x_values, ordersByUsers['orders']) \n",
    "\n",
    "# Добавляем подписи к осям и заголовок для лучшего понимания графика\n",
    "plt.xlabel('Количество пользователей')\n",
    "plt.ylabel('Количество заказов')\n",
    "plt.title('График рассеяния количества заказов на одного пользователя')\n",
    "plt.show()"
   ]
  },
  {
   "cell_type": "markdown",
   "id": "16313ba5",
   "metadata": {},
   "source": [
    "**Вывод:**\n",
    "\n",
    "Диаграмма рассеяния подверждает гистограмму - большинство пользователей с 1-4 заказами"
   ]
  },
  {
   "cell_type": "markdown",
   "id": "6415eb3c",
   "metadata": {},
   "source": [
    "#### Посчитать 95-й и 99-й перцентили количества заказов на пользователя. Выбрать границу для определения аномальных пользователей"
   ]
  },
  {
   "cell_type": "code",
   "execution_count": 52,
   "id": "e24a6dc7",
   "metadata": {},
   "outputs": [
    {
     "name": "stdout",
     "output_type": "stream",
     "text": [
      "[1. 2. 4.]\n"
     ]
    }
   ],
   "source": [
    "# Посчитаем выборочные перцентили количества заказов на одного пользователя\n",
    "\n",
    "print(np.percentile(ordersByUsers['orders'], [90, 95, 99])) "
   ]
  },
  {
   "cell_type": "markdown",
   "id": "71bc74ff",
   "metadata": {},
   "source": [
    "**Вывод:**\n",
    "\n",
    "Не более 5% пользователей оформляли больше чем 4 заказа. И 10% пользователей заказывали более 2-х раз. \n",
    "Разумно выбрать 95-й перцентиль (2 заказа на одного пользователя) за верхнюю границу числа заказов, и отсеять аномальных пользователей по ней"
   ]
  },
  {
   "cell_type": "markdown",
   "id": "2109263a",
   "metadata": {},
   "source": [
    "#### *Посчитать статистическую значимость различий в среднем количестве заказов на посетителя между группами по «сырым» данным. Сделать выводы и предположения*"
   ]
  },
  {
   "cell_type": "markdown",
   "id": "7e9d8773",
   "metadata": {},
   "source": [
    "Сформулируем гипотезы:\n",
    "\n",
    "- H0 = Статистически значимых различий в среднем количестве заказов между группами по \"сырым\" данным нет\n",
    "- H1 = Статистически значимые различия в среднем количестве заказов между группами по \"сырым\" данным есть"
   ]
  },
  {
   "cell_type": "code",
   "execution_count": 53,
   "id": "b0258809",
   "metadata": {},
   "outputs": [
    {
     "data": {
      "text/html": [
       "<div>\n",
       "<style scoped>\n",
       "    .dataframe tbody tr th:only-of-type {\n",
       "        vertical-align: middle;\n",
       "    }\n",
       "\n",
       "    .dataframe tbody tr th {\n",
       "        vertical-align: top;\n",
       "    }\n",
       "\n",
       "    .dataframe thead th {\n",
       "        text-align: right;\n",
       "    }\n",
       "</style>\n",
       "<table border=\"1\" class=\"dataframe\">\n",
       "  <thead>\n",
       "    <tr style=\"text-align: right;\">\n",
       "      <th></th>\n",
       "      <th>date</th>\n",
       "      <th>visitorsPerDateA</th>\n",
       "    </tr>\n",
       "  </thead>\n",
       "  <tbody>\n",
       "    <tr>\n",
       "      <th>0</th>\n",
       "      <td>2019-08-01</td>\n",
       "      <td>719</td>\n",
       "    </tr>\n",
       "    <tr>\n",
       "      <th>1</th>\n",
       "      <td>2019-08-02</td>\n",
       "      <td>619</td>\n",
       "    </tr>\n",
       "    <tr>\n",
       "      <th>2</th>\n",
       "      <td>2019-08-03</td>\n",
       "      <td>507</td>\n",
       "    </tr>\n",
       "    <tr>\n",
       "      <th>3</th>\n",
       "      <td>2019-08-04</td>\n",
       "      <td>717</td>\n",
       "    </tr>\n",
       "    <tr>\n",
       "      <th>4</th>\n",
       "      <td>2019-08-05</td>\n",
       "      <td>756</td>\n",
       "    </tr>\n",
       "  </tbody>\n",
       "</table>\n",
       "</div>"
      ],
      "text/plain": [
       "        date  visitorsPerDateA\n",
       "0 2019-08-01               719\n",
       "1 2019-08-02               619\n",
       "2 2019-08-03               507\n",
       "3 2019-08-04               717\n",
       "4 2019-08-05               756"
      ]
     },
     "execution_count": 53,
     "metadata": {},
     "output_type": "execute_result"
    }
   ],
   "source": [
    "# Сгруппируем данные о количестве посетителей в группе А по дням\n",
    "\n",
    "visitorsADaily = visitors[visitors['group'] == 'A'][['date', 'visitors']]\n",
    "visitorsADaily.columns = ['date', 'visitorsPerDateA']\n",
    "visitorsADaily.head()\n",
    "\n"
   ]
  },
  {
   "cell_type": "code",
   "execution_count": 54,
   "id": "48a37d8f",
   "metadata": {},
   "outputs": [
    {
     "data": {
      "text/html": [
       "<div>\n",
       "<style scoped>\n",
       "    .dataframe tbody tr th:only-of-type {\n",
       "        vertical-align: middle;\n",
       "    }\n",
       "\n",
       "    .dataframe tbody tr th {\n",
       "        vertical-align: top;\n",
       "    }\n",
       "\n",
       "    .dataframe thead th {\n",
       "        text-align: right;\n",
       "    }\n",
       "</style>\n",
       "<table border=\"1\" class=\"dataframe\">\n",
       "  <thead>\n",
       "    <tr style=\"text-align: right;\">\n",
       "      <th></th>\n",
       "      <th>date</th>\n",
       "      <th>visitorsCummulativeA</th>\n",
       "    </tr>\n",
       "  </thead>\n",
       "  <tbody>\n",
       "    <tr>\n",
       "      <th>0</th>\n",
       "      <td>2019-08-01</td>\n",
       "      <td>719</td>\n",
       "    </tr>\n",
       "    <tr>\n",
       "      <th>1</th>\n",
       "      <td>2019-08-02</td>\n",
       "      <td>1338</td>\n",
       "    </tr>\n",
       "    <tr>\n",
       "      <th>2</th>\n",
       "      <td>2019-08-03</td>\n",
       "      <td>1845</td>\n",
       "    </tr>\n",
       "    <tr>\n",
       "      <th>3</th>\n",
       "      <td>2019-08-04</td>\n",
       "      <td>2562</td>\n",
       "    </tr>\n",
       "    <tr>\n",
       "      <th>4</th>\n",
       "      <td>2019-08-05</td>\n",
       "      <td>3318</td>\n",
       "    </tr>\n",
       "  </tbody>\n",
       "</table>\n",
       "</div>"
      ],
      "text/plain": [
       "        date  visitorsCummulativeA\n",
       "0 2019-08-01                   719\n",
       "1 2019-08-02                  1338\n",
       "2 2019-08-03                  1845\n",
       "3 2019-08-04                  2562\n",
       "4 2019-08-05                  3318"
      ]
     },
     "execution_count": 54,
     "metadata": {},
     "output_type": "execute_result"
    }
   ],
   "source": [
    "# Посчитаем количество посетителей по дням с накоплением\n",
    "\n",
    "visitorsACummulative = visitorsADaily.apply(\n",
    "    lambda x: visitorsADaily[visitorsADaily['date'] <= x['date']].agg(\n",
    "        {'date': 'max', 'visitorsPerDateA': 'sum'}\n",
    "    ),\n",
    "    axis=1,\n",
    ")\n",
    "visitorsACummulative.columns = ['date', 'visitorsCummulativeA']\n",
    "\n",
    "visitorsACummulative.head()"
   ]
  },
  {
   "cell_type": "code",
   "execution_count": 55,
   "id": "ae664064",
   "metadata": {},
   "outputs": [
    {
     "data": {
      "text/html": [
       "<div>\n",
       "<style scoped>\n",
       "    .dataframe tbody tr th:only-of-type {\n",
       "        vertical-align: middle;\n",
       "    }\n",
       "\n",
       "    .dataframe tbody tr th {\n",
       "        vertical-align: top;\n",
       "    }\n",
       "\n",
       "    .dataframe thead th {\n",
       "        text-align: right;\n",
       "    }\n",
       "</style>\n",
       "<table border=\"1\" class=\"dataframe\">\n",
       "  <thead>\n",
       "    <tr style=\"text-align: right;\">\n",
       "      <th></th>\n",
       "      <th>date</th>\n",
       "      <th>visitorsPerDateB</th>\n",
       "    </tr>\n",
       "  </thead>\n",
       "  <tbody>\n",
       "    <tr>\n",
       "      <th>31</th>\n",
       "      <td>2019-08-01</td>\n",
       "      <td>713</td>\n",
       "    </tr>\n",
       "    <tr>\n",
       "      <th>32</th>\n",
       "      <td>2019-08-02</td>\n",
       "      <td>581</td>\n",
       "    </tr>\n",
       "    <tr>\n",
       "      <th>33</th>\n",
       "      <td>2019-08-03</td>\n",
       "      <td>509</td>\n",
       "    </tr>\n",
       "    <tr>\n",
       "      <th>34</th>\n",
       "      <td>2019-08-04</td>\n",
       "      <td>770</td>\n",
       "    </tr>\n",
       "    <tr>\n",
       "      <th>35</th>\n",
       "      <td>2019-08-05</td>\n",
       "      <td>707</td>\n",
       "    </tr>\n",
       "  </tbody>\n",
       "</table>\n",
       "</div>"
      ],
      "text/plain": [
       "         date  visitorsPerDateB\n",
       "31 2019-08-01               713\n",
       "32 2019-08-02               581\n",
       "33 2019-08-03               509\n",
       "34 2019-08-04               770\n",
       "35 2019-08-05               707"
      ]
     },
     "execution_count": 55,
     "metadata": {},
     "output_type": "execute_result"
    }
   ],
   "source": [
    "# # Сгруппируем данные о количестве посетителей в группе B по дням\n",
    "visitorsBDaily = visitors[visitors['group'] == 'B'][['date', 'visitors']]\n",
    "visitorsBDaily.columns = ['date', 'visitorsPerDateB']\n",
    "visitorsBDaily.head()"
   ]
  },
  {
   "cell_type": "code",
   "execution_count": 56,
   "id": "79f422ca",
   "metadata": {},
   "outputs": [
    {
     "data": {
      "text/html": [
       "<div>\n",
       "<style scoped>\n",
       "    .dataframe tbody tr th:only-of-type {\n",
       "        vertical-align: middle;\n",
       "    }\n",
       "\n",
       "    .dataframe tbody tr th {\n",
       "        vertical-align: top;\n",
       "    }\n",
       "\n",
       "    .dataframe thead th {\n",
       "        text-align: right;\n",
       "    }\n",
       "</style>\n",
       "<table border=\"1\" class=\"dataframe\">\n",
       "  <thead>\n",
       "    <tr style=\"text-align: right;\">\n",
       "      <th></th>\n",
       "      <th>date</th>\n",
       "      <th>visitorsCummulativeB</th>\n",
       "    </tr>\n",
       "  </thead>\n",
       "  <tbody>\n",
       "    <tr>\n",
       "      <th>31</th>\n",
       "      <td>2019-08-01</td>\n",
       "      <td>713</td>\n",
       "    </tr>\n",
       "    <tr>\n",
       "      <th>32</th>\n",
       "      <td>2019-08-02</td>\n",
       "      <td>1294</td>\n",
       "    </tr>\n",
       "    <tr>\n",
       "      <th>33</th>\n",
       "      <td>2019-08-03</td>\n",
       "      <td>1803</td>\n",
       "    </tr>\n",
       "    <tr>\n",
       "      <th>34</th>\n",
       "      <td>2019-08-04</td>\n",
       "      <td>2573</td>\n",
       "    </tr>\n",
       "    <tr>\n",
       "      <th>35</th>\n",
       "      <td>2019-08-05</td>\n",
       "      <td>3280</td>\n",
       "    </tr>\n",
       "  </tbody>\n",
       "</table>\n",
       "</div>"
      ],
      "text/plain": [
       "         date  visitorsCummulativeB\n",
       "31 2019-08-01                   713\n",
       "32 2019-08-02                  1294\n",
       "33 2019-08-03                  1803\n",
       "34 2019-08-04                  2573\n",
       "35 2019-08-05                  3280"
      ]
     },
     "execution_count": 56,
     "metadata": {},
     "output_type": "execute_result"
    }
   ],
   "source": [
    "# Посчитаем количество посетителей по дням с накоплением\n",
    "visitorsBCummulative = visitorsBDaily.apply(\n",
    "    lambda x: visitorsBDaily[visitorsBDaily['date'] <= x['date']].agg(\n",
    "        {'date': 'max', 'visitorsPerDateB': 'sum'}\n",
    "    ),\n",
    "    axis=1,\n",
    ")\n",
    "visitorsBCummulative.columns = ['date', 'visitorsCummulativeB']\n",
    "visitorsBCummulative.head()"
   ]
  },
  {
   "cell_type": "code",
   "execution_count": 57,
   "id": "1e04c7a9",
   "metadata": {},
   "outputs": [
    {
     "data": {
      "text/html": [
       "<div>\n",
       "<style scoped>\n",
       "    .dataframe tbody tr th:only-of-type {\n",
       "        vertical-align: middle;\n",
       "    }\n",
       "\n",
       "    .dataframe tbody tr th {\n",
       "        vertical-align: top;\n",
       "    }\n",
       "\n",
       "    .dataframe thead th {\n",
       "        text-align: right;\n",
       "    }\n",
       "</style>\n",
       "<table border=\"1\" class=\"dataframe\">\n",
       "  <thead>\n",
       "    <tr style=\"text-align: right;\">\n",
       "      <th></th>\n",
       "      <th>date</th>\n",
       "      <th>ordersPerDateA</th>\n",
       "      <th>revenuePerDateA</th>\n",
       "    </tr>\n",
       "  </thead>\n",
       "  <tbody>\n",
       "    <tr>\n",
       "      <th>0</th>\n",
       "      <td>2019-08-01</td>\n",
       "      <td>24</td>\n",
       "      <td>148579</td>\n",
       "    </tr>\n",
       "    <tr>\n",
       "      <th>1</th>\n",
       "      <td>2019-08-02</td>\n",
       "      <td>20</td>\n",
       "      <td>93822</td>\n",
       "    </tr>\n",
       "    <tr>\n",
       "      <th>2</th>\n",
       "      <td>2019-08-03</td>\n",
       "      <td>24</td>\n",
       "      <td>112473</td>\n",
       "    </tr>\n",
       "    <tr>\n",
       "      <th>3</th>\n",
       "      <td>2019-08-04</td>\n",
       "      <td>16</td>\n",
       "      <td>70825</td>\n",
       "    </tr>\n",
       "    <tr>\n",
       "      <th>4</th>\n",
       "      <td>2019-08-05</td>\n",
       "      <td>25</td>\n",
       "      <td>124218</td>\n",
       "    </tr>\n",
       "  </tbody>\n",
       "</table>\n",
       "</div>"
      ],
      "text/plain": [
       "        date  ordersPerDateA  revenuePerDateA\n",
       "0 2019-08-01              24           148579\n",
       "1 2019-08-02              20            93822\n",
       "2 2019-08-03              24           112473\n",
       "3 2019-08-04              16            70825\n",
       "4 2019-08-05              25           124218"
      ]
     },
     "execution_count": 57,
     "metadata": {},
     "output_type": "execute_result"
    }
   ],
   "source": [
    "# Сгруппируем данные о количестве заказов в группе А по дням\n",
    "ordersADaily = (\n",
    "    orders[orders['group'] == 'A'][['date', 'transaction_id', 'visitor_id', 'revenue']]\n",
    "    .groupby('date', as_index=False)\n",
    "    .agg({'transaction_id': pd.Series.nunique, 'revenue': 'sum'})\n",
    ")\n",
    "ordersADaily.columns = ['date', 'ordersPerDateA', 'revenuePerDateA']\n",
    "ordersADaily.head()"
   ]
  },
  {
   "cell_type": "code",
   "execution_count": 58,
   "id": "cf058ce7",
   "metadata": {},
   "outputs": [
    {
     "data": {
      "text/html": [
       "<div>\n",
       "<style scoped>\n",
       "    .dataframe tbody tr th:only-of-type {\n",
       "        vertical-align: middle;\n",
       "    }\n",
       "\n",
       "    .dataframe tbody tr th {\n",
       "        vertical-align: top;\n",
       "    }\n",
       "\n",
       "    .dataframe thead th {\n",
       "        text-align: right;\n",
       "    }\n",
       "</style>\n",
       "<table border=\"1\" class=\"dataframe\">\n",
       "  <thead>\n",
       "    <tr style=\"text-align: right;\">\n",
       "      <th></th>\n",
       "      <th>date</th>\n",
       "      <th>ordersCummulativeA</th>\n",
       "      <th>revenueCummulativeA</th>\n",
       "    </tr>\n",
       "  </thead>\n",
       "  <tbody>\n",
       "    <tr>\n",
       "      <th>0</th>\n",
       "      <td>2019-08-01</td>\n",
       "      <td>24</td>\n",
       "      <td>148579</td>\n",
       "    </tr>\n",
       "    <tr>\n",
       "      <th>1</th>\n",
       "      <td>2019-08-02</td>\n",
       "      <td>44</td>\n",
       "      <td>242401</td>\n",
       "    </tr>\n",
       "    <tr>\n",
       "      <th>2</th>\n",
       "      <td>2019-08-03</td>\n",
       "      <td>68</td>\n",
       "      <td>354874</td>\n",
       "    </tr>\n",
       "    <tr>\n",
       "      <th>3</th>\n",
       "      <td>2019-08-04</td>\n",
       "      <td>84</td>\n",
       "      <td>425699</td>\n",
       "    </tr>\n",
       "    <tr>\n",
       "      <th>4</th>\n",
       "      <td>2019-08-05</td>\n",
       "      <td>109</td>\n",
       "      <td>549917</td>\n",
       "    </tr>\n",
       "  </tbody>\n",
       "</table>\n",
       "</div>"
      ],
      "text/plain": [
       "        date  ordersCummulativeA  revenueCummulativeA\n",
       "0 2019-08-01                  24               148579\n",
       "1 2019-08-02                  44               242401\n",
       "2 2019-08-03                  68               354874\n",
       "3 2019-08-04                  84               425699\n",
       "4 2019-08-05                 109               549917"
      ]
     },
     "execution_count": 58,
     "metadata": {},
     "output_type": "execute_result"
    }
   ],
   "source": [
    "# Посчитаем количество заказов по дням с накоплением\n",
    "ordersACummulative = ordersADaily.apply(\n",
    "    lambda x: ordersADaily[ordersADaily['date'] <= x['date']].agg(\n",
    "        {'date': 'max', 'ordersPerDateA': 'sum', 'revenuePerDateA': 'sum'}\n",
    "    ),\n",
    "    axis=1,\n",
    ").sort_values(by=['date'])\n",
    "ordersACummulative.columns = [\n",
    "    'date',\n",
    "    'ordersCummulativeA',\n",
    "    'revenueCummulativeA',\n",
    "]\n",
    "ordersACummulative.head()"
   ]
  },
  {
   "cell_type": "code",
   "execution_count": 59,
   "id": "0b2cacb9",
   "metadata": {},
   "outputs": [
    {
     "data": {
      "text/html": [
       "<div>\n",
       "<style scoped>\n",
       "    .dataframe tbody tr th:only-of-type {\n",
       "        vertical-align: middle;\n",
       "    }\n",
       "\n",
       "    .dataframe tbody tr th {\n",
       "        vertical-align: top;\n",
       "    }\n",
       "\n",
       "    .dataframe thead th {\n",
       "        text-align: right;\n",
       "    }\n",
       "</style>\n",
       "<table border=\"1\" class=\"dataframe\">\n",
       "  <thead>\n",
       "    <tr style=\"text-align: right;\">\n",
       "      <th></th>\n",
       "      <th>date</th>\n",
       "      <th>ordersPerDateB</th>\n",
       "      <th>revenuePerDateB</th>\n",
       "    </tr>\n",
       "  </thead>\n",
       "  <tbody>\n",
       "    <tr>\n",
       "      <th>0</th>\n",
       "      <td>2019-08-01</td>\n",
       "      <td>21</td>\n",
       "      <td>101217</td>\n",
       "    </tr>\n",
       "    <tr>\n",
       "      <th>1</th>\n",
       "      <td>2019-08-02</td>\n",
       "      <td>24</td>\n",
       "      <td>165531</td>\n",
       "    </tr>\n",
       "    <tr>\n",
       "      <th>2</th>\n",
       "      <td>2019-08-03</td>\n",
       "      <td>16</td>\n",
       "      <td>114248</td>\n",
       "    </tr>\n",
       "    <tr>\n",
       "      <th>3</th>\n",
       "      <td>2019-08-04</td>\n",
       "      <td>17</td>\n",
       "      <td>108571</td>\n",
       "    </tr>\n",
       "    <tr>\n",
       "      <th>4</th>\n",
       "      <td>2019-08-05</td>\n",
       "      <td>23</td>\n",
       "      <td>92428</td>\n",
       "    </tr>\n",
       "  </tbody>\n",
       "</table>\n",
       "</div>"
      ],
      "text/plain": [
       "        date  ordersPerDateB  revenuePerDateB\n",
       "0 2019-08-01              21           101217\n",
       "1 2019-08-02              24           165531\n",
       "2 2019-08-03              16           114248\n",
       "3 2019-08-04              17           108571\n",
       "4 2019-08-05              23            92428"
      ]
     },
     "execution_count": 59,
     "metadata": {},
     "output_type": "execute_result"
    }
   ],
   "source": [
    "# Сгруппируем данные о количестве заказов в группе B по дням\n",
    "ordersBDaily = (\n",
    "    orders[orders['group'] == 'B'][['date', 'transaction_id', 'visitor_id', 'revenue']]\n",
    "    .groupby('date', as_index=False)\n",
    "    .agg({'transaction_id': pd.Series.nunique, 'revenue': 'sum'})\n",
    ")\n",
    "ordersBDaily.columns = ['date', 'ordersPerDateB', 'revenuePerDateB']\n",
    "ordersBDaily.head()"
   ]
  },
  {
   "cell_type": "code",
   "execution_count": 60,
   "id": "c1430324",
   "metadata": {},
   "outputs": [
    {
     "data": {
      "text/html": [
       "<div>\n",
       "<style scoped>\n",
       "    .dataframe tbody tr th:only-of-type {\n",
       "        vertical-align: middle;\n",
       "    }\n",
       "\n",
       "    .dataframe tbody tr th {\n",
       "        vertical-align: top;\n",
       "    }\n",
       "\n",
       "    .dataframe thead th {\n",
       "        text-align: right;\n",
       "    }\n",
       "</style>\n",
       "<table border=\"1\" class=\"dataframe\">\n",
       "  <thead>\n",
       "    <tr style=\"text-align: right;\">\n",
       "      <th></th>\n",
       "      <th>date</th>\n",
       "      <th>ordersCummulativeB</th>\n",
       "      <th>revenueCummulativeB</th>\n",
       "    </tr>\n",
       "  </thead>\n",
       "  <tbody>\n",
       "    <tr>\n",
       "      <th>0</th>\n",
       "      <td>2019-08-01</td>\n",
       "      <td>21</td>\n",
       "      <td>101217</td>\n",
       "    </tr>\n",
       "    <tr>\n",
       "      <th>1</th>\n",
       "      <td>2019-08-02</td>\n",
       "      <td>45</td>\n",
       "      <td>266748</td>\n",
       "    </tr>\n",
       "    <tr>\n",
       "      <th>2</th>\n",
       "      <td>2019-08-03</td>\n",
       "      <td>61</td>\n",
       "      <td>380996</td>\n",
       "    </tr>\n",
       "    <tr>\n",
       "      <th>3</th>\n",
       "      <td>2019-08-04</td>\n",
       "      <td>78</td>\n",
       "      <td>489567</td>\n",
       "    </tr>\n",
       "    <tr>\n",
       "      <th>4</th>\n",
       "      <td>2019-08-05</td>\n",
       "      <td>101</td>\n",
       "      <td>581995</td>\n",
       "    </tr>\n",
       "  </tbody>\n",
       "</table>\n",
       "</div>"
      ],
      "text/plain": [
       "        date  ordersCummulativeB  revenueCummulativeB\n",
       "0 2019-08-01                  21               101217\n",
       "1 2019-08-02                  45               266748\n",
       "2 2019-08-03                  61               380996\n",
       "3 2019-08-04                  78               489567\n",
       "4 2019-08-05                 101               581995"
      ]
     },
     "execution_count": 60,
     "metadata": {},
     "output_type": "execute_result"
    }
   ],
   "source": [
    "# Посчитаем количество заказов по дням с накоплением\n",
    "ordersBCummulative = ordersBDaily.apply(\n",
    "    lambda x: ordersBDaily[ordersBDaily['date'] <= x['date']].agg(\n",
    "        {'date': 'max', 'ordersPerDateB': 'sum', 'revenuePerDateB': 'sum'}\n",
    "    ),\n",
    "    axis=1,\n",
    ").sort_values(by=['date'])\n",
    "ordersBCummulative.columns = [\n",
    "    'date',\n",
    "    'ordersCummulativeB',\n",
    "    'revenueCummulativeB',\n",
    "]\n",
    "ordersBCummulative.head()"
   ]
  },
  {
   "cell_type": "code",
   "execution_count": 61,
   "id": "e14cba36",
   "metadata": {},
   "outputs": [
    {
     "data": {
      "text/html": [
       "<div>\n",
       "<style scoped>\n",
       "    .dataframe tbody tr th:only-of-type {\n",
       "        vertical-align: middle;\n",
       "    }\n",
       "\n",
       "    .dataframe tbody tr th {\n",
       "        vertical-align: top;\n",
       "    }\n",
       "\n",
       "    .dataframe thead th {\n",
       "        text-align: right;\n",
       "    }\n",
       "</style>\n",
       "<table border=\"1\" class=\"dataframe\">\n",
       "  <thead>\n",
       "    <tr style=\"text-align: right;\">\n",
       "      <th></th>\n",
       "      <th>date</th>\n",
       "      <th>ordersPerDateA</th>\n",
       "      <th>revenuePerDateA</th>\n",
       "      <th>ordersPerDateB</th>\n",
       "      <th>revenuePerDateB</th>\n",
       "      <th>ordersCummulativeA</th>\n",
       "      <th>revenueCummulativeA</th>\n",
       "      <th>ordersCummulativeB</th>\n",
       "      <th>revenueCummulativeB</th>\n",
       "      <th>visitorsPerDateA</th>\n",
       "      <th>visitorsPerDateB</th>\n",
       "      <th>visitorsCummulativeA</th>\n",
       "      <th>visitorsCummulativeB</th>\n",
       "    </tr>\n",
       "  </thead>\n",
       "  <tbody>\n",
       "    <tr>\n",
       "      <th>0</th>\n",
       "      <td>2019-08-01</td>\n",
       "      <td>24</td>\n",
       "      <td>148579</td>\n",
       "      <td>21</td>\n",
       "      <td>101217</td>\n",
       "      <td>24</td>\n",
       "      <td>148579</td>\n",
       "      <td>21</td>\n",
       "      <td>101217</td>\n",
       "      <td>719</td>\n",
       "      <td>713</td>\n",
       "      <td>719</td>\n",
       "      <td>713</td>\n",
       "    </tr>\n",
       "    <tr>\n",
       "      <th>1</th>\n",
       "      <td>2019-08-02</td>\n",
       "      <td>20</td>\n",
       "      <td>93822</td>\n",
       "      <td>24</td>\n",
       "      <td>165531</td>\n",
       "      <td>44</td>\n",
       "      <td>242401</td>\n",
       "      <td>45</td>\n",
       "      <td>266748</td>\n",
       "      <td>619</td>\n",
       "      <td>581</td>\n",
       "      <td>1338</td>\n",
       "      <td>1294</td>\n",
       "    </tr>\n",
       "    <tr>\n",
       "      <th>2</th>\n",
       "      <td>2019-08-03</td>\n",
       "      <td>24</td>\n",
       "      <td>112473</td>\n",
       "      <td>16</td>\n",
       "      <td>114248</td>\n",
       "      <td>68</td>\n",
       "      <td>354874</td>\n",
       "      <td>61</td>\n",
       "      <td>380996</td>\n",
       "      <td>507</td>\n",
       "      <td>509</td>\n",
       "      <td>1845</td>\n",
       "      <td>1803</td>\n",
       "    </tr>\n",
       "    <tr>\n",
       "      <th>3</th>\n",
       "      <td>2019-08-04</td>\n",
       "      <td>16</td>\n",
       "      <td>70825</td>\n",
       "      <td>17</td>\n",
       "      <td>108571</td>\n",
       "      <td>84</td>\n",
       "      <td>425699</td>\n",
       "      <td>78</td>\n",
       "      <td>489567</td>\n",
       "      <td>717</td>\n",
       "      <td>770</td>\n",
       "      <td>2562</td>\n",
       "      <td>2573</td>\n",
       "    </tr>\n",
       "    <tr>\n",
       "      <th>4</th>\n",
       "      <td>2019-08-05</td>\n",
       "      <td>25</td>\n",
       "      <td>124218</td>\n",
       "      <td>23</td>\n",
       "      <td>92428</td>\n",
       "      <td>109</td>\n",
       "      <td>549917</td>\n",
       "      <td>101</td>\n",
       "      <td>581995</td>\n",
       "      <td>756</td>\n",
       "      <td>707</td>\n",
       "      <td>3318</td>\n",
       "      <td>3280</td>\n",
       "    </tr>\n",
       "  </tbody>\n",
       "</table>\n",
       "</div>"
      ],
      "text/plain": [
       "        date  ordersPerDateA  revenuePerDateA  ordersPerDateB  \\\n",
       "0 2019-08-01              24           148579              21   \n",
       "1 2019-08-02              20            93822              24   \n",
       "2 2019-08-03              24           112473              16   \n",
       "3 2019-08-04              16            70825              17   \n",
       "4 2019-08-05              25           124218              23   \n",
       "\n",
       "   revenuePerDateB  ordersCummulativeA  revenueCummulativeA  \\\n",
       "0           101217                  24               148579   \n",
       "1           165531                  44               242401   \n",
       "2           114248                  68               354874   \n",
       "3           108571                  84               425699   \n",
       "4            92428                 109               549917   \n",
       "\n",
       "   ordersCummulativeB  revenueCummulativeB  visitorsPerDateA  \\\n",
       "0                  21               101217               719   \n",
       "1                  45               266748               619   \n",
       "2                  61               380996               507   \n",
       "3                  78               489567               717   \n",
       "4                 101               581995               756   \n",
       "\n",
       "   visitorsPerDateB  visitorsCummulativeA  visitorsCummulativeB  \n",
       "0               713                   719                   713  \n",
       "1               581                  1338                  1294  \n",
       "2               509                  1845                  1803  \n",
       "3               770                  2562                  2573  \n",
       "4               707                  3318                  3280  "
      ]
     },
     "execution_count": 61,
     "metadata": {},
     "output_type": "execute_result"
    }
   ],
   "source": [
    "# Объединим все данные в один датасет\n",
    "data = (\n",
    "    ordersADaily.merge(\n",
    "        ordersBDaily, left_on='date', right_on='date', how='left'\n",
    "    )\n",
    "    .merge(ordersACummulative, left_on='date', right_on='date', how='left')\n",
    "    .merge(ordersBCummulative, left_on='date', right_on='date', how='left')\n",
    "    .merge(visitorsADaily, left_on='date', right_on='date', how='left')\n",
    "    .merge(visitorsBDaily, left_on='date', right_on='date', how='left')\n",
    "    .merge(visitorsACummulative, left_on='date', right_on='date', how='left')\n",
    "    .merge(visitorsBCummulative, left_on='date', right_on='date', how='left')\n",
    ")\n",
    "data.head()"
   ]
  },
  {
   "cell_type": "code",
   "execution_count": 62,
   "id": "43adc1dd",
   "metadata": {},
   "outputs": [
    {
     "data": {
      "text/html": [
       "<div>\n",
       "<style scoped>\n",
       "    .dataframe tbody tr th:only-of-type {\n",
       "        vertical-align: middle;\n",
       "    }\n",
       "\n",
       "    .dataframe tbody tr th {\n",
       "        vertical-align: top;\n",
       "    }\n",
       "\n",
       "    .dataframe thead th {\n",
       "        text-align: right;\n",
       "    }\n",
       "</style>\n",
       "<table border=\"1\" class=\"dataframe\">\n",
       "  <thead>\n",
       "    <tr style=\"text-align: right;\">\n",
       "      <th></th>\n",
       "      <th>userId</th>\n",
       "      <th>orders</th>\n",
       "    </tr>\n",
       "  </thead>\n",
       "  <tbody>\n",
       "    <tr>\n",
       "      <th>0</th>\n",
       "      <td>8300375</td>\n",
       "      <td>1</td>\n",
       "    </tr>\n",
       "    <tr>\n",
       "      <th>1</th>\n",
       "      <td>11685486</td>\n",
       "      <td>1</td>\n",
       "    </tr>\n",
       "    <tr>\n",
       "      <th>2</th>\n",
       "      <td>54447517</td>\n",
       "      <td>1</td>\n",
       "    </tr>\n",
       "    <tr>\n",
       "      <th>3</th>\n",
       "      <td>66685450</td>\n",
       "      <td>1</td>\n",
       "    </tr>\n",
       "    <tr>\n",
       "      <th>4</th>\n",
       "      <td>78758296</td>\n",
       "      <td>1</td>\n",
       "    </tr>\n",
       "  </tbody>\n",
       "</table>\n",
       "</div>"
      ],
      "text/plain": [
       "     userId  orders\n",
       "0   8300375       1\n",
       "1  11685486       1\n",
       "2  54447517       1\n",
       "3  66685450       1\n",
       "4  78758296       1"
      ]
     },
     "execution_count": 62,
     "metadata": {},
     "output_type": "execute_result"
    }
   ],
   "source": [
    "# Создадим переменные ordersByUsersA и ordersByUsersB со столбцами ['userId', 'orders'].\n",
    "# В них для пользователей, которые заказывали хотя бы 1 раз, укажем число совершённых заказов\n",
    "\n",
    "ordersByUsersA = (\n",
    "    orders[orders['group'] == 'A']\n",
    "    .groupby('visitor_id', as_index=False)\n",
    "    .agg({'transaction_id': pd.Series.nunique})\n",
    ")\n",
    "ordersByUsersA.columns = ['userId', 'orders']\n",
    "ordersByUsersA.head()"
   ]
  },
  {
   "cell_type": "code",
   "execution_count": 63,
   "id": "30c9c152",
   "metadata": {},
   "outputs": [
    {
     "data": {
      "text/html": [
       "<div>\n",
       "<style scoped>\n",
       "    .dataframe tbody tr th:only-of-type {\n",
       "        vertical-align: middle;\n",
       "    }\n",
       "\n",
       "    .dataframe tbody tr th {\n",
       "        vertical-align: top;\n",
       "    }\n",
       "\n",
       "    .dataframe thead th {\n",
       "        text-align: right;\n",
       "    }\n",
       "</style>\n",
       "<table border=\"1\" class=\"dataframe\">\n",
       "  <thead>\n",
       "    <tr style=\"text-align: right;\">\n",
       "      <th></th>\n",
       "      <th>userId</th>\n",
       "      <th>orders</th>\n",
       "    </tr>\n",
       "  </thead>\n",
       "  <tbody>\n",
       "    <tr>\n",
       "      <th>0</th>\n",
       "      <td>5114589</td>\n",
       "      <td>1</td>\n",
       "    </tr>\n",
       "    <tr>\n",
       "      <th>1</th>\n",
       "      <td>6958315</td>\n",
       "      <td>1</td>\n",
       "    </tr>\n",
       "    <tr>\n",
       "      <th>2</th>\n",
       "      <td>8300375</td>\n",
       "      <td>1</td>\n",
       "    </tr>\n",
       "    <tr>\n",
       "      <th>3</th>\n",
       "      <td>39475350</td>\n",
       "      <td>1</td>\n",
       "    </tr>\n",
       "    <tr>\n",
       "      <th>4</th>\n",
       "      <td>47206413</td>\n",
       "      <td>1</td>\n",
       "    </tr>\n",
       "  </tbody>\n",
       "</table>\n",
       "</div>"
      ],
      "text/plain": [
       "     userId  orders\n",
       "0   5114589       1\n",
       "1   6958315       1\n",
       "2   8300375       1\n",
       "3  39475350       1\n",
       "4  47206413       1"
      ]
     },
     "execution_count": 63,
     "metadata": {},
     "output_type": "execute_result"
    }
   ],
   "source": [
    "ordersByUsersB = (\n",
    "    orders[orders['group'] == 'B']\n",
    "    .groupby('visitor_id', as_index=False)\n",
    "    .agg({'transaction_id': pd.Series.nunique})\n",
    ")\n",
    "ordersByUsersB.columns = ['userId', 'orders'] \n",
    "ordersByUsersB.head()"
   ]
  },
  {
   "cell_type": "code",
   "execution_count": 64,
   "id": "544373dd",
   "metadata": {},
   "outputs": [],
   "source": [
    "# Объявим переменные sampleA и sampleB, в которых пользователям из разных групп будет соответствовать количество заказов\n",
    "\n",
    "sampleA = pd.concat([ordersByUsersA['orders'],pd.Series(0, index=np.arange(data['visitorsPerDateA'].sum() - len(ordersByUsersA['orders'])), name='orders')],axis=0)\n",
    "sampleB = pd.concat([ordersByUsersB['orders'],pd.Series(0, index=np.arange(data['visitorsPerDateB'].sum() - len(ordersByUsersB['orders'])), name='orders')],axis=0) "
   ]
  },
  {
   "cell_type": "code",
   "execution_count": 65,
   "id": "f2ff1f25",
   "metadata": {},
   "outputs": [
    {
     "data": {
      "text/plain": [
       "0    1\n",
       "1    1\n",
       "2    1\n",
       "3    1\n",
       "4    1\n",
       "Name: orders, dtype: int64"
      ]
     },
     "execution_count": 65,
     "metadata": {},
     "output_type": "execute_result"
    }
   ],
   "source": [
    "sampleA.head()"
   ]
  },
  {
   "cell_type": "code",
   "execution_count": 66,
   "id": "d5f36edf",
   "metadata": {},
   "outputs": [
    {
     "data": {
      "text/plain": [
       "0    1\n",
       "1    1\n",
       "2    1\n",
       "3    1\n",
       "4    1\n",
       "Name: orders, dtype: int64"
      ]
     },
     "execution_count": 66,
     "metadata": {},
     "output_type": "execute_result"
    }
   ],
   "source": [
    "sampleB.head()"
   ]
  },
  {
   "cell_type": "markdown",
   "id": "fd326cc9",
   "metadata": {},
   "source": [
    "В sampleA сохранили выборку, где каждый элемент — число заказов определённого пользователя, в том числе ноль. Значит, число элементов sampleA — это количество пользователей, сумма всех элементов — количество заказов. Чтобы получить среднее число заказов на пользователя, поделим сумму заказов на число пользователей — найдём среднее в выборке sampleA методом mean(). Аналогично найдём среднее группы B: SampleB.mean().\n",
    "Выведем относительный прирост среднего количества заказов группы B: среднее число заказов группы B / среднее число заказов группы A - 1. Проверим выборки критерием Манна-Уитни. \n",
    "\n",
    "**Примем alpha = 0.05**"
   ]
  },
  {
   "cell_type": "code",
   "execution_count": 67,
   "id": "99cfb7bd",
   "metadata": {},
   "outputs": [
    {
     "name": "stdout",
     "output_type": "stream",
     "text": [
      "P-value: 0.017\n",
      "Относительный выигрыш группы B относительно группы A: 0.138\n"
     ]
    }
   ],
   "source": [
    "# Применим критерий Манна-Уитни\n",
    "\n",
    "p_value = st.mannwhitneyu(sampleA, sampleB)[1]\n",
    "relative_gain = sampleB.mean() / sampleA.mean() - 1\n",
    "\n",
    "print(\"P-value: {0:.3f}\".format(p_value))\n",
    "print(\"Относительный выигрыш группы B относительно группы A: {0:.3f}\".format(relative_gain))\n"
   ]
  },
  {
   "cell_type": "markdown",
   "id": "eb956a0d",
   "metadata": {},
   "source": [
    "**Вывод:**\n",
    "- p-value = 0.017 < 0.05 По «сырым» данным различия в среднем числе заказов групп A и B есть. Следовательно, нулевую гипотезу о том, что статистически значимых различий в среднем числе заказов между группами нет, отвергаем\n",
    "\n",
    "- Относительный выигрыш группы B равен 13.8 % "
   ]
  },
  {
   "cell_type": "markdown",
   "id": "38d733d9",
   "metadata": {},
   "source": [
    "#### *Посчитать статистическую значимость различий в среднем чеке заказа между группами по «сырым» данным. Сделать выводы и предположения*"
   ]
  },
  {
   "cell_type": "markdown",
   "id": "8e2df88f",
   "metadata": {},
   "source": [
    "Сформулируем гипотезы: \n",
    "\n",
    "- H0 = Статистически значимых различий в среднем чеке между группами по \"сырым\" данным нет\n",
    "- H1 = Статистически значимые различия в среднем чеке между группами по \"сырым\" данным есть\n",
    "\n"
   ]
  },
  {
   "cell_type": "code",
   "execution_count": 68,
   "id": "8f462482",
   "metadata": {},
   "outputs": [
    {
     "name": "stdout",
     "output_type": "stream",
     "text": [
      "P-value: 0.729\n",
      "Относительный выигрыш группы B относительно группы A: 0.259\n"
     ]
    }
   ],
   "source": [
    "# Применим криетрий Манна-Уитни\n",
    "\n",
    "p_value = st.mannwhitneyu(orders[orders['group']=='A']['revenue'], orders[orders['group']=='B']['revenue'])[1]\n",
    "relative_gain = orders[orders['group']=='B']['revenue'].mean()/orders[orders['group']=='A']['revenue'].mean()-1\n",
    "\n",
    "print(\"P-value: {0:.3f}\".format(p_value))\n",
    "print(\"Относительный выигрыш группы B относительно группы A: {0:.3f}\".format(relative_gain))\n"
   ]
  },
  {
   "cell_type": "markdown",
   "id": "3834e5f5",
   "metadata": {},
   "source": [
    "**Вывод:**\n",
    "\n",
    "- p-value значительно больше 0.05. Значит, по \"сырым\" данным причин отвергать нулевую гипотезу и считать, что в среднем чеке есть различия, нет, оставляем нулевую гипотезу\n",
    "\n",
    "- Средний чек группы B значительно выше среднего чека группы A, однако это различие не является статистически значимым"
   ]
  },
  {
   "cell_type": "markdown",
   "id": "89823671",
   "metadata": {},
   "source": [
    "#### *Посчитать статистическую значимость различий в среднем количестве заказов на посетителя между группами по «очищенным» данным. Сделать выводы и предположения*"
   ]
  },
  {
   "cell_type": "markdown",
   "id": "b15af4ec",
   "metadata": {},
   "source": [
    "Примем за аномальных пользователей тех, кто совершил от 3 заказов или совершил заказ дороже 28 000 рублей. Так мы уберём 5% пользователей с наибольшим числом заказов и от 1% до 5% пользователей с дорогими заказами. Сделаем срезы пользователей с числом заказов больше 3 — usersWithManyOrders и пользователей, совершивших заказы дороже 28 000 — usersWithExpensiveOrders. Объединим их в таблице abnormalUsers. "
   ]
  },
  {
   "cell_type": "code",
   "execution_count": 69,
   "id": "1f075f2e",
   "metadata": {},
   "outputs": [
    {
     "data": {
      "text/html": [
       "<div>\n",
       "<style scoped>\n",
       "    .dataframe tbody tr th:only-of-type {\n",
       "        vertical-align: middle;\n",
       "    }\n",
       "\n",
       "    .dataframe tbody tr th {\n",
       "        vertical-align: top;\n",
       "    }\n",
       "\n",
       "    .dataframe thead th {\n",
       "        text-align: right;\n",
       "    }\n",
       "</style>\n",
       "<table border=\"1\" class=\"dataframe\">\n",
       "  <thead>\n",
       "    <tr style=\"text-align: right;\">\n",
       "      <th></th>\n",
       "      <th>userId</th>\n",
       "      <th>orders</th>\n",
       "    </tr>\n",
       "  </thead>\n",
       "  <tbody>\n",
       "    <tr>\n",
       "      <th>0</th>\n",
       "      <td>8300375</td>\n",
       "      <td>1</td>\n",
       "    </tr>\n",
       "    <tr>\n",
       "      <th>1</th>\n",
       "      <td>11685486</td>\n",
       "      <td>1</td>\n",
       "    </tr>\n",
       "    <tr>\n",
       "      <th>2</th>\n",
       "      <td>54447517</td>\n",
       "      <td>1</td>\n",
       "    </tr>\n",
       "    <tr>\n",
       "      <th>3</th>\n",
       "      <td>66685450</td>\n",
       "      <td>1</td>\n",
       "    </tr>\n",
       "    <tr>\n",
       "      <th>4</th>\n",
       "      <td>78758296</td>\n",
       "      <td>1</td>\n",
       "    </tr>\n",
       "    <tr>\n",
       "      <th>...</th>\n",
       "      <td>...</td>\n",
       "      <td>...</td>\n",
       "    </tr>\n",
       "    <tr>\n",
       "      <th>498</th>\n",
       "      <td>4243832526</td>\n",
       "      <td>1</td>\n",
       "    </tr>\n",
       "    <tr>\n",
       "      <th>499</th>\n",
       "      <td>4256040402</td>\n",
       "      <td>7</td>\n",
       "    </tr>\n",
       "    <tr>\n",
       "      <th>500</th>\n",
       "      <td>4259830713</td>\n",
       "      <td>1</td>\n",
       "    </tr>\n",
       "    <tr>\n",
       "      <th>501</th>\n",
       "      <td>4266935830</td>\n",
       "      <td>1</td>\n",
       "    </tr>\n",
       "    <tr>\n",
       "      <th>502</th>\n",
       "      <td>4278982564</td>\n",
       "      <td>1</td>\n",
       "    </tr>\n",
       "  </tbody>\n",
       "</table>\n",
       "<p>503 rows × 2 columns</p>\n",
       "</div>"
      ],
      "text/plain": [
       "         userId  orders\n",
       "0       8300375       1\n",
       "1      11685486       1\n",
       "2      54447517       1\n",
       "3      66685450       1\n",
       "4      78758296       1\n",
       "..          ...     ...\n",
       "498  4243832526       1\n",
       "499  4256040402       7\n",
       "500  4259830713       1\n",
       "501  4266935830       1\n",
       "502  4278982564       1\n",
       "\n",
       "[503 rows x 2 columns]"
      ]
     },
     "execution_count": 69,
     "metadata": {},
     "output_type": "execute_result"
    }
   ],
   "source": [
    "ordersByUsersA"
   ]
  },
  {
   "cell_type": "code",
   "execution_count": 70,
   "id": "57fdc303",
   "metadata": {},
   "outputs": [
    {
     "data": {
      "text/plain": [
       "2.0"
      ]
     },
     "execution_count": 70,
     "metadata": {},
     "output_type": "execute_result"
    }
   ],
   "source": [
    "# Вычисляем 95-й процентиль заказов\n",
    "percentile_95_order = np.percentile(ordersByUsers['orders'], 95)\n",
    "percentile_95_order"
   ]
  },
  {
   "cell_type": "code",
   "execution_count": 71,
   "id": "726a01d1",
   "metadata": {},
   "outputs": [
    {
     "data": {
      "text/plain": [
       "18      199603092\n",
       "23      237748145\n",
       "68      611059232\n",
       "146    1230306981\n",
       "189    1614305549\n",
       "Name: userId, dtype: int64"
      ]
     },
     "execution_count": 71,
     "metadata": {},
     "output_type": "execute_result"
    }
   ],
   "source": [
    "# Получаем пользователей, совершивших заказы дороже 95-го процентиля\n",
    "usersWithManyOrders = pd.concat(\n",
    "    [\n",
    "        ordersByUsersA[ordersByUsersA['orders'] > percentile_95_order]['userId'],\n",
    "        ordersByUsersB[ordersByUsersB['orders'] > percentile_95_order]['userId'],\n",
    "    ],\n",
    "    axis=0,\n",
    ")    \n",
    "\n",
    "usersWithManyOrders.head() \n",
    "\n",
    "\n"
   ]
  },
  {
   "cell_type": "code",
   "execution_count": 72,
   "id": "ad217407",
   "metadata": {},
   "outputs": [
    {
     "data": {
      "text/plain": [
       "60     1421016313\n",
       "73     1295850747\n",
       "77     2619374735\n",
       "78      773663763\n",
       "131    3163614039\n",
       "Name: transaction_id, dtype: int64"
      ]
     },
     "execution_count": 72,
     "metadata": {},
     "output_type": "execute_result"
    }
   ],
   "source": [
    "# Вычисляем 95-й процентиль выручки\n",
    "percentile_95 = np.percentile(orders['revenue'], 95)\n",
    "\n",
    "# Получаем пользователей, совершивших заказы дороже 95-го процентиля\n",
    "usersWithExpensiveOrders = orders[orders['revenue'] > percentile_95]['transaction_id']\n",
    "usersWithExpensiveOrders.head()\n",
    "\n"
   ]
  },
  {
   "cell_type": "code",
   "execution_count": 73,
   "id": "220b1ac8",
   "metadata": {},
   "outputs": [
    {
     "data": {
      "text/plain": [
       "858      192721366\n",
       "18       199603092\n",
       "23       237748145\n",
       "37       249864742\n",
       "1099     316924019\n",
       "           ...    \n",
       "613     4071177889\n",
       "1189    4082620617\n",
       "627     4212256267\n",
       "549     4243941421\n",
       "499     4256040402\n",
       "Length: 80, dtype: int64"
      ]
     },
     "execution_count": 73,
     "metadata": {},
     "output_type": "execute_result"
    }
   ],
   "source": [
    "# Объединим их в таблице abnormalUsers.\n",
    "abnormalUsers = (\n",
    "    pd.concat([usersWithManyOrders, usersWithExpensiveOrders], axis=0)\n",
    "    .drop_duplicates()\n",
    "    .sort_values()\n",
    ")\n",
    "abnormalUsers"
   ]
  },
  {
   "cell_type": "code",
   "execution_count": 74,
   "id": "3a1e2bdb",
   "metadata": {},
   "outputs": [
    {
     "data": {
      "text/plain": [
       "80"
      ]
     },
     "execution_count": 74,
     "metadata": {},
     "output_type": "execute_result"
    }
   ],
   "source": [
    "abnormalUsers.shape[0]"
   ]
  },
  {
   "cell_type": "markdown",
   "id": "ffc10516",
   "metadata": {},
   "source": [
    "**Всего 80 нормальных пользователей**"
   ]
  },
  {
   "cell_type": "markdown",
   "id": "c40328e0",
   "metadata": {},
   "source": [
    "Узнаем, как их действия повлияли на результаты теста. Посчитаем статистическую значимость различий в среднем количестве заказов между группами теста по очищенным данным"
   ]
  },
  {
   "cell_type": "code",
   "execution_count": 75,
   "id": "057159d5",
   "metadata": {},
   "outputs": [
    {
     "data": {
      "text/plain": [
       "0    1\n",
       "1    1\n",
       "2    1\n",
       "3    1\n",
       "4    1\n",
       "Name: orders, dtype: int64"
      ]
     },
     "execution_count": 75,
     "metadata": {},
     "output_type": "execute_result"
    }
   ],
   "source": [
    "# Подготовим выборки количества заказов по пользователям по группам теста\n",
    "\n",
    "sampleAFiltered = pd.concat(\n",
    "    [\n",
    "        ordersByUsersA[\n",
    "            np.logical_not(ordersByUsersA['userId'].isin(abnormalUsers))\n",
    "        ]['orders'],\n",
    "        pd.Series(\n",
    "            0,\n",
    "            index=np.arange(\n",
    "                data['visitorsPerDateA'].sum() - len(ordersByUsersA['orders'])\n",
    "            ),\n",
    "            name='orders',\n",
    "        ),\n",
    "    ],\n",
    "    axis=0,\n",
    ")\n",
    "sampleAFiltered.head()"
   ]
  },
  {
   "cell_type": "code",
   "execution_count": 76,
   "id": "da930a76",
   "metadata": {},
   "outputs": [
    {
     "data": {
      "text/plain": [
       "0    1\n",
       "1    1\n",
       "2    1\n",
       "3    1\n",
       "4    1\n",
       "Name: orders, dtype: int64"
      ]
     },
     "execution_count": 76,
     "metadata": {},
     "output_type": "execute_result"
    }
   ],
   "source": [
    "sampleBFiltered = pd.concat(\n",
    "    [\n",
    "        ordersByUsersB[\n",
    "            np.logical_not(ordersByUsersB['userId'].isin(abnormalUsers))\n",
    "        ]['orders'],\n",
    "        pd.Series(\n",
    "            0,\n",
    "            index=np.arange(\n",
    "                data['visitorsPerDateB'].sum() - len(ordersByUsersB['orders'])\n",
    "            ),\n",
    "            name='orders',\n",
    "        ),\n",
    "    ],\n",
    "    axis=0,\n",
    ") \n",
    "sampleBFiltered.head()"
   ]
  },
  {
   "cell_type": "markdown",
   "id": "84e9b841",
   "metadata": {},
   "source": [
    "Сформулируем гипотезы:\n",
    "\n",
    "- H0 = Статистически значимых различий в среднем количестве заказов между группами по \"очищенным\" данным нет\n",
    "- H1 = Статистически значимые различия в среднем количестве заказов между группами по \"очищенным\" данным есть\n",
    "\n",
    "**Применим статистический критерий Манна-Уитни к полученным выборкам**\n",
    "\n",
    "**Примем alpha = 0.05**"
   ]
  },
  {
   "cell_type": "code",
   "execution_count": 77,
   "id": "c99d3d66",
   "metadata": {},
   "outputs": [
    {
     "name": "stdout",
     "output_type": "stream",
     "text": [
      "P-value: 0.012\n",
      "Относительный выигрыш группы B относительно группы A: 0.170\n"
     ]
    }
   ],
   "source": [
    "# Применим криетрий Манна-Уитни\n",
    "\n",
    "p_value = st.mannwhitneyu(sampleAFiltered, sampleBFiltered)[1]\n",
    "relative_gain = sampleBFiltered.mean()/sampleAFiltered.mean()-1\n",
    "\n",
    "print(\"P-value: {0:.3f}\".format(p_value))\n",
    "print(\"Относительный выигрыш группы B относительно группы A: {0:.3f}\".format(relative_gain))\n"
   ]
  },
  {
   "cell_type": "markdown",
   "id": "d1b3bf44",
   "metadata": {},
   "source": [
    "**Вывод:** \n",
    "\n",
    "**По очищенным данным:**\n",
    "\n",
    "- p-value = 0.012 < 0.05 различия в среднем числе заказов групп A и B есть. Следовательно, нулевую гипотезу о том, что статистически значимых различий в среднем числе заказов между группами нет, отвергаем\n",
    "- Относительный выигрыш группы B равен 17 % — второе число в выводе\n",
    "\n",
    "**По \"сырым данным\":**\n",
    "\n",
    "- p-value = 0.017 < 0.05 различия в среднем числе заказов групп A и B есть. Следовательно, нулевую гипотезу о том, что статистически значимых различий в среднем числе заказов между группами нет, отвергаем\n",
    "- Относительный выигрыш группы B равен 13.8 % — второе число в выводе\n",
    "\n",
    "**p-value остался почти такой же, разница м/у сегментами увеличилась на 3.2 %**"
   ]
  },
  {
   "cell_type": "markdown",
   "id": "18149926",
   "metadata": {},
   "source": [
    "#### *Посчитать статистическую значимость различий в среднем чеке заказа между группами по «очищенным» данным. Сделать выводы и предположения*"
   ]
  },
  {
   "cell_type": "markdown",
   "id": "d1a6d342",
   "metadata": {},
   "source": [
    "Сформулируем гипотезы:\n",
    "\n",
    "- H0 = Статистически значимых различий в среднем чеке между группами по \"очищенным\" данным нет\n",
    "- H1 = Статистически значимые различия в среднем чеке между группами по \"очищенным\" данным есть\n",
    "\n",
    "**Применим статистический критерий Манна-Уитни к полученным выборкам**\n",
    "\n",
    "**Примем alpha = 0.05**"
   ]
  },
  {
   "cell_type": "code",
   "execution_count": 78,
   "id": "909830fc",
   "metadata": {},
   "outputs": [
    {
     "data": {
      "text/plain": [
       "0.6605988588102022"
      ]
     },
     "execution_count": 78,
     "metadata": {},
     "output_type": "execute_result"
    }
   ],
   "source": [
    "p_value = st.mannwhitneyu(\n",
    "    orders[\n",
    "        np.logical_and(\n",
    "            orders['group'] == 'A',\n",
    "            np.logical_not(orders['visitor_id'].isin(abnormalUsers)),\n",
    "        )\n",
    "    ]['revenue'],\n",
    "    orders[\n",
    "        np.logical_and(\n",
    "            orders['group'] == 'B',\n",
    "            np.logical_not(orders['visitor_id'].isin(abnormalUsers)),\n",
    "        )\n",
    "    ]['revenue']\n",
    ")[1]\n",
    "p_value"
   ]
  },
  {
   "cell_type": "code",
   "execution_count": 79,
   "id": "0636175a",
   "metadata": {},
   "outputs": [
    {
     "data": {
      "text/plain": [
       "0.23413431718311428"
      ]
     },
     "execution_count": 79,
     "metadata": {},
     "output_type": "execute_result"
    }
   ],
   "source": [
    "relative_gain = (orders[np.logical_and(orders['group'] == 'B',\n",
    "                                                np.logical_not(orders['visitor_id'].isin(abnormalUsers)))]['revenue'].mean() /\n",
    "                         orders[np.logical_and(orders['group'] == 'A',\n",
    "                                                np.logical_not(orders['visitor_id'].isin(abnormalUsers)))]['revenue'].mean() - 1)\n",
    "relative_gain"
   ]
  },
  {
   "cell_type": "code",
   "execution_count": 80,
   "id": "fc75588f",
   "metadata": {},
   "outputs": [
    {
     "name": "stdout",
     "output_type": "stream",
     "text": [
      "P-value: 0.661\n",
      "Относительный выигрыш группы B относительно группы A: 0.234\n"
     ]
    }
   ],
   "source": [
    "print(\"P-value: {0:.3f}\".format(p_value))\n",
    "print(\"Относительный выигрыш группы B относительно группы A: {0:.3f}\".format(relative_gain))"
   ]
  },
  {
   "cell_type": "markdown",
   "id": "9fcdcc8a",
   "metadata": {},
   "source": [
    "**Вывод:** \n",
    "\n",
    "**По очищенным данным:**\n",
    "\n",
    "- p-value = 0.661 > 0.05 различий в среднем числе заказов групп A и B нет. Следовательно, нулевую гипотезу о том, что статистически значимых различий в среднем числе заказов между группами нет, оставляем\n",
    "- Относительный выигрыш группы B равен 23.4 % — второе число в выводе\n",
    "\n",
    "**По \"сырым данным\":**\n",
    "\n",
    "- p-value = 0.729 > 0.05 различий в среднем числе заказов групп A и B нет. Следовательно, нулевую гипотезу о том, что статистически значимых различий в среднем числе заказов между группами нет, оставляем\n",
    "- Относительный выигрыш группы B равен 25.9 % — второе число в выводе\n",
    "\n",
    "**p-value увеличился, но т разница м/у сегментами уменьшилась на 2.5 %**"
   ]
  },
  {
   "cell_type": "markdown",
   "id": "7fda5b04",
   "metadata": {},
   "source": [
    "### ВЫВОД:\n",
    "\n",
    "1. **Методика оценки с использованием RICE и ICE**:\n",
    "   - В методике RICE на первых местах оказались гипотезы №7 и №2, поскольку у них очень высокий показатель reach (охват), что означает максимальное количество затронутых пользователей.\n",
    "   - В методике ICE, где охват не учитывается, на первом месте находится гипотеза №8 благодаря высокому impact (влиянию) и confidence (уверенности). Гипотеза №2 не входит в ТОП-4 по ICE из-за низкого impact, но компенсируется большим reach, что позволяет ей появиться в ТОП-4 по RICE.\n",
    "\n",
    "2. **Анализ выручки**:\n",
    "   - Выручка группы В резко возрастает в одной точке, что может указывать на всплеск числа заказов или на появление очень дорогих заказов в выборке.\n",
    "   - Средний чек группы А сначала колеблется в пределах 5000-7000 рублей, что может указывать на разброс в количестве заказов при постоянно растущей выручке. Затем средний чек стабилизируется около 7000 рублей.\n",
    "   - Средний чек группы В также колеблется в начале в пределах 5000-7000 рублей, затем происходит резкий скачок до 10000 рублей с последующей стабилизацией на уровне 9000 рублей. Этот скачок совпадает с резким ростом выручки, что подтверждает гипотезу о появлении дорогих заказов.\n",
    "\n",
    "3. **Сравнение групп А и В**:\n",
    "   - Группа В более привлекательна, чем группа А, несмотря на один провал в середине теста. Резкий скачок среднего чека в группе В указывает на крупные заказы.\n",
    "   - Вначале графики обеих групп имеют большие колебания, затем они становятся более симметричными. Однако, группа А начинает показывать снижение, в то время как группа В демонстрирует рост.\n",
    "   - Группа В сначала отставала от группы А, но затем вырвалась вперед, что указывает на увеличение числа покупателей. Отрыв между группами довольно значительный.\n",
    "\n",
    "4. **Анализ заказов и поведения пользователей**:\n",
    "   - В данных присутствуют заказы на сумму 20000 рублей и один супер дорогой заказ на сумму более 1200000 рублей.\n",
    "   - Не более 5% заказов дороже 28000 рублей и не более 1% заказов дороже 58233 рублей.\n",
    "   - Большинство покупателей сделали только один заказ. Однако, значительная доля пользователей оформила 2-4 заказа.\n",
    "   - Не более 5% пользователей совершали более 4 заказов, а 10% пользователей сделали более 2-х заказов.\n",
    "   - Разумно выбрать верхнюю границу в 3 заказа на одного пользователя для отсечения аномальных пользователей.\n",
    "\n",
    "#### Результаты статистических тестов\n",
    "\n",
    "1. **Среднее количество заказов на пользователя**:\n",
    "   - **По очищенным данным**:\n",
    "     - p-value = 0.012 < 0.05. Различия в среднем числе заказов между группами A и B есть. Следовательно, нулевую гипотезу о том, что статистически значимых различий нет, отвергаем.\n",
    "     - Относительный выигрыш группы B равен 17.0%.\n",
    "   - **По сырым данным**:\n",
    "     - p-value = 0.017 < 0.05. Различия в среднем числе заказов между группами A и B есть. Следовательно, нулевую гипотезу о том, что статистически значимых различий нет, отвергаем.\n",
    "     - Относительный выигрыш группы B равен 13.8%.\n",
    "\n",
    "2. **Средний чек**:\n",
    "   - **По очищенным данным**:\n",
    "     - p-value = 0.661 > 0.05. Различий в среднем чеке между группами A и B нет. Следовательно, нулевую гипотезу о том, что статистически значимых различий нет, не отвергаем.\n",
    "     - Относительный выигрыш группы B равен 23.4%.\n",
    "   - **По сырым данным**:\n",
    "     - p-value = 0.729 > 0.05. Различий в среднем чеке между группами A и B нет. Следовательно, нулевую гипотезу о том, что статистически значимых различий нет, не отвергаем.\n",
    "     - Относительный выигрыш группы B равен 25.9%.\n",
    "\n",
    "### Общие выводы по результатам теста\n",
    "\n",
    "- Нет статистически значимых различий по среднему количеству заказов между группами ни по \"сырым\", ни по данным после фильтрации аномалий.\n",
    "- Есть статистически значимые различия по среднему чеку между группами как по \"сырым\", так и по данным после фильтрации аномалий.\n",
    "- Группа В более привлекательна, чем группа А, несмотря на один провал в середине теста. Резкий скачок среднего чека в группе В указывает на крупные заказы.\n",
    "\n",
    "Таким образом, результаты теста показывают, что группа В имеет преимущество по среднему чеку, что делает её более привлекательной для бизнеса. Важно учитывать как количественные, так и качественные аспекты поведения пользователей при принятии дальнейших бизнес-решений."
   ]
  },
  {
   "cell_type": "markdown",
   "id": "d62d2e07",
   "metadata": {},
   "source": [
    "### Продолжение или остановка теста:\n",
    "Остановить тест, зафиксировать победу одной из групп:\n",
    "\n",
    "Группа B показывает значительное улучшение в среднем количестве заказов. Это ключевой показатель для бизнеса, поскольку большее количество заказов ведет к увеличению общей выручки.\n",
    "Несмотря на отсутствие статистически значимых различий по среднему чеку, группа B все же показывает относительный выигрыш.\n",
    "\n",
    "Продолжение теста может дать дополнительные данные и подтвердить или опровергнуть текущие результаты. Однако, учитывая, что уже достигнута статистическая значимость по ключевому показателю, это может не быть необходимым.\n",
    "Рекомендованное решение:\n",
    "Остановить тест, зафиксировать победу группы B.\n",
    "\n",
    "Обоснование:\n",
    "Группа B демонстрирует статистически значимое улучшение по среднему количеству заказов, что является важным показателем для увеличения выручки.\n",
    "Относительный выигрыш по среднему чеку также в пользу группы B, хотя и не является статистически значимым.\n",
    "Продолжение теста может потребовать дополнительных ресурсов и времени, но текущие данные уже дают основание для принятия решения.\n",
    "Таким образом, с учетом всех факторов, рекомендуется зафиксировать победу группы B и внедрить изменения, которые были тестированы в этой группе, для повышения эффективности бизнеса."
   ]
  }
 ],
 "metadata": {
  "ExecuteTimeLog": [
   {
    "duration": 1145,
    "start_time": "2024-05-24T07:51:56.211Z"
   },
   {
    "duration": 291,
    "start_time": "2024-05-24T07:51:57.358Z"
   },
   {
    "duration": 19,
    "start_time": "2024-05-24T07:51:57.651Z"
   },
   {
    "duration": 5,
    "start_time": "2024-05-24T07:51:57.672Z"
   },
   {
    "duration": 6,
    "start_time": "2024-05-24T07:51:57.678Z"
   },
   {
    "duration": 5,
    "start_time": "2024-05-24T07:51:57.685Z"
   },
   {
    "duration": 12,
    "start_time": "2024-05-24T07:51:57.692Z"
   },
   {
    "duration": 9,
    "start_time": "2024-05-24T07:51:57.705Z"
   },
   {
    "duration": 9,
    "start_time": "2024-05-24T07:51:57.715Z"
   },
   {
    "duration": 2,
    "start_time": "2024-05-24T07:51:57.726Z"
   },
   {
    "duration": 4,
    "start_time": "2024-05-24T07:51:57.764Z"
   },
   {
    "duration": 10,
    "start_time": "2024-05-24T07:51:57.770Z"
   },
   {
    "duration": 11,
    "start_time": "2024-05-24T07:51:57.781Z"
   },
   {
    "duration": 10,
    "start_time": "2024-05-24T07:51:57.794Z"
   },
   {
    "duration": 23,
    "start_time": "2024-05-24T07:51:57.805Z"
   },
   {
    "duration": 11,
    "start_time": "2024-05-24T07:51:57.830Z"
   },
   {
    "duration": 22,
    "start_time": "2024-05-24T07:51:57.843Z"
   },
   {
    "duration": 13,
    "start_time": "2024-05-24T07:51:57.867Z"
   },
   {
    "duration": 12,
    "start_time": "2024-05-24T07:51:57.882Z"
   },
   {
    "duration": 24,
    "start_time": "2024-05-24T07:51:57.896Z"
   },
   {
    "duration": 20,
    "start_time": "2024-05-24T07:51:57.922Z"
   },
   {
    "duration": 13,
    "start_time": "2024-05-24T07:51:57.944Z"
   },
   {
    "duration": 16,
    "start_time": "2024-05-24T07:51:57.958Z"
   },
   {
    "duration": 22,
    "start_time": "2024-05-24T07:51:57.976Z"
   },
   {
    "duration": 17,
    "start_time": "2024-05-24T07:51:57.999Z"
   },
   {
    "duration": 154,
    "start_time": "2024-05-24T07:51:58.018Z"
   },
   {
    "duration": 11,
    "start_time": "2024-05-24T07:51:58.173Z"
   },
   {
    "duration": 124,
    "start_time": "2024-05-24T07:51:58.189Z"
   },
   {
    "duration": 10,
    "start_time": "2024-05-24T07:51:58.314Z"
   },
   {
    "duration": 14,
    "start_time": "2024-05-24T07:51:58.326Z"
   },
   {
    "duration": 30,
    "start_time": "2024-05-24T07:51:58.342Z"
   },
   {
    "duration": 7,
    "start_time": "2024-05-24T07:51:58.374Z"
   },
   {
    "duration": 283,
    "start_time": "2024-05-24T07:51:58.383Z"
   },
   {
    "duration": 198,
    "start_time": "2024-05-24T07:51:58.668Z"
   },
   {
    "duration": 16,
    "start_time": "2024-05-24T07:51:58.868Z"
   },
   {
    "duration": 391,
    "start_time": "2024-05-24T07:51:58.885Z"
   },
   {
    "duration": 3,
    "start_time": "2024-05-24T07:51:59.278Z"
   },
   {
    "duration": 10,
    "start_time": "2024-05-24T07:51:59.283Z"
   },
   {
    "duration": 9,
    "start_time": "2024-05-24T07:51:59.295Z"
   },
   {
    "duration": 226,
    "start_time": "2024-05-24T07:51:59.305Z"
   },
   {
    "duration": 12,
    "start_time": "2024-05-24T07:51:59.533Z"
   },
   {
    "duration": 349,
    "start_time": "2024-05-24T07:51:59.546Z"
   },
   {
    "duration": 183,
    "start_time": "2024-05-24T07:51:59.897Z"
   },
   {
    "duration": 157,
    "start_time": "2024-05-24T07:52:00.082Z"
   },
   {
    "duration": 5,
    "start_time": "2024-05-24T07:52:00.240Z"
   },
   {
    "duration": 60,
    "start_time": "2024-05-24T07:52:00.247Z"
   },
   {
    "duration": 156,
    "start_time": "2024-05-24T07:52:00.309Z"
   },
   {
    "duration": 149,
    "start_time": "2024-05-24T07:52:00.467Z"
   },
   {
    "duration": 4,
    "start_time": "2024-05-24T07:52:00.618Z"
   },
   {
    "duration": 34,
    "start_time": "2024-05-24T07:52:00.624Z"
   },
   {
    "duration": 147,
    "start_time": "2024-05-24T07:52:00.660Z"
   },
   {
    "duration": 46,
    "start_time": "2024-05-24T07:52:00.809Z"
   },
   {
    "duration": 95,
    "start_time": "2024-05-24T07:52:00.857Z"
   },
   {
    "duration": 76,
    "start_time": "2024-05-24T07:52:00.954Z"
   },
   {
    "duration": 98,
    "start_time": "2024-05-24T07:52:01.031Z"
   },
   {
    "duration": 74,
    "start_time": "2024-05-24T07:52:01.130Z"
   },
   {
    "duration": 188,
    "start_time": "2024-05-24T07:52:01.205Z"
   },
   {
    "duration": 59,
    "start_time": "2024-05-24T07:52:01.395Z"
   },
   {
    "duration": 110,
    "start_time": "2024-05-24T07:52:01.455Z"
   },
   {
    "duration": 127,
    "start_time": "2024-05-24T07:52:01.567Z"
   },
   {
    "duration": 7,
    "start_time": "2024-05-24T07:52:01.696Z"
   },
   {
    "duration": 46,
    "start_time": "2024-05-24T07:52:01.704Z"
   },
   {
    "duration": 31,
    "start_time": "2024-05-24T07:52:01.751Z"
   },
   {
    "duration": 74,
    "start_time": "2024-05-24T07:52:01.784Z"
   },
   {
    "duration": 11,
    "start_time": "2024-05-24T07:52:01.860Z"
   },
   {
    "duration": 19,
    "start_time": "2024-05-24T07:52:01.873Z"
   },
   {
    "duration": 19,
    "start_time": "2024-05-24T07:52:01.893Z"
   },
   {
    "duration": 12,
    "start_time": "2024-05-24T07:52:01.914Z"
   },
   {
    "duration": 30,
    "start_time": "2024-05-24T07:52:01.927Z"
   },
   {
    "duration": 27,
    "start_time": "2024-05-24T07:52:01.958Z"
   },
   {
    "duration": 45,
    "start_time": "2024-05-24T07:52:01.987Z"
   },
   {
    "duration": 27,
    "start_time": "2024-05-24T07:52:02.034Z"
   },
   {
    "duration": 34,
    "start_time": "2024-05-24T07:52:02.062Z"
   },
   {
    "duration": 18,
    "start_time": "2024-05-24T07:52:02.097Z"
   },
   {
    "duration": 1014,
    "start_time": "2024-05-24T07:57:25.307Z"
   },
   {
    "duration": 219,
    "start_time": "2024-05-24T07:57:26.323Z"
   },
   {
    "duration": 21,
    "start_time": "2024-05-24T07:57:26.544Z"
   },
   {
    "duration": 6,
    "start_time": "2024-05-24T07:57:26.567Z"
   },
   {
    "duration": 9,
    "start_time": "2024-05-24T07:57:26.574Z"
   },
   {
    "duration": 8,
    "start_time": "2024-05-24T07:57:26.585Z"
   },
   {
    "duration": 21,
    "start_time": "2024-05-24T07:57:26.594Z"
   },
   {
    "duration": 14,
    "start_time": "2024-05-24T07:57:26.616Z"
   },
   {
    "duration": 11,
    "start_time": "2024-05-24T07:57:26.632Z"
   },
   {
    "duration": 19,
    "start_time": "2024-05-24T07:57:26.646Z"
   },
   {
    "duration": 3,
    "start_time": "2024-05-24T07:57:26.667Z"
   },
   {
    "duration": 11,
    "start_time": "2024-05-24T07:57:26.672Z"
   },
   {
    "duration": 16,
    "start_time": "2024-05-24T07:57:26.684Z"
   },
   {
    "duration": 10,
    "start_time": "2024-05-24T07:57:26.702Z"
   },
   {
    "duration": 10,
    "start_time": "2024-05-24T07:57:26.713Z"
   },
   {
    "duration": 34,
    "start_time": "2024-05-24T07:57:26.725Z"
   },
   {
    "duration": 13,
    "start_time": "2024-05-24T07:57:26.760Z"
   },
   {
    "duration": 10,
    "start_time": "2024-05-24T07:57:26.775Z"
   },
   {
    "duration": 12,
    "start_time": "2024-05-24T07:57:26.786Z"
   },
   {
    "duration": 11,
    "start_time": "2024-05-24T07:57:26.799Z"
   },
   {
    "duration": 7,
    "start_time": "2024-05-24T07:57:26.812Z"
   },
   {
    "duration": 9,
    "start_time": "2024-05-24T07:57:26.820Z"
   },
   {
    "duration": 37,
    "start_time": "2024-05-24T07:57:26.830Z"
   },
   {
    "duration": 13,
    "start_time": "2024-05-24T07:57:26.869Z"
   },
   {
    "duration": 176,
    "start_time": "2024-05-24T07:57:26.883Z"
   },
   {
    "duration": 13,
    "start_time": "2024-05-24T07:57:27.061Z"
   },
   {
    "duration": 144,
    "start_time": "2024-05-24T07:57:27.076Z"
   },
   {
    "duration": 11,
    "start_time": "2024-05-24T07:57:27.224Z"
   },
   {
    "duration": 33,
    "start_time": "2024-05-24T07:57:27.237Z"
   },
   {
    "duration": 28,
    "start_time": "2024-05-24T07:57:27.272Z"
   },
   {
    "duration": 14,
    "start_time": "2024-05-24T07:57:27.302Z"
   },
   {
    "duration": 290,
    "start_time": "2024-05-24T07:57:27.319Z"
   },
   {
    "duration": 238,
    "start_time": "2024-05-24T07:57:27.612Z"
   },
   {
    "duration": 20,
    "start_time": "2024-05-24T07:57:27.853Z"
   },
   {
    "duration": 316,
    "start_time": "2024-05-24T07:57:27.876Z"
   },
   {
    "duration": 3,
    "start_time": "2024-05-24T07:57:28.194Z"
   },
   {
    "duration": 19,
    "start_time": "2024-05-24T07:57:28.199Z"
   },
   {
    "duration": 27,
    "start_time": "2024-05-24T07:57:28.220Z"
   },
   {
    "duration": 203,
    "start_time": "2024-05-24T07:57:28.249Z"
   },
   {
    "duration": 18,
    "start_time": "2024-05-24T07:57:28.454Z"
   },
   {
    "duration": 315,
    "start_time": "2024-05-24T07:57:28.474Z"
   },
   {
    "duration": 218,
    "start_time": "2024-05-24T07:57:28.790Z"
   },
   {
    "duration": 154,
    "start_time": "2024-05-24T07:57:29.009Z"
   },
   {
    "duration": 5,
    "start_time": "2024-05-24T07:57:29.165Z"
   },
   {
    "duration": 13,
    "start_time": "2024-05-24T07:57:29.171Z"
   },
   {
    "duration": 140,
    "start_time": "2024-05-24T07:57:29.185Z"
   },
   {
    "duration": 140,
    "start_time": "2024-05-24T07:57:29.327Z"
   },
   {
    "duration": 4,
    "start_time": "2024-05-24T07:57:29.468Z"
   },
   {
    "duration": 15,
    "start_time": "2024-05-24T07:57:29.474Z"
   },
   {
    "duration": 146,
    "start_time": "2024-05-24T07:57:29.491Z"
   },
   {
    "duration": 10,
    "start_time": "2024-05-24T07:57:29.639Z"
   },
   {
    "duration": 57,
    "start_time": "2024-05-24T07:57:29.650Z"
   },
   {
    "duration": 19,
    "start_time": "2024-05-24T07:57:29.708Z"
   },
   {
    "duration": 71,
    "start_time": "2024-05-24T07:57:29.729Z"
   },
   {
    "duration": 18,
    "start_time": "2024-05-24T07:57:29.801Z"
   },
   {
    "duration": 69,
    "start_time": "2024-05-24T07:57:29.821Z"
   },
   {
    "duration": 28,
    "start_time": "2024-05-24T07:57:29.892Z"
   },
   {
    "duration": 87,
    "start_time": "2024-05-24T07:57:29.922Z"
   },
   {
    "duration": 86,
    "start_time": "2024-05-24T07:57:30.010Z"
   },
   {
    "duration": 6,
    "start_time": "2024-05-24T07:57:30.097Z"
   },
   {
    "duration": 29,
    "start_time": "2024-05-24T07:57:30.104Z"
   },
   {
    "duration": 79,
    "start_time": "2024-05-24T07:57:30.135Z"
   },
   {
    "duration": 62,
    "start_time": "2024-05-24T07:57:30.215Z"
   },
   {
    "duration": 38,
    "start_time": "2024-05-24T07:57:30.279Z"
   },
   {
    "duration": 70,
    "start_time": "2024-05-24T07:57:30.319Z"
   },
   {
    "duration": 65,
    "start_time": "2024-05-24T07:57:30.391Z"
   },
   {
    "duration": 65,
    "start_time": "2024-05-24T07:57:30.458Z"
   },
   {
    "duration": 46,
    "start_time": "2024-05-24T07:57:30.524Z"
   },
   {
    "duration": 49,
    "start_time": "2024-05-24T07:57:30.571Z"
   },
   {
    "duration": 28,
    "start_time": "2024-05-24T07:57:30.622Z"
   },
   {
    "duration": 48,
    "start_time": "2024-05-24T07:57:30.652Z"
   },
   {
    "duration": 75,
    "start_time": "2024-05-24T07:57:30.702Z"
   },
   {
    "duration": 16,
    "start_time": "2024-05-24T07:57:30.780Z"
   },
   {
    "duration": 1174,
    "start_time": "2024-05-24T07:57:52.336Z"
   },
   {
    "duration": 244,
    "start_time": "2024-05-24T07:57:53.512Z"
   },
   {
    "duration": 31,
    "start_time": "2024-05-24T07:57:53.758Z"
   },
   {
    "duration": 12,
    "start_time": "2024-05-24T07:57:53.792Z"
   },
   {
    "duration": 9,
    "start_time": "2024-05-24T07:57:53.807Z"
   },
   {
    "duration": 8,
    "start_time": "2024-05-24T07:57:53.818Z"
   },
   {
    "duration": 42,
    "start_time": "2024-05-24T07:57:53.828Z"
   },
   {
    "duration": 13,
    "start_time": "2024-05-24T07:57:53.872Z"
   },
   {
    "duration": 12,
    "start_time": "2024-05-24T07:57:53.888Z"
   },
   {
    "duration": 4,
    "start_time": "2024-05-24T07:57:53.905Z"
   },
   {
    "duration": 4,
    "start_time": "2024-05-24T07:57:53.911Z"
   },
   {
    "duration": 5,
    "start_time": "2024-05-24T07:57:53.917Z"
   },
   {
    "duration": 55,
    "start_time": "2024-05-24T07:57:53.923Z"
   },
   {
    "duration": 15,
    "start_time": "2024-05-24T07:57:53.980Z"
   },
   {
    "duration": 11,
    "start_time": "2024-05-24T07:57:53.996Z"
   },
   {
    "duration": 13,
    "start_time": "2024-05-24T07:57:54.009Z"
   },
   {
    "duration": 14,
    "start_time": "2024-05-24T07:57:54.024Z"
   },
   {
    "duration": 30,
    "start_time": "2024-05-24T07:57:54.040Z"
   },
   {
    "duration": 12,
    "start_time": "2024-05-24T07:57:54.072Z"
   },
   {
    "duration": 20,
    "start_time": "2024-05-24T07:57:54.087Z"
   },
   {
    "duration": 20,
    "start_time": "2024-05-24T07:57:54.109Z"
   },
   {
    "duration": 9,
    "start_time": "2024-05-24T07:57:54.131Z"
   },
   {
    "duration": 29,
    "start_time": "2024-05-24T07:57:54.142Z"
   },
   {
    "duration": 20,
    "start_time": "2024-05-24T07:57:54.173Z"
   },
   {
    "duration": 207,
    "start_time": "2024-05-24T07:57:54.195Z"
   },
   {
    "duration": 12,
    "start_time": "2024-05-24T07:57:54.404Z"
   },
   {
    "duration": 152,
    "start_time": "2024-05-24T07:57:54.418Z"
   },
   {
    "duration": 11,
    "start_time": "2024-05-24T07:57:54.575Z"
   },
   {
    "duration": 24,
    "start_time": "2024-05-24T07:57:54.588Z"
   },
   {
    "duration": 10,
    "start_time": "2024-05-24T07:57:54.613Z"
   },
   {
    "duration": 10,
    "start_time": "2024-05-24T07:57:54.625Z"
   },
   {
    "duration": 347,
    "start_time": "2024-05-24T07:57:54.637Z"
   },
   {
    "duration": 216,
    "start_time": "2024-05-24T07:57:54.986Z"
   },
   {
    "duration": 11,
    "start_time": "2024-05-24T07:57:55.205Z"
   },
   {
    "duration": 405,
    "start_time": "2024-05-24T07:57:55.218Z"
   },
   {
    "duration": 4,
    "start_time": "2024-05-24T07:57:55.625Z"
   },
   {
    "duration": 17,
    "start_time": "2024-05-24T07:57:55.631Z"
   },
   {
    "duration": 30,
    "start_time": "2024-05-24T07:57:55.650Z"
   },
   {
    "duration": 262,
    "start_time": "2024-05-24T07:57:55.682Z"
   },
   {
    "duration": 21,
    "start_time": "2024-05-24T07:57:55.946Z"
   },
   {
    "duration": 358,
    "start_time": "2024-05-24T07:57:55.969Z"
   },
   {
    "duration": 209,
    "start_time": "2024-05-24T07:57:56.329Z"
   },
   {
    "duration": 191,
    "start_time": "2024-05-24T07:57:56.539Z"
   },
   {
    "duration": 6,
    "start_time": "2024-05-24T07:57:56.732Z"
   },
   {
    "duration": 31,
    "start_time": "2024-05-24T07:57:56.740Z"
   },
   {
    "duration": 245,
    "start_time": "2024-05-24T07:57:56.774Z"
   },
   {
    "duration": 185,
    "start_time": "2024-05-24T07:57:57.021Z"
   },
   {
    "duration": 5,
    "start_time": "2024-05-24T07:57:57.208Z"
   },
   {
    "duration": 13,
    "start_time": "2024-05-24T07:57:57.216Z"
   },
   {
    "duration": 161,
    "start_time": "2024-05-24T07:57:57.231Z"
   },
   {
    "duration": 19,
    "start_time": "2024-05-24T07:57:57.394Z"
   },
   {
    "duration": 65,
    "start_time": "2024-05-24T07:57:57.415Z"
   },
   {
    "duration": 38,
    "start_time": "2024-05-24T07:57:57.483Z"
   },
   {
    "duration": 68,
    "start_time": "2024-05-24T07:57:57.522Z"
   },
   {
    "duration": 33,
    "start_time": "2024-05-24T07:57:57.592Z"
   },
   {
    "duration": 71,
    "start_time": "2024-05-24T07:57:57.627Z"
   },
   {
    "duration": 31,
    "start_time": "2024-05-24T07:57:57.700Z"
   },
   {
    "duration": 134,
    "start_time": "2024-05-24T07:57:57.733Z"
   },
   {
    "duration": 113,
    "start_time": "2024-05-24T07:57:57.869Z"
   },
   {
    "duration": 7,
    "start_time": "2024-05-24T07:57:57.984Z"
   },
   {
    "duration": 20,
    "start_time": "2024-05-24T07:57:57.992Z"
   },
   {
    "duration": 22,
    "start_time": "2024-05-24T07:57:58.015Z"
   },
   {
    "duration": 42,
    "start_time": "2024-05-24T07:57:58.039Z"
   },
   {
    "duration": 12,
    "start_time": "2024-05-24T07:57:58.083Z"
   },
   {
    "duration": 17,
    "start_time": "2024-05-24T07:57:58.096Z"
   },
   {
    "duration": 12,
    "start_time": "2024-05-24T07:57:58.114Z"
   },
   {
    "duration": 6,
    "start_time": "2024-05-24T07:57:58.128Z"
   },
   {
    "duration": 32,
    "start_time": "2024-05-24T07:57:58.136Z"
   },
   {
    "duration": 14,
    "start_time": "2024-05-24T07:57:58.170Z"
   },
   {
    "duration": 10,
    "start_time": "2024-05-24T07:57:58.186Z"
   },
   {
    "duration": 9,
    "start_time": "2024-05-24T07:57:58.198Z"
   },
   {
    "duration": 28,
    "start_time": "2024-05-24T07:57:58.209Z"
   },
   {
    "duration": 15,
    "start_time": "2024-05-24T07:57:58.265Z"
   },
   {
    "duration": 1130,
    "start_time": "2024-05-24T07:58:08.608Z"
   },
   {
    "duration": 221,
    "start_time": "2024-05-24T07:58:09.741Z"
   },
   {
    "duration": 21,
    "start_time": "2024-05-24T07:58:09.963Z"
   },
   {
    "duration": 6,
    "start_time": "2024-05-24T07:58:09.986Z"
   },
   {
    "duration": 14,
    "start_time": "2024-05-24T07:58:09.993Z"
   },
   {
    "duration": 14,
    "start_time": "2024-05-24T07:58:10.008Z"
   },
   {
    "duration": 18,
    "start_time": "2024-05-24T07:58:10.024Z"
   },
   {
    "duration": 27,
    "start_time": "2024-05-24T07:58:10.044Z"
   },
   {
    "duration": 10,
    "start_time": "2024-05-24T07:58:10.073Z"
   },
   {
    "duration": 8,
    "start_time": "2024-05-24T07:58:10.086Z"
   },
   {
    "duration": 6,
    "start_time": "2024-05-24T07:58:10.096Z"
   },
   {
    "duration": 12,
    "start_time": "2024-05-24T07:58:10.104Z"
   },
   {
    "duration": 35,
    "start_time": "2024-05-24T07:58:10.117Z"
   },
   {
    "duration": 17,
    "start_time": "2024-05-24T07:58:10.154Z"
   },
   {
    "duration": 22,
    "start_time": "2024-05-24T07:58:10.173Z"
   },
   {
    "duration": 22,
    "start_time": "2024-05-24T07:58:10.196Z"
   },
   {
    "duration": 14,
    "start_time": "2024-05-24T07:58:10.223Z"
   },
   {
    "duration": 14,
    "start_time": "2024-05-24T07:58:10.239Z"
   },
   {
    "duration": 23,
    "start_time": "2024-05-24T07:58:10.255Z"
   },
   {
    "duration": 12,
    "start_time": "2024-05-24T07:58:10.280Z"
   },
   {
    "duration": 13,
    "start_time": "2024-05-24T07:58:10.294Z"
   },
   {
    "duration": 12,
    "start_time": "2024-05-24T07:58:10.308Z"
   },
   {
    "duration": 9,
    "start_time": "2024-05-24T07:58:10.321Z"
   },
   {
    "duration": 7,
    "start_time": "2024-05-24T07:58:10.332Z"
   },
   {
    "duration": 13,
    "start_time": "2024-05-24T07:58:10.366Z"
   },
   {
    "duration": 184,
    "start_time": "2024-05-24T07:58:10.381Z"
   },
   {
    "duration": 11,
    "start_time": "2024-05-24T07:58:10.566Z"
   },
   {
    "duration": 134,
    "start_time": "2024-05-24T07:58:10.581Z"
   },
   {
    "duration": 10,
    "start_time": "2024-05-24T07:58:10.717Z"
   },
   {
    "duration": 16,
    "start_time": "2024-05-24T07:58:10.728Z"
   },
   {
    "duration": 28,
    "start_time": "2024-05-24T07:58:10.746Z"
   },
   {
    "duration": 14,
    "start_time": "2024-05-24T07:58:10.776Z"
   },
   {
    "duration": 297,
    "start_time": "2024-05-24T07:58:10.792Z"
   },
   {
    "duration": 220,
    "start_time": "2024-05-24T07:58:11.091Z"
   },
   {
    "duration": 12,
    "start_time": "2024-05-24T07:58:11.312Z"
   },
   {
    "duration": 335,
    "start_time": "2024-05-24T07:58:11.325Z"
   },
   {
    "duration": 5,
    "start_time": "2024-05-24T07:58:11.662Z"
   },
   {
    "duration": 12,
    "start_time": "2024-05-24T07:58:11.669Z"
   },
   {
    "duration": 11,
    "start_time": "2024-05-24T07:58:11.682Z"
   },
   {
    "duration": 286,
    "start_time": "2024-05-24T07:58:11.695Z"
   },
   {
    "duration": 14,
    "start_time": "2024-05-24T07:58:11.984Z"
   },
   {
    "duration": 323,
    "start_time": "2024-05-24T07:58:12.000Z"
   },
   {
    "duration": 217,
    "start_time": "2024-05-24T07:58:12.325Z"
   },
   {
    "duration": 153,
    "start_time": "2024-05-24T07:58:12.544Z"
   },
   {
    "duration": 4,
    "start_time": "2024-05-24T07:58:12.699Z"
   },
   {
    "duration": 11,
    "start_time": "2024-05-24T07:58:12.705Z"
   },
   {
    "duration": 163,
    "start_time": "2024-05-24T07:58:12.717Z"
   },
   {
    "duration": 145,
    "start_time": "2024-05-24T07:58:12.881Z"
   },
   {
    "duration": 5,
    "start_time": "2024-05-24T07:58:13.028Z"
   },
   {
    "duration": 31,
    "start_time": "2024-05-24T07:58:13.035Z"
   },
   {
    "duration": 138,
    "start_time": "2024-05-24T07:58:13.068Z"
   },
   {
    "duration": 9,
    "start_time": "2024-05-24T07:58:13.207Z"
   },
   {
    "duration": 67,
    "start_time": "2024-05-24T07:58:13.218Z"
   },
   {
    "duration": 21,
    "start_time": "2024-05-24T07:58:13.287Z"
   },
   {
    "duration": 76,
    "start_time": "2024-05-24T07:58:13.310Z"
   },
   {
    "duration": 19,
    "start_time": "2024-05-24T07:58:13.388Z"
   },
   {
    "duration": 79,
    "start_time": "2024-05-24T07:58:13.409Z"
   },
   {
    "duration": 33,
    "start_time": "2024-05-24T07:58:13.490Z"
   },
   {
    "duration": 90,
    "start_time": "2024-05-24T07:58:13.525Z"
   },
   {
    "duration": 96,
    "start_time": "2024-05-24T07:58:13.616Z"
   },
   {
    "duration": 7,
    "start_time": "2024-05-24T07:58:13.713Z"
   },
   {
    "duration": 20,
    "start_time": "2024-05-24T07:58:13.721Z"
   },
   {
    "duration": 5,
    "start_time": "2024-05-24T07:58:13.743Z"
   },
   {
    "duration": 40,
    "start_time": "2024-05-24T07:58:13.749Z"
   },
   {
    "duration": 10,
    "start_time": "2024-05-24T07:58:13.791Z"
   },
   {
    "duration": 16,
    "start_time": "2024-05-24T07:58:13.803Z"
   },
   {
    "duration": 11,
    "start_time": "2024-05-24T07:58:13.821Z"
   },
   {
    "duration": 11,
    "start_time": "2024-05-24T07:58:13.833Z"
   },
   {
    "duration": 26,
    "start_time": "2024-05-24T07:58:13.846Z"
   },
   {
    "duration": 6,
    "start_time": "2024-05-24T07:58:13.874Z"
   },
   {
    "duration": 30,
    "start_time": "2024-05-24T07:58:13.882Z"
   },
   {
    "duration": 8,
    "start_time": "2024-05-24T07:58:13.913Z"
   },
   {
    "duration": 26,
    "start_time": "2024-05-24T07:58:13.922Z"
   },
   {
    "duration": 25,
    "start_time": "2024-05-24T07:58:13.950Z"
   },
   {
    "duration": 66,
    "start_time": "2024-05-24T13:53:59.188Z"
   },
   {
    "duration": 1327,
    "start_time": "2024-05-24T13:54:08.387Z"
   },
   {
    "duration": 331,
    "start_time": "2024-05-24T13:54:09.717Z"
   },
   {
    "duration": 23,
    "start_time": "2024-05-24T13:54:10.049Z"
   },
   {
    "duration": 6,
    "start_time": "2024-05-24T13:54:10.074Z"
   },
   {
    "duration": 19,
    "start_time": "2024-05-24T13:54:10.083Z"
   },
   {
    "duration": 12,
    "start_time": "2024-05-24T13:54:10.104Z"
   },
   {
    "duration": 12,
    "start_time": "2024-05-24T13:54:10.118Z"
   },
   {
    "duration": 15,
    "start_time": "2024-05-24T13:54:10.132Z"
   },
   {
    "duration": 18,
    "start_time": "2024-05-24T13:54:10.149Z"
   },
   {
    "duration": 7,
    "start_time": "2024-05-24T13:54:10.169Z"
   },
   {
    "duration": 6,
    "start_time": "2024-05-24T13:54:10.177Z"
   },
   {
    "duration": 12,
    "start_time": "2024-05-24T13:54:10.184Z"
   },
   {
    "duration": 16,
    "start_time": "2024-05-24T13:54:10.197Z"
   },
   {
    "duration": 58,
    "start_time": "2024-05-24T13:54:10.217Z"
   },
   {
    "duration": 11,
    "start_time": "2024-05-24T13:54:10.277Z"
   },
   {
    "duration": 7,
    "start_time": "2024-05-24T13:54:10.289Z"
   },
   {
    "duration": 11,
    "start_time": "2024-05-24T13:54:10.298Z"
   },
   {
    "duration": 12,
    "start_time": "2024-05-24T13:54:10.310Z"
   },
   {
    "duration": 11,
    "start_time": "2024-05-24T13:54:10.324Z"
   },
   {
    "duration": 31,
    "start_time": "2024-05-24T13:54:10.337Z"
   },
   {
    "duration": 13,
    "start_time": "2024-05-24T13:54:10.370Z"
   },
   {
    "duration": 9,
    "start_time": "2024-05-24T13:54:10.384Z"
   },
   {
    "duration": 19,
    "start_time": "2024-05-24T13:54:10.394Z"
   },
   {
    "duration": 11,
    "start_time": "2024-05-24T13:54:10.414Z"
   },
   {
    "duration": 33,
    "start_time": "2024-05-24T13:54:10.427Z"
   },
   {
    "duration": 184,
    "start_time": "2024-05-24T13:54:10.461Z"
   },
   {
    "duration": 17,
    "start_time": "2024-05-24T13:54:10.647Z"
   },
   {
    "duration": 136,
    "start_time": "2024-05-24T13:54:10.666Z"
   },
   {
    "duration": 13,
    "start_time": "2024-05-24T13:54:10.804Z"
   },
   {
    "duration": 18,
    "start_time": "2024-05-24T13:54:10.819Z"
   },
   {
    "duration": 10,
    "start_time": "2024-05-24T13:54:10.858Z"
   },
   {
    "duration": 10,
    "start_time": "2024-05-24T13:54:10.870Z"
   },
   {
    "duration": 338,
    "start_time": "2024-05-24T13:54:10.882Z"
   },
   {
    "duration": 215,
    "start_time": "2024-05-24T13:54:11.222Z"
   },
   {
    "duration": 20,
    "start_time": "2024-05-24T13:54:11.439Z"
   },
   {
    "duration": 409,
    "start_time": "2024-05-24T13:54:11.461Z"
   },
   {
    "duration": 4,
    "start_time": "2024-05-24T13:54:11.871Z"
   },
   {
    "duration": 16,
    "start_time": "2024-05-24T13:54:11.877Z"
   },
   {
    "duration": 11,
    "start_time": "2024-05-24T13:54:11.895Z"
   },
   {
    "duration": 327,
    "start_time": "2024-05-24T13:54:11.907Z"
   },
   {
    "duration": 20,
    "start_time": "2024-05-24T13:54:12.239Z"
   },
   {
    "duration": 358,
    "start_time": "2024-05-24T13:54:12.260Z"
   },
   {
    "duration": 212,
    "start_time": "2024-05-24T13:54:12.621Z"
   },
   {
    "duration": 162,
    "start_time": "2024-05-24T13:54:12.835Z"
   },
   {
    "duration": 4,
    "start_time": "2024-05-24T13:54:12.998Z"
   },
   {
    "duration": 17,
    "start_time": "2024-05-24T13:54:13.004Z"
   },
   {
    "duration": 158,
    "start_time": "2024-05-24T13:54:13.022Z"
   },
   {
    "duration": 152,
    "start_time": "2024-05-24T13:54:13.182Z"
   },
   {
    "duration": 4,
    "start_time": "2024-05-24T13:54:13.336Z"
   },
   {
    "duration": 24,
    "start_time": "2024-05-24T13:54:13.341Z"
   },
   {
    "duration": 143,
    "start_time": "2024-05-24T13:54:13.367Z"
   },
   {
    "duration": 11,
    "start_time": "2024-05-24T13:54:13.512Z"
   },
   {
    "duration": 73,
    "start_time": "2024-05-24T13:54:13.525Z"
   },
   {
    "duration": 78,
    "start_time": "2024-05-24T13:54:13.600Z"
   },
   {
    "duration": 59,
    "start_time": "2024-05-24T13:54:13.679Z"
   },
   {
    "duration": 47,
    "start_time": "2024-05-24T13:54:13.739Z"
   },
   {
    "duration": 57,
    "start_time": "2024-05-24T13:54:13.787Z"
   },
   {
    "duration": 40,
    "start_time": "2024-05-24T13:54:13.846Z"
   },
   {
    "duration": 112,
    "start_time": "2024-05-24T13:54:13.888Z"
   },
   {
    "duration": 96,
    "start_time": "2024-05-24T13:54:14.002Z"
   },
   {
    "duration": 6,
    "start_time": "2024-05-24T13:54:14.099Z"
   },
   {
    "duration": 5,
    "start_time": "2024-05-24T13:54:14.107Z"
   },
   {
    "duration": 4,
    "start_time": "2024-05-24T13:54:14.114Z"
   },
   {
    "duration": 52,
    "start_time": "2024-05-24T13:54:14.120Z"
   },
   {
    "duration": 11,
    "start_time": "2024-05-24T13:54:14.173Z"
   },
   {
    "duration": 9,
    "start_time": "2024-05-24T13:54:14.186Z"
   },
   {
    "duration": 10,
    "start_time": "2024-05-24T13:54:14.196Z"
   },
   {
    "duration": 23,
    "start_time": "2024-05-24T13:54:14.208Z"
   },
   {
    "duration": 44,
    "start_time": "2024-05-24T13:54:14.232Z"
   },
   {
    "duration": 4,
    "start_time": "2024-05-24T13:54:14.277Z"
   },
   {
    "duration": 8,
    "start_time": "2024-05-24T13:54:14.283Z"
   },
   {
    "duration": 14,
    "start_time": "2024-05-24T13:54:14.293Z"
   },
   {
    "duration": 35,
    "start_time": "2024-05-24T13:54:14.309Z"
   },
   {
    "duration": 22,
    "start_time": "2024-05-24T13:54:14.345Z"
   },
   {
    "duration": 523,
    "start_time": "2024-05-24T13:57:59.055Z"
   },
   {
    "duration": 8,
    "start_time": "2024-05-24T13:58:07.796Z"
   },
   {
    "duration": 1143,
    "start_time": "2024-05-26T00:23:22.711Z"
   },
   {
    "duration": 269,
    "start_time": "2024-05-26T00:23:23.855Z"
   },
   {
    "duration": 17,
    "start_time": "2024-05-26T00:23:24.125Z"
   },
   {
    "duration": 13,
    "start_time": "2024-05-26T00:23:24.143Z"
   },
   {
    "duration": 6,
    "start_time": "2024-05-26T00:23:24.157Z"
   },
   {
    "duration": 4,
    "start_time": "2024-05-26T00:23:24.164Z"
   },
   {
    "duration": 10,
    "start_time": "2024-05-26T00:23:24.169Z"
   },
   {
    "duration": 8,
    "start_time": "2024-05-26T00:23:24.180Z"
   },
   {
    "duration": 8,
    "start_time": "2024-05-26T00:23:24.189Z"
   },
   {
    "duration": 5,
    "start_time": "2024-05-26T00:23:24.199Z"
   },
   {
    "duration": 7,
    "start_time": "2024-05-26T00:23:24.205Z"
   },
   {
    "duration": 5,
    "start_time": "2024-05-26T00:23:24.213Z"
   },
   {
    "duration": 9,
    "start_time": "2024-05-26T00:23:24.219Z"
   },
   {
    "duration": 8,
    "start_time": "2024-05-26T00:23:24.229Z"
   },
   {
    "duration": 8,
    "start_time": "2024-05-26T00:23:24.238Z"
   },
   {
    "duration": 7,
    "start_time": "2024-05-26T00:23:24.247Z"
   },
   {
    "duration": 11,
    "start_time": "2024-05-26T00:23:24.256Z"
   },
   {
    "duration": 4,
    "start_time": "2024-05-26T00:23:24.269Z"
   },
   {
    "duration": 9,
    "start_time": "2024-05-26T00:23:24.274Z"
   },
   {
    "duration": 23,
    "start_time": "2024-05-26T00:23:24.283Z"
   },
   {
    "duration": 12,
    "start_time": "2024-05-26T00:23:24.307Z"
   },
   {
    "duration": 23,
    "start_time": "2024-05-26T00:23:24.321Z"
   },
   {
    "duration": 10,
    "start_time": "2024-05-26T00:23:24.345Z"
   },
   {
    "duration": 15,
    "start_time": "2024-05-26T00:23:24.356Z"
   },
   {
    "duration": 9,
    "start_time": "2024-05-26T00:23:24.372Z"
   },
   {
    "duration": 18,
    "start_time": "2024-05-26T00:23:24.383Z"
   },
   {
    "duration": 135,
    "start_time": "2024-05-26T00:23:24.403Z"
   },
   {
    "duration": 8,
    "start_time": "2024-05-26T00:23:24.542Z"
   },
   {
    "duration": 101,
    "start_time": "2024-05-26T00:23:24.551Z"
   },
   {
    "duration": 8,
    "start_time": "2024-05-26T00:23:24.653Z"
   },
   {
    "duration": 12,
    "start_time": "2024-05-26T00:23:24.662Z"
   },
   {
    "duration": 4,
    "start_time": "2024-05-26T00:23:24.675Z"
   },
   {
    "duration": 25,
    "start_time": "2024-05-26T00:23:24.680Z"
   },
   {
    "duration": 7,
    "start_time": "2024-05-26T00:23:24.706Z"
   },
   {
    "duration": 255,
    "start_time": "2024-05-26T00:23:24.714Z"
   },
   {
    "duration": 201,
    "start_time": "2024-05-26T00:23:24.970Z"
   },
   {
    "duration": 10,
    "start_time": "2024-05-26T00:23:25.172Z"
   },
   {
    "duration": 350,
    "start_time": "2024-05-26T00:23:25.183Z"
   },
   {
    "duration": 3,
    "start_time": "2024-05-26T00:23:25.534Z"
   },
   {
    "duration": 65,
    "start_time": "2024-05-26T00:23:25.538Z"
   },
   {
    "duration": 34,
    "start_time": "2024-05-26T00:23:25.604Z"
   },
   {
    "duration": 189,
    "start_time": "2024-05-26T00:23:25.639Z"
   },
   {
    "duration": 11,
    "start_time": "2024-05-26T00:23:25.829Z"
   },
   {
    "duration": 308,
    "start_time": "2024-05-26T00:23:25.841Z"
   },
   {
    "duration": 150,
    "start_time": "2024-05-26T00:23:26.151Z"
   },
   {
    "duration": 125,
    "start_time": "2024-05-26T00:23:26.302Z"
   },
   {
    "duration": 127,
    "start_time": "2024-05-26T00:23:26.429Z"
   },
   {
    "duration": 11,
    "start_time": "2024-05-26T00:23:26.557Z"
   },
   {
    "duration": 10,
    "start_time": "2024-05-26T00:23:26.570Z"
   },
   {
    "duration": 120,
    "start_time": "2024-05-26T00:23:26.581Z"
   },
   {
    "duration": 159,
    "start_time": "2024-05-26T00:23:26.703Z"
   },
   {
    "duration": 3,
    "start_time": "2024-05-26T00:23:26.863Z"
   },
   {
    "duration": 11,
    "start_time": "2024-05-26T00:23:26.868Z"
   },
   {
    "duration": 92,
    "start_time": "2024-05-26T00:23:26.880Z"
   },
   {
    "duration": 15,
    "start_time": "2024-05-26T00:23:26.973Z"
   },
   {
    "duration": 42,
    "start_time": "2024-05-26T00:23:26.989Z"
   },
   {
    "duration": 19,
    "start_time": "2024-05-26T00:23:27.032Z"
   },
   {
    "duration": 41,
    "start_time": "2024-05-26T00:23:27.052Z"
   },
   {
    "duration": 18,
    "start_time": "2024-05-26T00:23:27.101Z"
   },
   {
    "duration": 44,
    "start_time": "2024-05-26T00:23:27.121Z"
   },
   {
    "duration": 34,
    "start_time": "2024-05-26T00:23:27.167Z"
   },
   {
    "duration": 67,
    "start_time": "2024-05-26T00:23:27.203Z"
   },
   {
    "duration": 78,
    "start_time": "2024-05-26T00:23:27.271Z"
   },
   {
    "duration": 5,
    "start_time": "2024-05-26T00:23:27.350Z"
   },
   {
    "duration": 13,
    "start_time": "2024-05-26T00:23:27.356Z"
   },
   {
    "duration": 7,
    "start_time": "2024-05-26T00:23:27.370Z"
   },
   {
    "duration": 23,
    "start_time": "2024-05-26T00:23:27.378Z"
   },
   {
    "duration": 9,
    "start_time": "2024-05-26T00:23:27.403Z"
   },
   {
    "duration": 27,
    "start_time": "2024-05-26T00:23:27.413Z"
   },
   {
    "duration": 28,
    "start_time": "2024-05-26T00:23:27.441Z"
   },
   {
    "duration": 12,
    "start_time": "2024-05-26T00:23:27.470Z"
   },
   {
    "duration": 9,
    "start_time": "2024-05-26T00:23:27.483Z"
   },
   {
    "duration": 16,
    "start_time": "2024-05-26T00:23:27.493Z"
   },
   {
    "duration": 11,
    "start_time": "2024-05-26T00:23:27.510Z"
   },
   {
    "duration": 8,
    "start_time": "2024-05-26T00:23:27.522Z"
   },
   {
    "duration": 8,
    "start_time": "2024-05-26T00:23:27.531Z"
   },
   {
    "duration": 19,
    "start_time": "2024-05-26T00:23:27.540Z"
   },
   {
    "duration": 8,
    "start_time": "2024-05-26T00:23:27.560Z"
   },
   {
    "duration": 9,
    "start_time": "2024-05-26T00:23:27.569Z"
   },
   {
    "duration": 2,
    "start_time": "2024-05-26T00:23:27.579Z"
   }
  ],
  "kernelspec": {
   "display_name": "Python 3 (ipykernel)",
   "language": "python",
   "name": "python3"
  },
  "language_info": {
   "codemirror_mode": {
    "name": "ipython",
    "version": 3
   },
   "file_extension": ".py",
   "mimetype": "text/x-python",
   "name": "python",
   "nbconvert_exporter": "python",
   "pygments_lexer": "ipython3",
   "version": "3.11.5"
  },
  "toc": {
   "base_numbering": 1,
   "nav_menu": {},
   "number_sections": true,
   "sideBar": true,
   "skip_h1_title": true,
   "title_cell": "Table of Contents",
   "title_sidebar": "Contents",
   "toc_cell": false,
   "toc_position": {},
   "toc_section_display": true,
   "toc_window_display": false
  }
 },
 "nbformat": 4,
 "nbformat_minor": 5
}
