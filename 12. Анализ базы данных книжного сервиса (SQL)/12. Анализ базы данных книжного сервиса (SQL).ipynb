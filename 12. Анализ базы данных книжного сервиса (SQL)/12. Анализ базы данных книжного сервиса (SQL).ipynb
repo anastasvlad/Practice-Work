{
 "cells": [
  {
   "cell_type": "markdown",
   "metadata": {},
   "source": [
    "**Проект по SQL**\n"
   ]
  },
  {
   "cell_type": "markdown",
   "metadata": {},
   "source": [
    "### ОПИСАНИЕ ПРОЕКТА\n",
    "\n",
    "Коронавирус застал мир врасплох, изменив привычный порядок вещей. На какое-то время жители городов перестали выходить на улицу, посещать кафе и торговые центры. Зато стало больше времени для книг. Стартаперы начали создавать приложения для тех, кто любит читать.\n",
    "Наша компания решила быть на волне и купила крупный сервис для чтения книг по подписке. Первая задача  — проанализировать базу данных.\n",
    "В ней — информация о книгах, издательствах, авторах, а также пользовательские обзоры книг. Эти данные помогут сформулировать ценностное предложение для нового продукта."
   ]
  },
  {
   "cell_type": "markdown",
   "metadata": {},
   "source": [
    "### ОСНОВНАЯ ЦЕЛЬ\n",
    "\n",
    "- проанализировать базу данных, содержащую информацию о книгах, издательствах, авторах и пользовательских обзорах, чтобы разработать ценностное предложение для нового продукта."
   ]
  },
  {
   "cell_type": "markdown",
   "metadata": {},
   "source": [
    "### ЗАДАЧИ\n",
    "\n",
    "- Посчитайте, сколько книг вышло после 1 января 2000 года;\n",
    "- Для каждой книги посчитайте количество обзоров и среднюю оценку;\n",
    "- Определите издательство, которое выпустило наибольшее число книг толще 50 страниц — так вы исключите из анализа брошюры;\n",
    "- Определите автора с самой высокой средней оценкой книг — учитывайте только книги с 50 и более оценками;\n",
    "- Посчитайте среднее количество обзоров от пользователей, которые поставили больше 48 оценок."
   ]
  },
  {
   "cell_type": "markdown",
   "metadata": {},
   "source": [
    "### ПОСЛЕДОВАТЕЛЬНОСТЬ ВЫПОЛНЕНИЯ ПРОЕКТА\n",
    "\n",
    "- Загрузка библиотек\n",
    "- Загрузка данных\n",
    "- Вывод данных\n",
    "- Решение задач\n",
    "- Вывод"
   ]
  },
  {
   "cell_type": "markdown",
   "metadata": {},
   "source": [
    "### ОПИСАНИЕ ДАННЫХ\n",
    "\n",
    "Таблица books содержит данные о книгах:\n",
    "- book_id — идентификатор книги;\n",
    "- author_id — идентификатор автора;\n",
    "- title — название книги;\n",
    "- num_pages — количество страниц;\n",
    "- publication_date — дата публикации книги;\n",
    "- publisher_id — идентификатор издателя.\n",
    "\n",
    "Таблица authors содержит данные об авторах:\n",
    "- author_id — идентификатор автора;\n",
    "- author — имя автора.\n",
    "\n",
    "Таблица publishers содержит данные об издательствах:\n",
    "- publisher_id — идентификатор издательства;\n",
    "- publisher — название издательства;\n",
    "\n",
    "Таблица ratings содержит данные о пользовательских оценках книг:\n",
    "- rating_id — идентификатор оценки;\n",
    "- book_id — идентификатор книги;\n",
    "- username — имя пользователя, оставившего оценку;\n",
    "- rating — оценка книги.\n",
    "\n",
    "Таблица reviews содержит данные о пользовательских обзорах:\n",
    "- review_id — идентификатор обзора;\n",
    "- book_id — идентификатор книги;\n",
    "- username — имя автора обзора;\n",
    "- text — текст обзора."
   ]
  },
  {
   "cell_type": "code",
   "execution_count": 1,
   "metadata": {},
   "outputs": [],
   "source": [
    "# импортируем библиотеки\n",
    "import pandas as pd\n",
    "from sqlalchemy import text, create_engine"
   ]
  },
  {
   "cell_type": "code",
   "execution_count": 2,
   "metadata": {},
   "outputs": [],
   "source": [
    "# устанавливаем параметры\n",
    "db_config = {'user': 'praktikum_student', # имя пользователя\n",
    "'pwd': 'Sdf4$2;d-d30pp', # пароль\n",
    "'host': 'rc1b-wcoijxj3yxfsf3fs.mdb.yandexcloud.net',\n",
    "'port': 6432, # порт подключения\n",
    "'db': 'data-analyst-final-project-db'} # название базы данных\n",
    "connection_string = 'postgresql://{user}:{pwd}@{host}:{port}/{db}'.format(**db_config)\n"
   ]
  },
  {
   "cell_type": "code",
   "execution_count": 3,
   "metadata": {},
   "outputs": [],
   "source": [
    "# сохраняем коннектор\n",
    "engine = create_engine(connection_string, connect_args={'sslmode':'require'})"
   ]
  },
  {
   "cell_type": "code",
   "execution_count": 4,
   "metadata": {},
   "outputs": [
    {
     "data": {
      "text/html": [
       "<div>\n",
       "<style scoped>\n",
       "    .dataframe tbody tr th:only-of-type {\n",
       "        vertical-align: middle;\n",
       "    }\n",
       "\n",
       "    .dataframe tbody tr th {\n",
       "        vertical-align: top;\n",
       "    }\n",
       "\n",
       "    .dataframe thead th {\n",
       "        text-align: right;\n",
       "    }\n",
       "</style>\n",
       "<table border=\"1\" class=\"dataframe\">\n",
       "  <thead>\n",
       "    <tr style=\"text-align: right;\">\n",
       "      <th></th>\n",
       "      <th>book_id</th>\n",
       "      <th>author_id</th>\n",
       "      <th>title</th>\n",
       "      <th>num_pages</th>\n",
       "      <th>publication_date</th>\n",
       "      <th>publisher_id</th>\n",
       "    </tr>\n",
       "  </thead>\n",
       "  <tbody>\n",
       "    <tr>\n",
       "      <th>0</th>\n",
       "      <td>1</td>\n",
       "      <td>546</td>\n",
       "      <td>'Salem's Lot</td>\n",
       "      <td>594</td>\n",
       "      <td>2005-11-01</td>\n",
       "      <td>93</td>\n",
       "    </tr>\n",
       "    <tr>\n",
       "      <th>1</th>\n",
       "      <td>2</td>\n",
       "      <td>465</td>\n",
       "      <td>1 000 Places to See Before You Die</td>\n",
       "      <td>992</td>\n",
       "      <td>2003-05-22</td>\n",
       "      <td>336</td>\n",
       "    </tr>\n",
       "    <tr>\n",
       "      <th>2</th>\n",
       "      <td>3</td>\n",
       "      <td>407</td>\n",
       "      <td>13 Little Blue Envelopes (Little Blue Envelope...</td>\n",
       "      <td>322</td>\n",
       "      <td>2010-12-21</td>\n",
       "      <td>135</td>\n",
       "    </tr>\n",
       "    <tr>\n",
       "      <th>3</th>\n",
       "      <td>4</td>\n",
       "      <td>82</td>\n",
       "      <td>1491: New Revelations of the Americas Before C...</td>\n",
       "      <td>541</td>\n",
       "      <td>2006-10-10</td>\n",
       "      <td>309</td>\n",
       "    </tr>\n",
       "    <tr>\n",
       "      <th>4</th>\n",
       "      <td>5</td>\n",
       "      <td>125</td>\n",
       "      <td>1776</td>\n",
       "      <td>386</td>\n",
       "      <td>2006-07-04</td>\n",
       "      <td>268</td>\n",
       "    </tr>\n",
       "    <tr>\n",
       "      <th>...</th>\n",
       "      <td>...</td>\n",
       "      <td>...</td>\n",
       "      <td>...</td>\n",
       "      <td>...</td>\n",
       "      <td>...</td>\n",
       "      <td>...</td>\n",
       "    </tr>\n",
       "    <tr>\n",
       "      <th>995</th>\n",
       "      <td>996</td>\n",
       "      <td>571</td>\n",
       "      <td>Wyrd Sisters (Discworld  #6; Witches #2)</td>\n",
       "      <td>265</td>\n",
       "      <td>2001-02-06</td>\n",
       "      <td>147</td>\n",
       "    </tr>\n",
       "    <tr>\n",
       "      <th>996</th>\n",
       "      <td>997</td>\n",
       "      <td>454</td>\n",
       "      <td>Xenocide (Ender's Saga  #3)</td>\n",
       "      <td>592</td>\n",
       "      <td>1996-07-15</td>\n",
       "      <td>297</td>\n",
       "    </tr>\n",
       "    <tr>\n",
       "      <th>997</th>\n",
       "      <td>998</td>\n",
       "      <td>201</td>\n",
       "      <td>Year of Wonders</td>\n",
       "      <td>358</td>\n",
       "      <td>2002-04-30</td>\n",
       "      <td>212</td>\n",
       "    </tr>\n",
       "    <tr>\n",
       "      <th>998</th>\n",
       "      <td>999</td>\n",
       "      <td>94</td>\n",
       "      <td>You Suck (A Love Story  #2)</td>\n",
       "      <td>328</td>\n",
       "      <td>2007-01-16</td>\n",
       "      <td>331</td>\n",
       "    </tr>\n",
       "    <tr>\n",
       "      <th>999</th>\n",
       "      <td>1000</td>\n",
       "      <td>509</td>\n",
       "      <td>Zen and the Art of Motorcycle Maintenance: An ...</td>\n",
       "      <td>540</td>\n",
       "      <td>2006-04-25</td>\n",
       "      <td>143</td>\n",
       "    </tr>\n",
       "  </tbody>\n",
       "</table>\n",
       "<p>1000 rows × 6 columns</p>\n",
       "</div>"
      ],
      "text/plain": [
       "     book_id  author_id                                              title  \\\n",
       "0          1        546                                       'Salem's Lot   \n",
       "1          2        465                 1 000 Places to See Before You Die   \n",
       "2          3        407  13 Little Blue Envelopes (Little Blue Envelope...   \n",
       "3          4         82  1491: New Revelations of the Americas Before C...   \n",
       "4          5        125                                               1776   \n",
       "..       ...        ...                                                ...   \n",
       "995      996        571           Wyrd Sisters (Discworld  #6; Witches #2)   \n",
       "996      997        454                        Xenocide (Ender's Saga  #3)   \n",
       "997      998        201                                    Year of Wonders   \n",
       "998      999         94                        You Suck (A Love Story  #2)   \n",
       "999     1000        509  Zen and the Art of Motorcycle Maintenance: An ...   \n",
       "\n",
       "     num_pages publication_date  publisher_id  \n",
       "0          594       2005-11-01            93  \n",
       "1          992       2003-05-22           336  \n",
       "2          322       2010-12-21           135  \n",
       "3          541       2006-10-10           309  \n",
       "4          386       2006-07-04           268  \n",
       "..         ...              ...           ...  \n",
       "995        265       2001-02-06           147  \n",
       "996        592       1996-07-15           297  \n",
       "997        358       2002-04-30           212  \n",
       "998        328       2007-01-16           331  \n",
       "999        540       2006-04-25           143  \n",
       "\n",
       "[1000 rows x 6 columns]"
      ]
     },
     "execution_count": 4,
     "metadata": {},
     "output_type": "execute_result"
    }
   ],
   "source": [
    "# Выведем данные таблицы books\n",
    "books = '''SELECT * FROM books'''\n",
    "con=engine.connect()\n",
    "pd.io.sql.read_sql(sql=text(books), con = con)"
   ]
  },
  {
   "cell_type": "code",
   "execution_count": 5,
   "metadata": {},
   "outputs": [
    {
     "data": {
      "text/html": [
       "<div>\n",
       "<style scoped>\n",
       "    .dataframe tbody tr th:only-of-type {\n",
       "        vertical-align: middle;\n",
       "    }\n",
       "\n",
       "    .dataframe tbody tr th {\n",
       "        vertical-align: top;\n",
       "    }\n",
       "\n",
       "    .dataframe thead th {\n",
       "        text-align: right;\n",
       "    }\n",
       "</style>\n",
       "<table border=\"1\" class=\"dataframe\">\n",
       "  <thead>\n",
       "    <tr style=\"text-align: right;\">\n",
       "      <th></th>\n",
       "      <th>author_id</th>\n",
       "      <th>author</th>\n",
       "    </tr>\n",
       "  </thead>\n",
       "  <tbody>\n",
       "    <tr>\n",
       "      <th>0</th>\n",
       "      <td>1</td>\n",
       "      <td>A.S. Byatt</td>\n",
       "    </tr>\n",
       "    <tr>\n",
       "      <th>1</th>\n",
       "      <td>2</td>\n",
       "      <td>Aesop/Laura Harris/Laura Gibbs</td>\n",
       "    </tr>\n",
       "    <tr>\n",
       "      <th>2</th>\n",
       "      <td>3</td>\n",
       "      <td>Agatha Christie</td>\n",
       "    </tr>\n",
       "    <tr>\n",
       "      <th>3</th>\n",
       "      <td>4</td>\n",
       "      <td>Alan Brennert</td>\n",
       "    </tr>\n",
       "    <tr>\n",
       "      <th>4</th>\n",
       "      <td>5</td>\n",
       "      <td>Alan Moore/David   Lloyd</td>\n",
       "    </tr>\n",
       "    <tr>\n",
       "      <th>...</th>\n",
       "      <td>...</td>\n",
       "      <td>...</td>\n",
       "    </tr>\n",
       "    <tr>\n",
       "      <th>631</th>\n",
       "      <td>632</td>\n",
       "      <td>William Strunk Jr./E.B. White</td>\n",
       "    </tr>\n",
       "    <tr>\n",
       "      <th>632</th>\n",
       "      <td>633</td>\n",
       "      <td>Zadie Smith</td>\n",
       "    </tr>\n",
       "    <tr>\n",
       "      <th>633</th>\n",
       "      <td>634</td>\n",
       "      <td>Zilpha Keatley Snyder</td>\n",
       "    </tr>\n",
       "    <tr>\n",
       "      <th>634</th>\n",
       "      <td>635</td>\n",
       "      <td>Zora Neale Hurston</td>\n",
       "    </tr>\n",
       "    <tr>\n",
       "      <th>635</th>\n",
       "      <td>636</td>\n",
       "      <td>Åsne Seierstad/Ingrid Christopherson</td>\n",
       "    </tr>\n",
       "  </tbody>\n",
       "</table>\n",
       "<p>636 rows × 2 columns</p>\n",
       "</div>"
      ],
      "text/plain": [
       "     author_id                                author\n",
       "0            1                            A.S. Byatt\n",
       "1            2        Aesop/Laura Harris/Laura Gibbs\n",
       "2            3                       Agatha Christie\n",
       "3            4                         Alan Brennert\n",
       "4            5              Alan Moore/David   Lloyd\n",
       "..         ...                                   ...\n",
       "631        632         William Strunk Jr./E.B. White\n",
       "632        633                           Zadie Smith\n",
       "633        634                 Zilpha Keatley Snyder\n",
       "634        635                    Zora Neale Hurston\n",
       "635        636  Åsne Seierstad/Ingrid Christopherson\n",
       "\n",
       "[636 rows x 2 columns]"
      ]
     },
     "execution_count": 5,
     "metadata": {},
     "output_type": "execute_result"
    }
   ],
   "source": [
    "# # Выведем данные таблицы authors\n",
    "authors = '''SELECT * FROM authors'''\n",
    "con=engine.connect()\n",
    "pd.io.sql.read_sql(sql=text(authors), con = con)"
   ]
  },
  {
   "cell_type": "code",
   "execution_count": 6,
   "metadata": {},
   "outputs": [
    {
     "data": {
      "text/html": [
       "<div>\n",
       "<style scoped>\n",
       "    .dataframe tbody tr th:only-of-type {\n",
       "        vertical-align: middle;\n",
       "    }\n",
       "\n",
       "    .dataframe tbody tr th {\n",
       "        vertical-align: top;\n",
       "    }\n",
       "\n",
       "    .dataframe thead th {\n",
       "        text-align: right;\n",
       "    }\n",
       "</style>\n",
       "<table border=\"1\" class=\"dataframe\">\n",
       "  <thead>\n",
       "    <tr style=\"text-align: right;\">\n",
       "      <th></th>\n",
       "      <th>publisher_id</th>\n",
       "      <th>publisher</th>\n",
       "    </tr>\n",
       "  </thead>\n",
       "  <tbody>\n",
       "    <tr>\n",
       "      <th>0</th>\n",
       "      <td>1</td>\n",
       "      <td>Ace</td>\n",
       "    </tr>\n",
       "    <tr>\n",
       "      <th>1</th>\n",
       "      <td>2</td>\n",
       "      <td>Ace Book</td>\n",
       "    </tr>\n",
       "    <tr>\n",
       "      <th>2</th>\n",
       "      <td>3</td>\n",
       "      <td>Ace Books</td>\n",
       "    </tr>\n",
       "    <tr>\n",
       "      <th>3</th>\n",
       "      <td>4</td>\n",
       "      <td>Ace Hardcover</td>\n",
       "    </tr>\n",
       "    <tr>\n",
       "      <th>4</th>\n",
       "      <td>5</td>\n",
       "      <td>Addison Wesley Publishing Company</td>\n",
       "    </tr>\n",
       "    <tr>\n",
       "      <th>...</th>\n",
       "      <td>...</td>\n",
       "      <td>...</td>\n",
       "    </tr>\n",
       "    <tr>\n",
       "      <th>335</th>\n",
       "      <td>336</td>\n",
       "      <td>Workman Publishing Company</td>\n",
       "    </tr>\n",
       "    <tr>\n",
       "      <th>336</th>\n",
       "      <td>337</td>\n",
       "      <td>Wyatt Book</td>\n",
       "    </tr>\n",
       "    <tr>\n",
       "      <th>337</th>\n",
       "      <td>338</td>\n",
       "      <td>Yale University Press</td>\n",
       "    </tr>\n",
       "    <tr>\n",
       "      <th>338</th>\n",
       "      <td>339</td>\n",
       "      <td>Yearling</td>\n",
       "    </tr>\n",
       "    <tr>\n",
       "      <th>339</th>\n",
       "      <td>340</td>\n",
       "      <td>Yearling Books</td>\n",
       "    </tr>\n",
       "  </tbody>\n",
       "</table>\n",
       "<p>340 rows × 2 columns</p>\n",
       "</div>"
      ],
      "text/plain": [
       "     publisher_id                          publisher\n",
       "0               1                                Ace\n",
       "1               2                           Ace Book\n",
       "2               3                          Ace Books\n",
       "3               4                      Ace Hardcover\n",
       "4               5  Addison Wesley Publishing Company\n",
       "..            ...                                ...\n",
       "335           336         Workman Publishing Company\n",
       "336           337                         Wyatt Book\n",
       "337           338              Yale University Press\n",
       "338           339                           Yearling\n",
       "339           340                     Yearling Books\n",
       "\n",
       "[340 rows x 2 columns]"
      ]
     },
     "execution_count": 6,
     "metadata": {},
     "output_type": "execute_result"
    }
   ],
   "source": [
    "# # Выведем данные таблицы publishers\n",
    "publishers = '''SELECT * FROM publishers'''\n",
    "con=engine.connect()\n",
    "pd.io.sql.read_sql(sql=text(publishers), con = con)"
   ]
  },
  {
   "cell_type": "code",
   "execution_count": 7,
   "metadata": {},
   "outputs": [
    {
     "data": {
      "text/html": [
       "<div>\n",
       "<style scoped>\n",
       "    .dataframe tbody tr th:only-of-type {\n",
       "        vertical-align: middle;\n",
       "    }\n",
       "\n",
       "    .dataframe tbody tr th {\n",
       "        vertical-align: top;\n",
       "    }\n",
       "\n",
       "    .dataframe thead th {\n",
       "        text-align: right;\n",
       "    }\n",
       "</style>\n",
       "<table border=\"1\" class=\"dataframe\">\n",
       "  <thead>\n",
       "    <tr style=\"text-align: right;\">\n",
       "      <th></th>\n",
       "      <th>rating_id</th>\n",
       "      <th>book_id</th>\n",
       "      <th>username</th>\n",
       "      <th>rating</th>\n",
       "    </tr>\n",
       "  </thead>\n",
       "  <tbody>\n",
       "    <tr>\n",
       "      <th>0</th>\n",
       "      <td>1</td>\n",
       "      <td>1</td>\n",
       "      <td>ryanfranco</td>\n",
       "      <td>4</td>\n",
       "    </tr>\n",
       "    <tr>\n",
       "      <th>1</th>\n",
       "      <td>2</td>\n",
       "      <td>1</td>\n",
       "      <td>grantpatricia</td>\n",
       "      <td>2</td>\n",
       "    </tr>\n",
       "    <tr>\n",
       "      <th>2</th>\n",
       "      <td>3</td>\n",
       "      <td>1</td>\n",
       "      <td>brandtandrea</td>\n",
       "      <td>5</td>\n",
       "    </tr>\n",
       "    <tr>\n",
       "      <th>3</th>\n",
       "      <td>4</td>\n",
       "      <td>2</td>\n",
       "      <td>lorichen</td>\n",
       "      <td>3</td>\n",
       "    </tr>\n",
       "    <tr>\n",
       "      <th>4</th>\n",
       "      <td>5</td>\n",
       "      <td>2</td>\n",
       "      <td>mariokeller</td>\n",
       "      <td>2</td>\n",
       "    </tr>\n",
       "    <tr>\n",
       "      <th>...</th>\n",
       "      <td>...</td>\n",
       "      <td>...</td>\n",
       "      <td>...</td>\n",
       "      <td>...</td>\n",
       "    </tr>\n",
       "    <tr>\n",
       "      <th>6451</th>\n",
       "      <td>6452</td>\n",
       "      <td>1000</td>\n",
       "      <td>carolrodriguez</td>\n",
       "      <td>4</td>\n",
       "    </tr>\n",
       "    <tr>\n",
       "      <th>6452</th>\n",
       "      <td>6453</td>\n",
       "      <td>1000</td>\n",
       "      <td>wendy18</td>\n",
       "      <td>4</td>\n",
       "    </tr>\n",
       "    <tr>\n",
       "      <th>6453</th>\n",
       "      <td>6454</td>\n",
       "      <td>1000</td>\n",
       "      <td>jarvispaul</td>\n",
       "      <td>5</td>\n",
       "    </tr>\n",
       "    <tr>\n",
       "      <th>6454</th>\n",
       "      <td>6455</td>\n",
       "      <td>1000</td>\n",
       "      <td>zross</td>\n",
       "      <td>2</td>\n",
       "    </tr>\n",
       "    <tr>\n",
       "      <th>6455</th>\n",
       "      <td>6456</td>\n",
       "      <td>1000</td>\n",
       "      <td>fharris</td>\n",
       "      <td>5</td>\n",
       "    </tr>\n",
       "  </tbody>\n",
       "</table>\n",
       "<p>6456 rows × 4 columns</p>\n",
       "</div>"
      ],
      "text/plain": [
       "      rating_id  book_id        username  rating\n",
       "0             1        1      ryanfranco       4\n",
       "1             2        1   grantpatricia       2\n",
       "2             3        1    brandtandrea       5\n",
       "3             4        2        lorichen       3\n",
       "4             5        2     mariokeller       2\n",
       "...         ...      ...             ...     ...\n",
       "6451       6452     1000  carolrodriguez       4\n",
       "6452       6453     1000         wendy18       4\n",
       "6453       6454     1000      jarvispaul       5\n",
       "6454       6455     1000           zross       2\n",
       "6455       6456     1000         fharris       5\n",
       "\n",
       "[6456 rows x 4 columns]"
      ]
     },
     "execution_count": 7,
     "metadata": {},
     "output_type": "execute_result"
    }
   ],
   "source": [
    "# # Выведем данные таблицы ratings\n",
    "ratings = '''SELECT * FROM ratings'''\n",
    "con=engine.connect()\n",
    "pd.io.sql.read_sql(sql=text(ratings), con = con)"
   ]
  },
  {
   "cell_type": "code",
   "execution_count": 8,
   "metadata": {},
   "outputs": [
    {
     "data": {
      "text/html": [
       "<div>\n",
       "<style scoped>\n",
       "    .dataframe tbody tr th:only-of-type {\n",
       "        vertical-align: middle;\n",
       "    }\n",
       "\n",
       "    .dataframe tbody tr th {\n",
       "        vertical-align: top;\n",
       "    }\n",
       "\n",
       "    .dataframe thead th {\n",
       "        text-align: right;\n",
       "    }\n",
       "</style>\n",
       "<table border=\"1\" class=\"dataframe\">\n",
       "  <thead>\n",
       "    <tr style=\"text-align: right;\">\n",
       "      <th></th>\n",
       "      <th>review_id</th>\n",
       "      <th>book_id</th>\n",
       "      <th>username</th>\n",
       "      <th>text</th>\n",
       "    </tr>\n",
       "  </thead>\n",
       "  <tbody>\n",
       "    <tr>\n",
       "      <th>0</th>\n",
       "      <td>1</td>\n",
       "      <td>1</td>\n",
       "      <td>brandtandrea</td>\n",
       "      <td>Mention society tell send professor analysis. ...</td>\n",
       "    </tr>\n",
       "    <tr>\n",
       "      <th>1</th>\n",
       "      <td>2</td>\n",
       "      <td>1</td>\n",
       "      <td>ryanfranco</td>\n",
       "      <td>Foot glass pretty audience hit themselves. Amo...</td>\n",
       "    </tr>\n",
       "    <tr>\n",
       "      <th>2</th>\n",
       "      <td>3</td>\n",
       "      <td>2</td>\n",
       "      <td>lorichen</td>\n",
       "      <td>Listen treat keep worry. Miss husband tax but ...</td>\n",
       "    </tr>\n",
       "    <tr>\n",
       "      <th>3</th>\n",
       "      <td>4</td>\n",
       "      <td>3</td>\n",
       "      <td>johnsonamanda</td>\n",
       "      <td>Finally month interesting blue could nature cu...</td>\n",
       "    </tr>\n",
       "    <tr>\n",
       "      <th>4</th>\n",
       "      <td>5</td>\n",
       "      <td>3</td>\n",
       "      <td>scotttamara</td>\n",
       "      <td>Nation purpose heavy give wait song will. List...</td>\n",
       "    </tr>\n",
       "    <tr>\n",
       "      <th>...</th>\n",
       "      <td>...</td>\n",
       "      <td>...</td>\n",
       "      <td>...</td>\n",
       "      <td>...</td>\n",
       "    </tr>\n",
       "    <tr>\n",
       "      <th>2788</th>\n",
       "      <td>2789</td>\n",
       "      <td>999</td>\n",
       "      <td>martinadam</td>\n",
       "      <td>Later hospital turn easy community. Fact same ...</td>\n",
       "    </tr>\n",
       "    <tr>\n",
       "      <th>2789</th>\n",
       "      <td>2790</td>\n",
       "      <td>1000</td>\n",
       "      <td>wknight</td>\n",
       "      <td>Change lose answer close pressure. Spend so now.</td>\n",
       "    </tr>\n",
       "    <tr>\n",
       "      <th>2790</th>\n",
       "      <td>2791</td>\n",
       "      <td>1000</td>\n",
       "      <td>carolrodriguez</td>\n",
       "      <td>Authority go who television entire hair guy po...</td>\n",
       "    </tr>\n",
       "    <tr>\n",
       "      <th>2791</th>\n",
       "      <td>2792</td>\n",
       "      <td>1000</td>\n",
       "      <td>wendy18</td>\n",
       "      <td>Or western offer wonder ask. More hear phone f...</td>\n",
       "    </tr>\n",
       "    <tr>\n",
       "      <th>2792</th>\n",
       "      <td>2793</td>\n",
       "      <td>1000</td>\n",
       "      <td>jarvispaul</td>\n",
       "      <td>Republican staff bit eat material measure plan...</td>\n",
       "    </tr>\n",
       "  </tbody>\n",
       "</table>\n",
       "<p>2793 rows × 4 columns</p>\n",
       "</div>"
      ],
      "text/plain": [
       "      review_id  book_id        username  \\\n",
       "0             1        1    brandtandrea   \n",
       "1             2        1      ryanfranco   \n",
       "2             3        2        lorichen   \n",
       "3             4        3   johnsonamanda   \n",
       "4             5        3     scotttamara   \n",
       "...         ...      ...             ...   \n",
       "2788       2789      999      martinadam   \n",
       "2789       2790     1000         wknight   \n",
       "2790       2791     1000  carolrodriguez   \n",
       "2791       2792     1000         wendy18   \n",
       "2792       2793     1000      jarvispaul   \n",
       "\n",
       "                                                   text  \n",
       "0     Mention society tell send professor analysis. ...  \n",
       "1     Foot glass pretty audience hit themselves. Amo...  \n",
       "2     Listen treat keep worry. Miss husband tax but ...  \n",
       "3     Finally month interesting blue could nature cu...  \n",
       "4     Nation purpose heavy give wait song will. List...  \n",
       "...                                                 ...  \n",
       "2788  Later hospital turn easy community. Fact same ...  \n",
       "2789   Change lose answer close pressure. Spend so now.  \n",
       "2790  Authority go who television entire hair guy po...  \n",
       "2791  Or western offer wonder ask. More hear phone f...  \n",
       "2792  Republican staff bit eat material measure plan...  \n",
       "\n",
       "[2793 rows x 4 columns]"
      ]
     },
     "execution_count": 8,
     "metadata": {},
     "output_type": "execute_result"
    }
   ],
   "source": [
    "# # Выведем данные таблицы reviews\n",
    "reviews = '''SELECT * FROM reviews'''\n",
    "con=engine.connect()\n",
    "pd.io.sql.read_sql(sql=text(reviews), con = con)"
   ]
  },
  {
   "cell_type": "markdown",
   "metadata": {},
   "source": [
    "**Посчитайте, сколько книг вышло после 1 января 2000 года**"
   ]
  },
  {
   "cell_type": "code",
   "execution_count": 9,
   "metadata": {},
   "outputs": [
    {
     "data": {
      "text/html": [
       "<div>\n",
       "<style scoped>\n",
       "    .dataframe tbody tr th:only-of-type {\n",
       "        vertical-align: middle;\n",
       "    }\n",
       "\n",
       "    .dataframe tbody tr th {\n",
       "        vertical-align: top;\n",
       "    }\n",
       "\n",
       "    .dataframe thead th {\n",
       "        text-align: right;\n",
       "    }\n",
       "</style>\n",
       "<table border=\"1\" class=\"dataframe\">\n",
       "  <thead>\n",
       "    <tr style=\"text-align: right;\">\n",
       "      <th></th>\n",
       "      <th>book_id</th>\n",
       "      <th>author_id</th>\n",
       "      <th>title</th>\n",
       "      <th>num_pages</th>\n",
       "      <th>publication_date</th>\n",
       "      <th>publisher_id</th>\n",
       "    </tr>\n",
       "  </thead>\n",
       "  <tbody>\n",
       "    <tr>\n",
       "      <th>0</th>\n",
       "      <td>1</td>\n",
       "      <td>546</td>\n",
       "      <td>'Salem's Lot</td>\n",
       "      <td>594</td>\n",
       "      <td>2005-11-01</td>\n",
       "      <td>93</td>\n",
       "    </tr>\n",
       "    <tr>\n",
       "      <th>1</th>\n",
       "      <td>2</td>\n",
       "      <td>465</td>\n",
       "      <td>1 000 Places to See Before You Die</td>\n",
       "      <td>992</td>\n",
       "      <td>2003-05-22</td>\n",
       "      <td>336</td>\n",
       "    </tr>\n",
       "    <tr>\n",
       "      <th>2</th>\n",
       "      <td>3</td>\n",
       "      <td>407</td>\n",
       "      <td>13 Little Blue Envelopes (Little Blue Envelope...</td>\n",
       "      <td>322</td>\n",
       "      <td>2010-12-21</td>\n",
       "      <td>135</td>\n",
       "    </tr>\n",
       "    <tr>\n",
       "      <th>3</th>\n",
       "      <td>4</td>\n",
       "      <td>82</td>\n",
       "      <td>1491: New Revelations of the Americas Before C...</td>\n",
       "      <td>541</td>\n",
       "      <td>2006-10-10</td>\n",
       "      <td>309</td>\n",
       "    </tr>\n",
       "    <tr>\n",
       "      <th>4</th>\n",
       "      <td>5</td>\n",
       "      <td>125</td>\n",
       "      <td>1776</td>\n",
       "      <td>386</td>\n",
       "      <td>2006-07-04</td>\n",
       "      <td>268</td>\n",
       "    </tr>\n",
       "    <tr>\n",
       "      <th>...</th>\n",
       "      <td>...</td>\n",
       "      <td>...</td>\n",
       "      <td>...</td>\n",
       "      <td>...</td>\n",
       "      <td>...</td>\n",
       "      <td>...</td>\n",
       "    </tr>\n",
       "    <tr>\n",
       "      <th>816</th>\n",
       "      <td>994</td>\n",
       "      <td>408</td>\n",
       "      <td>World War Z: An Oral History of the Zombie War</td>\n",
       "      <td>342</td>\n",
       "      <td>2006-09-12</td>\n",
       "      <td>68</td>\n",
       "    </tr>\n",
       "    <tr>\n",
       "      <th>817</th>\n",
       "      <td>996</td>\n",
       "      <td>571</td>\n",
       "      <td>Wyrd Sisters (Discworld  #6; Witches #2)</td>\n",
       "      <td>265</td>\n",
       "      <td>2001-02-06</td>\n",
       "      <td>147</td>\n",
       "    </tr>\n",
       "    <tr>\n",
       "      <th>818</th>\n",
       "      <td>998</td>\n",
       "      <td>201</td>\n",
       "      <td>Year of Wonders</td>\n",
       "      <td>358</td>\n",
       "      <td>2002-04-30</td>\n",
       "      <td>212</td>\n",
       "    </tr>\n",
       "    <tr>\n",
       "      <th>819</th>\n",
       "      <td>999</td>\n",
       "      <td>94</td>\n",
       "      <td>You Suck (A Love Story  #2)</td>\n",
       "      <td>328</td>\n",
       "      <td>2007-01-16</td>\n",
       "      <td>331</td>\n",
       "    </tr>\n",
       "    <tr>\n",
       "      <th>820</th>\n",
       "      <td>1000</td>\n",
       "      <td>509</td>\n",
       "      <td>Zen and the Art of Motorcycle Maintenance: An ...</td>\n",
       "      <td>540</td>\n",
       "      <td>2006-04-25</td>\n",
       "      <td>143</td>\n",
       "    </tr>\n",
       "  </tbody>\n",
       "</table>\n",
       "<p>821 rows × 6 columns</p>\n",
       "</div>"
      ],
      "text/plain": [
       "     book_id  author_id                                              title  \\\n",
       "0          1        546                                       'Salem's Lot   \n",
       "1          2        465                 1 000 Places to See Before You Die   \n",
       "2          3        407  13 Little Blue Envelopes (Little Blue Envelope...   \n",
       "3          4         82  1491: New Revelations of the Americas Before C...   \n",
       "4          5        125                                               1776   \n",
       "..       ...        ...                                                ...   \n",
       "816      994        408     World War Z: An Oral History of the Zombie War   \n",
       "817      996        571           Wyrd Sisters (Discworld  #6; Witches #2)   \n",
       "818      998        201                                    Year of Wonders   \n",
       "819      999         94                        You Suck (A Love Story  #2)   \n",
       "820     1000        509  Zen and the Art of Motorcycle Maintenance: An ...   \n",
       "\n",
       "     num_pages publication_date  publisher_id  \n",
       "0          594       2005-11-01            93  \n",
       "1          992       2003-05-22           336  \n",
       "2          322       2010-12-21           135  \n",
       "3          541       2006-10-10           309  \n",
       "4          386       2006-07-04           268  \n",
       "..         ...              ...           ...  \n",
       "816        342       2006-09-12            68  \n",
       "817        265       2001-02-06           147  \n",
       "818        358       2002-04-30           212  \n",
       "819        328       2007-01-16           331  \n",
       "820        540       2006-04-25           143  \n",
       "\n",
       "[821 rows x 6 columns]"
      ]
     },
     "execution_count": 9,
     "metadata": {},
     "output_type": "execute_result"
    }
   ],
   "source": [
    "query = '''SELECT * FROM books WHERE publication_date >= '2000-01-01' '''\n",
    "con=engine.connect()\n",
    "pd.io.sql.read_sql(sql=text(query), con = con)\n"
   ]
  },
  {
   "cell_type": "markdown",
   "metadata": {},
   "source": [
    "**Вывод:**\n",
    "После 01.01.2000 года вышла 821 книга    "
   ]
  },
  {
   "cell_type": "markdown",
   "metadata": {},
   "source": [
    "**Для каждой книги посчитайте количество обзоров и среднюю оценку**"
   ]
  },
  {
   "cell_type": "code",
   "execution_count": 10,
   "metadata": {},
   "outputs": [
    {
     "data": {
      "text/html": [
       "<div>\n",
       "<style scoped>\n",
       "    .dataframe tbody tr th:only-of-type {\n",
       "        vertical-align: middle;\n",
       "    }\n",
       "\n",
       "    .dataframe tbody tr th {\n",
       "        vertical-align: top;\n",
       "    }\n",
       "\n",
       "    .dataframe thead th {\n",
       "        text-align: right;\n",
       "    }\n",
       "</style>\n",
       "<table border=\"1\" class=\"dataframe\">\n",
       "  <thead>\n",
       "    <tr style=\"text-align: right;\">\n",
       "      <th></th>\n",
       "      <th>book_id</th>\n",
       "      <th>title</th>\n",
       "      <th>review</th>\n",
       "      <th>rating</th>\n",
       "    </tr>\n",
       "  </thead>\n",
       "  <tbody>\n",
       "    <tr>\n",
       "      <th>0</th>\n",
       "      <td>948</td>\n",
       "      <td>Twilight (Twilight  #1)</td>\n",
       "      <td>7</td>\n",
       "      <td>3.66</td>\n",
       "    </tr>\n",
       "    <tr>\n",
       "      <th>1</th>\n",
       "      <td>963</td>\n",
       "      <td>Water for Elephants</td>\n",
       "      <td>6</td>\n",
       "      <td>3.98</td>\n",
       "    </tr>\n",
       "    <tr>\n",
       "      <th>2</th>\n",
       "      <td>734</td>\n",
       "      <td>The Glass Castle</td>\n",
       "      <td>6</td>\n",
       "      <td>4.21</td>\n",
       "    </tr>\n",
       "    <tr>\n",
       "      <th>3</th>\n",
       "      <td>302</td>\n",
       "      <td>Harry Potter and the Prisoner of Azkaban (Harr...</td>\n",
       "      <td>6</td>\n",
       "      <td>4.41</td>\n",
       "    </tr>\n",
       "    <tr>\n",
       "      <th>4</th>\n",
       "      <td>695</td>\n",
       "      <td>The Curious Incident of the Dog in the Night-Time</td>\n",
       "      <td>6</td>\n",
       "      <td>4.08</td>\n",
       "    </tr>\n",
       "    <tr>\n",
       "      <th>...</th>\n",
       "      <td>...</td>\n",
       "      <td>...</td>\n",
       "      <td>...</td>\n",
       "      <td>...</td>\n",
       "    </tr>\n",
       "    <tr>\n",
       "      <th>995</th>\n",
       "      <td>83</td>\n",
       "      <td>Anne Rice's The Vampire Lestat: A Graphic Novel</td>\n",
       "      <td>0</td>\n",
       "      <td>3.67</td>\n",
       "    </tr>\n",
       "    <tr>\n",
       "      <th>996</th>\n",
       "      <td>808</td>\n",
       "      <td>The Natural Way to Draw</td>\n",
       "      <td>0</td>\n",
       "      <td>3.00</td>\n",
       "    </tr>\n",
       "    <tr>\n",
       "      <th>997</th>\n",
       "      <td>672</td>\n",
       "      <td>The Cat in the Hat and Other Dr. Seuss Favorites</td>\n",
       "      <td>0</td>\n",
       "      <td>5.00</td>\n",
       "    </tr>\n",
       "    <tr>\n",
       "      <th>998</th>\n",
       "      <td>221</td>\n",
       "      <td>Essential Tales and Poems</td>\n",
       "      <td>0</td>\n",
       "      <td>4.00</td>\n",
       "    </tr>\n",
       "    <tr>\n",
       "      <th>999</th>\n",
       "      <td>191</td>\n",
       "      <td>Disney's Beauty and the Beast (A Little Golden...</td>\n",
       "      <td>0</td>\n",
       "      <td>4.00</td>\n",
       "    </tr>\n",
       "  </tbody>\n",
       "</table>\n",
       "<p>1000 rows × 4 columns</p>\n",
       "</div>"
      ],
      "text/plain": [
       "     book_id                                              title  review  \\\n",
       "0        948                            Twilight (Twilight  #1)       7   \n",
       "1        963                                Water for Elephants       6   \n",
       "2        734                                   The Glass Castle       6   \n",
       "3        302  Harry Potter and the Prisoner of Azkaban (Harr...       6   \n",
       "4        695  The Curious Incident of the Dog in the Night-Time       6   \n",
       "..       ...                                                ...     ...   \n",
       "995       83    Anne Rice's The Vampire Lestat: A Graphic Novel       0   \n",
       "996      808                            The Natural Way to Draw       0   \n",
       "997      672   The Cat in the Hat and Other Dr. Seuss Favorites       0   \n",
       "998      221                          Essential Tales and Poems       0   \n",
       "999      191  Disney's Beauty and the Beast (A Little Golden...       0   \n",
       "\n",
       "     rating  \n",
       "0      3.66  \n",
       "1      3.98  \n",
       "2      4.21  \n",
       "3      4.41  \n",
       "4      4.08  \n",
       "..      ...  \n",
       "995    3.67  \n",
       "996    3.00  \n",
       "997    5.00  \n",
       "998    4.00  \n",
       "999    4.00  \n",
       "\n",
       "[1000 rows x 4 columns]"
      ]
     },
     "execution_count": 10,
     "metadata": {},
     "output_type": "execute_result"
    }
   ],
   "source": [
    "query = '''\n",
    "SELECT  books.book_id, title, COUNT(distinct review_id) AS review, ROUND(AVG(rating), 2) AS rating\n",
    "FROM books \n",
    "LEFT JOIN reviews ON books.book_id = reviews.book_id \n",
    "LEFT JOIN ratings ON books.book_id = ratings.book_id\n",
    "GROUP BY books.book_id, books.title\n",
    "ORDER BY review DESC\n",
    "'''\n",
    "\n",
    "con=engine.connect()\n",
    "pd.io.sql.read_sql(sql=text(query), con = con)"
   ]
  },
  {
   "cell_type": "markdown",
   "metadata": {},
   "source": [
    "**Вывод:**\n",
    "По количеству обзоров лидируют \"Сумерки\"    "
   ]
  },
  {
   "cell_type": "markdown",
   "metadata": {},
   "source": [
    "**Определите издательство, которое выпустило наибольшее число книг толще 50 страниц — так вы исключите из анализа брошюры**"
   ]
  },
  {
   "cell_type": "code",
   "execution_count": 11,
   "metadata": {},
   "outputs": [
    {
     "data": {
      "text/html": [
       "<div>\n",
       "<style scoped>\n",
       "    .dataframe tbody tr th:only-of-type {\n",
       "        vertical-align: middle;\n",
       "    }\n",
       "\n",
       "    .dataframe tbody tr th {\n",
       "        vertical-align: top;\n",
       "    }\n",
       "\n",
       "    .dataframe thead th {\n",
       "        text-align: right;\n",
       "    }\n",
       "</style>\n",
       "<table border=\"1\" class=\"dataframe\">\n",
       "  <thead>\n",
       "    <tr style=\"text-align: right;\">\n",
       "      <th></th>\n",
       "      <th>publisher</th>\n",
       "      <th>sum_books</th>\n",
       "    </tr>\n",
       "  </thead>\n",
       "  <tbody>\n",
       "    <tr>\n",
       "      <th>0</th>\n",
       "      <td>Penguin Books</td>\n",
       "      <td>42</td>\n",
       "    </tr>\n",
       "  </tbody>\n",
       "</table>\n",
       "</div>"
      ],
      "text/plain": [
       "       publisher  sum_books\n",
       "0  Penguin Books         42"
      ]
     },
     "execution_count": 11,
     "metadata": {},
     "output_type": "execute_result"
    }
   ],
   "source": [
    "query = '''\n",
    "SELECT publisher, COUNT(book_id) AS sum_books\n",
    "FROM books \n",
    "INNER JOIN publishers ON books.publisher_id = publishers.publisher_id \n",
    "WHERE num_pages > 50\n",
    "GROUP BY publisher\n",
    "ORDER BY sum_books DESC\n",
    "LIMIT 1\n",
    "'''\n",
    "\n",
    "con=engine.connect()\n",
    "pd.io.sql.read_sql(sql=text(query), con = con)"
   ]
  },
  {
   "cell_type": "markdown",
   "metadata": {},
   "source": [
    "**Вывод:**\n",
    "Больше всего книг толще 50 страниц выпустило издательство Penguin Books     "
   ]
  },
  {
   "cell_type": "markdown",
   "metadata": {},
   "source": [
    "**Определите автора с самой высокой средней оценкой книг — учитывайте только книги с 50 и более оценками**"
   ]
  },
  {
   "cell_type": "code",
   "execution_count": 12,
   "metadata": {},
   "outputs": [
    {
     "data": {
      "text/html": [
       "<div>\n",
       "<style scoped>\n",
       "    .dataframe tbody tr th:only-of-type {\n",
       "        vertical-align: middle;\n",
       "    }\n",
       "\n",
       "    .dataframe tbody tr th {\n",
       "        vertical-align: top;\n",
       "    }\n",
       "\n",
       "    .dataframe thead th {\n",
       "        text-align: right;\n",
       "    }\n",
       "</style>\n",
       "<table border=\"1\" class=\"dataframe\">\n",
       "  <thead>\n",
       "    <tr style=\"text-align: right;\">\n",
       "      <th></th>\n",
       "      <th>author</th>\n",
       "      <th>rating</th>\n",
       "    </tr>\n",
       "  </thead>\n",
       "  <tbody>\n",
       "    <tr>\n",
       "      <th>0</th>\n",
       "      <td>J.K. Rowling/Mary GrandPré</td>\n",
       "      <td>4.29</td>\n",
       "    </tr>\n",
       "  </tbody>\n",
       "</table>\n",
       "</div>"
      ],
      "text/plain": [
       "                       author  rating\n",
       "0  J.K. Rowling/Mary GrandPré    4.29"
      ]
     },
     "execution_count": 12,
     "metadata": {},
     "output_type": "execute_result"
    }
   ],
   "source": [
    "query = '''\n",
    "SELECT author, ROUND(AVG(rating), 2) AS rating\n",
    "FROM authors \n",
    "INNER JOIN books ON books.author_id = authors.author_id \n",
    "INNER JOIN ratings ON ratings.book_id = books.book_id \n",
    "WHERE authors.author_id IN \n",
    "(\n",
    "    SELECT authors.author_id\n",
    "    FROM authors\n",
    "    INNER JOIN books ON authors.author_id = books.author_id\n",
    "    INNER JOIN ratings ON books.book_id = ratings.book_id\n",
    "    GROUP BY authors.author_id\n",
    "    HAVING COUNT(ratings.rating) > 50\n",
    ")\n",
    "GROUP BY author\n",
    "ORDER BY rating DESC\n",
    "LIMIT 1\n",
    "'''\n",
    "\n",
    "con=engine.connect()\n",
    "pd.io.sql.read_sql(sql=text(query), con = con)"
   ]
  },
  {
   "cell_type": "markdown",
   "metadata": {},
   "source": [
    "**Вывод:**\n",
    "Самый высокий рейтинг у Джоан Роулинг"
   ]
  },
  {
   "cell_type": "markdown",
   "metadata": {},
   "source": [
    "**Посчитайте среднее количество обзоров от пользователей, которые поставили больше 48 оценок**"
   ]
  },
  {
   "cell_type": "code",
   "execution_count": 13,
   "metadata": {},
   "outputs": [
    {
     "data": {
      "text/html": [
       "<div>\n",
       "<style scoped>\n",
       "    .dataframe tbody tr th:only-of-type {\n",
       "        vertical-align: middle;\n",
       "    }\n",
       "\n",
       "    .dataframe tbody tr th {\n",
       "        vertical-align: top;\n",
       "    }\n",
       "\n",
       "    .dataframe thead th {\n",
       "        text-align: right;\n",
       "    }\n",
       "</style>\n",
       "<table border=\"1\" class=\"dataframe\">\n",
       "  <thead>\n",
       "    <tr style=\"text-align: right;\">\n",
       "      <th></th>\n",
       "      <th>avg</th>\n",
       "    </tr>\n",
       "  </thead>\n",
       "  <tbody>\n",
       "    <tr>\n",
       "      <th>0</th>\n",
       "      <td>24.0</td>\n",
       "    </tr>\n",
       "  </tbody>\n",
       "</table>\n",
       "</div>"
      ],
      "text/plain": [
       "    avg\n",
       "0  24.0"
      ]
     },
     "execution_count": 13,
     "metadata": {},
     "output_type": "execute_result"
    }
   ],
   "source": [
    "query = '''\n",
    "WITH \n",
    "USERS AS \n",
    "(SELECT username AS USER FROM ratings \n",
    "GROUP BY username\n",
    "HAVING COUNT(ratings.rating) > 48),\n",
    "\n",
    "REVIEW AS\n",
    "(SELECT reviews.username AS USER, count(reviews.review_id) AS CNT_review\n",
    "FROM reviews\n",
    "GROUP BY reviews.username\n",
    "ORDER BY CNT_review DESC)\n",
    "\n",
    "SELECT AVG(CNT_review) \n",
    "FROM REVIEW \n",
    "INNER JOIN USERS ON REVIEW.USER=USERS.USER\n",
    "\n",
    "'''\n",
    "con=engine.connect()\n",
    "pd.io.sql.read_sql(sql=text(query), con = con)"
   ]
  },
  {
   "cell_type": "markdown",
   "metadata": {},
   "source": [
    "**Вывод:**\n",
    "Среднее количеств обзоров от авторов, которые поставили много оценок - 24 обзора    "
   ]
  },
  {
   "cell_type": "markdown",
   "metadata": {},
   "source": [
    "**ВЫВОД**\n",
    "\n",
    "\n",
    "**Задачи и результаты** \n",
    "\n",
    "- Было выпущено 821 книга после 1 января 2000 года. Это значительное количество, указывающее на активное производство книг в последние десятилетия.\n",
    "\n",
    "- Среди книг, наибольшее количество обзоров собрала книга \"Сумерки\". Это свидетельствует о высокой популярности и обсуждаемости данной книги среди читателей.\n",
    "\n",
    "- Издательство Penguin Books выпустило больше всего книг, которые толще 50 страниц. Это указывает на высокую активность издательства в производстве полноценных книг, исключая брошюры.\n",
    "\n",
    "- Джоан Роулинг оказалась автором с самой высокой средней оценкой книг, учитывая только те книги, которые получили 50 и более оценок. Это подчеркивает признание и популярность её работ среди большого числа читателей.\n",
    "\n",
    "- Среднее количество обзоров от активных пользователей (которые оставили более 48 оценок) составляет 24 обзора. Это говорит о высоком уровне вовлеченности и активности данной группы пользователей.\n",
    "\n",
    "**Заключение**\n",
    "\n",
    "Анализ базы данных показал, что рынок книг после 2000 года является активным и разнообразным. Издательство Penguin Books лидирует по количеству полноценных книг, а Джоан Роулинг имеет наивысший средний рейтинг среди авторов. Книга \"Сумерки\" является самой обсуждаемой, а активные пользователи показывают высокую вовлеченность, оставляя множество отзывов. Эти данные могут помочь в формировании ценностного предложения для нового продукта, ориентированного на активных читателей и популярные жанры и авторов."
   ]
  }
 ],
 "metadata": {
  "ExecuteTimeLog": [
   {
    "duration": 519,
    "start_time": "2024-07-22T07:55:28.582Z"
   },
   {
    "duration": 3,
    "start_time": "2024-07-22T07:55:41.222Z"
   },
   {
    "duration": 6103,
    "start_time": "2024-07-22T07:55:55.710Z"
   },
   {
    "duration": 66,
    "start_time": "2024-07-22T07:56:11.951Z"
   },
   {
    "duration": 480,
    "start_time": "2024-07-22T08:00:19.077Z"
   },
   {
    "duration": 47,
    "start_time": "2024-07-22T08:01:11.614Z"
   },
   {
    "duration": 52,
    "start_time": "2024-07-22T08:07:52.050Z"
   },
   {
    "duration": 12,
    "start_time": "2024-07-22T08:08:44.125Z"
   },
   {
    "duration": 13,
    "start_time": "2024-07-22T08:09:18.629Z"
   },
   {
    "duration": 11,
    "start_time": "2024-07-22T08:09:43.485Z"
   },
   {
    "duration": 12,
    "start_time": "2024-07-22T08:10:22.845Z"
   },
   {
    "duration": 3,
    "start_time": "2024-07-22T08:11:59.164Z"
   },
   {
    "duration": 3,
    "start_time": "2024-07-22T08:14:34.804Z"
   },
   {
    "duration": 80,
    "start_time": "2024-07-22T08:14:56.424Z"
   },
   {
    "duration": 49,
    "start_time": "2024-07-22T08:15:16.756Z"
   },
   {
    "duration": 3,
    "start_time": "2024-07-22T08:16:13.621Z"
   },
   {
    "duration": 49,
    "start_time": "2024-07-22T08:16:33.788Z"
   },
   {
    "duration": 45,
    "start_time": "2024-07-22T08:30:15.324Z"
   },
   {
    "duration": 15,
    "start_time": "2024-07-22T08:33:00.752Z"
   },
   {
    "duration": 20,
    "start_time": "2024-07-22T08:33:24.333Z"
   },
   {
    "duration": 24,
    "start_time": "2024-07-22T08:33:34.643Z"
   },
   {
    "duration": 9,
    "start_time": "2024-07-22T08:33:55.940Z"
   },
   {
    "duration": 11,
    "start_time": "2024-07-22T08:36:16.715Z"
   },
   {
    "duration": 12,
    "start_time": "2024-07-22T08:36:42.417Z"
   },
   {
    "duration": 20,
    "start_time": "2024-07-22T08:39:26.089Z"
   },
   {
    "duration": 13,
    "start_time": "2024-07-22T08:39:40.155Z"
   },
   {
    "duration": 10,
    "start_time": "2024-07-22T08:39:53.817Z"
   },
   {
    "duration": 18,
    "start_time": "2024-07-22T08:40:05.680Z"
   },
   {
    "duration": 21,
    "start_time": "2024-07-22T08:40:31.499Z"
   },
   {
    "duration": 26,
    "start_time": "2024-07-22T08:40:50.761Z"
   },
   {
    "duration": 19,
    "start_time": "2024-07-22T08:41:01.179Z"
   },
   {
    "duration": 20,
    "start_time": "2024-07-22T08:41:50.396Z"
   },
   {
    "duration": 21,
    "start_time": "2024-07-22T08:52:28.906Z"
   },
   {
    "duration": 19,
    "start_time": "2024-07-22T08:53:56.166Z"
   },
   {
    "duration": 19,
    "start_time": "2024-07-22T08:54:19.889Z"
   },
   {
    "duration": 10,
    "start_time": "2024-07-22T08:55:51.810Z"
   },
   {
    "duration": 13,
    "start_time": "2024-07-22T08:56:02.297Z"
   },
   {
    "duration": 19,
    "start_time": "2024-07-22T08:56:33.480Z"
   },
   {
    "duration": 19,
    "start_time": "2024-07-22T08:56:56.089Z"
   },
   {
    "duration": 18,
    "start_time": "2024-07-22T08:58:06.854Z"
   },
   {
    "duration": 20,
    "start_time": "2024-07-22T09:00:04.604Z"
   },
   {
    "duration": 22,
    "start_time": "2024-07-22T09:00:20.431Z"
   },
   {
    "duration": 19,
    "start_time": "2024-07-22T09:02:39.677Z"
   },
   {
    "duration": 21,
    "start_time": "2024-07-22T09:03:55.295Z"
   },
   {
    "duration": 216,
    "start_time": "2024-07-22T09:05:24.852Z"
   },
   {
    "duration": 19,
    "start_time": "2024-07-22T09:05:40.413Z"
   },
   {
    "duration": 20,
    "start_time": "2024-07-22T09:05:53.488Z"
   },
   {
    "duration": 20,
    "start_time": "2024-07-22T09:05:57.230Z"
   },
   {
    "duration": 254,
    "start_time": "2024-07-22T09:06:16.017Z"
   },
   {
    "duration": 18,
    "start_time": "2024-07-22T09:07:32.430Z"
   },
   {
    "duration": 21,
    "start_time": "2024-07-22T09:10:33.907Z"
   },
   {
    "duration": 17,
    "start_time": "2024-07-22T09:11:27.944Z"
   },
   {
    "duration": 16,
    "start_time": "2024-07-22T09:11:50.690Z"
   },
   {
    "duration": 20,
    "start_time": "2024-07-22T09:12:28.087Z"
   },
   {
    "duration": 19,
    "start_time": "2024-07-22T09:13:49.713Z"
   },
   {
    "duration": 24,
    "start_time": "2024-07-22T09:14:56.535Z"
   },
   {
    "duration": 21,
    "start_time": "2024-07-22T09:15:21.012Z"
   },
   {
    "duration": 27,
    "start_time": "2024-07-22T09:19:03.098Z"
   },
   {
    "duration": 20,
    "start_time": "2024-07-22T09:20:09.563Z"
   },
   {
    "duration": 29,
    "start_time": "2024-07-22T09:21:08.471Z"
   },
   {
    "duration": 29,
    "start_time": "2024-07-22T09:21:31.719Z"
   },
   {
    "duration": 28,
    "start_time": "2024-07-22T09:21:44.777Z"
   },
   {
    "duration": 27,
    "start_time": "2024-07-22T09:22:34.948Z"
   },
   {
    "duration": 15,
    "start_time": "2024-07-22T09:29:49.412Z"
   },
   {
    "duration": 11,
    "start_time": "2024-07-22T09:30:38.802Z"
   },
   {
    "duration": 13,
    "start_time": "2024-07-22T09:32:23.316Z"
   },
   {
    "duration": 11,
    "start_time": "2024-07-22T09:32:43.741Z"
   },
   {
    "duration": 11,
    "start_time": "2024-07-22T09:36:43.194Z"
   },
   {
    "duration": 3,
    "start_time": "2024-07-22T09:47:15.048Z"
   },
   {
    "duration": 21,
    "start_time": "2024-07-22T09:47:32.983Z"
   },
   {
    "duration": 19,
    "start_time": "2024-07-22T09:47:50.372Z"
   },
   {
    "duration": 62,
    "start_time": "2024-07-22T09:49:36.006Z"
   },
   {
    "duration": 29,
    "start_time": "2024-07-22T09:50:10.528Z"
   },
   {
    "duration": 48,
    "start_time": "2024-07-22T09:50:22.090Z"
   },
   {
    "duration": 61,
    "start_time": "2024-07-22T09:51:33.951Z"
   },
   {
    "duration": 48,
    "start_time": "2024-07-22T09:53:29.957Z"
   },
   {
    "duration": 54,
    "start_time": "2024-07-22T09:54:20.694Z"
   },
   {
    "duration": 19,
    "start_time": "2024-07-22T09:55:37.132Z"
   },
   {
    "duration": 19,
    "start_time": "2024-07-22T09:56:54.820Z"
   },
   {
    "duration": 29,
    "start_time": "2024-07-22T09:57:37.373Z"
   },
   {
    "duration": 5,
    "start_time": "2024-07-22T09:58:16.890Z"
   },
   {
    "duration": 53,
    "start_time": "2024-07-22T09:58:30.978Z"
   },
   {
    "duration": 36,
    "start_time": "2024-07-22T09:58:48.843Z"
   },
   {
    "duration": 24,
    "start_time": "2024-07-22T09:58:57.483Z"
   },
   {
    "duration": 28,
    "start_time": "2024-07-22T09:59:26.136Z"
   },
   {
    "duration": 12,
    "start_time": "2024-07-22T15:09:21.566Z"
   },
   {
    "duration": 21,
    "start_time": "2024-07-22T15:13:04.670Z"
   },
   {
    "duration": 19,
    "start_time": "2024-07-22T15:13:56.367Z"
   },
   {
    "duration": 38,
    "start_time": "2024-07-22T15:14:19.754Z"
   },
   {
    "duration": 37,
    "start_time": "2024-07-22T15:15:43.447Z"
   },
   {
    "duration": 9,
    "start_time": "2024-07-22T15:22:45.560Z"
   },
   {
    "duration": 6,
    "start_time": "2024-07-22T15:23:37.083Z"
   },
   {
    "duration": 4,
    "start_time": "2024-07-22T15:24:11.438Z"
   },
   {
    "duration": 35,
    "start_time": "2024-07-22T15:25:39.487Z"
   },
   {
    "duration": 20,
    "start_time": "2024-07-22T15:26:14.421Z"
   },
   {
    "duration": 42,
    "start_time": "2024-07-22T15:26:50.570Z"
   },
   {
    "duration": 29,
    "start_time": "2024-07-22T15:29:48.380Z"
   },
   {
    "duration": 12,
    "start_time": "2024-07-22T15:30:12.315Z"
   },
   {
    "duration": 20,
    "start_time": "2024-07-22T15:30:40.178Z"
   },
   {
    "duration": 18,
    "start_time": "2024-07-22T15:31:02.752Z"
   },
   {
    "duration": 11,
    "start_time": "2024-07-22T15:31:13.297Z"
   },
   {
    "duration": 20,
    "start_time": "2024-07-22T15:31:50.862Z"
   },
   {
    "duration": 20,
    "start_time": "2024-07-22T15:33:12.971Z"
   },
   {
    "duration": 19,
    "start_time": "2024-07-22T15:33:40.821Z"
   },
   {
    "duration": 14,
    "start_time": "2024-07-22T15:34:14.711Z"
   },
   {
    "duration": 13,
    "start_time": "2024-07-22T15:35:52.388Z"
   },
   {
    "duration": 17,
    "start_time": "2024-07-22T15:36:31.761Z"
   },
   {
    "duration": 19,
    "start_time": "2024-07-22T15:41:31.441Z"
   },
   {
    "duration": 20,
    "start_time": "2024-07-22T15:43:01.797Z"
   },
   {
    "duration": 19,
    "start_time": "2024-07-22T15:47:32.763Z"
   },
   {
    "duration": 20,
    "start_time": "2024-07-22T15:50:50.254Z"
   },
   {
    "duration": 50,
    "start_time": "2024-07-22T15:51:38.499Z"
   },
   {
    "duration": 21,
    "start_time": "2024-07-22T15:57:03.993Z"
   },
   {
    "duration": 19,
    "start_time": "2024-07-22T15:57:18.041Z"
   },
   {
    "duration": 13,
    "start_time": "2024-07-22T15:57:29.480Z"
   },
   {
    "duration": 42,
    "start_time": "2024-07-22T15:57:46.097Z"
   },
   {
    "duration": 12,
    "start_time": "2024-07-22T15:59:54.036Z"
   },
   {
    "duration": 21,
    "start_time": "2024-07-22T16:00:27.111Z"
   },
   {
    "duration": 13,
    "start_time": "2024-07-22T16:00:39.798Z"
   },
   {
    "duration": 12,
    "start_time": "2024-07-22T16:01:39.728Z"
   },
   {
    "duration": 13,
    "start_time": "2024-07-22T16:03:31.343Z"
   },
   {
    "duration": 54,
    "start_time": "2024-07-22T16:11:30.827Z"
   },
   {
    "duration": 20,
    "start_time": "2024-07-22T16:12:49.016Z"
   },
   {
    "duration": 99,
    "start_time": "2024-07-22T16:14:45.059Z"
   },
   {
    "duration": 21,
    "start_time": "2024-07-22T16:15:35.307Z"
   },
   {
    "duration": 18,
    "start_time": "2024-07-22T16:15:57.338Z"
   },
   {
    "duration": 97,
    "start_time": "2024-07-22T16:16:20.188Z"
   },
   {
    "duration": 21,
    "start_time": "2024-07-22T16:17:18.819Z"
   },
   {
    "duration": 12,
    "start_time": "2024-07-22T16:18:37.439Z"
   },
   {
    "duration": 22,
    "start_time": "2024-07-22T16:18:54.787Z"
   },
   {
    "duration": 20,
    "start_time": "2024-07-22T16:20:43.872Z"
   },
   {
    "duration": 21,
    "start_time": "2024-07-22T16:21:10.500Z"
   },
   {
    "duration": 21,
    "start_time": "2024-07-22T16:22:09.746Z"
   },
   {
    "duration": 20,
    "start_time": "2024-07-22T16:23:51.271Z"
   },
   {
    "duration": 17,
    "start_time": "2024-07-22T16:24:03.511Z"
   },
   {
    "duration": 21,
    "start_time": "2024-07-22T16:27:57.459Z"
   },
   {
    "duration": 16,
    "start_time": "2024-07-22T16:29:34.895Z"
   },
   {
    "duration": 16,
    "start_time": "2024-07-22T16:30:06.863Z"
   },
   {
    "duration": 16,
    "start_time": "2024-07-22T16:30:23.217Z"
   },
   {
    "duration": 16,
    "start_time": "2024-07-22T16:31:01.218Z"
   },
   {
    "duration": 16,
    "start_time": "2024-07-22T16:33:41.257Z"
   },
   {
    "duration": 20,
    "start_time": "2024-07-22T17:35:39.275Z"
   },
   {
    "duration": 20,
    "start_time": "2024-07-22T17:35:58.994Z"
   },
   {
    "duration": 13,
    "start_time": "2024-07-22T17:36:20.491Z"
   },
   {
    "duration": 13,
    "start_time": "2024-07-22T17:36:42.090Z"
   },
   {
    "duration": 19,
    "start_time": "2024-07-22T17:38:44.216Z"
   },
   {
    "duration": 20,
    "start_time": "2024-07-22T17:39:23.632Z"
   },
   {
    "duration": 14,
    "start_time": "2024-07-22T17:39:50.933Z"
   },
   {
    "duration": 14,
    "start_time": "2024-07-22T17:49:18.782Z"
   },
   {
    "duration": 22,
    "start_time": "2024-07-22T17:51:52.511Z"
   },
   {
    "duration": 22,
    "start_time": "2024-07-22T17:52:03.947Z"
   },
   {
    "duration": 11,
    "start_time": "2024-07-22T17:53:45.353Z"
   },
   {
    "duration": 19,
    "start_time": "2024-07-22T17:53:49.349Z"
   },
   {
    "duration": 13,
    "start_time": "2024-07-22T17:54:08.704Z"
   },
   {
    "duration": 20,
    "start_time": "2024-07-22T17:55:30.974Z"
   },
   {
    "duration": 13,
    "start_time": "2024-07-22T17:56:49.242Z"
   },
   {
    "duration": 12,
    "start_time": "2024-07-22T17:57:25.604Z"
   },
   {
    "duration": 51,
    "start_time": "2024-07-23T08:06:08.863Z"
   },
   {
    "duration": 537,
    "start_time": "2024-07-23T08:06:17.087Z"
   },
   {
    "duration": 5,
    "start_time": "2024-07-23T08:06:17.626Z"
   },
   {
    "duration": 12941,
    "start_time": "2024-07-23T08:06:17.633Z"
   },
   {
    "duration": 58,
    "start_time": "2024-07-23T08:06:30.576Z"
   },
   {
    "duration": 203,
    "start_time": "2024-07-23T08:06:30.636Z"
   },
   {
    "duration": 65,
    "start_time": "2024-07-23T08:06:30.841Z"
   },
   {
    "duration": 86,
    "start_time": "2024-07-23T08:06:30.907Z"
   },
   {
    "duration": 33,
    "start_time": "2024-07-23T08:06:30.994Z"
   },
   {
    "duration": 44,
    "start_time": "2024-07-23T08:06:31.029Z"
   },
   {
    "duration": 64,
    "start_time": "2024-07-23T08:06:31.075Z"
   },
   {
    "duration": 11,
    "start_time": "2024-07-23T08:06:31.140Z"
   },
   {
    "duration": 147,
    "start_time": "2024-07-23T08:06:31.152Z"
   },
   {
    "duration": 33,
    "start_time": "2024-07-23T08:06:31.301Z"
   },
   {
    "duration": 67,
    "start_time": "2024-07-23T08:06:31.336Z"
   },
   {
    "duration": 20,
    "start_time": "2024-07-23T08:07:16.567Z"
   },
   {
    "duration": 12,
    "start_time": "2024-07-23T08:07:18.570Z"
   },
   {
    "duration": 184,
    "start_time": "2024-07-23T08:10:19.461Z"
   },
   {
    "duration": 29,
    "start_time": "2024-07-23T08:15:03.299Z"
   },
   {
    "duration": 556,
    "start_time": "2024-07-23T08:29:25.413Z"
   },
   {
    "duration": 3,
    "start_time": "2024-07-23T08:29:25.971Z"
   },
   {
    "duration": 14474,
    "start_time": "2024-07-23T08:29:25.983Z"
   },
   {
    "duration": 62,
    "start_time": "2024-07-23T08:29:40.459Z"
   },
   {
    "duration": 41,
    "start_time": "2024-07-23T08:29:40.523Z"
   },
   {
    "duration": 11,
    "start_time": "2024-07-23T08:29:40.565Z"
   },
   {
    "duration": 37,
    "start_time": "2024-07-23T08:29:40.577Z"
   },
   {
    "duration": 19,
    "start_time": "2024-07-23T08:29:40.615Z"
   },
   {
    "duration": 18,
    "start_time": "2024-07-23T08:29:40.635Z"
   },
   {
    "duration": 31,
    "start_time": "2024-07-23T08:29:40.655Z"
   },
   {
    "duration": 17,
    "start_time": "2024-07-23T08:29:40.688Z"
   },
   {
    "duration": 40,
    "start_time": "2024-07-23T08:29:40.707Z"
   },
   {
    "duration": 65,
    "start_time": "2024-07-23T08:29:40.749Z"
   },
   {
    "duration": 501,
    "start_time": "2024-07-23T18:09:18.479Z"
   },
   {
    "duration": 3,
    "start_time": "2024-07-23T18:09:18.982Z"
   },
   {
    "duration": 4695,
    "start_time": "2024-07-23T18:09:18.989Z"
   },
   {
    "duration": 492,
    "start_time": "2024-07-23T18:09:23.686Z"
   },
   {
    "duration": 46,
    "start_time": "2024-07-23T18:09:24.180Z"
   },
   {
    "duration": 11,
    "start_time": "2024-07-23T18:09:24.228Z"
   },
   {
    "duration": 72,
    "start_time": "2024-07-23T18:09:24.241Z"
   },
   {
    "duration": 18,
    "start_time": "2024-07-23T18:09:24.315Z"
   },
   {
    "duration": 17,
    "start_time": "2024-07-23T18:09:24.334Z"
   },
   {
    "duration": 44,
    "start_time": "2024-07-23T18:09:24.353Z"
   },
   {
    "duration": 11,
    "start_time": "2024-07-23T18:09:24.398Z"
   },
   {
    "duration": 15,
    "start_time": "2024-07-23T18:09:24.410Z"
   },
   {
    "duration": 12,
    "start_time": "2024-07-23T18:09:24.427Z"
   },
   {
    "duration": 15,
    "start_time": "2024-07-23T18:10:07.421Z"
   },
   {
    "duration": 17,
    "start_time": "2024-07-23T18:10:08.473Z"
   },
   {
    "duration": 54,
    "start_time": "2024-07-23T18:37:24.171Z"
   },
   {
    "duration": 569,
    "start_time": "2024-07-23T18:37:30.406Z"
   },
   {
    "duration": 3,
    "start_time": "2024-07-23T18:37:30.977Z"
   },
   {
    "duration": 5753,
    "start_time": "2024-07-23T18:37:30.982Z"
   },
   {
    "duration": 70,
    "start_time": "2024-07-23T18:37:36.737Z"
   },
   {
    "duration": 48,
    "start_time": "2024-07-23T18:37:36.809Z"
   },
   {
    "duration": 14,
    "start_time": "2024-07-23T18:37:36.859Z"
   },
   {
    "duration": 30,
    "start_time": "2024-07-23T18:37:36.874Z"
   },
   {
    "duration": 20,
    "start_time": "2024-07-23T18:37:36.906Z"
   },
   {
    "duration": 21,
    "start_time": "2024-07-23T18:37:36.928Z"
   },
   {
    "duration": 30,
    "start_time": "2024-07-23T18:37:36.951Z"
   },
   {
    "duration": 95,
    "start_time": "2024-07-23T18:37:36.983Z"
   },
   {
    "duration": 0,
    "start_time": "2024-07-23T18:37:37.080Z"
   },
   {
    "duration": 0,
    "start_time": "2024-07-23T18:37:37.081Z"
   },
   {
    "duration": 0,
    "start_time": "2024-07-23T18:37:37.083Z"
   },
   {
    "duration": 28,
    "start_time": "2024-07-23T18:41:12.611Z"
   },
   {
    "duration": 62,
    "start_time": "2024-07-23T18:44:06.290Z"
   },
   {
    "duration": 28,
    "start_time": "2024-07-23T18:45:16.009Z"
   },
   {
    "duration": 31,
    "start_time": "2024-07-23T18:58:32.720Z"
   },
   {
    "duration": 28,
    "start_time": "2024-07-23T19:01:53.030Z"
   },
   {
    "duration": 558,
    "start_time": "2024-07-23T19:02:09.418Z"
   },
   {
    "duration": 3,
    "start_time": "2024-07-23T19:02:09.978Z"
   },
   {
    "duration": 6382,
    "start_time": "2024-07-23T19:02:09.983Z"
   },
   {
    "duration": 64,
    "start_time": "2024-07-23T19:02:16.367Z"
   },
   {
    "duration": 31,
    "start_time": "2024-07-23T19:02:16.434Z"
   },
   {
    "duration": 13,
    "start_time": "2024-07-23T19:02:16.466Z"
   },
   {
    "duration": 65,
    "start_time": "2024-07-23T19:02:16.481Z"
   },
   {
    "duration": 21,
    "start_time": "2024-07-23T19:02:16.547Z"
   },
   {
    "duration": 19,
    "start_time": "2024-07-23T19:02:16.569Z"
   },
   {
    "duration": 38,
    "start_time": "2024-07-23T19:02:16.589Z"
   },
   {
    "duration": 11,
    "start_time": "2024-07-23T19:02:16.629Z"
   },
   {
    "duration": 16,
    "start_time": "2024-07-23T19:02:16.642Z"
   },
   {
    "duration": 13,
    "start_time": "2024-07-23T19:02:16.659Z"
   },
   {
    "duration": 29,
    "start_time": "2024-07-23T19:28:14.983Z"
   },
   {
    "duration": 28,
    "start_time": "2024-07-23T19:28:18.052Z"
   },
   {
    "duration": 26,
    "start_time": "2024-07-23T19:28:19.457Z"
   },
   {
    "duration": 26,
    "start_time": "2024-07-23T19:28:22.687Z"
   },
   {
    "duration": 27,
    "start_time": "2024-07-23T19:28:29.101Z"
   }
  ],
  "kernelspec": {
   "display_name": "Python 3 (ipykernel)",
   "language": "python",
   "name": "python3"
  },
  "language_info": {
   "codemirror_mode": {
    "name": "ipython",
    "version": 3
   },
   "file_extension": ".py",
   "mimetype": "text/x-python",
   "name": "python",
   "nbconvert_exporter": "python",
   "pygments_lexer": "ipython3",
   "version": "3.11.5"
  },
  "toc": {
   "base_numbering": 1,
   "nav_menu": {},
   "number_sections": true,
   "sideBar": true,
   "skip_h1_title": true,
   "title_cell": "Table of Contents",
   "title_sidebar": "Contents",
   "toc_cell": false,
   "toc_position": {},
   "toc_section_display": true,
   "toc_window_display": true
  }
 },
 "nbformat": 4,
 "nbformat_minor": 2
}
